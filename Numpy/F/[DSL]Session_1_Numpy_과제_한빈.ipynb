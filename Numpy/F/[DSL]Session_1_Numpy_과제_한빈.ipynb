#!/usr/bin/env python
# coding: utf-8

# # Numpy 세션 과제(0104)

# In[2]:


import numpy as np


# In[3]:


get_ipython().system('pip3 install image')


# In[4]:


get_ipython().system('pip3 install pillow')


# In[5]:


get_ipython().system('pip install matplotlib')


# ## image, pillow, matplotlib가 무엇일까요?
# 자세한 내용은 **시각화 세션에서 다루겠지만** 간단하게 말씀드리자면 이미지 파일을 받아와서 처리할 수 있게 해주는 library라고 보시면 됩니다.!<br>
# 과제할때는 자세한 내용까지 아실 필요 없습니다.<br>
# <strong>단지 이미지 파일을 ndarray형식으로 ★☆픽셀단위☆★로 받아왔다는 정도만 이해해주시면 됩니다.</strong>

# In[17]:


import PIL.Image as pilimg
import numpy as np
import matplotlib.pyplot as plt

# Read image
im = pilimg.open( "./homework.JPG" )

 
# Fetch image pixel data to numpy array
pix = np.array(im)


# ------------------------------------------------------------------------
# 위에는 그냥 준비과정이니까 아실 필요 없습니다.<br>
# 중요한 것은 해당 이미지 파일을 pix (픽셀단위 ndarray)라는 변수에 담아왔다 정도만 알면 됩니다.

# ## 본 과제 : 
# 상기 pix 변수를 잘 지지고 볶아보겠습니다.
# <br>
# +중간 중간에 내가 조작하고 있는 픽셀들을 **이미지로 확인**하고 싶다면<br>
# plt.imshow(pix)<br>
# 라는 함수를 이용하시면 됩니다. ndarray를 다른 변수에 넣으신 경우 pix대신 해당 변수명을 넣으시면 됩니다.

# In[145]:


# pix


# In[19]:


pix.shape


# In[20]:


np.max(pix)


# In[21]:


np.min(pix)


# 우선 shape에서 147이 행(세로) 199이 열(가로) 길이이고 3은 RGB인 것을 확인할 수 있습니다.<br>
# 그리고 data의 숫자 9~255는 각 RGB별 세기를 말하고 있겠네요.!

# # 시작합니다.

# ## 사진의 행과 열(가로, 세로)을 transpose 하고 싶습니다. RGB(색)를 건들지 않고 해주세요
# 

# In[43]:


# (147, 199, 3) <- axis = 0, 1, 2 로 할당되어 있음 
# 행과 열만 transepose하면 되기 때문에 (0, 1, 2)를 (1, 0, 2)로 순서를 바꾸어 할당한다. 
# * 주의*  pix.T를 그냥 쓰면 (147, 199, 3) -> (3, 199, 147)로 변환된다. 순서가 거꾸로 되는 함수 


# (0, 1, 2)를 (1, 0, 2)로 Transpose하여 행과 열만 전환한다.
# pix에 값을 재할당한다. 
pix = np.transpose(pix, (1, 0, 2))


# In[44]:


#정답 :

# pix 이미지 시각화 
plt.imshow(pix)


# plt.imshow(pix)를 했을때 다음과 같은 사진이 나오면 됩니다.
# ![image.png](attachment:image.png)

# ## 우측 하단의 점이 조금 맘에 안드네요..! 세로 길이를 조금만 줄여볼까요?
# 193개의 세로 픽셀만 남겨놓읍시다.<br>
# hint : slicing( :193) <br>

# In[53]:


# 앞선 과정에서 (0, 1, 2)를 (1, 0, 2)로 순서를 바꾸었다.
# 때문에 열에 해당하는 픽셀을 건드리기 위해서는 첫 부분에 슬라이싱을 해주어야 한다. 

# :193까지 열 슬라이싱 
pix = pix[:193,0:,0:]


# In[54]:


# 정답 : 
plt.imshow(pix)


# plt.imshow(pix)를 했을때 다음과 같은 사진이 나오면 됩니다.
# ![image.png](attachment:image.png)

# ## 밑의 부분이 좀 많이 짤려서 허전하죠?.. 흰색으로 붙여봅시다!
# 1. np.ones()를 이용해 shape가 (10,147,3)이고 데이터 타입은 pix와 같은(dtype을 통하면 알겠죠?) ndarray를 만듭니다.
# 2. 1에서 구한 변수를 산술 연산을 통해 내부 데이터 값을 모두 255로 만듭시다. 
# 3. 세로 병합 연산을 통해 pix랑 잘 붙여주세요.
# * 보색관계에 의하면 RGB가 모두 255이면 하양, 0이면 검정이니까 데이터 값이 모두 255인 ndarray를 만드는 겁니다.
# 
# 

# In[62]:


# (10, 147, 3)크기로 1이 반복되는 identical array를 생성해줍니다.
# 데이터 형태는 int8로 설정합니다. 
ones = np.ones(shape=(10,147,3), dtype=np.int8)

# 254를 더해주는 broadcasting을 통해 데이터 값을 255로 맞춰줍니다. 
# ones_change에 할당해줍니다. 
ones_change = ones + 254

# 기존 pix데이터에 ones_change를 세로 결합합니다. 
pix = np.vstack([pix, ones_change])


# In[63]:


# 정답 : 
plt.imshow(pix)


# plt.imshow(pix)를 했을때 다음과 같은 사진이 나오면 됩니다.
# ![image.png](attachment:image.png)

# ## pix를 흑백 화면으로 만들기

# ### pix를 한번 rgb 단위로 한번 쪼개볼까요?
# axis0에 대해 rgb 순서대로 각각 **pix_r, pix_g, pix_b** 라는 변수에 넣어주시면 되겠습니다 <br>
# 세변수 모두 shape가 (203, 147)인 이차원 배열(ndarray)이여야 합니다

# In[70]:


# 0번째 높이 분리 & pix_r에 할당
pix_r = pix[0:,0:,0]

# 형태 확인 
pix_r.shape


# In[71]:


# 1번째 높이 분리 & pix_g에 할당
pix_g = pix[0:,0:,1]

# 형태 확인
pix_g.shape


# In[72]:


# 2번째 높이 분리 & pix_b에 할당
pix_b = pix[0:,0:,2]

# 형태 확인
pix_b.shape


# In[22]:


#정답 : 
pix_r = pix[0:,0:,0]
pix_g = pix[0:,0:,1]
pix_b = pix[0:,0:,2]


# ### pix_r, pix_g, pix_b를 같게 만들어 보자!
# 회색, 흑백, 흰색이 되려면 rgb 값이 모두 같아야 합니다.<br>
# pix_r, pix_g, pix_b를 평균 내서 **pix_g**라는 변수에 넣어주세요!

# In[111]:


#정답 
# 3차원의 0높이, 1높이, 2높이 인 R,G,B의 평균을 계산 후 pix_g에 할당
pix_g = pix.mean(axis=2)


# ### imshow 함수는 삼차원 변수를 필요로 합니다. 방금 구한 pix_g를 각각 모두 RGB 값으로 갖는 변수를 만들어주세요
# 해당 array를 만든다음에 pix_g에 다시 저장해주세요<br>
# 즉 pix_g.shape 가 (203,147,3)이여야 합니다.<br>
# hint : 차원 추가, concatenate

# In[112]:


#정답 

# 3차원을 다시 추가해줍니다.
pix_g = pix_g[:,:,np.newaxis]

# 3차원에 pix_g를 3번 결합해줍니다. 
pix_g = np.concatenate((pix_g, pix_g, pix_g), axis=2)

# pix_g 데이터 구조 확인 
pix_g.shape


# ### pix_g를 만들면서 나눗셈을 했는데 소수점이 남으면 float 자료형이겠죠? 반올림 후 int로 바꿔줍시다.
# 1. pix_g data의 자료형 체크 (dtype)
# 2. round를 통해 반올림
# 3. astype을 통해 int형으로 변환
# 
# 최종 결과물은 pix_g 변수에 저장

# In[113]:


# pix_g를 반올림한 후 데이터 형태를 int로 변환하고 재할당한다. 
pix_g = pix_g.round().astype(int)


# In[114]:


#정답 : 
plt.imshow(pix_g)


# plt.imshow(pix_g)를 했을때 다음과 같은 사진이 나오면 됩니다.
# ![image.png](attachment:image.png)

# ### 마지막으로 색반전을 해봅시다.
# pixel 값들이 0~255 이니 127.5를 기준으로 대칭해주면 되겠네요 :)<br>
# 쉬운 연산이니 맡기겠습니다.

# In[143]:


# 각 값과 127.5와의 차이를 dist에 할당한다. 
dist = pix_g - 127.5

# 거리를 구하기 위해 절댓값을 취하고 재할당 한다.  
dist = abs(dist)

# 거리만큼 127.5에서 빼서 대칭을 맞춰준다. 
pix_g = 127.5 - dist

# 반올림한 후 데이터 형태를 int로 전환해준다. 
pix_g = pix_g.round().astype(int)


# In[144]:


#정답:
plt.imshow(pix_g)


# plt.imshow(pix_g)를 했을때 다음과 같은 사진이 나오면 됩니다.
# ![image.png](attachment:image.png)

# ## 추가과제(선택사항) : 저 흑백 DSL을 정방향으로 만들어주세요

# In[162]:


# 열 순서를 반전 시켜줍니다. 
pix_g = np.flip(pix_g, axis=1)
plt.imshow(pix_g)


# In[163]:


# 행열 transepose를 시켜줍니다. 
pix_g = np.transpose(pix_g, (1, 0, 2))
plt.imshow(pix_g)


# In[164]:


# 열 순서를 다시 한번 반전 시켜줍니다.  
pix_g = np.flip(r2, axis=1)
plt.imshow(pix_g)


# # 고생하셨습니다 :) 하시다가 궁금한거 있으시면 익명 톡방 애용 부탁드립니다

# In[ ]:




