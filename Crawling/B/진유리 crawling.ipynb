{
 "cells": [
  {
   "cell_type": "markdown",
   "metadata": {
    "id": "pveXFpRXHAdl"
   },
   "source": [
    "# [DSL]Basic Session 2_Crawling"
   ]
  },
  {
   "cell_type": "markdown",
   "metadata": {
    "id": "O_6dGu8iHAdp"
   },
   "source": [
    "220111 기초세션 Crawling 발표자 - 장윤태 <br><br>\n",
    "데이터 수집의 기본이라고 할 수 있는 크롤링에 대해서 알아보자!"
   ]
  },
  {
   "cell_type": "code",
   "execution_count": null,
   "metadata": {
    "id": "ctwsEiNgHAdq"
   },
   "outputs": [],
   "source": []
  },
  {
   "cell_type": "markdown",
   "metadata": {
    "id": "77FVH4nBHAdq"
   },
   "source": [
    "## 강의 전 사전세팅"
   ]
  },
  {
   "cell_type": "markdown",
   "metadata": {
    "id": "1gopjyNjHAdr"
   },
   "source": [
    "<b>가상환경 세팅</b><br>\n",
    "가상환경 (Virtual Environments) : 자신이 원하는 Python 환경을 구성하기 위해 필요한 모듈만 담아 놓는 바구니<br><br>\n",
    "<b>가상환경이 필요한 이유</b><br>\n",
    "프로젝트 진행 시 서로 다른 패키지, 혹은 다른 버전의 라이브러리가 필요합니다. 한 곳의 작업환경에서 모든 프로젝트를 진행하게되면 여러 패키지, 라이브러리 간 충돌이 발생합니다. 이를 방지하기 위해 각 프로젝트 별로 독립된 작업환경 구축이 필요하기에 가상환경이 필요합니다.<br>\n",
    "특히, 크롤링에 필요한 패키지들을 가상환경 없이 설치하려고 하면 에러가 발생할 수 있습니다."
   ]
  },
  {
   "cell_type": "markdown",
   "metadata": {
    "id": "YU7BTJKDHAds"
   },
   "source": [
    "<b>세팅 과정</b><br>\n",
    "1. Anaconda Prompt (Anaconda3) 실행<br>\n",
    "2. 하위의 명령어 입력<br><br>\n",
    "\\#conda 업데이트<br>\n",
    "conda update conda<br><br>\n",
    "\n",
    "\\#python 3.7 버전에 Crawling이라는 이름을 가진 가상환경 생성<br>\n",
    "conda create --name Crawling python=3.7<br>\n",
    "\n",
    "\\#만들어진 가상환경 리스트 확인<br>\n",
    "conda info --envs<br><br>\n",
    "\n",
    "\\#Crawling 이름의 가상환경 활성화 (윈도우)<br>\n",
    "activate Crawling<br>\n",
    "\\#Crawling 이름의 가상환경 활성화 (맥)<br>\n",
    "source activate Crawling<br><br>\n",
    "\n",
    "\\#jupyter notebook 실행<br>\n",
    "jupyter notebook<br>"
   ]
  },
  {
   "cell_type": "markdown",
   "metadata": {
    "id": "K68AVuaiHAds"
   },
   "source": [
    "<b>가상환경 관련 conda 명령어</b><br>\n",
    "가상환경 생성 : conda create -n [가상환경 이름] python=[원하는 파이썬 버전 (ex 3.7)]<br>\n",
    "가상환경 리스트 확인 : conda info -envs<br>\n",
    "가상환경 활성화 : activate [가상환경 이름] / source activate [가상환경 이름]<br>\n",
    "가상환경 비활성화 : conda deactivate<br>\n",
    "가상환경 삭제 : conda env remove -n [가상환경 이름]<br>\n",
    "현재 가상환경의 위치는 anaconda prompt 처음 접속 시 뜨는 (base)와 같이 ([가상환경 이름])으로 파악"
   ]
  },
  {
   "cell_type": "markdown",
   "metadata": {
    "id": "YiwAdzSYHAdt"
   },
   "source": [
    "<b>크롬드라이버 다운</b><br>\n",
    "셀레늄 라이브러리로 크롤링을 진행하기 위해서는 크롬드라이버 다운 및 경로 파악 과정이 필요합니다.\n",
    "<ol>\n",
    "    <li>크롬 주소 창에 'Chrome://version' 입력하여 자신 컴퓨터의 크롬 버전 확인 (Chrome: xx.x.xxxx.xx)</li>\n",
    "    <li><a href = 'https://sites.google.com/a/chromium.org/chromedriver/downloads'>크롬드라이버 다운로드</a> 사이트에 접속하여 자신의 버전 맨 앞 두 숫자에 맞는 크롬 드라이버 클릭</li>\n",
    "    <li>컴퓨터 운영채제에 맞는 크롬드라이버 다운로드</li>\n",
    "    <li>압축해제 및 chromedriver 마우스 우클릭 - 속성 - 위치로 경로 파악</li>"
   ]
  },
  {
   "cell_type": "markdown",
   "metadata": {
    "id": "LKYqrU-6HAdu"
   },
   "source": [
    "<b>코랩에서의 크롬드라이버 다운</b>"
   ]
  },
  {
   "cell_type": "code",
   "execution_count": null,
   "metadata": {},
   "outputs": [],
   "source": [
    "#구글 드라이브 접속 권한 획득\n",
    "from google.colab import drive\n",
    "drive.mount('/content/drive')"
   ]
  },
  {
   "cell_type": "code",
   "execution_count": null,
   "metadata": {},
   "outputs": [],
   "source": [
    "#ubuntu 업데이트\n",
    "!apt-get update\n",
    "\n",
    "#셀레늄 패키지 다운\n",
    "!pip install selenium\n",
    "\n",
    "#크롬드라이버 다운\n",
    "!apt install chromium-chromedriver\n",
    "!cp /usr/lib/chromium-browser/chromedriver /usr/bin\n",
    "\n",
    "#크롬드라이버 경로 설정\n",
    "import sys\n",
    "sys.path.insert(0, '/usr/lib/chromium-browser/chromedriver')\n",
    "\n",
    "#코랩에서 작동하도록 옵션 설정\n",
    "from selenium import webdriver\n",
    "options = webdriver.ChromeOptions()\n",
    "options.add_argument('-headless')\n",
    "options.add_argument('-no-sandbox')\n",
    "options.add_argument('-disable-dev-shm-usage')"
   ]
  },
  {
   "cell_type": "code",
   "execution_count": null,
   "metadata": {
    "id": "MoyI9IbUHAdw"
   },
   "outputs": [],
   "source": []
  },
  {
   "cell_type": "markdown",
   "metadata": {
    "id": "sSVocIGtHAdx"
   },
   "source": [
    "## 크롤링이 무엇인가?"
   ]
  },
  {
   "cell_type": "markdown",
   "metadata": {
    "id": "EgEZdEV7HAdx"
   },
   "source": [
    "<img src = 'https://search.pstatic.net/common/?src=http%3A%2F%2Fblogfiles.naver.net%2FMjAyMDA1MjlfNzUg%2FMDAxNTkwNjg5NTY1OTA1.Bh36HthLf4IdgFAguxjQczBPSkpDsP9GwWmWFl9c3eQg.sKgbUVyTdjjYh9b_PE4uEhe59FsZnkVsgiiPph4vCqkg.PNG.ree31206%2F%25C5%25A9%25B7%25D1%25B8%25B5.png&type=sc960_832'>"
   ]
  },
  {
   "cell_type": "markdown",
   "metadata": {
    "id": "mB5nczJvHAdy"
   },
   "source": [
    "Crawling : 검색 엔진 로봇을 이용한 데이터 수집 방법 <br>\n",
    "Crawler : 크롤링을 위해 개발된 소프트웨어 <br><br>\n",
    "<b>크롤링이 필요한 이유?</b> <br>\n",
    "정형화된 데이터만 존재하지 않는다. <br>\n",
    "정형화된 데이터를 만들기 위해서는 온라인에 퍼져있는 여러 정보를 긁어모아 데이터화시키는 작업이 필수 <br>\n",
    "이를 위해 필요한 기술이 크롤링!"
   ]
  },
  {
   "cell_type": "code",
   "execution_count": null,
   "metadata": {
    "id": "zgU90jU8HAdy"
   },
   "outputs": [],
   "source": []
  },
  {
   "cell_type": "markdown",
   "metadata": {
    "id": "C1ZljzzFHAdy"
   },
   "source": [
    "## 크롤링의 기본 원리"
   ]
  },
  {
   "cell_type": "markdown",
   "metadata": {
    "id": "dTqI3tcQHAdz"
   },
   "source": [
    "<img src = 'https://ingeniouslab.co.kr/wp-content/uploads/2019/09/%ED%81%AC%EB%A1%A4%EB%9F%AC1-1024x243.png'>"
   ]
  },
  {
   "cell_type": "markdown",
   "metadata": {
    "id": "IuIpczl5HAdz"
   },
   "source": [
    "<ol>\n",
    "    <li>파이썬의 크롤러로 웹서버에 정보 요청</li>\n",
    "    <li>서버 응답을 받은 후 웹서버와 상호작용하며 정보 획득</li>\n",
    "    <li>획득한 정보를 핸들링하여 데이터화</li>\n",
    "</ol>"
   ]
  },
  {
   "cell_type": "code",
   "execution_count": null,
   "metadata": {
    "id": "Qv-fSNMhHAdz"
   },
   "outputs": [],
   "source": []
  },
  {
   "cell_type": "markdown",
   "metadata": {
    "id": "YKR64P7PHAdz"
   },
   "source": [
    "## 웹서버의 정보 구성 방식"
   ]
  },
  {
   "cell_type": "markdown",
   "metadata": {
    "id": "yLOiqiLvHAd0"
   },
   "source": [
    "<img src = 'https://media.vlpt.us/images/offdutybyblo/post/65c734fd-077c-4a68-8b3b-557c52428511/htmljscss.jpeg'>"
   ]
  },
  {
   "cell_type": "markdown",
   "metadata": {
    "id": "A1B_cDrOHAd0"
   },
   "source": [
    "HTML : 웹 브라우저에서 문서 및 웹 페이지가 표시되는 방법을 규정하는 언어 <br>\n",
    "CSS : HTML로 만들어진 문서의 스타일을 지정하는 방식을 규정하는 스타일 시트 언어 <br>\n",
    "JavaScript : 웹 사이트에서 HTML과 CSS의 구성요소들을 변경할 수 있게 해주는 언어 <br><br>\n",
    "Xpath : 확장 생성 언어 문서의 구조를 통해 경로 위의 지정한 구문을 사용하여 항목을 배치하고 처리하는 방법을 기술하는 언어"
   ]
  },
  {
   "cell_type": "markdown",
   "metadata": {
    "id": "hXPgyIgbHAd0"
   },
   "source": [
    "<b>html 문서 예시</b>"
   ]
  },
  {
   "cell_type": "markdown",
   "metadata": {
    "id": "DU9jjYIpHAd0"
   },
   "source": [
    "<img src = 'https://t1.daumcdn.net/cfile/tistory/247AB04358CCE40F23'>"
   ]
  },
  {
   "cell_type": "markdown",
   "metadata": {
    "id": "CQIp3jGKHAd1"
   },
   "source": [
    "갈색 : tag <br>\n",
    "tag 내부 빨간색 : type <br>\n",
    "\" \", ' ' 내부 파란색 : value <br>\n",
    "type과 value는 tag가 지닌 attribute <br><br>\n",
    "\n",
    "<b>크롤링 관련 html 문서에서 유의할 점</b>\n",
    "<ol>\n",
    "    <li>크롤링할 대상 내용들은 주로 body 태그에 존재</li>\n",
    "    <li>html 문서는 열고 닫는 개념이 존재하며 그 사이에 있는 텍스트를 주로 추출</li>\n",
    "    <li>Xpath 특성 상 tag간 부모-자식-형제 관계가 존재하므로 상하관계 파악 필요</li>\n",
    "</ol>\n",
    "즉, html 문서에서 내가 찾고자 하는 정보(텍스트)의 경로를 태그 상하관계 or Xpath로 파악한 뒤 해당 태그에 기입되어 있는 정보를 추출하여 사용\n"
   ]
  },
  {
   "cell_type": "code",
   "execution_count": null,
   "metadata": {
    "id": "3XlpKxM6HAd1"
   },
   "outputs": [],
   "source": []
  },
  {
   "cell_type": "markdown",
   "metadata": {
    "id": "3iHPScB3HAd1"
   },
   "source": [
    "## 크롬에서 웹페이지의 html 문서 및 Xpath 찾는 법"
   ]
  },
  {
   "cell_type": "markdown",
   "metadata": {
    "id": "VfQK16ByHAd1"
   },
   "source": [
    "<b>html 문서 (개발자 도구 활용)</b>\n",
    "<ol>\n",
    "    <li>정보를 추출하고자 하는 element에 마우스 우클릭 - [검사]</li>\n",
    "    <li>우측 상단 닫기 버튼 밑 Chrome 맞춤설정 및 제어 버튼 클릭 - [도구 더 보기] - [개발자도구]</li>\n",
    "    <li>키보드 f12</li>\n",
    "</ol>\n",
    "1번의 방법이 해당 element의 html 코드를 바로 볼 수 있기에 권장 <br>\n",
    "2, 3번의 경우 element를 찾기 위해서 [Select an element in the page to inspect it] or Ctrl+Shift+C - 브라우저에서 추출하고자 하는 element 클릭 과정이 더 필요\n",
    "\n",
    "<b>Xpath 경로</b><br>\n",
    "찾은 element의 html 코드에서 마우스 우클릭 - [Copy] - [CopyXPath]"
   ]
  },
  {
   "cell_type": "code",
   "execution_count": null,
   "metadata": {
    "id": "kMy_TM61HAd2"
   },
   "outputs": [],
   "source": []
  },
  {
   "cell_type": "markdown",
   "metadata": {
    "id": "uUY2TGzNHAd2"
   },
   "source": [
    "## 패키지 다운로드"
   ]
  },
  {
   "cell_type": "code",
   "execution_count": null,
   "metadata": {
    "id": "vMW5dkzeHAd2"
   },
   "outputs": [],
   "source": [
    "#정보 요청 라이브러리\n",
    "!pip install requests\n",
    "\n",
    "#크롤링의 대부 라이브러리\n",
    "!pip install beautifulsoup4\n",
    "\n",
    "#구문 분석 라이브러리\n",
    "!pip install lxml\n",
    "\n",
    "#동적 컨트롤도 가능한 크롤링 라이브러리\n",
    "!pip install selenium"
   ]
  },
  {
   "cell_type": "code",
   "execution_count": null,
   "metadata": {
    "id": "AXlqkIz_HAd2"
   },
   "outputs": [],
   "source": []
  },
  {
   "cell_type": "markdown",
   "metadata": {
    "id": "CeYnDokjHAd2"
   },
   "source": [
    "## HTTP 응답코드"
   ]
  },
  {
   "cell_type": "markdown",
   "metadata": {
    "id": "HZDHhRO4HAd2"
   },
   "source": [
    "내가 크롤링하고자 하는 사이트가 접속이 가능한지 불가능한지 알 수 있는 코드 <br><br>\n",
    "1xx : 요청을 받았으며 작업이 진행 중인 경우 <br>\n",
    "2xx : 요청 ok, 작업 ok <br>\n",
    "4xx : 요청이 올바르지 않은 경우 <br>\n",
    "5xx : 서버가 응답하지 않는 경우 <br><br>\n",
    "즉 200 - 크롤링 가능, 그 외 - 크롤링 불가능 (세부 원인은 검색)"
   ]
  },
  {
   "cell_type": "code",
   "execution_count": 17,
   "metadata": {
    "id": "_XO2OxVfHAd3"
   },
   "outputs": [],
   "source": [
    "#정보요청 라이브러리 import\n",
    "import requests"
   ]
  },
  {
   "cell_type": "code",
   "execution_count": 2,
   "metadata": {
    "id": "YEdRmiTVHAd3"
   },
   "outputs": [],
   "source": [
    "#네이버로 정보요청\n",
    "res1 = requests.get(\"https://www.naver.com/\")"
   ]
  },
  {
   "cell_type": "code",
   "execution_count": 41,
   "metadata": {
    "id": "hpvsMGYpHAd3",
    "outputId": "503079ef-87f3-423b-ff34-25608b927510"
   },
   "outputs": [
    {
     "name": "stdout",
     "output_type": "stream",
     "text": [
      "응답코드 : 200\n"
     ]
    }
   ],
   "source": [
    "#네이버로부터 받은 응답코드 출력\n",
    "print(\"응답코드 :\", res1.status_code)"
   ]
  },
  {
   "cell_type": "code",
   "execution_count": 4,
   "metadata": {
    "id": "HqmAZywJHAd3"
   },
   "outputs": [],
   "source": [
    "#나도코딩 티스토리로 정보요청\n",
    "res2 = requests.get(\"https://nadocoding1.tistory.com\")"
   ]
  },
  {
   "cell_type": "code",
   "execution_count": 5,
   "metadata": {
    "id": "D6eA72hrHAd4",
    "outputId": "81f32862-9b89-44a8-8fee-12ec25c4fa8a"
   },
   "outputs": [
    {
     "name": "stdout",
     "output_type": "stream",
     "text": [
      "응답코드 : 404\n"
     ]
    }
   ],
   "source": [
    "#나도코딩 티스토리로부터 받은 응답코드 출력\n",
    "print(\"응답코드 :\", res2.status_code)"
   ]
  },
  {
   "cell_type": "code",
   "execution_count": 6,
   "metadata": {
    "id": "bsoIzCRdHAd4",
    "outputId": "5282fe79-dc51-4c41-adf9-4edf169584fd"
   },
   "outputs": [
    {
     "name": "stdout",
     "output_type": "stream",
     "text": [
      "웹 크롤링을 진행합니다.\n"
     ]
    }
   ],
   "source": [
    "#정상적으로 정보를 받은 경우 지속, 그렇지 않은 경우 중지\n",
    "res1.raise_for_status()\n",
    "print(\"웹 크롤링을 진행합니다.\")"
   ]
  },
  {
   "cell_type": "code",
   "execution_count": 7,
   "metadata": {
    "id": "HCufEeDuHAd4",
    "outputId": "58b1ad9e-3282-4448-8f24-6739fdea6b1c"
   },
   "outputs": [
    {
     "data": {
      "text/plain": [
       "'\\n<!doctype html>                          <html lang=\"ko\" data-dark=\"false\"> <head> <meta charset=\"utf-8\"> <title>NAVER</title> <meta http-equiv=\"X-UA-Compatible\" content=\"IE=edge\"> <meta name=\"viewport\" content=\"width=1190\"> <meta name=\"apple-mobile-web-app-title\" content=\"NAVER\"/> <meta name=\"robots\" content=\"index,nofollow\"/> <meta name=\"description\" content=\"네이버 메인에서 다양한 정보와 유용한 컨텐츠를 만나 보세요\"/> <meta property=\"og:title\" content=\"네이버\"> <meta property=\"og:url\" content=\"https://www.naver.com/\"> <meta property=\"og:image\" content=\"https://s.pstatic.net/static/www/mobile/edit/2016/0705/mobile_212852414260.png\"> <meta property=\"og:description\" content=\"네이버 메인에서 다양한 정보와 유용한 컨텐츠를 만나 보세요\"/> <meta name=\"twitter:card\" content=\"summary\"> <meta name=\"twitter:title\" content=\"\"> <meta name=\"twitter:url\" content=\"https://www.naver.com/\"> <meta name=\"twitter:image\" content=\"https://s.pstatic.net/static/www/mobile/edit/2016/0705/mobile_212852414260.png\"> <meta name=\"twitter:description\" content=\"네이버 메인에서 다양한 정보와 유용한 컨텐츠를 만나 보세요\"/>  <link rel=\"stylesheet\" href=\"https://pm.pstatic.net/dist/css/nmain.20220106.css\"> <link rel=\"stylesheet\" href=\"https://ssl.pstatic.net/sstatic/search/pc/css/sp_autocomplete_210318.css\"> <link rel=\"shortcut icon\" type=\"image/x-icon\" href=\"/favicon.ico?1\"/>  <link rel=\"apple-touch-icon\" sizes=\"114x114\" href=\"https://s.pstatic.net/static/www/u/2014/0328/mma_204243574.png\"/> <link rel=\"apple-touch-icon\" href=\"https://s.pstatic.net/static/www/u/2014/0328/mma_20432863.png\"/> <script>window.nmain=window.nmain||{},window.nmain.supportFlicking=!1;var nsc=\"navertop.v4\",ua=navigator.userAgent,useIeJSFlag=\"1\";window.nmain.isIE=\"0\"===useIeJSFlag,document.getElementsByTagName(\"html\")[0].setAttribute(\"data-useragent\",ua),window.nmain.isIE&&(Object.create=function(n){function e(){}return e.prototype=n,new e})</script> <script>var darkmode= false;window.naver_corp_da=window.naver_corp_da||{main:{}},window.naver_corp_da.main=window.naver_corp_da.main||{},window.naver_corp_da.main.darkmode=darkmode,window.gladsdk=window.gladsdk||{cmd:[]},window.gladsdk.cmd.push((function(){window.gladsdk.setHostMeta(\"theme\",darkmode?\"dark\":\"light\")})),window.ndpsdk=window.ndpsdk||{cmd:[],polyfill:{cmd:[]}},window.ndpsdk.cmd.push((function(){window.ndpsdk.setHostMeta(\"theme\",darkmode?\"dark\":\"light\")}))</script>  <script async src=\"https://ssl.pstatic.net/tveta/libs/glad/prod/gfp-core.js\"></script> <script async src=\"https://ssl.pstatic.net/tveta/libs/ndpsdk/prod/ndp-loader.js\"></script>  <script> window.nmain.gv = {  isLogin: false,\\nuseId: null,   daInfo: {\"BEAUTY\":{\"menu\":\"BEAUTY\",\"childMenu\":\"\",\"adType\":\"singleDom\",\"multiDomAdUrl\":\"\",\"multiDomUnit\":\"\",\"infoList\":[{\"adposId\":\"1000163\",\"singleDomAdUrl\":\"https://siape.veta.naver.com/fxshow\",\"param\":{\"da_dom_id\":\"p_main_beauty_1\",\"tb\":\"BEAUTY_1\",\"unit\":\"SU10595\",\"calp\":\"-\"},\"type\":{\"position\":\"abs\",\"positionIndex\":4,\"subject\":\"contents\"},\"dom\":null},{\"adposId\":\"1000164\",\"singleDomAdUrl\":\"https://siape.veta.naver.com/fxshow\",\"param\":{\"da_dom_id\":\"p_main_beauty_2\",\"tb\":\"BEAUTY_1\",\"unit\":\"SU10596\",\"calp\":\"-\"},\"type\":{\"position\":\"abs\",\"positionIndex\":8,\"subject\":\"contents\"},\"dom\":null}]},\"LIVING\":{\"menu\":\"LIVING\",\"childMenu\":\"\",\"adType\":\"singleDom\",\"multiDomAdUrl\":\"\",\"multiDomUnit\":\"\",\"infoList\":[{\"adposId\":\"1000183\",\"singleDomAdUrl\":\"https://siape.veta.naver.com/fxshow\",\"param\":{\"da_dom_id\":\"p_main_living_1\",\"tb\":\"LIVING_1\",\"unit\":\"SU10597\",\"calp\":\"-\"},\"type\":{\"position\":\"abs\",\"positionIndex\":4,\"subject\":\"contents\"},\"dom\":null},{\"adposId\":\"1000184\",\"singleDomAdUrl\":\"https://siape.veta.naver.com/fxshow\",\"param\":{\"da_dom_id\":\"p_main_living_2\",\"tb\":\"LIVING_1\",\"unit\":\"SU10606\",\"calp\":\"-\"},\"type\":{\"position\":\"abs\",\"positionIndex\":8,\"subject\":\"contents\"},\"dom\":null}]},\"LIVINGHOME\":{\"menu\":\"LIVINGHOME\",\"childMenu\":\"\",\"adType\":\"singleDom\",\"multiDomAdUrl\":\"\",\"multiDomUnit\":\"\",\"infoList\":[{\"adposId\":\"1000185\",\"singleDomAdUrl\":\"https://siape.veta.naver.com/fxshow\",\"param\":{\"da_dom_id\":\"p_main_livinghome_1\",\"tb\":\"LIVINGHOME_1\",\"unit\":\"SU10571\",\"calp\":\"-\"},\"type\":{\"position\":\"abs\",\"positionIndex\":4,\"subject\":\"contents\"},\"dom\":null},{\"adposId\":\"1000186\",\"singleDomAdUrl\":\"https://siape.veta.naver.com/fxshow\",\"param\":{\"da_dom_id\":\"p_main_livinghome_2\",\"tb\":\"LIVINGHOME_1\",\"unit\":\"SU10572\",\"calp\":\"-\"},\"type\":{\"position\":\"abs\",\"positionIndex\":8,\"subject\":\"contents\"},\"dom\":null}]}},\\nsvt: 20220111110642,\\n}; </script> <script> window.nmain.newsstand = {\\nrcode: \\'11260113\\',\\nnewsCastSubsInfo: \\'\\',\\nnewsStandSubsInfo: \\'\\'\\n};\\nwindow.etc = {  };\\nwindow.svr = \"<!--aweb12-->\"; </script> <script src=\"https://ssl.pstatic.net/tveta/libs/assets/js/pc/main/min/pc.veta.core.min.js\" defer=\"defer\"></script>   <script src=\"https://pm.pstatic.net/dist/js/external.424737be.js?o=www\" type=\"text/javascript\" crossorigin=\"anonymous\" defer=\"defer\"></script> <script src=\"https://pm.pstatic.net/dist/js/preload.5875f4cb.js?o=www\" type=\"text/javascript\" crossorigin=\"anonymous\" defer=\"defer\"></script> <script src=\"https://pm.pstatic.net/dist/js/polyfill.0b1e66f9.js?o=www\" type=\"text/javascript\" crossorigin=\"anonymous\" defer=\"defer\"></script>  <script src=\"https://pm.pstatic.net/dist/js/vendors~more~nmain~notice~search~sidebar_notice.29c38b59.js?o=www\" type=\"text/javascript\" crossorigin=\"anonymous\" defer=\"defer\"></script>   <script src=\"https://pm.pstatic.net/dist/js/search.42b2ccb4.js?o=www\" type=\"text/javascript\" crossorigin=\"anonymous\" defer=\"defer\"></script>  <script src=\"https://pm.pstatic.net/dist/js/vendors~more~nmain~sidebar_notice.2d20790b.js?o=www\" type=\"text/javascript\" crossorigin=\"anonymous\" defer=\"defer\"></script> <script src=\"https://pm.pstatic.net/dist/js/nmain.3e57d655.js?o=www\" type=\"text/javascript\" crossorigin=\"anonymous\" defer=\"defer\"></script> <style>:root{color-scheme:light}#_nx_kbd .setkorhelp a{display:none}</style> </head> <body> <div id=\"u_skip\"> <a href=\"#newsstand\"><span>뉴스스탠드 바로가기</span></a> <a href=\"#themecast\"><span>주제별캐스트 바로가기</span></a> <a href=\"#timesquare\"><span>타임스퀘어 바로가기</span></a> <a href=\"#shopcast\"><span>쇼핑캐스트 바로가기</span></a> <a href=\"#account\"><span>로그인 바로가기</span></a> </div> <div id=\"wrap\">         <style>._1syGnXOL{padding-right:18px;font-size:14px;line-height:0;letter-spacing:-.25px;color:#000}._1syGnXOL span,._1syGnXOL strong{line-height:49px}._1syGnXOL:before{display:inline-block;content:\"\";vertical-align:top;background-image:url(https://static-whale.pstatic.net/main/sprite-20211123@2x.png);background-repeat:no-repeat;background-size:116px 112px;width:18px;height:18px;margin:16px 8px 0 0;background-position:-98px 0}[data-useragent*=\"MSIE 8\"] ._1syGnXOL:before{background-image:url(https://static-whale.pstatic.net/main/sprite-20211123.png)}._1syGnXOL._3dsvmZg2:before{background-position:-47px -85px}._1syGnXOL._1NBFx1WK:before{width:20px;height:20px;margin:15px 8px 0 0;background-position:-21px -89px}._1syGnXOL._2mcQEKCd:before{width:22px;height:22px;margin:14px 7px 0 0;background-position:-47px -63px}._1syGnXOL._36slsKuJ:before{width:21px;height:49px;margin:0 14px 0 0;background-position:0 -63px}._1syGnXOL._3di88A4c{padding-right:12px;font-size:17px}._1syGnXOL._3di88A4c:before{content:none}._1syGnXOL ._19K4X1CD{text-decoration:underline}._2aeXMlrb{display:inline-block;position:relative;font-size:12px;height:49px;width:78px;text-decoration:none;color:#fff;font-weight:700;letter-spacing:-.5px;vertical-align:top}._2aeXMlrb span{text-align:center;margin:9px 0;height:31px;display:block;line-height:31px;border-radius:15px}._2aeXMlrb span:before{display:inline-block;content:\"\";vertical-align:top;background-image:url(https://static-whale.pstatic.net/main/sprite-20211123@2x.png);background-repeat:no-repeat;background-size:116px 112px}[data-useragent*=\"MSIE 8\"] ._2aeXMlrb span:before{background-image:url(https://static-whale.pstatic.net/main/sprite-20211123.png)}._2aeXMlrb.BMgpjddw{font-size:11px;width:94px}._2aeXMlrb.BMgpjddw span:before{margin:9px 3px 0 0;width:17px;height:13px;background-position:-89px -63px}._3h-N8T9V{position:absolute;top:0;left:0;right:0;bottom:0;background:rgba(0,0,0,0)}._1KncATpM{display:inline-block;content:\"\";vertical-align:top;background-image:url(https://static-whale.pstatic.net/main/sprite-20211123@2x.png);background-repeat:no-repeat;background-size:116px 112px;margin-top:14px;float:left;width:98px;height:21px;background-position:0 -21px}[data-useragent*=\"MSIE 8\"] ._1KncATpM{background-image:url(https://static-whale.pstatic.net/main/sprite-20211123.png)}._1KncATpM._2v3uxv2x{background-position:0 0}._1KncATpM._1yl_Ow6o{background-position:0 -42px}._20PYt6lT{font-size:11px;height:49px;cursor:pointer;position:absolute;top:0;right:0;color:#666;opacity:.7}._20PYt6lT:after{width:15px;height:15px;margin-left:4px;background-position:-98px -33px;display:inline-block;content:\"\";vertical-align:top;background-image:url(https://static-whale.pstatic.net/main/sprite-20211123@2x.png);background-repeat:no-repeat;background-size:116px 112px}[data-useragent*=\"MSIE 8\"] ._20PYt6lT:after{background-image:url(https://static-whale.pstatic.net/main/sprite-20211123.png)}._20PYt6lT._39oMCV2N:after{background-position:-98px -18px}._20PYt6lT._3MOWOORv{color:#c3c2c2}._20PYt6lT._3MOWOORv:after{background-position:-80px -85px}._20PYt6lT._3wm5EzmJ{color:#fff}._20PYt6lT._3wm5EzmJ:after{background-position:-65px -85px}._1hiMWemA{height:49px}._1hiMWemA .tY_u8r23{position:relative;width:1130px;margin:0 auto}._1hiMWemA .tY_u8r23 a{text-decoration:none}._1hiMWemA._23U_6TM_{position:relative}._1hiMWemA._23U_6TM_:after{position:absolute;z-index:1;content:\"\";display:block;width:100%;height:1px;bottom:0;background-color:rgba(0,0,0,.050980392156862744)}</style>\\n<div\\nid=\"NM_TOP_BANNER\"\\ndata-clk-prefix=\"top\"\\nclass=\"_1hiMWemA\"\\nstyle=\"background-color: #262b3a\"\\n>\\n<div class=\"tY_u8r23\">\\n<a\\nclass=\"_3h-N8T9V\"\\nhref=\"https://whale.naver.com/banner/details/darkmode/?=main&wpid=RydDy7\"\\ndata-clk=\"dropbanner1a\"\\n></a\\n><i class=\"_1KncATpM _1yl_Ow6o\"><span class=\"blind\">NAVER whale</span></i\\n><img\\nsrc=\"https://static-whale.pstatic.net/main/img_darkmode_v6@2x.png\"\\nwidth=\"240\"\\nheight=\"49\"\\nalt=\"\"\\nstyle=\"padding-left: 80px\"\\n/><span\\nclass=\"_1syGnXOL _3di88A4c\"\\ndata-clk=\"dropbanner1a\"\\nstyle=\"padding-right: 30px; color: white; padding-left: 20px\"\\n><span>아앗! 안정이 필요해보여요. 눈 안정 위해 </span\\n><strong>다크모드</strong></span\\n><a\\nhref=\"https://installer-whale.pstatic.net/downloads/banner/RydDy7/WhaleSetup.exe\"\\nclass=\"_2aeXMlrb BMgpjddw\"\\nid=\"NM_whale_download_btn\"\\ndata-clk=\"dropdownload1a\"\\n><span style=\"background-color: #2031a4\">다운로드</span></a\\n><button\\ntype=\"button\"\\ndata-ui-cookie-exp-days=\"3\"\\ndata-ui-cookie-key=\"NM_TOP_PROMOTION\"\\ndata-ui-cookie-value=\"1\"\\ndata-ui-hide-target=\"#NM_TOP_BANNER\"\\ndata-clk=\"dropclose1a\"\\nclass=\"_20PYt6lT _3wm5EzmJ\"\\n>\\n3일 동안 보지 않기\\n</button>\\n</div>\\n</div>\\n  <div id=\"header\" role=\"banner\">\\n\\n\\n\\n\\n\\n\\n\\n\\n<div class=\"special_bg\">\\n<div class=\"group_flex\">\\n<div class=\"logo_area\">\\n<h1 class=\"logo_default\">\\n<a href=\"/\" class=\"logo_naver\" data-clk=\"top.logo\"\\n><span class=\"blind\">네이버</span></a\\n>\\n</h1>\\n</div>\\n<div class=\"service_area\">\\n<a id=\"NM_set_home_btn\" href=\"https://help.naver.com/support/welcomePage/guide.help\" class=\"link_set\" data-clk=\"top.mkhome\">네이버를 시작페이지로</a>\\n<i class=\"sa_bar\"></i>\\n<a href=\"https://jr.naver.com\" class=\"link_jrnaver\" data-clk=\"top.jrnaver\"><i class=\"ico_jrnaver\"></i><span class=\"blind\">쥬니어네이버</span></a>\\n<a href=\"https://happybean.naver.com\" class=\"link_happybin\" data-clk=\"top.happybean\"><i class=\"ico_happybin\"></i><span class=\"blind\">해피빈</span></a>\\n</div>\\n\\n<div id=\"search\" class=\"search_area\" data-clk-prefix=\"sch\">\\n<form id=\"sform\" name=\"sform\" action=\"https://search.naver.com/search.naver\" method=\"get\" role=\"search\">\\n<fieldset>\\n<legend class=\"blind\">검색</legend>\\n<select id=\"where\" name=\"where\" title=\"검색 범위 선택\" class=\"blind\">\\n<option value=\"nexearch\" selected=\"selected\">통합검색</option><option value=\"post\">블로그</option><option value=\"cafeblog\">카페</option><option value=\"cafe\">- 카페명</option><option value=\"article\">- 카페글</option><option value=\"kin\">지식iN</option><option value=\"news\">뉴스</option><option value=\"web\">사이트</option><option value=\"category\">- 카테고리</option><option value=\"site\">- 사이트</option><option value=\"movie\">영화</option><option value=\"webkr\">웹문서</option><option value=\"dic\">사전</option><option value=\"100\">- 백과사전</option><option value=\"endic\">- 영어사전</option><option value=\"eedic\">- 영영사전</option><option value=\"krdic\">- 국어사전</option><option value=\"jpdic\">- 일본어사전</option><option value=\"hanja\">- 한자사전</option><option value=\"terms\">- 용어사전</option><option value=\"book\">책</option><option value=\"music\">음악</option><option value=\"doc\">전문자료</option><option value=\"shop\">쇼핑</option><option value=\"local\">지역</option><option value=\"video\">동영상</option><option value=\"image\">이미지</option><option value=\"mypc\">내PC</option><optgroup label=\"스마트 파인더\"><option value=\"movie\">영화</option><option value=\"auto\">자동차</option><option value=\"game\">게임</option><option value=\"health\">건강</option><option value=\"people\">인물</option></optgroup><optgroup label=\"네이버 랩\"><option>긍정부정검색</option></optgroup>\\n</select>\\n<input type=\"hidden\" id=\"sm\" name=\"sm\" value=\"top_hty\" />\\n<input type=\"hidden\" id=\"fbm\" name=\"fbm\" value=\"0\" />\\n<input type=\"hidden\" id=\"acr\" name=\"acr\" value=\"\" disabled=\"disabled\" />\\n<input type=\"hidden\" id=\"acq\" name=\"acq\" value=\"\" disabled=\"disabled\" />\\n<input type=\"hidden\" id=\"qdt\" name=\"qdt\" value=\"\" disabled=\"disabled\" />\\n<input type=\"hidden\" id=\"ie\" name=\"ie\" value=\"utf8\" />\\n<input type=\"hidden\" id=\"acir\" name=\"acir\" value=\"\" disabled=\"disabled\" />\\n<input type=\"hidden\" id=\"os\" name=\"os\" value=\"\" disabled=\"disabled\" />\\n<input type=\"hidden\" id=\"bid\" name=\"bid\" value=\"\" disabled=\"disabled\" />\\n<input type=\"hidden\" id=\"pkid\" name=\"pkid\" value=\"\" disabled=\"disabled\" />\\n<input type=\"hidden\" id=\"eid\" name=\"eid\" value=\"\" disabled=\"disabled\" />\\n<input type=\"hidden\" id=\"mra\" name=\"mra\" value=\"\" disabled=\"disabled\" />\\n\\n\\n\\n<div class=\"green_window\" style=\\'\\'>\\n<!-- [AU] data-atcmp-element 에 해당하는 attribute를 추가해주세요. -->\\n<input id=\"query\" name=\"query\" type=\"text\" title=\"검색어 입력\" maxlength=\"255\" class=\"input_text\" tabindex=\"1\" accesskey=\"s\" style=\"ime-mode:active;\" autocomplete=\"off\"  placeholder=\"검색어를 입력해 주세요.\" onclick=\"document.getElementById(\\'fbm\\').value=1;\" value=\"\" data-atcmp-element>\\n</div>\\n<button id=\"search_btn\" type=\"submit\" title=\"검색\" tabindex=\"3\" class=\"btn_submit\" onclick=\"window.nclick(this,\\'sch.action\\',\\'\\',\\'\\',event);\" style=\\'\\'>\\n<span class=\"blind\">검색</span>\\n<span class=\"ico_search_submit\"></span>\\n</button>\\n</fieldset>\\n</form>\\n<!-- 한글입력기 -->\\n<a href=\"#\" id=\"ke_kbd_btn\" role=\"button\" class=\"btn_keyboard\" onclick=\"return false;\"><span class=\"blind\">한글 입력기</span><span class=\"ico_keyboard\"></span></a>\\n<div id=\"_nx_kbd\" style=\"display:none;\"></div>\\n<div class=\"autocomplete\">\\n<!-- 자동완성 열린 경우 fold 클래스 추가, 딤드인 경우 dim 추가 -->\\n<a href=\"#\" role=\"button\" id=\"nautocomplete\" tabindex=\"2\" class=\"btn_arw _btn_arw fold\" aria-pressed=\"false\" data-atcmp-element><span class=\"blind\">자동완성 레이어</span><span class=\"ico_arr\"></span></a>\\n</div>\\n<!-- 자동완성레이어 -->\\n<div id=\"autoFrame\" class=\"reatcmp\" style=\"display: none;\">\\n<!-- [AU] data-atcmp-element attribute를 추가해주세요. -->\\n<div class=\"ly_atcmp\" data-atcmp-element>\\n<div class=\"api_atcmp_wrap\">\\n<!-- 최근검색어 -->\\n<!-- [AU] _recent_layer 클래스를 추가해주세요. -->\\n<div class=\"atcmp_fixer _recent_layer\" style=\"display:none;\">\\n<!-- [AU] _recent_header 클래스를 추가해주세요. -->\\n<div class=\"atcmp_header _recent_header\">\\n<strong class=\"tit\">최근검색어</strong>\\n<div class=\"option\">\\n<!-- [AU] _delAll 클래스를 추가해주세요. -->\\n<a role=\"button\" href=\"#\" class=\"item _delAll\" aria-pressed=\"false\">전체삭제</a>\\n</div>\\n</div>\\n<div class=\"atcmp_container\">\\n<!-- [AU] _recent 클래스를 추가해주세요. -->\\n<ul class=\"kwd_lst _recent\">\\n<!-- 최근검색어 템플릿 -->\\n<!-- [AU] _item 클래스를 추가해주세요. -->\\n<!-- [AU] data-template-type=\"history\" data-keyword=\"@in_txt@\" attribute를 추가해주세요. -->\\n<li class=\"item _item\" data-rank=\"@rank@\" data-template-type=\"history\" data-keyword=\"@in_txt@\">\\n<a href=\"#\" class=\"kwd\">\\n<span class=\"fix\"><span class=\"common_ico_kwd\"><i class=\"imsc ico_search\"></i></span><span>@txt@</span></span>\\n</a>\\n<span class=\"etc\">\\n<em class=\"date\">@date@.</em>\\n<!-- [AU] _del 클래스를 추가해주세요. -->\\n<a href=\"#\" role=\"button\" class=\"bt_item _del\" aria-pressed=\"false\"><i class=\"imsc ico_del\">삭제</i></a>\\n</span>\\n</li>\\n</ul>\\n<!-- [D] 검색어 저장 꺼진 경우 atcmp_fixer에 type_off 추가 -->\\n<!-- [AU] _offMsg 클래스를 추가해주세요. -->\\n<div class=\"kwd_info kwd_off _offMsg\" style=\"display: none;\">검색어 저장 기능이 꺼져 있습니다.<br><span class=\"kwd_dsc\">설정이 초기화 된다면 <a href=\"https://help.naver.com/support/alias/search/word/word_29.naver\" class=\"kwd_help\" data-clk=\"sly.help\" target=\"_blank\">도움말</a>을 확인해주세요.</span></div>\\n<!-- [D] 검색어 내역 없는 경우 atcmp_fixer에 type_off 추가 -->\\n<!-- [AU] _recentNone 클래스를 추가해주세요. -->\\n<div class=\"kwd_info kwd_none _recentNone\" style=\"display: none;\">최근 검색어 내역이 없습니다.<br><span class=\"kwd_dsc\">설정이 초기화 된다면 <a href=\"https://help.naver.com/support/alias/search/word/word_29.naver\" class=\"kwd_help\" data-clk=\"sly.help\" target=\"_blank\">도움말</a>을 확인해주세요.</span></div>\\n</div>\\n<div class=\"atcmp_footer\">\\n<span class=\"side_opt_area\">\\n<span class=\"opt_item\"><a href=\"https://help.naver.com/support/service/main.help?serviceNo=605&amp;categoryNo=1991\" data-clk=\"sly.help\" target=\"_blank\">도움말</a></span>\\n</span>\\n<span class=\"rside_opt_area\">\\n<span class=\"opt_item\">\\n<!-- [AU] _keywordOnOff 클래스를 추가해주세요. -->\\n<a href=\"#\" class=\"close _keywordOnOff\">자동저장 끄기</a>\\n</span>\\n</span>\\n</div>\\n</div>\\n<!-- 자동완성 -->\\n<!-- [AU] _atcmp_layer 클래스를 추가해주세요. -->\\n<div class=\"atcmp_fixer _atcmp_layer\" style=\"display:none;\">\\n<!-- [AU] _words 클래스를 추가해주세요. -->\\n<div class=\"atcmp_container _words\">\\n<!-- 정답형 템플릿 : 로또당첨번호 -->\\n<!-- [AU] _answer 클래스를 추가해주세요. -->\\n<!-- [AU] data-template-type=\"answer_3\" data-code=\"@code@\" data-keyword=\"@1@\" attribute를 추가해주세요. -->\\n<div class=\"atcmp_correct type_lotto _answer\" data-template-type=\"answer_3\" data-code=\"@code@\" data-keyword=\"@1@\">\\n<a href=\"#\" class=\"link_item\">\\n<span class=\"common_ico_kwd\"><i class=\"imsc ico_search\"></i></span>\\n<div class=\"dsc_area\">\\n<span class=\"tit\">@5@회차 당첨번호</span>\\n<span class=\"dsc\">\\n<span class=\"item\">추첨 @13@.</span><span class=\"item\">지급기한 1년</span>\\n</span>\\n</div>\\n<span class=\"etc_area\">\\n<span class=\"etc lotto\">\\n<em class=\"n@6@\">@6@</em><em class=\"n@7@\">@7@</em><em class=\"n@8@\">@8@</em><em class=\"n@9@\">@9@</em><em class=\"n@10@\">@10@</em><em class=\"n@11@\">@11@</em><em class=\"imsc_bf bonus n@12@\">@12@</em>\\n</span>\\n</span>\\n</a>\\n</div>\\n<!-- 정답형 템플릿 : 환율 -->\\n<!-- [AU] _answer 클래스를 추가해주세요. -->\\n<!-- [AU] data-template-type=\"answer_9\" data-code=\"@code@\" data-keyword=\"@1@\" attribute를 추가해주세요. -->\\n<div class=\"atcmp_correct type_exchange _answer\" data-template-type=\"answer_9\" data-code=\"@code@\" data-keyword=\"@1@\">\\n<!-- [D] 상승 up, 하락 down 추가 -->\\n<a href=\"#\" class=\"link_item @11@\">\\n<!-- [D] 국가별 class 가나다순\\nZAR 남아프리카 공화국\\nNPR 네팔\\nNOK 노르웨이\\nNZD 뉴질랜드\\nTWD 대만\\nDKK 덴마크\\nRUB 러시아\\nMOP 마카오\\nMYR 말레이시아\\nMXN 멕시코\\nMNT 몽골\\nUSD 미국\\nBHD 바레인\\nBDT 방글라데시\\nVND 베트남\\nBRL 브라질\\nSAR 사우디아라비아\\nSEK 스웨덴\\nCHF 스위스\\nSGD 싱가포르\\nAED 아랍에미리트\\nGBP 영국\\nEUR 유럽연합\\nILS 이스라엘\\nEGP 이집트\\nINR 인도\\nIDR 인도네시아\\nJPY 일본\\nCNY 중국\\nCZK 체코\\nCLP 칠레\\nKZT 카자흐스탄\\nQAR 카타르\\nCAD 캐나다\\nKWD 쿠웨이트\\nTHB 태국\\nTRY 터키\\nPKR 파키스탄\\nPLN 폴란드\\nPHP 필리핀\\nHUF 헝가리\\nAUD 호주\\nHKD 홍콩\\n-->\\n<span class=\"common_ico_kwd\"><i class=\"imsc ico @12@\">@14@</i></span>\\n<div class=\"dsc_area\">\\n<span class=\"tit\">@txt@<span class=\"sub\">@currency@</span></span>\\n<span class=\"dsc\">\\n<span class=\"item\"><i class=\"imsc ico_arr\"></i>@8@(@9@%)</span>\\n</span>\\n</div>\\n<span class=\"etc_area\">\\n<span class=\"etc\"><em class=\"num\">@6@</em>원</span>\\n</span>\\n</a>\\n</div>\\n<!-- 정답형 템플릿 : 날씨(국내11, 해외12) -->\\n<!-- [AU] _answer 클래스를 추가해주세요. -->\\n<!-- [AU] data-template-type=\"answer_11\" data-code=\"@code@\" data-keyword=\"@1@\" attribute를 추가해주세요. -->\\n<div class=\"atcmp_correct type_weather _answer\" data-template-type=\"answer_11\" data-code=\"@code@\" data-keyword=\"@1@\">\\n<!-- [D] 상승 up, 하락 down 추가 -->\\n<a href=\"#\" class=\"link_item @12@\">\\n<span class=\"common_ico_kwd\"><i class=\"imsc ico_search\"></i></span>\\n<div class=\"dsc_area\">\\n<span class=\"tit\">@txt@</span>\\n<span class=\"dsc\">\\n<span class=\"item\">@7@, @message@</span>\\n</span>\\n</div>\\n<span class=\"etc_area\">\\n<span class=\"etc\">\\n<!-- [D] 날씨별 class\\nico1 맑음(낮)\\nico2 맑음(밤)\\nico3 구름조금(낮)\\nico4 구름조금(밤)\\nico5 구름많음(낮)\\nico6 구름많음(밤)\\nico7 흐림\\nico8 약한비\\nico9 비\\nico10 강한비\\nico11 약한눈\\nico12 눈\\nico13 강한눈\\nico14 진눈깨비\\nico15 소나기\\nico16 안개\\nico17 소낙눈\\nico18 번개뇌우\\nico19 우박\\nico20 황사\\nico21 비또는눈\\nico22 가끔비\\nico23 가끔눈\\nico24 가끔비또는눈\\nico25 흐린후갬\\nico26 뇌우후갬\\nico27 비후갬\\nico28 눈후갬\\nico29 흐려져비\\nico30 흐려져눈\\n-->\\n<span class=\"ico_weather\"><i class=\"imsc ico ico@iconNo@\">@7@</i></span>\\n<em class=\"degree\">@8@<sup class=\"celsius\">°</sup></em>\\n</span>\\n</span>\\n</a>\\n</div>\\n<!-- 정답형 템플릿 : 사이트 바로가기 -->\\n<!-- [AU] _answer 클래스를 추가해주세요. -->\\n<!-- [AU] data-template-type=\"answer_17\" data-code=\"@code@\" data-keyword=\"@1@\" attribute를 추가해주세요. -->\\n<div class=\"atcmp_correct type_site _answer\" data-template-type=\"answer_17\" data-code=\"@code@\" data-keyword=\"@1@\">\\n<a href=\"@5@\" class=\"link_item\" target=\"_blank\">\\n<span class=\"common_ico_kwd\"><i class=\"imsc ico_url\"></i></span>\\n<div class=\"dsc_area\">\\n<span class=\"tit\">@txt@</span>\\n<span class=\"dsc\">\\n<span class=\"item\">@5@</span>\\n</span>\\n</div>\\n<span class=\"etc_area\">\\n<span class=\"etc\">바로가기</span>\\n</span>\\n</a>\\n</div>\\n<!-- [AU] _kwd_list 클래스를 추가해주세요. -->\\n<ul class=\"kwd_lst _kwd_list\">\\n<!-- [AU] 자동완성 검색어 템플릿 -->\\n<!-- [AU] _item 클래스를 추가해주세요. -->\\n<!-- [AU] data-rank=\"@rank@\" data-template-type=\"suggestion\" data-keyword=\"@in_txt@\" attribute를 추가해주세요. -->\\n<li class=\"item _item\" data-rank=\"@rank@\" data-template-type=\"suggestion\" data-keyword=\"@in_txt@\">\\n<a href=\"#\" class=\"kwd\">\\n<span class=\"fix\"><span class=\"common_ico_kwd\"><i class=\"imsc ico_search\"></i></span>@txt@</span>\\n</a>\\n<span class=\"etc\">\\n<a href=\"#\" role=\"button\" class=\"bt_item _add\" aria-pressed=\"false\"><i class=\"imsc ico_insert\">추가</i></a>\\n</span>\\n</li>\\n<!-- [AU] 최근검색어 템플릿 -->\\n<!-- [AU] _item 클래스를 추가해주세요. -->\\n<!-- [AU] data-rank=\"@rank@\" data-template-type=\"history\" data-keyword=\"@in_txt@\" attribute를 추가해주세요. -->\\n<li class=\"item has_correct _item\" data-rank=\"@rank@\" data-template-type=\"history\" data-keyword=\"@in_txt@\">\\n<a href=\"#\" class=\"kwd\">\\n<span class=\"fix\"><span class=\"common_ico_kwd\"><i class=\"imsc ico_search\"></i></span>@txt@</span>\\n</a>\\n<span class=\"etc\">\\n<!-- 최근검색어 있으면 날짜 표시 -->\\n<em class=\"date\">@date@.</em>\\n<a href=\"#\" role=\"button\" class=\"bt_item _add\" aria-pressed=\"false\"><i class=\"imsc ico_insert\">추가</i></a>\\n</span>\\n</li>\\n</ul>\\n<!-- [AU] 문맥검색 템플릿 -->\\n<!-- [AU] _item 클래스를 추가해주세요. -->\\n<!-- [AU] data-rank=\"@rank@\" data-template-type=\"intend\" data-keyword=\"@transQuery@\" attribute를 추가해주세요. -->\\n<li class=\"item has_correct _item\" data-rank=\"@rank@\" data-intend-rank=\"@intendRank@\" data-template-type=\"intend\" data-keyword=\"@transQuery@\">\\n<a href=\"#\" class=\"kwd\">\\n<span class=\"fix\"><span class=\"common_ico_kwd\"><i class=\"imsc ico_search\"></i></span>@query@ <span class=\"context\">@intend@</span></span>\\n</a>\\n<span class=\"etc\">\\n<a href=\"#\" role=\"button\" class=\"bt_item _add\" aria-pressed=\"false\"><i class=\"imsc ico_insert\">추가</i></a>\\n</span>\\n</li>\\n<!-- [D] 선거안내문구 -->\\n<!-- [AU] _alert 클래스를 추가해주세요. -->\\n<div class=\"atcmp_alert _alert\">\\n<div class=\"dsc_election\">\\n<p class=\"dsc\">\\n<i class=\"imsc ico_election\"></i><span class=\"_alert_passage\"></span>\\n</p>\\n<span class=\"dsc_inner\">\\n<!-- [AU] _alert_passage2 클래스를 추가해주세요. -->\\n<span class=\"_alert_passage2\"></span>\\n<!-- [AU] _alert_link 클래스를 추가해주세요. -->\\n<a href=\"#\" class=\"link _alert_link\" target=\"_blank\">자세히보기</a>\\n</span>\\n</div>\\n</div>\\n<!-- [AU] _plus 클래스를 추가해주세요. -->\\n<div class=\"atcmp_plus _plus\">\\n<div class=\"dsc_plus\">\\n<a href=\"https://help.naver.com/support/alias/search/word/word_16.naver\" class=\"link_dsc\" data-clk=\"sug.cxhelp\" target=\"_blank\">관심사를 반영한 컨텍스트 자동완성<i class=\"imsc ico_help\">도움말</i></a>\\n</div>\\n<div class=\"switch\">\\n<!-- [D] 선택시 aria-pressed=\"ture/false\" -->\\n<!-- [AU] _plus_btn 클래스를 추가해주세요. -->\\n<a role=\"button\" href=\"#\" class=\"bt_switch active _plus_btn\" aria-pressed=\"false\"><i class=\"imsc ico_option\">컨텍스트 자동완성</i></a>\\n</div>\\n<!-- [AU] _plus_layer 클래스를 추가해주세요. -->\\n<div class=\"layer_plus _plus_layer\">\\n<strong class=\"tit\">컨텍스트 자동완성</strong>\\n<!-- [AU] _plus_layer_isloggedin 클래스를 추가해주세요. -->\\n<!-- [AU] style=\"display:none\" 추가해주세요. -->\\n<div class=\"_plus_layer_isloggedin\" style=\"display:none\">\\n<p class=\"dsc\">ON/OFF 설정은<br>해당기기(브라우저)에 저장됩니다.</p>\\n<div class=\"btn_area\">\\n<a href=\"https://help.naver.com/support/alias/search/word/word_16.naver\" class=\"btn btn_view\" data-clk=\"sug.cxlink\" target=\"_blank\">자세히</a>\\n</div>\\n</div>\\n<!-- [AU] _plus_layer_isnotloggedin 클래스를 추가해주세요. -->\\n<!-- [AU] style=\"display:none\" 추가해주세요. -->\\n<div class=\"_plus_layer_isnotloggedin\" style=\"display:none\">\\n<p class=\"dsc\"><em class=\"txt\">동일한 시간대/연령/남녀별</em> 사용자 그룹의<br>관심사에 맞춰 자동완성을 제공합니다.</p>\\n<div class=\"btn_area\">\\n<a href=\"https://nid.naver.com/nidlogin.login\" class=\"btn btn_login\" data-clk=\"sug.cxlogin\">로그인</a>\\n<a href=\"https://help.naver.com/support/alias/search/word/word_16.naver\" class=\"btn btn_view\" data-clk=\"sug.cxlink\" target=\"_blank\">자세히</a>\\n</div>\\n</div>\\n<!-- [AU] _plus_layer_close 클래스를 추가해주세요. -->\\n<a href=\"#\" role=\"button\" class=\"btn_close _plus_layer_close\"><i class=\"imsc ico_close\">컨텍스트 자동완성 레이어 닫기</i></a>\\n</div>\\n</div>\\n</div>\\n<div class=\"atcmp_footer\">\\n<span class=\"side_opt_area\">\\n<span class=\"opt_item\"><a href=\"https://help.naver.com/support/service/main.help?serviceNo=605&categoryNo=1987\" data-clk=\"sug.help\" target=\"_blank\">도움말</a></span>\\n<span class=\"opt_item\"><a href=\"https://help.naver.com/support/contents/contents.help?serviceNo=605&categoryNo=18215\" class=\"report\" data-clk=\"sug.report\" target=\"_blank\">신고</a></span>\\n</span>\\n<span class=\"rside_opt_area\">\\n<span class=\"opt_item\">\\n<!-- [AU] _suggestOnOff 클래스를 추가해주세요. -->\\n<a href=\"#\" class=\"close _suggestOnOff\">자동완성 끄기</a>\\n</span>\\n</span>\\n</div>\\n</div>\\n</div>\\n</div>\\n</div>\\n</div>\\n\\n</div>\\n</div>\\n\\n<!--EMPTY-->\\n<div id=\"gnb\">\\n<div id=\"NM_FAVORITE\" class=\"gnb_inner\">\\n<div class=\"group_nav\">\\n<ul class=\"list_nav type_fix\">\\n<li class=\"nav_item\">\\n<a href=\"https://mail.naver.com/\" class=\"nav\" data-clk=\"svc.mail\"><i class=\"ico_mail\"></i>메일</a>\\n</li>\\n<li class=\"nav_item\"><a href=\"https://section.cafe.naver.com/\" class=\"nav\" data-clk=\"svc.cafe\">카페</a></li>\\n<li class=\"nav_item\"><a href=\"https://section.blog.naver.com/\" class=\"nav\" data-clk=\"svc.blog\">블로그</a></li>\\n<li class=\"nav_item\"><a href=\"https://kin.naver.com/\" class=\"nav\" data-clk=\"svc.kin\">지식iN</a></li>\\n<li class=\"nav_item\"><a href=\"https://shopping.naver.com/\" class=\"nav shop\" data-clk=\"svc.shopping\"><span class=\"blind\">쇼핑</span></a></li>\\n<li class=\"nav_item\"><a href=\"https://shoppinglive.naver.com/home\" class=\"nav shoplive\"\\ndata-clk=\"svc.shoppinglive\"><span class=\"blind\">쇼핑LIVE</span></a></li>\\n<li class=\"nav_item\"><a href=\"https://order.pay.naver.com/home\" class=\"nav\" data-clk=\"svc.pay\">Pay</a></li>\\n<li class=\"nav_item\">\\n<a href=\"https://tv.naver.com/\" class=\"nav\" data-clk=\"svc.tvcast\"><i class=\"ico_tv\"></i>TV</a>\\n</li>\\n</ul>\\n<ul\\nclass=\"list_nav NM_FAVORITE_LIST\"\\n>\\n<li class=\"nav_item\"><a href=\"https://dict.naver.com/\" class=\"nav\" data-clk=\"svc.dic\">사전</a></li>\\n<li class=\"nav_item\"><a href=\"https://news.naver.com/\" class=\"nav\" data-clk=\"svc.news\">뉴스</a></li>\\n<li class=\"nav_item\"><a href=\"https://finance.naver.com/\" class=\"nav\" data-clk=\"svc.stock\">증권</a></li>\\n<li class=\"nav_item\"><a href=\"https://land.naver.com/\" class=\"nav\" data-clk=\"svc.land\">부동산</a></li>\\n<li class=\"nav_item\"><a href=\"https://map.naver.com/\" class=\"nav\" data-clk=\"svc.map\">지도</a></li>\\n<li class=\"nav_item\"><a href=\"https://vibe.naver.com/\" class=\"nav\" data-clk=\"svc.vibe\">VIBE</a></li>\\n<li class=\"nav_item\"><a href=\"https://book.naver.com/\" class=\"nav\" data-clk=\"svc.book\">책</a></li>\\n<li class=\"nav_item\"><a href=\"https://comic.naver.com/\" class=\"nav\" data-clk=\"svc.webtoon\">웹툰</a></li>\\n\\n</ul>\\n<ul class=\"list_nav type_empty\" style=\"display: none;\"></ul>\\n<a href=\"#\" role=\"button\" class=\"btn_more\" data-clk=\"svc.more\">더보기</a>\\n<div class=\"ly_btn_area\">\\n<a href=\"more.html\" class=\"btn NM_FAVORITE_ALL\" data-clk=\"map.svcmore\">서비스 전체보기</a>\\n<a href=\"#\" role=\"button\" class=\"btn btn_set\" data-clk=\"map.edit\">메뉴설정</a>\\n<a href=\"#\" role=\"button\" class=\"btn btn_reset\" data-clk=\"edt.reset\">초기화</a>\\n<a href=\"#\" role=\"button\" class=\"btn btn_save\" data-clk=\"edt.save\">저장</a>\\n</div>\\n</div>\\n<div id=\"NM_WEATHER\" class=\"group_weather\">\\n<div>\\n<a data-clk=\"squ.weat\" href=\"https://weather.naver.com/today/11260113\" class=\"weather_area ico_w01\">\\n<div class=\"current_box\">\\n<strong class=\"current\" aria-label=\"현재기온\">-6.9°</strong><strong class=\"state\">맑음</strong>\\n</div>\\n<div class=\"degree_box\">\\n<span class=\"min\" aria-label=\"최저기온\">-10.0°</span><span class=\"max\" aria-label=\"최고기온\">-4.0°</span>\\n</div>\\n<span class=\"location\">마전동</span>\\n</a>\\n</div>\\n<div>\\n<a data-clk=\"squ.dust\" href=\"https://weather.naver.com/today/11260113\" class=\"air_area\">\\n<ul class=\"list_air\">\\n<li class=\"air_item\">미세<strong class=\"state state_good\">좋음</strong></li>\\n<li class=\"air_item\">초미세<strong class=\"state state_good\">좋음</strong></li>\\n</ul>\\n<span class=\"location\">마전동</span>\\n</a>\\n</div>\\n\\n</div>\\n</div>\\n<div class=\"ly_service\">\\n<div class=\"group_service NM_FAVORITE_ALL_LY\"></div>\\n<div class=\"group_service NM_FAVORITE_EDIT_LY\" style=\"display: none;\"></div>\\n</div>\\n</div>\\n</div>\\n <div id=\"container\" role=\"main\"> <div style=\"position:relative;width:1130px;margin:0 auto;z-index:11\"> <div id=\"da_top\"></div> <div id=\"da_expwide\"></div> </div> <div id=\"NM_INT_LEFT\" class=\"column_left\"> <div id=\"veta_top\"> <div id=\"veta_top_inner\" style=\"height:135px\"> </div> <span class=\"veta_bd_t\"></span> <span class=\"veta_bd_b\"></span> <span class=\"veta_bd_l\"></span> <span class=\"veta_bd_r\"></span> </div> <div id=\"newsstand\" class=\"sc_newscast\"> <h2 class=\"blind\">뉴스스탠드</h2> <div id=\"NM_NEWSSTAND_HEADER\" class=\"group_issue\" data-clk-prefix=\"ncy\"> <div class=\"issue_area\"> <a class=\"link_media\" href=\"https://news.naver.com/main/list.naver?mode=LPOD&mid=sec&sid1=001&sid2=140&oid=001&isYeonhapFlash=Y\" data-clk=\"newsflash\">연합뉴스</a> <div id=\"NM_ONELINE_ROLLING\" class=\"list_issue\" data-nm-ui=\"rolling\"> <div><a href=\"https://news.naver.com/main/list.naver?mode=LPOD&mid=sec&sid1=001&sid2=140&oid=001&isYeonhapFlash=Y&aid=0012909741\" class=\"issue\" data-clk=\"quickarticle\">북, 엿새만에 탄도미사일 1발 발사…안보리 논의 보란듯</a></div>\\n<div><a href=\"https://news.naver.com/main/list.naver?mode=LPOD&mid=sec&sid1=001&sid2=140&oid=001&isYeonhapFlash=Y&aid=0012909792\" class=\"issue\" data-clk=\"quickarticle\">위중증 780명, 이틀 연속 700명대…신규확진 3천97명</a></div>\\n<div><a href=\"https://news.naver.com/main/list.naver?mode=LPOD&mid=sec&sid1=001&sid2=140&oid=001&isYeonhapFlash=Y&aid=0012909865\" class=\"issue\" data-clk=\"quickarticle\">이재명 \"과학기술·산업·교육·국토 4대 대전환으로 5대 강국\"</a></div>\\n<div><a href=\"https://news.naver.com/main/list.naver?mode=LPOD&mid=sec&sid1=001&sid2=140&oid=001&isYeonhapFlash=Y&aid=0012910131\" class=\"issue\" data-clk=\"quickarticle\">윤석열 \"잠재성장률 2%→4% 2배로 올리겠다\"</a></div>\\n<div><a href=\"https://news.naver.com/main/list.naver?mode=LPOD&mid=sec&sid1=001&sid2=140&oid=001&isYeonhapFlash=Y&aid=0012910113\" class=\"issue\" data-clk=\"quickarticle\">\\'3강 목표\\' 안철수, \\'국민통합 내각\\' 띄우며 단일화 선 긋기</a></div>\\n<div><a href=\"https://news.naver.com/main/list.naver?mode=LPOD&mid=sec&sid1=001&sid2=140&oid=001&isYeonhapFlash=Y&aid=0012910172\" class=\"issue\" data-clk=\"quickarticle\">\\'서울∼거제 2시간대\\' 남부내륙철도 본격 추진…2027년 개통</a></div>\\n<div><a href=\"https://news.naver.com/main/list.naver?mode=LPOD&mid=sec&sid1=001&sid2=140&oid=001&isYeonhapFlash=Y&aid=0012909767\" class=\"issue\" data-clk=\"quickarticle\">정용진 \"멸공 언급 그만\" 반나절 만에 신세계 보이콧 이미지 공유</a></div>\\n<div><a href=\"https://news.naver.com/main/list.naver?mode=LPOD&mid=sec&sid1=001&sid2=140&oid=001&isYeonhapFlash=Y&aid=0012910012\" class=\"issue\" data-clk=\"quickarticle\">애플, 한국 앱스토어서 외부결제 허용…수수료도 인하</a></div>\\n<div><a href=\"https://news.naver.com/main/list.naver?mode=LPOD&mid=sec&sid1=001&sid2=140&oid=001&isYeonhapFlash=Y&aid=0012910033\" class=\"issue\" data-clk=\"quickarticle\">오세훈, 연일 시의회에 포문…이번엔 1인가구 예산 삭감 비판</a></div>\\n<div><a href=\"https://news.naver.com/main/list.naver?mode=LPOD&mid=sec&sid1=001&sid2=140&oid=001&isYeonhapFlash=Y&aid=0012909614\" class=\"issue\" data-clk=\"quickarticle\">오스템임플란트 횡령 직원 부친 유서 남기고 실종</a></div> </div> </div> <div class=\"direct_area\"> <a href=\"http://news.naver.com/\" class=\"link_news\" data-clk=\"newshome\">뉴스홈</a>\\n<a href=\"http://entertain.naver.com/home\" class=\"link_direct\" data-clk=\"entertainment\">연예</a>\\n<a href=\"http://sports.news.naver.com/\" class=\"link_direct\" data-clk=\"sports\">스포츠</a>\\n<a href=\"http://news.naver.com/main/main.nhn?mode=LSD&mid=shm&sid1=101\" class=\"link_direct\" data-clk=\"economy\">경제</a> </div> </div>        <div id=\"NM_NEWSSTAND_TITLE\" class=\"group_title\" data-clk-prefix=\"nsd\"> <a href=\"http://newsstand.naver.com/\" class=\"link_newsstand\" data-clk=\"title\" target=\"_blank\">뉴스스탠드</a> <div id=\"NM_NEWSSTAND_data_buttons\" class=\"sort_area\">  <a href=\"#\" role=\"button\" data-type=\"my\" data-clk=\"my\" class=\"btn_sort\">구독한 언론사</a> <a href=\"#\" role=\"button\" data-type=\"all\" data-clk=\"all\" class=\"btn_sort sort_on\">전체언론사</a>  </div> <div id=\"NM_NEWSSTAND_view_buttons\" class=\"set_area\">  <a href=\"#\" role=\"button\" data-type=\"list\" data-clk=\"articleview\" class=\"btn_set\"> <i class=\"ico_list\"><span class=\"blind\">리스트형</span></i></a> <a href=\"#\" role=\"button\" data-type=\"thumb\" data-clk=\"pressview\" class=\"btn_set set_on\"> <i class=\"ico_tile\"><span class=\"blind\">썸네일형</span></i></a>  <a href=\"http://newsstand.naver.com/config.html\" class=\"btn_set\" data-clk=\"set\" target=\"_blank\"> <i class=\"ico_set\"><span class=\"blind\">설정</span></i></a> </div> </div> <div id=\"NM_NEWSSTAND_VIEW_CONTAINER\" style=\"position:relative\"> <div id=\"NM_NEWSSTAND_DEFAULT_LIST\" class=\"group_news\" style=\"display:none\" data-clk-prefix=\"nsd_all\"> <a href=\"#\" role=\"button\" class=\"pm_btn_prev_l _NM_NEWSSTAND_LIST_prev_btn\" data-clk-custom=\"prev\"><i class=\"ico_btn\"><span class=\"blind\">이전</span></i></a> <a href=\"#\" role=\"button\" class=\"pm_btn_next_l _NM_NEWSSTAND_LIST_next_btn\" data-clk-custom=\"next\"><i class=\"ico_btn\"><span class=\"blind\">다음</span></i></a> <div class=\"list_view\"> <div class=\"option_area\"> <div class=\"list_option_wrap\"> <ul class=\"list_option\"> <li class=\"option_item\" data-cateid=\"ct2\"><a href=\"#\" class=\"option\" data-clk=\"daei\">종합/경제</a></li> <li class=\"option_item\" data-cateid=\"ct3\"><a href=\"#\" class=\"option\" data-clk=\"dtvcom\">방송/통신</a></li> <li class=\"option_item\" data-cateid=\"ct4\"><a href=\"#\" class=\"option\" data-clk=\"dit\">IT</a></li> <li class=\"option_item\" data-cateid=\"ct5\"><a href=\"#\" class=\"option\" data-clk=\"deng\">영자지</a></li> <li class=\"option_item\" data-cateid=\"ct6\"><a href=\"#\" class=\"option\" data-clk=\"dsporent\">스포츠/연예</a></li> <li class=\"option_item\" data-cateid=\"ct7\"><a href=\"#\" class=\"option\" data-clk=\"dmagtec\">매거진/전문지</a></li> <li class=\"option_item\" data-cateid=\"ct8\"><a href=\"#\" class=\"option\" data-clk=\"dloc\">지역</a></li> </ul> </div> </div> <div class=\"_NM_NEWSSTAND_ARTICLE_CONTAINER\" data-clk-sub=\"*a\"></div> </div> <div class=\"ly_popup NM_NEWSSTAND_POPUP NM_NEWSSTAND_invalid\" style=\"display:none\" data-clk-sub=\"*a\"> <a href=\"#\" role=\"button\" class=\"btn_close NM_NEWSSTAND_POPUP_CLOSE\"><i class=\"ico_close\"></i><span class=\"blind\">닫기</span></a> <p class=\"popup_msg\">해당 언론사 사정으로 접근이 제한됩니다.</p> <div class=\"popup_btn\"> <a href=\"#\" role=\"button\" class=\"btn_confirm NM_NEWSSTAND_POPUP_CLOSE\">확인</a> </div> </div> <div class=\"ly_popup NM_NEWSSTAND_POPUP NM_NEWSSTAND_undescribe_confirm\" style=\"display:none\" data-clk-sub=\"*a\"> <a href=\"#\" role=\"button\" class=\"btn_close NM_NEWSSTAND_POPUP_CLOSE\" data-clk=\"usclose\"><i class=\"ico_close\"></i><span class=\"blind\">닫기</span></a> <p class=\"popup_msg\"><strong class=\"NM_NEWSSTAND_POPUP_PNAME\"></strong>을(를)<br>구독해지 하시겠습니까?</p> <div class=\"popup_btn\"> <a href=\"#\" role=\"button\" class=\"btn_confirm NM_NEWSSTAND_POPUP_CONFIRM\" data-clk=\"usdone\">확인</a> <a href=\"#\" role=\"button\" class=\"btn_confirm NM_NEWSSTAND_POPUP_CLOSE\" data-clk=\"uscancel\">취소</a> </div> </div> <div class=\"ly_toast NM_NEWSSTAND_TOAST\" style=\"display:none\"> <p class=\"toast_msg\">구독한 언론사에 추가되었습니다.</p> </div> </div>   <div id=\"NM_NEWSSTAND_DEFAULT_THUMB\" class=\"group_news\" style=\"display:block\" data-clk-prefix=\"nsd_all\"> <a href=\"#\" role=\"button\" class=\"pm_btn_prev_l _NM_UI_PAGE_PREV\" data-clk-custom=\"prev\"><i class=\"ico_btn\"><span class=\"blind\">이전</span></i></a> <a href=\"#\" role=\"button\" class=\"pm_btn_next_l _NM_UI_PAGE_NEXT\" data-clk-custom=\"next\"><i class=\"ico_btn\"><span class=\"blind\">다음</span></i></a> <div class=\"_NM_UI_PAGE_CONTAINER\" style=\"height:100%;overflow:hidden\" data-clk-sub=\"*p\">   <div style=\"width: 750px; float: left;\">\\n<div class=\"tile_view\">\\n<div class=\"frame_area\">\\n<i class=\"line to_right1\"></i>\\n<i class=\"line to_right2\"></i>\\n<i class=\"line to_right3\"></i>\\n<i class=\"line to_bottom1\"></i>\\n<i class=\"line to_bottom2\"></i>\\n<i class=\"line to_bottom3\"></i>\\n<i class=\"line to_bottom4\"></i>\\n<i class=\"line to_bottom5\"></i>\\n</div>\\n<div class=\"thumb_area\">\\n<div\\nclass=\"thumb_box _NM_NEWSSTAND_THUMB _NM_NEWSSTAND_THUMB_press_valid\"\\ndata-pid=\"930\"\\n>\\n<a href=\"#\" class=\"thumb\">\\n<img\\nsrc=\"https://s.pstatic.net/static/newsstand/2020/logo/light/0604/930.png\"\\nheight=\"20\"\\nalt=\"뉴스타파\"\\nclass=\"news_logo\"\\n/>\\n<span class=\"thumb_dim\"></span\\n></a>\\n<div class=\"popup_wrap\">\\n<a\\nhref=\"#\"\\nrole=\"button\"\\nclass=\"btn_popup _NM_NEWSSTAND_THUMB_subscribe_press\"\\ndata-pid=\"930\"\\ndata-clk=\"sub\"\\n>구독</a\\n>\\n<a\\nhref=\"#\"\\nrole=\"button\"\\nclass=\"btn_popup _NM_NEWSSTAND_THUMB_unsubscribe_press\"\\ndata-pid=\"930\"\\ndata-clk=\"unsub\"\\n>해지</a\\n>\\n<a\\nhref=\"http://newsstand.naver.com/?list=&pcode=930\"\\ntarget=\"_blank\"\\nclass=\"btn_popup\"\\ndata-clk=\"logo\"\\ndata-pid=\"930\"\\n>기사보기</a\\n>\\n</div>\\n</div>\\n<div\\nclass=\"thumb_box _NM_NEWSSTAND_THUMB _NM_NEWSSTAND_THUMB_press_valid\"\\ndata-pid=\"214\"\\n>\\n<a href=\"#\" class=\"thumb\">\\n<img\\nsrc=\"https://s.pstatic.net/static/newsstand/2020/logo/light/0604/214.png\"\\nheight=\"20\"\\nalt=\"MBC\"\\nclass=\"news_logo\"\\n/>\\n<span class=\"thumb_dim\"></span\\n></a>\\n<div class=\"popup_wrap\">\\n<a\\nhref=\"#\"\\nrole=\"button\"\\nclass=\"btn_popup _NM_NEWSSTAND_THUMB_subscribe_press\"\\ndata-pid=\"214\"\\ndata-clk=\"sub\"\\n>구독</a\\n>\\n<a\\nhref=\"#\"\\nrole=\"button\"\\nclass=\"btn_popup _NM_NEWSSTAND_THUMB_unsubscribe_press\"\\ndata-pid=\"214\"\\ndata-clk=\"unsub\"\\n>해지</a\\n>\\n<a\\nhref=\"http://newsstand.naver.com/?list=&pcode=214\"\\ntarget=\"_blank\"\\nclass=\"btn_popup\"\\ndata-clk=\"logo\"\\ndata-pid=\"214\"\\n>기사보기</a\\n>\\n</div>\\n</div>\\n<div\\nclass=\"thumb_box _NM_NEWSSTAND_THUMB _NM_NEWSSTAND_THUMB_press_valid\"\\ndata-pid=\"366\"\\n>\\n<a href=\"#\" class=\"thumb\">\\n<img\\nsrc=\"https://s.pstatic.net/static/newsstand/2020/logo/light/0604/366.png\"\\nheight=\"20\"\\nalt=\"조선비즈\"\\nclass=\"news_logo\"\\n/>\\n<span class=\"thumb_dim\"></span\\n></a>\\n<div class=\"popup_wrap\">\\n<a\\nhref=\"#\"\\nrole=\"button\"\\nclass=\"btn_popup _NM_NEWSSTAND_THUMB_subscribe_press\"\\ndata-pid=\"366\"\\ndata-clk=\"sub\"\\n>구독</a\\n>\\n<a\\nhref=\"#\"\\nrole=\"button\"\\nclass=\"btn_popup _NM_NEWSSTAND_THUMB_unsubscribe_press\"\\ndata-pid=\"366\"\\ndata-clk=\"unsub\"\\n>해지</a\\n>\\n<a\\nhref=\"http://newsstand.naver.com/?list=&pcode=366\"\\ntarget=\"_blank\"\\nclass=\"btn_popup\"\\ndata-clk=\"logo\"\\ndata-pid=\"366\"\\n>기사보기</a\\n>\\n</div>\\n</div>\\n<div\\nclass=\"thumb_box _NM_NEWSSTAND_THUMB _NM_NEWSSTAND_THUMB_press_valid\"\\ndata-pid=\"009\"\\n>\\n<a href=\"#\" class=\"thumb\">\\n<img\\nsrc=\"https://s.pstatic.net/static/newsstand/2020/logo/light/0604/009.png\"\\nheight=\"20\"\\nalt=\"매일경제\"\\nclass=\"news_logo\"\\n/>\\n<span class=\"thumb_dim\"></span\\n></a>\\n<div class=\"popup_wrap\">\\n<a\\nhref=\"#\"\\nrole=\"button\"\\nclass=\"btn_popup _NM_NEWSSTAND_THUMB_subscribe_press\"\\ndata-pid=\"009\"\\ndata-clk=\"sub\"\\n>구독</a\\n>\\n<a\\nhref=\"#\"\\nrole=\"button\"\\nclass=\"btn_popup _NM_NEWSSTAND_THUMB_unsubscribe_press\"\\ndata-pid=\"009\"\\ndata-clk=\"unsub\"\\n>해지</a\\n>\\n<a\\nhref=\"http://newsstand.naver.com/?list=&pcode=009\"\\ntarget=\"_blank\"\\nclass=\"btn_popup\"\\ndata-clk=\"logo\"\\ndata-pid=\"009\"\\n>기사보기</a\\n>\\n</div>\\n</div>\\n<div\\nclass=\"thumb_box _NM_NEWSSTAND_THUMB _NM_NEWSSTAND_THUMB_press_valid\"\\ndata-pid=\"031\"\\n>\\n<a href=\"#\" class=\"thumb\">\\n<img\\nsrc=\"https://s.pstatic.net/static/newsstand/2020/logo/light/0604/031.png\"\\nheight=\"20\"\\nalt=\"아이뉴스24\"\\nclass=\"news_logo\"\\n/>\\n<span class=\"thumb_dim\"></span\\n></a>\\n<div class=\"popup_wrap\">\\n<a\\nhref=\"#\"\\nrole=\"button\"\\nclass=\"btn_popup _NM_NEWSSTAND_THUMB_subscribe_press\"\\ndata-pid=\"031\"\\ndata-clk=\"sub\"\\n>구독</a\\n>\\n<a\\nhref=\"#\"\\nrole=\"button\"\\nclass=\"btn_popup _NM_NEWSSTAND_THUMB_unsubscribe_press\"\\ndata-pid=\"031\"\\ndata-clk=\"unsub\"\\n>해지</a\\n>\\n<a\\nhref=\"http://newsstand.naver.com/?list=&pcode=031\"\\ntarget=\"_blank\"\\nclass=\"btn_popup\"\\ndata-clk=\"logo\"\\ndata-pid=\"031\"\\n>기사보기</a\\n>\\n</div>\\n</div>\\n<div\\nclass=\"thumb_box _NM_NEWSSTAND_THUMB _NM_NEWSSTAND_THUMB_press_valid\"\\ndata-pid=\"422\"\\n>\\n<a href=\"#\" class=\"thumb\">\\n<img\\nsrc=\"https://s.pstatic.net/static/newsstand/2020/logo/light/0604/422.png\"\\nheight=\"20\"\\nalt=\"연합뉴스TV\"\\nclass=\"news_logo\"\\n/>\\n<span class=\"thumb_dim\"></span\\n></a>\\n<div class=\"popup_wrap\">\\n<a\\nhref=\"#\"\\nrole=\"button\"\\nclass=\"btn_popup _NM_NEWSSTAND_THUMB_subscribe_press\"\\ndata-pid=\"422\"\\ndata-clk=\"sub\"\\n>구독</a\\n>\\n<a\\nhref=\"#\"\\nrole=\"button\"\\nclass=\"btn_popup _NM_NEWSSTAND_THUMB_unsubscribe_press\"\\ndata-pid=\"422\"\\ndata-clk=\"unsub\"\\n>해지</a\\n>\\n<a\\nhref=\"http://newsstand.naver.com/?list=&pcode=422\"\\ntarget=\"_blank\"\\nclass=\"btn_popup\"\\ndata-clk=\"logo\"\\ndata-pid=\"422\"\\n>기사보기</a\\n>\\n</div>\\n</div>\\n<div\\nclass=\"thumb_box _NM_NEWSSTAND_THUMB _NM_NEWSSTAND_THUMB_press_valid\"\\ndata-pid=\"025\"\\n>\\n<a href=\"#\" class=\"thumb\">\\n<img\\nsrc=\"https://s.pstatic.net/static/newsstand/up/2021/0824/nsd115034872.png\"\\nheight=\"20\"\\nalt=\"중앙일보\"\\nclass=\"news_logo\"\\n/>\\n<span class=\"thumb_dim\"></span\\n></a>\\n<div class=\"popup_wrap\">\\n<a\\nhref=\"#\"\\nrole=\"button\"\\nclass=\"btn_popup _NM_NEWSSTAND_THUMB_subscribe_press\"\\ndata-pid=\"025\"\\ndata-clk=\"sub\"\\n>구독</a\\n>\\n<a\\nhref=\"#\"\\nrole=\"button\"\\nclass=\"btn_popup _NM_NEWSSTAND_THUMB_unsubscribe_press\"\\ndata-pid=\"025\"\\ndata-clk=\"unsub\"\\n>해지</a\\n>\\n<a\\nhref=\"http://newsstand.naver.com/?list=&pcode=025\"\\ntarget=\"_blank\"\\nclass=\"btn_popup\"\\ndata-clk=\"logo\"\\ndata-pid=\"025\"\\n>기사보기</a\\n>\\n</div>\\n</div>\\n<div\\nclass=\"thumb_box _NM_NEWSSTAND_THUMB _NM_NEWSSTAND_THUMB_press_valid\"\\ndata-pid=\"368\"\\n>\\n<a href=\"#\" class=\"thumb\">\\n<img\\nsrc=\"https://s.pstatic.net/static/newsstand/2020/logo/light/0604/368.png\"\\nheight=\"20\"\\nalt=\"데일리안\"\\nclass=\"news_logo\"\\n/>\\n<span class=\"thumb_dim\"></span\\n></a>\\n<div class=\"popup_wrap\">\\n<a\\nhref=\"#\"\\nrole=\"button\"\\nclass=\"btn_popup _NM_NEWSSTAND_THUMB_subscribe_press\"\\ndata-pid=\"368\"\\ndata-clk=\"sub\"\\n>구독</a\\n>\\n<a\\nhref=\"#\"\\nrole=\"button\"\\nclass=\"btn_popup _NM_NEWSSTAND_THUMB_unsubscribe_press\"\\ndata-pid=\"368\"\\ndata-clk=\"unsub\"\\n>해지</a\\n>\\n<a\\nhref=\"http://newsstand.naver.com/?list=&pcode=368\"\\ntarget=\"_blank\"\\nclass=\"btn_popup\"\\ndata-clk=\"logo\"\\ndata-pid=\"368\"\\n>기사보기</a\\n>\\n</div>\\n</div>\\n<div\\nclass=\"thumb_box _NM_NEWSSTAND_THUMB _NM_NEWSSTAND_THUMB_press_valid\"\\ndata-pid=\"020\"\\n>\\n<a href=\"#\" class=\"thumb\">\\n<img\\nsrc=\"https://s.pstatic.net/static/newsstand/2020/logo/light/0604/020.png\"\\nheight=\"20\"\\nalt=\"동아일보\"\\nclass=\"news_logo\"\\n/>\\n<span class=\"thumb_dim\"></span\\n></a>\\n<div class=\"popup_wrap\">\\n<a\\nhref=\"#\"\\nrole=\"button\"\\nclass=\"btn_popup _NM_NEWSSTAND_THUMB_subscribe_press\"\\ndata-pid=\"020\"\\ndata-clk=\"sub\"\\n>구독</a\\n>\\n<a\\nhref=\"#\"\\nrole=\"button\"\\nclass=\"btn_popup _NM_NEWSSTAND_THUMB_unsubscribe_press\"\\ndata-pid=\"020\"\\ndata-clk=\"unsub\"\\n>해지</a\\n>\\n<a\\nhref=\"http://newsstand.naver.com/?list=&pcode=020\"\\ntarget=\"_blank\"\\nclass=\"btn_popup\"\\ndata-clk=\"logo\"\\ndata-pid=\"020\"\\n>기사보기</a\\n>\\n</div>\\n</div>\\n<div\\nclass=\"thumb_box _NM_NEWSSTAND_THUMB _NM_NEWSSTAND_THUMB_press_valid\"\\ndata-pid=\"044\"\\n>\\n<a href=\"#\" class=\"thumb\">\\n<img\\nsrc=\"https://s.pstatic.net/static/newsstand/2020/logo/light/0604/044.png\"\\nheight=\"20\"\\nalt=\"코리아헤럴드\"\\nclass=\"news_logo\"\\n/>\\n<span class=\"thumb_dim\"></span\\n></a>\\n<div class=\"popup_wrap\">\\n<a\\nhref=\"#\"\\nrole=\"button\"\\nclass=\"btn_popup _NM_NEWSSTAND_THUMB_subscribe_press\"\\ndata-pid=\"044\"\\ndata-clk=\"sub\"\\n>구독</a\\n>\\n<a\\nhref=\"#\"\\nrole=\"button\"\\nclass=\"btn_popup _NM_NEWSSTAND_THUMB_unsubscribe_press\"\\ndata-pid=\"044\"\\ndata-clk=\"unsub\"\\n>해지</a\\n>\\n<a\\nhref=\"http://newsstand.naver.com/?list=&pcode=044\"\\ntarget=\"_blank\"\\nclass=\"btn_popup\"\\ndata-clk=\"logo\"\\ndata-pid=\"044\"\\n>기사보기</a\\n>\\n</div>\\n</div>\\n<div\\nclass=\"thumb_box _NM_NEWSSTAND_THUMB _NM_NEWSSTAND_THUMB_press_valid\"\\ndata-pid=\"028\"\\n>\\n<a href=\"#\" class=\"thumb\">\\n<img\\nsrc=\"https://s.pstatic.net/static/newsstand/2020/logo/light/0604/028.png\"\\nheight=\"20\"\\nalt=\"한겨레\"\\nclass=\"news_logo\"\\n/>\\n<span class=\"thumb_dim\"></span\\n></a>\\n<div class=\"popup_wrap\">\\n<a\\nhref=\"#\"\\nrole=\"button\"\\nclass=\"btn_popup _NM_NEWSSTAND_THUMB_subscribe_press\"\\ndata-pid=\"028\"\\ndata-clk=\"sub\"\\n>구독</a\\n>\\n<a\\nhref=\"#\"\\nrole=\"button\"\\nclass=\"btn_popup _NM_NEWSSTAND_THUMB_unsubscribe_press\"\\ndata-pid=\"028\"\\ndata-clk=\"unsub\"\\n>해지</a\\n>\\n<a\\nhref=\"http://newsstand.naver.com/?list=&pcode=028\"\\ntarget=\"_blank\"\\nclass=\"btn_popup\"\\ndata-clk=\"logo\"\\ndata-pid=\"028\"\\n>기사보기</a\\n>\\n</div>\\n</div>\\n<div\\nclass=\"thumb_box _NM_NEWSSTAND_THUMB _NM_NEWSSTAND_THUMB_press_valid\"\\ndata-pid=\"092\"\\n>\\n<a href=\"#\" class=\"thumb\">\\n<img\\nsrc=\"https://s.pstatic.net/static/newsstand/2020/logo/light/0604/092.png\"\\nheight=\"20\"\\nalt=\"지디넷코리아\"\\nclass=\"news_logo\"\\n/>\\n<span class=\"thumb_dim\"></span\\n></a>\\n<div class=\"popup_wrap\">\\n<a\\nhref=\"#\"\\nrole=\"button\"\\nclass=\"btn_popup _NM_NEWSSTAND_THUMB_subscribe_press\"\\ndata-pid=\"092\"\\ndata-clk=\"sub\"\\n>구독</a\\n>\\n<a\\nhref=\"#\"\\nrole=\"button\"\\nclass=\"btn_popup _NM_NEWSSTAND_THUMB_unsubscribe_press\"\\ndata-pid=\"092\"\\ndata-clk=\"unsub\"\\n>해지</a\\n>\\n<a\\nhref=\"http://newsstand.naver.com/?list=&pcode=092\"\\ntarget=\"_blank\"\\nclass=\"btn_popup\"\\ndata-clk=\"logo\"\\ndata-pid=\"092\"\\n>기사보기</a\\n>\\n</div>\\n</div>\\n<div\\nclass=\"thumb_box _NM_NEWSSTAND_THUMB _NM_NEWSSTAND_THUMB_press_valid\"\\ndata-pid=\"076\"\\n>\\n<a href=\"#\" class=\"thumb\">\\n<img\\nsrc=\"https://s.pstatic.net/static/newsstand/2020/logo/light/0604/076.png\"\\nheight=\"20\"\\nalt=\"스포츠조선\"\\nclass=\"news_logo\"\\n/>\\n<span class=\"thumb_dim\"></span\\n></a>\\n<div class=\"popup_wrap\">\\n<a\\nhref=\"#\"\\nrole=\"button\"\\nclass=\"btn_popup _NM_NEWSSTAND_THUMB_subscribe_press\"\\ndata-pid=\"076\"\\ndata-clk=\"sub\"\\n>구독</a\\n>\\n<a\\nhref=\"#\"\\nrole=\"button\"\\nclass=\"btn_popup _NM_NEWSSTAND_THUMB_unsubscribe_press\"\\ndata-pid=\"076\"\\ndata-clk=\"unsub\"\\n>해지</a\\n>\\n<a\\nhref=\"http://newsstand.naver.com/?list=&pcode=076\"\\ntarget=\"_blank\"\\nclass=\"btn_popup\"\\ndata-clk=\"logo\"\\ndata-pid=\"076\"\\n>기사보기</a\\n>\\n</div>\\n</div>\\n<div\\nclass=\"thumb_box _NM_NEWSSTAND_THUMB _NM_NEWSSTAND_THUMB_press_valid\"\\ndata-pid=\"032\"\\n>\\n<a href=\"#\" class=\"thumb\">\\n<img\\nsrc=\"https://s.pstatic.net/static/newsstand/2020/logo/light/0604/032.png\"\\nheight=\"20\"\\nalt=\"경향신문\"\\nclass=\"news_logo\"\\n/>\\n<span class=\"thumb_dim\"></span\\n></a>\\n<div class=\"popup_wrap\">\\n<a\\nhref=\"#\"\\nrole=\"button\"\\nclass=\"btn_popup _NM_NEWSSTAND_THUMB_subscribe_press\"\\ndata-pid=\"032\"\\ndata-clk=\"sub\"\\n>구독</a\\n>\\n<a\\nhref=\"#\"\\nrole=\"button\"\\nclass=\"btn_popup _NM_NEWSSTAND_THUMB_unsubscribe_press\"\\ndata-pid=\"032\"\\ndata-clk=\"unsub\"\\n>해지</a\\n>\\n<a\\nhref=\"http://newsstand.naver.com/?list=&pcode=032\"\\ntarget=\"_blank\"\\nclass=\"btn_popup\"\\ndata-clk=\"logo\"\\ndata-pid=\"032\"\\n>기사보기</a\\n>\\n</div>\\n</div>\\n<div\\nclass=\"thumb_box _NM_NEWSSTAND_THUMB _NM_NEWSSTAND_THUMB_press_valid\"\\ndata-pid=\"002\"\\n>\\n<a href=\"#\" class=\"thumb\">\\n<img\\nsrc=\"https://s.pstatic.net/static/newsstand/2020/logo/light/0604/002.png\"\\nheight=\"20\"\\nalt=\"프레시안\"\\nclass=\"news_logo\"\\n/>\\n<span class=\"thumb_dim\"></span\\n></a>\\n<div class=\"popup_wrap\">\\n<a\\nhref=\"#\"\\nrole=\"button\"\\nclass=\"btn_popup _NM_NEWSSTAND_THUMB_subscribe_press\"\\ndata-pid=\"002\"\\ndata-clk=\"sub\"\\n>구독</a\\n>\\n<a\\nhref=\"#\"\\nrole=\"button\"\\nclass=\"btn_popup _NM_NEWSSTAND_THUMB_unsubscribe_press\"\\ndata-pid=\"002\"\\ndata-clk=\"unsub\"\\n>해지</a\\n>\\n<a\\nhref=\"http://newsstand.naver.com/?list=&pcode=002\"\\ntarget=\"_blank\"\\nclass=\"btn_popup\"\\ndata-clk=\"logo\"\\ndata-pid=\"002\"\\n>기사보기</a\\n>\\n</div>\\n</div>\\n<div\\nclass=\"thumb_box _NM_NEWSSTAND_THUMB _NM_NEWSSTAND_THUMB_press_valid\"\\ndata-pid=\"909\"\\n>\\n<a href=\"#\" class=\"thumb\">\\n<img\\nsrc=\"https://s.pstatic.net/static/newsstand/2020/logo/light/0604/909.png\"\\nheight=\"20\"\\nalt=\"기호일보\"\\nclass=\"news_logo\"\\n/>\\n<span class=\"thumb_dim\"></span\\n></a>\\n<div class=\"popup_wrap\">\\n<a\\nhref=\"#\"\\nrole=\"button\"\\nclass=\"btn_popup _NM_NEWSSTAND_THUMB_subscribe_press\"\\ndata-pid=\"909\"\\ndata-clk=\"sub\"\\n>구독</a\\n>\\n<a\\nhref=\"#\"\\nrole=\"button\"\\nclass=\"btn_popup _NM_NEWSSTAND_THUMB_unsubscribe_press\"\\ndata-pid=\"909\"\\ndata-clk=\"unsub\"\\n>해지</a\\n>\\n<a\\nhref=\"http://newsstand.naver.com/?list=&pcode=909\"\\ntarget=\"_blank\"\\nclass=\"btn_popup\"\\ndata-clk=\"logo\"\\ndata-pid=\"909\"\\n>기사보기</a\\n>\\n</div>\\n</div>\\n<div\\nclass=\"thumb_box _NM_NEWSSTAND_THUMB _NM_NEWSSTAND_THUMB_press_valid\"\\ndata-pid=\"387\"\\n>\\n<a href=\"#\" class=\"thumb\">\\n<img\\nsrc=\"https://s.pstatic.net/static/newsstand/2020/logo/light/0604/387.png\"\\nheight=\"20\"\\nalt=\"인천일보\"\\nclass=\"news_logo\"\\n/>\\n<span class=\"thumb_dim\"></span\\n></a>\\n<div class=\"popup_wrap\">\\n<a\\nhref=\"#\"\\nrole=\"button\"\\nclass=\"btn_popup _NM_NEWSSTAND_THUMB_subscribe_press\"\\ndata-pid=\"387\"\\ndata-clk=\"sub\"\\n>구독</a\\n>\\n<a\\nhref=\"#\"\\nrole=\"button\"\\nclass=\"btn_popup _NM_NEWSSTAND_THUMB_unsubscribe_press\"\\ndata-pid=\"387\"\\ndata-clk=\"unsub\"\\n>해지</a\\n>\\n<a\\nhref=\"http://newsstand.naver.com/?list=&pcode=387\"\\ntarget=\"_blank\"\\nclass=\"btn_popup\"\\ndata-clk=\"logo\"\\ndata-pid=\"387\"\\n>기사보기</a\\n>\\n</div>\\n</div>\\n<div\\nclass=\"thumb_box _NM_NEWSSTAND_THUMB _NM_NEWSSTAND_THUMB_press_valid\"\\ndata-pid=\"339\"\\n>\\n<a href=\"#\" class=\"thumb\">\\n<img\\nsrc=\"https://s.pstatic.net/static/newsstand/2020/logo/light/0604/339.png\"\\nheight=\"20\"\\nalt=\"경기일보\"\\nclass=\"news_logo\"\\n/>\\n<span class=\"thumb_dim\"></span\\n></a>\\n<div class=\"popup_wrap\">\\n<a\\nhref=\"#\"\\nrole=\"button\"\\nclass=\"btn_popup _NM_NEWSSTAND_THUMB_subscribe_press\"\\ndata-pid=\"339\"\\ndata-clk=\"sub\"\\n>구독</a\\n>\\n<a\\nhref=\"#\"\\nrole=\"button\"\\nclass=\"btn_popup _NM_NEWSSTAND_THUMB_unsubscribe_press\"\\ndata-pid=\"339\"\\ndata-clk=\"unsub\"\\n>해지</a\\n>\\n<a\\nhref=\"http://newsstand.naver.com/?list=&pcode=339\"\\ntarget=\"_blank\"\\nclass=\"btn_popup\"\\ndata-clk=\"logo\"\\ndata-pid=\"339\"\\n>기사보기</a\\n>\\n</div>\\n</div>\\n<div\\nclass=\"thumb_box _NM_NEWSSTAND_THUMB _NM_NEWSSTAND_THUMB_press_valid\"\\ndata-pid=\"122\"\\n>\\n<a href=\"#\" class=\"thumb\">\\n<img\\nsrc=\"https://s.pstatic.net/static/newsstand/2020/logo/light/0604/122.png\"\\nheight=\"20\"\\nalt=\"법률신문\"\\nclass=\"news_logo\"\\n/>\\n<span class=\"thumb_dim\"></span\\n></a>\\n<div class=\"popup_wrap\">\\n<a\\nhref=\"#\"\\nrole=\"button\"\\nclass=\"btn_popup _NM_NEWSSTAND_THUMB_subscribe_press\"\\ndata-pid=\"122\"\\ndata-clk=\"sub\"\\n>구독</a\\n>\\n<a\\nhref=\"#\"\\nrole=\"button\"\\nclass=\"btn_popup _NM_NEWSSTAND_THUMB_unsubscribe_press\"\\ndata-pid=\"122\"\\ndata-clk=\"unsub\"\\n>해지</a\\n>\\n<a\\nhref=\"http://newsstand.naver.com/?list=&pcode=122\"\\ntarget=\"_blank\"\\nclass=\"btn_popup\"\\ndata-clk=\"logo\"\\ndata-pid=\"122\"\\n>기사보기</a\\n>\\n</div>\\n</div>\\n<div\\nclass=\"thumb_box _NM_NEWSSTAND_THUMB _NM_NEWSSTAND_THUMB_press_valid\"\\ndata-pid=\"814\"\\n>\\n<a href=\"#\" class=\"thumb\">\\n<img\\nsrc=\"https://s.pstatic.net/static/newsstand/2020/logo/light/0604/814.png\"\\nheight=\"20\"\\nalt=\"미주한국일보\"\\nclass=\"news_logo\"\\n/>\\n<span class=\"thumb_dim\"></span\\n></a>\\n<div class=\"popup_wrap\">\\n<a\\nhref=\"#\"\\nrole=\"button\"\\nclass=\"btn_popup _NM_NEWSSTAND_THUMB_subscribe_press\"\\ndata-pid=\"814\"\\ndata-clk=\"sub\"\\n>구독</a\\n>\\n<a\\nhref=\"#\"\\nrole=\"button\"\\nclass=\"btn_popup _NM_NEWSSTAND_THUMB_unsubscribe_press\"\\ndata-pid=\"814\"\\ndata-clk=\"unsub\"\\n>해지</a\\n>\\n<a\\nhref=\"http://newsstand.naver.com/?list=&pcode=814\"\\ntarget=\"_blank\"\\nclass=\"btn_popup\"\\ndata-clk=\"logo\"\\ndata-pid=\"814\"\\n>기사보기</a\\n>\\n</div>\\n</div>\\n<div\\nclass=\"thumb_box _NM_NEWSSTAND_THUMB _NM_NEWSSTAND_THUMB_press_valid\"\\ndata-pid=\"988\"\\n>\\n<a href=\"#\" class=\"thumb\">\\n<img\\nsrc=\"https://s.pstatic.net/static/newsstand/2020/logo/light/0604/988.png\"\\nheight=\"20\"\\nalt=\"이웃집과학자\"\\nclass=\"news_logo\"\\n/>\\n<span class=\"thumb_dim\"></span\\n></a>\\n<div class=\"popup_wrap\">\\n<a\\nhref=\"#\"\\nrole=\"button\"\\nclass=\"btn_popup _NM_NEWSSTAND_THUMB_subscribe_press\"\\ndata-pid=\"988\"\\ndata-clk=\"sub\"\\n>구독</a\\n>\\n<a\\nhref=\"#\"\\nrole=\"button\"\\nclass=\"btn_popup _NM_NEWSSTAND_THUMB_unsubscribe_press\"\\ndata-pid=\"988\"\\ndata-clk=\"unsub\"\\n>해지</a\\n>\\n<a\\nhref=\"http://newsstand.naver.com/?list=&pcode=988\"\\ntarget=\"_blank\"\\nclass=\"btn_popup\"\\ndata-clk=\"logo\"\\ndata-pid=\"988\"\\n>기사보기</a\\n>\\n</div>\\n</div>\\n<div\\nclass=\"thumb_box _NM_NEWSSTAND_THUMB _NM_NEWSSTAND_THUMB_press_valid\"\\ndata-pid=\"416\"\\n>\\n<a href=\"#\" class=\"thumb\">\\n<img\\nsrc=\"https://s.pstatic.net/static/newsstand/up/2020/1228/nsd1681569.png\"\\nheight=\"20\"\\nalt=\"SBS연예뉴스\"\\nclass=\"news_logo\"\\n/>\\n<span class=\"thumb_dim\"></span\\n></a>\\n<div class=\"popup_wrap\">\\n<a\\nhref=\"#\"\\nrole=\"button\"\\nclass=\"btn_popup _NM_NEWSSTAND_THUMB_subscribe_press\"\\ndata-pid=\"416\"\\ndata-clk=\"sub\"\\n>구독</a\\n>\\n<a\\nhref=\"#\"\\nrole=\"button\"\\nclass=\"btn_popup _NM_NEWSSTAND_THUMB_unsubscribe_press\"\\ndata-pid=\"416\"\\ndata-clk=\"unsub\"\\n>해지</a\\n>\\n<a\\nhref=\"http://newsstand.naver.com/?list=&pcode=416\"\\ntarget=\"_blank\"\\nclass=\"btn_popup\"\\ndata-clk=\"logo\"\\ndata-pid=\"416\"\\n>기사보기</a\\n>\\n</div>\\n</div>\\n<div\\nclass=\"thumb_box _NM_NEWSSTAND_THUMB _NM_NEWSSTAND_THUMB_press_valid\"\\ndata-pid=\"364\"\\n>\\n<a href=\"#\" class=\"thumb\">\\n<img\\nsrc=\"https://s.pstatic.net/static/newsstand/2020/logo/light/0604/364.png\"\\nheight=\"20\"\\nalt=\"PC사랑\"\\nclass=\"news_logo\"\\n/>\\n<span class=\"thumb_dim\"></span\\n></a>\\n<div class=\"popup_wrap\">\\n<a\\nhref=\"#\"\\nrole=\"button\"\\nclass=\"btn_popup _NM_NEWSSTAND_THUMB_subscribe_press\"\\ndata-pid=\"364\"\\ndata-clk=\"sub\"\\n>구독</a\\n>\\n<a\\nhref=\"#\"\\nrole=\"button\"\\nclass=\"btn_popup _NM_NEWSSTAND_THUMB_unsubscribe_press\"\\ndata-pid=\"364\"\\ndata-clk=\"unsub\"\\n>해지</a\\n>\\n<a\\nhref=\"http://newsstand.naver.com/?list=&pcode=364\"\\ntarget=\"_blank\"\\nclass=\"btn_popup\"\\ndata-clk=\"logo\"\\ndata-pid=\"364\"\\n>기사보기</a\\n>\\n</div>\\n</div>\\n<div\\nclass=\"thumb_box _NM_NEWSSTAND_THUMB _NM_NEWSSTAND_THUMB_press_valid\"\\ndata-pid=\"296\"\\n>\\n<a href=\"#\" class=\"thumb\">\\n<img\\nsrc=\"https://s.pstatic.net/static/newsstand/2020/logo/light/0604/296.png\"\\nheight=\"20\"\\nalt=\"코메디닷컴\"\\nclass=\"news_logo\"\\n/>\\n<span class=\"thumb_dim\"></span\\n></a>\\n<div class=\"popup_wrap\">\\n<a\\nhref=\"#\"\\nrole=\"button\"\\nclass=\"btn_popup _NM_NEWSSTAND_THUMB_subscribe_press\"\\ndata-pid=\"296\"\\ndata-clk=\"sub\"\\n>구독</a\\n>\\n<a\\nhref=\"#\"\\nrole=\"button\"\\nclass=\"btn_popup _NM_NEWSSTAND_THUMB_unsubscribe_press\"\\ndata-pid=\"296\"\\ndata-clk=\"unsub\"\\n>해지</a\\n>\\n<a\\nhref=\"http://newsstand.naver.com/?list=&pcode=296\"\\ntarget=\"_blank\"\\nclass=\"btn_popup\"\\ndata-clk=\"logo\"\\ndata-pid=\"296\"\\n>기사보기</a\\n>\\n</div>\\n</div>\\n</div>\\n</div>\\n</div>\\n  </div> <div class=\"ly_popup NM_NEWSSTAND_POPUP NM_NEWSSTAND_invalid\" style=\"display:none\"> <a href=\"#\" role=\"button\" class=\"btn_close NM_NEWSSTAND_POPUP_CLOSE\"><i class=\"ico_close\"></i><span class=\"blind\">닫기</span></a> <p class=\"popup_msg\">해당 언론사 사정으로 접근이 제한됩니다.</p> <div class=\"popup_btn\"> <a href=\"#\" role=\"button\" class=\"btn_confirm NM_NEWSSTAND_POPUP_CLOSE\">확인</a> </div> </div> <div class=\"ly_popup NM_NEWSSTAND_POPUP NM_NEWSSTAND_undescribe_confirm\" style=\"display:none\" data-clk-sub=\"*a\"> <a href=\"#\" role=\"button\" class=\"btn_close NM_NEWSSTAND_POPUP_CLOSE\" data-clk=\"usclose\"><i class=\"ico_close\"></i><span class=\"blind\">닫기</span></a> <p class=\"popup_msg\"><strong class=\"NM_NEWSSTAND_POPUP_PNAME\"></strong>을(를)<br/>구독해지 하시겠습니까?</p> <div class=\"popup_btn\"> <a href=\"#\" role=\"button\" class=\"btn_confirm NM_NEWSSTAND_POPUP_CONFIRM\" data-clk=\"usdone\">확인</a> <a href=\"#\" role=\"button\" class=\"btn_confirm NM_NEWSSTAND_POPUP_CLOSE\" data-clk=\"uscancel\">취소</a> </div> </div> <div class=\"ly_toast NM_NEWSSTAND_TOAST\" style=\"display:none\"> <p class=\"toast_msg\">구독한 언론사에 추가되었습니다.</p> </div> </div> <div id=\"NM_NEWSSTAND_MY_LIST\" class=\"group_news\" style=\"display:none\" data-clk-prefix=\"nsd_myn\"> <a href=\"#\" role=\"button\" class=\"pm_btn_prev_l _NM_NEWSSTAND_LIST_prev_btn\" data-clk-custom=\"prev\"><i class=\"ico_btn\"></i><span class=\"blind\">이전</span></a> <a href=\"#\" role=\"button\" class=\"pm_btn_next_l _NM_NEWSSTAND_LIST_next_btn\" data-clk-custom=\"next\"><i class=\"ico_btn\"></i><span class=\"blind\">다음</span><span class=\"blind\">다음</span></a> <div class=\"list_view\"> <div class=\"option_area\"> <div class=\"list_option_wrap\"> <ul class=\"list_option _NM_NEWSSTAND_MY_presslist\"> <!-- nvpaperlist:empty --> </ul> </div> </div> <div class=\"_NM_NEWSSTAND_ARTICLE_CONTAINER\" data-clk-sub=\"*a\">  </div> </div> <div class=\"ly_popup NM_NEWSSTAND_POPUP NM_NEWSSTAND_invalid\" style=\"display:none\"> <a href=\"#\" role=\"button\" class=\"btn_close NM_NEWSSTAND_POPUP_CLOSE\"><i class=\"ico_close\"></i><span class=\"blind\">닫기</span></a> <p class=\"popup_msg\">해당 언론사 사정으로 접근이 일시 제한됩니다.</p> <div class=\"popup_btn\"> <a href=\"#\" role=\"button\" class=\"btn_confirm NM_NEWSSTAND_POPUP_CLOSE\">확인</a> </div> </div> <div class=\"ly_popup NM_NEWSSTAND_POPUP NM_NEWSSTAND_undescribe_confirm\" style=\"display:none\" data-clk-sub=\"*a\"> <a href=\"#\" role=\"button\" class=\"btn_close NM_NEWSSTAND_POPUP_CLOSE\" data-clk=\"usclose\"><i class=\"ico_close\"></i><span class=\"blind\">닫기</span></a> <p class=\"popup_msg\"><strong class=\"NM_NEWSSTAND_POPUP_PNAME\"></strong>을(를)<br>구독해지 하시겠습니까?</p> <div class=\"popup_btn\"> <a href=\"#\" role=\"button\" class=\"btn_confirm NM_NEWSSTAND_POPUP_CONFIRM\" data-clk=\"usdone\">확인</a> <a href=\"#\" role=\"button\" class=\"btn_confirm NM_NEWSSTAND_POPUP_CLOSE\" data-clk=\"uscancel\">취소</a> </div> </div> </div> <div id=\"NM_NEWSSTAND_MY_THUMB\" class=\"group_news\" style=\"display:none\" data-clk-prefix=\"nsd_myn\"> <a href=\"#\" role=\"button\" class=\"pm_btn_prev_l _NM_UI_PAGE_PREV\" data-clk-custom=\"prev\"><i class=\"ico_btn\"><span class=\"blind\">이전</span></i></a> <a href=\"#\" role=\"button\" class=\"pm_btn_next_l _NM_UI_PAGE_NEXT\" data-clk-custom=\"next\"><i class=\"ico_btn\"><span class=\"blind\">다음</span></i></a> <div class=\"_NM_UI_PAGE_CONTAINER\" data-clk-sub=\"*p\"></div> <div class=\"ly_popup NM_NEWSSTAND_POPUP NM_NEWSSTAND_invalid\" style=\"display:none\"> <a href=\"#\" role=\"button\" class=\"btn_close NM_NEWSSTAND_POPUP_CLOSE\"><i class=\"ico_close\"></i><span class=\"blind\">닫기</span></a> <p class=\"popup_msg\">해당 언론사 사정으로 접근이 제한됩니다.</p> <div class=\"popup_btn\"> <a href=\"#\" role=\"button\" class=\"btn_confirm NM_NEWSSTAND_POPUP_CLOSE\">확인</a> </div> </div> <div class=\"ly_popup NM_NEWSSTAND_POPUP NM_NEWSSTAND_undescribe_confirm\" style=\"display:none\" data-clk-sub=\"*a\"> <a href=\"#\" role=\"button\" class=\"btn_close NM_NEWSSTAND_POPUP_CLOSE\" data-clk=\"usclose\"><i class=\"ico_close\"></i><span class=\"blind\">닫기</span></a> <p class=\"popup_msg\"><strong class=\"NM_NEWSSTAND_POPUP_PNAME\"></strong>을(를)<br>구독해지 하시겠습니까?</p> <div class=\"popup_btn\"> <a href=\"#\" role=\"button\" class=\"btn_confirm NM_NEWSSTAND_POPUP_CONFIRM\" data-clk=\"usdone\">확인</a> <a href=\"#\" role=\"button\" class=\"btn_confirm NM_NEWSSTAND_POPUP_CLOSE\" data-clk=\"uscancel\">취소</a> </div> </div> </div> <div id=\"NM_NEWSSTAND_MY_EMPTY\" class=\"group_news\" style=\"display:none\"> <div class=\"error_view\"> <div class=\"error_area\"> <strong class=\"error_msg\">구독한 언론사가 없습니다.</strong> <p class=\"dsc_msg\">언론사 구독 설정에서 관심있는 언론사를 구독하시면<br>언론사가 직접 편집한 뉴스들을 네이버 홈에서 바로 보실 수 있습니다.</p> <a href=\"http://newsstand.naver.com/config.html\" class=\"link_redirect\" target=\"_blank\">언론사 구독 설정하기</a> </div> </div> </div> </div> </div> <!-- EMPTY --> <div id=\"NM_THEMECAST_CONTENTS_CONTAINER\"> <div id=\"themecast\" class=\"sc_themecast id_living\" data-fixed=\"LIVING\">\\n\\t<h2 class=\"blind\">주제별 캐스트</h2>\\n\\t<div class=\"theme_head\">\\n\\t\\t<div class=\"group_title\">\\n\\t<div class=\"title_area\">\\n\\t\\t<strong class=\"title\">오늘 읽을만한 글</strong><span class=\"dsc\">주제별로 분류된 다양한 글 모음</span>\\n\\t</div>\\n\\t<div class=\"info_area\">\\n\\t\\t\\n\\t\\t\\t<span class=\"info\"><strong class=\"new\">954</strong> 개의 글</span>\\n\\t\\t\\n\\t\\t<a id=\"NM_THEME_EDIT_SET\" href=\"#\" role=\"button\" class=\"btn_set\" data-clk=\"tca.like\">관심주제 설정</a>\\n\\t</div>\\n</div>\\n<div id=\"NM_THEME_CATE_GROUPS\" class=\"group_category\" data-demo-key=\"default\">\\n\\t<div class=\"main_category\">\\n\\t\\t<a href=\"#\" role=\"button\" class=\"pm_btn_prev NM_THEME_PREV\" data-clk=\"tct.prev\" style=\"display: none;\">\\n\\t\\t\\t<i class=\"ico_btn\"><span class=\"blind\">이전</span></i>\\n\\t\\t</a>\\n\\t\\t<a href=\"#\" role=\"button\" class=\"pm_btn_next NM_THEME_NEXT\" data-clk=\"tct.next\" style=\"display: none;\">\\n\\t\\t\\t<i class=\"ico_btn\"><span class=\"blind\">다음</span></i>\\n\\t\\t</a>\\n\\t\\t<div id=\"NM_THEME_CATE_FLICK\" class=\"_NM_UI_PAGE_CONTAINER\" style=\"height: 49px; overflow: hidden;\">\\n\\t\\t\\t\\n\\t\\t\\t\\t<div style=\"width: 750px;\">\\n\\t\\t\\t\\t\\t<ul class=\"list_category\" role=\"tablist\">\\n\\t\\t\\t\\t\\t\\t\\n\\t\\t\\t\\t\\t\\t\\t<li class=\"category_item\" role=\"presentation\">\\n\\t\\t\\t\\t\\t\\t\\t\\t\\n\\t\\t\\t\\t\\t\\t\\t\\t\\n\\t\\t\\t\\t\\t\\t\\t\\t<a href=\"#\" role=\"tab\" class=\"_NM_THEME_CATE tab id_enter\"\\n\\t\\t\\t\\t\\t\\t\\t\\t   aria-selected=\"false\"\\n\\t\\t\\t\\t\\t\\t\\t\\t   data-clk=\"tct.tvc\" data-panel-code=\"ENTER\">엔터</a>\\n\\t\\t\\t\\t\\t\\t\\t</li>\\n\\t\\t\\t\\t\\t\\t\\n\\t\\t\\t\\t\\t\\t\\t<li class=\"category_item\" role=\"presentation\">\\n\\t\\t\\t\\t\\t\\t\\t\\t\\n\\t\\t\\t\\t\\t\\t\\t\\t\\n\\t\\t\\t\\t\\t\\t\\t\\t<a href=\"#\" role=\"tab\" class=\"_NM_THEME_CATE tab id_sports\"\\n\\t\\t\\t\\t\\t\\t\\t\\t   aria-selected=\"false\"\\n\\t\\t\\t\\t\\t\\t\\t\\t   data-clk=\"tct.spo\" data-panel-code=\"SPORTS\">스포츠</a>\\n\\t\\t\\t\\t\\t\\t\\t</li>\\n\\t\\t\\t\\t\\t\\t\\n\\t\\t\\t\\t\\t\\t\\t<li class=\"category_item\" role=\"presentation\">\\n\\t\\t\\t\\t\\t\\t\\t\\t\\n\\t\\t\\t\\t\\t\\t\\t\\t\\n\\t\\t\\t\\t\\t\\t\\t\\t<a href=\"#\" role=\"tab\" class=\"_NM_THEME_CATE tab id_cargame\"\\n\\t\\t\\t\\t\\t\\t\\t\\t   aria-selected=\"false\"\\n\\t\\t\\t\\t\\t\\t\\t\\t   data-clk=\"tct.aut\" data-panel-code=\"CARGAME\">자동차</a>\\n\\t\\t\\t\\t\\t\\t\\t</li>\\n\\t\\t\\t\\t\\t\\t\\n\\t\\t\\t\\t\\t\\t\\t<li class=\"category_item\" role=\"presentation\">\\n\\t\\t\\t\\t\\t\\t\\t\\t\\n\\t\\t\\t\\t\\t\\t\\t\\t\\n\\t\\t\\t\\t\\t\\t\\t\\t<a href=\"#\" role=\"tab\" class=\"_NM_THEME_CATE tab id_bboom\"\\n\\t\\t\\t\\t\\t\\t\\t\\t   aria-selected=\"false\"\\n\\t\\t\\t\\t\\t\\t\\t\\t   data-clk=\"tct.web\" data-panel-code=\"BBOOM\">웹툰</a>\\n\\t\\t\\t\\t\\t\\t\\t</li>\\n\\t\\t\\t\\t\\t\\t\\n\\t\\t\\t\\t\\t\\t\\t<li class=\"category_item\" role=\"presentation\">\\n\\t\\t\\t\\t\\t\\t\\t\\t\\n\\t\\t\\t\\t\\t\\t\\t\\t\\n\\t\\t\\t\\t\\t\\t\\t\\t<a href=\"#\" role=\"tab\" class=\"_NM_THEME_CATE tab id_finance\"\\n\\t\\t\\t\\t\\t\\t\\t\\t   aria-selected=\"false\"\\n\\t\\t\\t\\t\\t\\t\\t\\t   data-clk=\"tct.fin\" data-panel-code=\"FINANCE\">경제M</a>\\n\\t\\t\\t\\t\\t\\t\\t</li>\\n\\t\\t\\t\\t\\t\\t\\n\\t\\t\\t\\t\\t\\t\\t<li class=\"category_item\" role=\"presentation\">\\n\\t\\t\\t\\t\\t\\t\\t\\t\\n\\t\\t\\t\\t\\t\\t\\t\\t\\n\\t\\t\\t\\t\\t\\t\\t\\t<a href=\"#\" role=\"tab\" class=\"_NM_THEME_CATE tab id_myfeed\"\\n\\t\\t\\t\\t\\t\\t\\t\\t   aria-selected=\"false\"\\n\\t\\t\\t\\t\\t\\t\\t\\t   data-clk=\"tct.sub\" data-panel-code=\"MYFEED\">MY구독</a>\\n\\t\\t\\t\\t\\t\\t\\t</li>\\n\\t\\t\\t\\t\\t\\t\\n\\t\\t\\t\\t\\t\\t\\t<li class=\"category_item\" role=\"presentation\">\\n\\t\\t\\t\\t\\t\\t\\t\\t\\n\\t\\t\\t\\t\\t\\t\\t\\t\\n\\t\\t\\t\\t\\t\\t\\t\\t<a href=\"#\" role=\"tab\" class=\"_NM_THEME_CATE tab id_living\"\\n\\t\\t\\t\\t\\t\\t\\t\\t   aria-selected=\"true\"\\n\\t\\t\\t\\t\\t\\t\\t\\t   data-clk=\"tct.fod\" data-panel-code=\"LIVING\">레시피</a>\\n\\t\\t\\t\\t\\t\\t\\t</li>\\n\\t\\t\\t\\t\\t\\t\\n\\t\\t\\t\\t\\t\\t\\t<li class=\"category_item\" role=\"presentation\">\\n\\t\\t\\t\\t\\t\\t\\t\\t\\n\\t\\t\\t\\t\\t\\t\\t\\t\\n\\t\\t\\t\\t\\t\\t\\t\\t<a href=\"#\" role=\"tab\" class=\"_NM_THEME_CATE tab id_gameapp\"\\n\\t\\t\\t\\t\\t\\t\\t\\t   aria-selected=\"false\"\\n\\t\\t\\t\\t\\t\\t\\t\\t   data-clk=\"tct.gam\" data-panel-code=\"GAMEAPP\">게임</a>\\n\\t\\t\\t\\t\\t\\t\\t</li>\\n\\t\\t\\t\\t\\t\\t\\n\\t\\t\\t\\t\\t</ul>\\n\\t\\t\\t\\t</div>\\n\\t\\t\\t\\n\\t\\t\\t\\t<div style=\"width: 750px;\">\\n\\t\\t\\t\\t\\t<ul class=\"list_category\" role=\"tablist\">\\n\\t\\t\\t\\t\\t\\t\\n\\t\\t\\t\\t\\t\\t\\t<li class=\"category_item\" role=\"presentation\">\\n\\t\\t\\t\\t\\t\\t\\t\\t\\n\\t\\t\\t\\t\\t\\t\\t\\t\\n\\t\\t\\t\\t\\t\\t\\t\\t<a href=\"#\" role=\"tab\" class=\"_NM_THEME_CATE tab id_science\"\\n\\t\\t\\t\\t\\t\\t\\t\\t   aria-selected=\"false\"\\n\\t\\t\\t\\t\\t\\t\\t\\t   data-clk=\"tct.sci\" data-panel-code=\"SCIENCE\">과학</a>\\n\\t\\t\\t\\t\\t\\t\\t</li>\\n\\t\\t\\t\\t\\t\\t\\n\\t\\t\\t\\t\\t\\t\\t<li class=\"category_item\" role=\"presentation\">\\n\\t\\t\\t\\t\\t\\t\\t\\t\\n\\t\\t\\t\\t\\t\\t\\t\\t\\n\\t\\t\\t\\t\\t\\t\\t\\t<a href=\"#\" role=\"tab\" class=\"_NM_THEME_CATE tab id_livinghome\"\\n\\t\\t\\t\\t\\t\\t\\t\\t   aria-selected=\"false\"\\n\\t\\t\\t\\t\\t\\t\\t\\t   data-clk=\"tct.lif\" data-panel-code=\"LIVINGHOME\">리빙</a>\\n\\t\\t\\t\\t\\t\\t\\t</li>\\n\\t\\t\\t\\t\\t\\t\\n\\t\\t\\t\\t\\t\\t\\t<li class=\"category_item\" role=\"presentation\">\\n\\t\\t\\t\\t\\t\\t\\t\\t\\n\\t\\t\\t\\t\\t\\t\\t\\t\\n\\t\\t\\t\\t\\t\\t\\t\\t<a href=\"#\" role=\"tab\" class=\"_NM_THEME_CATE tab id_health\"\\n\\t\\t\\t\\t\\t\\t\\t\\t   aria-selected=\"false\"\\n\\t\\t\\t\\t\\t\\t\\t\\t   data-clk=\"tct.hea\" data-panel-code=\"HEALTH\">건강</a>\\n\\t\\t\\t\\t\\t\\t\\t</li>\\n\\t\\t\\t\\t\\t\\t\\n\\t\\t\\t\\t\\t\\t\\t<li class=\"category_item\" role=\"presentation\">\\n\\t\\t\\t\\t\\t\\t\\t\\t\\n\\t\\t\\t\\t\\t\\t\\t\\t\\n\\t\\t\\t\\t\\t\\t\\t\\t<a href=\"#\" role=\"tab\" class=\"_NM_THEME_CATE tab id_culture\"\\n\\t\\t\\t\\t\\t\\t\\t\\t   aria-selected=\"false\"\\n\\t\\t\\t\\t\\t\\t\\t\\t   data-clk=\"tct.bok\" data-panel-code=\"CULTURE\">책방</a>\\n\\t\\t\\t\\t\\t\\t\\t</li>\\n\\t\\t\\t\\t\\t\\t\\n\\t\\t\\t\\t\\t\\t\\t<li class=\"category_item\" role=\"presentation\">\\n\\t\\t\\t\\t\\t\\t\\t\\t\\n\\t\\t\\t\\t\\t\\t\\t\\t\\n\\t\\t\\t\\t\\t\\t\\t\\t<a href=\"#\" role=\"tab\" class=\"_NM_THEME_CATE tab id_momkids\"\\n\\t\\t\\t\\t\\t\\t\\t\\t   aria-selected=\"false\"\\n\\t\\t\\t\\t\\t\\t\\t\\t   data-clk=\"tct.mom\" data-panel-code=\"MOMKIDS\">부모i</a>\\n\\t\\t\\t\\t\\t\\t\\t</li>\\n\\t\\t\\t\\t\\t\\t\\n\\t\\t\\t\\t\\t\\t\\t<li class=\"category_item\" role=\"presentation\">\\n\\t\\t\\t\\t\\t\\t\\t\\t\\n\\t\\t\\t\\t\\t\\t\\t\\t\\n\\t\\t\\t\\t\\t\\t\\t\\t<a href=\"#\" role=\"tab\" class=\"_NM_THEME_CATE tab id_beauty\"\\n\\t\\t\\t\\t\\t\\t\\t\\t   aria-selected=\"false\"\\n\\t\\t\\t\\t\\t\\t\\t\\t   data-clk=\"tct.bty\" data-panel-code=\"BEAUTY\">패션뷰티</a>\\n\\t\\t\\t\\t\\t\\t\\t</li>\\n\\t\\t\\t\\t\\t\\t\\n\\t\\t\\t\\t\\t\\t\\t<li class=\"category_item\" role=\"presentation\">\\n\\t\\t\\t\\t\\t\\t\\t\\t\\n\\t\\t\\t\\t\\t\\t\\t\\t\\n\\t\\t\\t\\t\\t\\t\\t\\t<a href=\"#\" role=\"tab\" class=\"_NM_THEME_CATE tab id_with\"\\n\\t\\t\\t\\t\\t\\t\\t\\t   aria-selected=\"false\"\\n\\t\\t\\t\\t\\t\\t\\t\\t   data-clk=\"tct.pub\" data-panel-code=\"WITH\">함께N</a>\\n\\t\\t\\t\\t\\t\\t\\t</li>\\n\\t\\t\\t\\t\\t\\t\\n\\t\\t\\t\\t\\t</ul>\\n\\t\\t\\t\\t</div>\\n\\t\\t\\t\\n\\t\\t</div>\\n\\t</div>\\n</div>\\n\\n\\t</div>\\n\\t<div id=\"NM_THEME_CONTAINER\" class=\"theme_cont\" data-panel-code=\"LIVING\" data-parent-code=\"\">\\n\\t\\t<div class=\"group_topstory\" data-block-id=\"61d681f00f1580aa7e51a1ba\" data-block-code=\"PC-THEME-LIVING-EDIT-AREA\" data-block-type=\"BLOCKS\" data-template-code=\"PC-THEMECAST-EDIT-AREA\"\\n\\n\\t data-da=\"margin-top\"\\n\\t >\\n\\n\\t<div class=\"topstory_inner\" data-block-id=\"61d67e61a26cb7fbf9b62e3f\" data-block-code=\"PC-THEME-LIVING-EDIT-AREA-ITEM\" data-block-type=\"A-MATERIAL\" data-template-code=\"IMAGE1\"\\n\\n\\t >\\n\\n\\t\\n\\t\\t<div class=\"topstory_view \">\\n\\n\\t\\t\\t\\n\\t\\t\\t\\n\\t\\t\\t<a href=\"https://tv.naver.com/v/24469613\" class=\"topstory_thumb\"\\n\\t\\t\\t   data-clk=\"tcc_fod.navertv\"\\n\\t\\t\\t   target=\"_blank\">\\n\\t\\t\\t\\t<img src=\"https://s.pstatic.net/static/www/mobile/edit/20220106/cropImg_728x360_83402968383521542.jpeg\" data-src=\"https://s.pstatic.net/static/www/mobile/edit/20220106/cropImg_728x360_83402968383521542.jpeg\" alt=\"부드럽고 달콤한 프렌치 밤 수프 한 그릇\" width=\"364\" height=\"180\" onerror=\"this.outerHTML=\\'<span class=\\\\\\'pm_noimg\\\\\\'><span class=\\\\\\'noimg_text\\\\\\'>이미지 준비중</span></span>\\'\">\\n\\n\\t\\t\\t\\t\\n\\t\\t\\t\\t\\t<span class=\"thumb_dim\"></span>\\n\\t\\t\\t\\t\\t<span class=\"thumb_bd\"></span>\\n\\t\\t\\t\\t\\t\\n\\t\\t\\t\\t\\t<i class=\"pm_ico_play\"><span class=\"blind\">재생</span></i>\\n\\t\\t\\t\\t\\t<span class=\"theme_runtime\">\\n\\t\\t\\t\\t\\t\\t<span class=\"runtime_bg\">재생시간</span>\\n\\t\\t\\t\\t\\t\\t<em class=\"time\">1:51</em>\\n\\t\\t\\t\\t\\t</span>\\n\\t\\t\\t\\t\\n\\t\\t\\t</a>\\n\\t\\t\\t<a href=\"https://tv.naver.com/v/24469613\" class=\"topstory_info\"\\n\\t\\t\\t   data-clk=\"tcc_fod.navertvtitle\"\\n\\t\\t\\t   target=\"_blank\">\\n\\t\\t\\t\\t\\n\\t\\t\\t\\t\\t<em class=\"theme_category\">[푸드클래스] 송현경 요리연구가</em>\\n\\t\\t\\t\\t\\n\\n\\t\\t\\t\\t<strong class=\"title  \">부드럽고 달콤한 프렌치 밤 수프 한 그릇</strong>\\n\\t\\t\\t\\t\\n\\t\\t\\t\\t\\t<p class=\"desc\">따뜻한 요리가 생각날 때 좋은 레시피 <br>로즈마리, 트러플 오일로 향긋함 더하기</p>\\n\\t\\t\\t\\t\\n\\n\\t\\t\\t\\t\\n\\t\\t\\t\\t\\t<div class=\"source_area\">\\n\\t\\t\\t\\t\\t\\t<span class=\"source\"><span class=\"source_inner\">#프랑스가정식 #수프요리</span></span>\\n\\t\\t\\t\\t\\t</div>\\n\\t\\t\\t\\t\\n\\t\\t\\t</a>\\n\\t\\t\\t\\n\\t\\t</div>\\n\\t\\n</div><div class=\"topstory_inner\" data-block-id=\"61d67e888206320a3c5a4e99\" data-block-code=\"PC-THEME-LIVING-EDIT-AREA-ITEM\" data-block-type=\"A-MATERIAL\" data-template-code=\"IMAGE1\"\\n\\n\\t >\\n\\n\\t\\n\\t\\t<div class=\"topstory_view \">\\n\\n\\t\\t\\t\\n\\t\\t\\t\\n\\t\\t\\t<a href=\"https://tv.naver.com/v/24439183\" class=\"topstory_thumb\"\\n\\t\\t\\t   data-clk=\"tcc_fod.navertv\"\\n\\t\\t\\t   target=\"_blank\">\\n\\t\\t\\t\\t<img src=\"https://s.pstatic.net/static/www/mobile/edit/20220110/cropImg_728x360_83739643509981918.jpeg\" data-src=\"https://s.pstatic.net/static/www/mobile/edit/20220110/cropImg_728x360_83739643509981918.jpeg\" alt=\"고기보다 맛있는 별미, 가지 갈비 만들기\" width=\"364\" height=\"180\" onerror=\"this.outerHTML=\\'<span class=\\\\\\'pm_noimg\\\\\\'><span class=\\\\\\'noimg_text\\\\\\'>이미지 준비중</span></span>\\'\">\\n\\n\\t\\t\\t\\t\\n\\t\\t\\t\\t\\t<span class=\"thumb_dim\"></span>\\n\\t\\t\\t\\t\\t<span class=\"thumb_bd\"></span>\\n\\t\\t\\t\\t\\t\\n\\t\\t\\t\\t\\t<i class=\"pm_ico_play\"><span class=\"blind\">재생</span></i>\\n\\t\\t\\t\\t\\t<span class=\"theme_runtime\">\\n\\t\\t\\t\\t\\t\\t<span class=\"runtime_bg\">재생시간</span>\\n\\t\\t\\t\\t\\t\\t<em class=\"time\">3:17</em>\\n\\t\\t\\t\\t\\t</span>\\n\\t\\t\\t\\t\\n\\t\\t\\t</a>\\n\\t\\t\\t<a href=\"https://tv.naver.com/v/24439183\" class=\"topstory_info\"\\n\\t\\t\\t   data-clk=\"tcc_fod.navertvtitle\"\\n\\t\\t\\t   target=\"_blank\">\\n\\t\\t\\t\\t\\n\\t\\t\\t\\t\\t<em class=\"theme_category\">[푸드클래스] 우리의식탁</em>\\n\\t\\t\\t\\t\\n\\n\\t\\t\\t\\t<strong class=\"title  \">고기보다 맛있는 별미, 가지 갈비 만들기</strong>\\n\\t\\t\\t\\t\\n\\t\\t\\t\\t\\t<p class=\"desc\">남녀노소 누구나 좋아하는 달달한 맛  <br>깻잎, 상추 등 채소를 곁들이면 더 맛있어요</p>\\n\\t\\t\\t\\t\\n\\n\\t\\t\\t\\t\\n\\t\\t\\t\\t\\t<div class=\"source_area\">\\n\\t\\t\\t\\t\\t\\t<span class=\"source\"><span class=\"source_inner\">#이색메뉴 #채식요리</span></span>\\n\\t\\t\\t\\t\\t</div>\\n\\t\\t\\t\\t\\n\\t\\t\\t</a>\\n\\t\\t\\t\\n\\t\\t</div>\\n\\t\\n</div>\\n</div>\\n<div class=\"group_theme\" data-block-id=\"\" data-block-code=\"PC-THEME-LIVING-MOBILE-RANKING-DEFAULT-0\" data-block-type=\"MATERIALS\" data-template-code=\"MOBILE-RANKING-LIST\"\\n\\n\\t data-da=\"container\"\\n\\t data-index=\"\"\\n     data-page=\"1\"\\n\\t >\\n\\n\\t<div class=\"list_theme_wrap\">\\n\\t\\t<ul class=\"list_theme\">\\n\\t\\t\\t\\n\\t\\t\\t\\t<li class=\"theme_item\" data-gdid=\"CAS_c3f0845b-6df4-11ec-b7dd-c76a64f7abee\" data-da-position=\"true\">\\n\\t\\t\\t\\t\\t<a href=\"https://blog.naver.com/yium797979/222591054905\" class=\"theme_thumb\" data-clk=\"tcc_fod.list1cont1\" target=\"_blank\">\\n\\t\\t\\t\\t\\t\\t<img src=\"https://s.pstatic.net/dthumb.phinf/?src&#x3D;%22https%3A%2F%2Fs.pstatic.net%2Fstatic%2Fwww%2Fmobile%2Fedit%2F20220105_1095%2Fupload_1641366075161FUTYu.JPEG%22&amp;type&#x3D;nf340_228\" data-src=\"https://s.pstatic.net/dthumb.phinf/?src&#x3D;%22https%3A%2F%2Fs.pstatic.net%2Fstatic%2Fwww%2Fmobile%2Fedit%2F20220105_1095%2Fupload_1641366075161FUTYu.JPEG%22&amp;type&#x3D;nf340_228\" alt=\"밥솥 카스텔라 폭신하고 부드러운 레시피\" width=\"170\" height=\"114\" onerror=\"this.outerHTML=\\'<span class=\\\\\\'pm_noimg\\\\\\'><span class=\\\\\\'noimg_text\\\\\\'>이미지 준비중</span></span>\\'\">\\n\\t\\t\\t\\t\\t\\t<span class=\"thumb_bd\"></span>\\n                        \\n\\t\\t\\t\\t\\t</a>\\n\\t\\t\\t\\t\\t<a href=\"https://blog.naver.com/yium797979/222591054905\" class=\"theme_info\" data-clk=\"tcc_fod.list1cont1\" target=\"_blank\">\\n\\t\\t\\t\\t\\t\\t<em class=\"theme_category\"> 레시피</em>\\n\\t\\t\\t\\t\\t\\t<strong class=\"title elss\">밥솥 카스텔라 폭신하고 부드러운 레시피</strong>\\n                        <p class=\"desc\">음력생일 쇠는 남편 정말 옛날 사람! 매년 바뀌는 날짜때문에 매번 생일을 깜빡하는 저는 이번에도 카톡에 뜬 생일친구 목록을 보고 알았네요 ㅎㅎ 그래서 부랴부랴 구워 본 밥솥 카스테라!! 딴건 몰라도 카스테라만큼은 오븐도 가스렌지도 다 저리 비켜!!! 전기 밥솥에 굽는게 진리임돠 여러분 시간이 지나도 푹 꺼지지 않는 이 봉긋함! 촉촉하면서도 부드러운 이 식감</p>\\n\\t\\t\\t\\t\\t\\t<div class=\"source_box\">\\n\\t\\t\\t\\t\\t\\t\\t<span class=\"date\">1개월 전</span>\\n\\t\\t\\t\\t\\t\\t\\t<span class=\"source\">\\n                                \\n                                <span class=\"source_inner\">미세스뽀</span>\\n                            </span>\\n\\t\\t\\t\\t\\t\\t</div>\\n\\t\\t\\t\\t\\t</a>\\n\\t\\t\\t\\t</li>\\n\\t\\t\\t\\n\\t\\t\\t\\t<li class=\"theme_item\" data-gdid=\"CAS_c3f08456-6df4-11ec-b7dd-2d4c323de25d\" data-da-position=\"true\">\\n\\t\\t\\t\\t\\t<a href=\"https://blog.naver.com/guebyul/222547577059\" class=\"theme_thumb\" data-clk=\"tcc_fod.list1cont2\" target=\"_blank\">\\n\\t\\t\\t\\t\\t\\t<img src=\"https://s.pstatic.net/dthumb.phinf/?src&#x3D;%22https%3A%2F%2Fs.pstatic.net%2Fstatic%2Fwww%2Fmobile%2Fedit%2F20220105_1095%2Fupload_1641366008502riZuS.JPEG%22&amp;type&#x3D;nf340_228\" data-src=\"https://s.pstatic.net/dthumb.phinf/?src&#x3D;%22https%3A%2F%2Fs.pstatic.net%2Fstatic%2Fwww%2Fmobile%2Fedit%2F20220105_1095%2Fupload_1641366008502riZuS.JPEG%22&amp;type&#x3D;nf340_228\" alt=\"전기밥솥 약밥 만드는법 초간단 쫀득하고 달콤한 약식 만들기\" width=\"170\" height=\"114\" onerror=\"this.outerHTML=\\'<span class=\\\\\\'pm_noimg\\\\\\'><span class=\\\\\\'noimg_text\\\\\\'>이미지 준비중</span></span>\\'\">\\n\\t\\t\\t\\t\\t\\t<span class=\"thumb_bd\"></span>\\n                        \\n\\t\\t\\t\\t\\t</a>\\n\\t\\t\\t\\t\\t<a href=\"https://blog.naver.com/guebyul/222547577059\" class=\"theme_info\" data-clk=\"tcc_fod.list1cont2\" target=\"_blank\">\\n\\t\\t\\t\\t\\t\\t<em class=\"theme_category\"> 레시피</em>\\n\\t\\t\\t\\t\\t\\t<strong class=\"title elss\">전기밥솥 약밥 만드는법 초간단 쫀득하고 달콤한 약식 만들기</strong>\\n                        <p class=\"desc\">전기밥솥 약밥 전기밥솥을 이용해서 정말 쉽고 맛있게 만드는 약밥 만드는법 쫀득한 찹쌀에 달콤한 소스를 더하고 고소한 재료를 넣어 정말 맛있는 약밥 출출할 때 하나 꺼내 먹으면 속이 든든해지기도 하고 아이들 영양간식으로도 그만이죠. 동그랗게 모양을 만들면 한입에 쏙 들어가 먹기도 좋고 정성이 느껴져 포장해서 선물하기에도 좋아요. 겉보기에 번거롭고 어려워 보이</p>\\n\\t\\t\\t\\t\\t\\t<div class=\"source_box\">\\n\\t\\t\\t\\t\\t\\t\\t<span class=\"date\">2개월 전</span>\\n\\t\\t\\t\\t\\t\\t\\t<span class=\"source\">\\n                                \\n                                <span class=\"source_inner\">그별</span>\\n                            </span>\\n\\t\\t\\t\\t\\t\\t</div>\\n\\t\\t\\t\\t\\t</a>\\n\\t\\t\\t\\t</li>\\n\\t\\t\\t\\n\\t\\t\\t\\t<li class=\"theme_item\" data-gdid=\"CAS_7ce22790-6f77-11ec-b40d-4790c25728cf\" data-da-position=\"true\">\\n\\t\\t\\t\\t\\t<a href=\"https://post.naver.com/viewer/postView.naver?volumeNo&#x3D;33079513&amp;memberNo&#x3D;36764643\" class=\"theme_thumb\" data-clk=\"tcc_fod.list1cont3\" target=\"_blank\">\\n\\t\\t\\t\\t\\t\\t<img src=\"https://s.pstatic.net/dthumb.phinf/?src&#x3D;%22https%3A%2F%2Fs.pstatic.net%2Fstatic%2Fwww%2Fmobile%2Fedit%2F20220107_1095%2Fupload_1641532138748ds8wC.JPEG%22&amp;type&#x3D;nf340_228\" data-src=\"https://s.pstatic.net/dthumb.phinf/?src&#x3D;%22https%3A%2F%2Fs.pstatic.net%2Fstatic%2Fwww%2Fmobile%2Fedit%2F20220107_1095%2Fupload_1641532138748ds8wC.JPEG%22&amp;type&#x3D;nf340_228\" alt=\"2022 호랑이에게 잡아먹힌 신상 음료 6\" width=\"170\" height=\"114\" onerror=\"this.outerHTML=\\'<span class=\\\\\\'pm_noimg\\\\\\'><span class=\\\\\\'noimg_text\\\\\\'>이미지 준비중</span></span>\\'\">\\n\\t\\t\\t\\t\\t\\t<span class=\"thumb_bd\"></span>\\n                        \\n\\t\\t\\t\\t\\t</a>\\n\\t\\t\\t\\t\\t<a href=\"https://post.naver.com/viewer/postView.naver?volumeNo&#x3D;33079513&amp;memberNo&#x3D;36764643\" class=\"theme_info\" data-clk=\"tcc_fod.list1cont3\" target=\"_blank\">\\n\\t\\t\\t\\t\\t\\t<em class=\"theme_category\"> 레시피</em>\\n\\t\\t\\t\\t\\t\\t<strong class=\"title elss\">2022 호랑이에게 잡아먹힌 신상 음료 6</strong>\\n                        <p class=\"desc\">새해에 처음 듣는 노래가 한 해의 운명을 점친다는 속설이 있다. 나이를 먹고 싶지 않다고 ‘별-12월 32일&#x27;을 듣거나, 로또 당첨을 꿈꾸며 ‘EXO-로또&#x27;를 듣는 식이다. 하지만 그보다 더 중요한 의식이 있다. 바로 새해의 첫 마실거리를 고르는 일이다. 작년에는 ‘나랑드 사이다’를 마셨고, 일 년 내내 쏟아져 나</p>\\n\\t\\t\\t\\t\\t\\t<div class=\"source_box\">\\n\\t\\t\\t\\t\\t\\t\\t<span class=\"date\">4일 전</span>\\n\\t\\t\\t\\t\\t\\t\\t<span class=\"source\">\\n                                \\n                                <span class=\"source_inner\">마시즘</span>\\n                            </span>\\n\\t\\t\\t\\t\\t\\t</div>\\n\\t\\t\\t\\t\\t</a>\\n\\t\\t\\t\\t</li>\\n\\t\\t\\t\\n\\t\\t\\t\\t<li class=\"theme_item\" data-gdid=\"CAS_c3f08458-6df4-11ec-b7dd-1f95587b640d\" data-da-position=\"true\">\\n\\t\\t\\t\\t\\t<a href=\"https://blog.naver.com/baby0817/222535378286\" class=\"theme_thumb\" data-clk=\"tcc_fod.list1cont4\" target=\"_blank\">\\n\\t\\t\\t\\t\\t\\t<img src=\"https://s.pstatic.net/dthumb.phinf/?src&#x3D;%22https%3A%2F%2Fs.pstatic.net%2Fstatic%2Fwww%2Fmobile%2Fedit%2F20220105_1095%2Fupload_1641366029167q7sNX.JPEG%22&amp;type&#x3D;nf340_228\" data-src=\"https://s.pstatic.net/dthumb.phinf/?src&#x3D;%22https%3A%2F%2Fs.pstatic.net%2Fstatic%2Fwww%2Fmobile%2Fedit%2F20220105_1095%2Fupload_1641366029167q7sNX.JPEG%22&amp;type&#x3D;nf340_228\" alt=\"꾸덕꾸덕한 그릭요거트 만들기 밥솥으로 크림치즈 뺨치는 찐한 풍미 대박!\" width=\"170\" height=\"114\" onerror=\"this.outerHTML=\\'<span class=\\\\\\'pm_noimg\\\\\\'><span class=\\\\\\'noimg_text\\\\\\'>이미지 준비중</span></span>\\'\">\\n\\t\\t\\t\\t\\t\\t<span class=\"thumb_bd\"></span>\\n                        \\n\\t\\t\\t\\t\\t</a>\\n\\t\\t\\t\\t\\t<a href=\"https://blog.naver.com/baby0817/222535378286\" class=\"theme_info\" data-clk=\"tcc_fod.list1cont4\" target=\"_blank\">\\n\\t\\t\\t\\t\\t\\t<em class=\"theme_category\"> 레시피</em>\\n\\t\\t\\t\\t\\t\\t<strong class=\"title elss\">꾸덕꾸덕한 그릭요거트 만들기 밥솥으로 크림치즈 뺨치는 찐한 풍미 대박!</strong>\\n                        <p class=\"desc\">꾸덕한 그릭요거트 만들기 크림치즈 뺨치는 찐한 풍미 대박~ 이웃님들, 굿모닝입니데이 :-) 정말이지 올 가을에는 유난히 비가 많이 내리는 것 같죠? 제발 햇살 좀 나왔으면 좋겠습니다. 이제 일교차도 심해서 날씨가 쌀쌀하더라구요. 어제 밤에 남편이랑 산책하는데 정말 추웠어요^^;; 이제는 바람막이로 안될 것 같습니다. 조금 두꺼운 가디건이 필요한 시기인 것 </p>\\n\\t\\t\\t\\t\\t\\t<div class=\"source_box\">\\n\\t\\t\\t\\t\\t\\t\\t<span class=\"date\">2개월 전</span>\\n\\t\\t\\t\\t\\t\\t\\t<span class=\"source\">\\n                                \\n                                <span class=\"source_inner\">꼬마츄츄</span>\\n                            </span>\\n\\t\\t\\t\\t\\t\\t</div>\\n\\t\\t\\t\\t\\t</a>\\n\\t\\t\\t\\t</li>\\n\\t\\t\\t\\n\\t\\t</ul>\\n\\t</div>\\n</div>\\n<div class=\"group_theme\" data-block-id=\"\" data-block-code=\"PC-THEME-LIVING-MOBILE-RANKING-VIDEO-0\" data-block-type=\"MATERIALS\" data-template-code=\"MOBILE-RANKING-VIDEO-LIST\"\\n\\n\\t data-index=\"\"\\n\\t data-page=\"1\"\\n\\t >\\n\\n\\t<div class=\"media_view_wrap type_column\">\\n\\t\\t<div class=\"media_view\">\\n\\t\\t\\t\\n\\t\\t\\t\\t<a href=\"https://m.tv.naver.com/v/24284317\" class=\"media_area\" data-gdid=\"CAS_ec175a8f-6c66-11ec-9428-878a733b3197\" data-clk=\"tcc_fod.video1cont1\" target=\"_blank\">\\n\\t\\t\\t\\t\\t<div class=\"media_thumb\">\\n\\t\\t\\t\\t\\t\\t<img src=\"https://s.pstatic.net/dthumb.phinf/?src&#x3D;%22https%3A%2F%2Fs.pstatic.net%2Fstatic%2Fwww%2Fmobile%2Fedit%2F20220103_1095%2Fupload_1641195025934IPtO2.JPEG%22&amp;type&#x3D;nf464_260\" data-src=\"https://s.pstatic.net/dthumb.phinf/?src&#x3D;%22https%3A%2F%2Fs.pstatic.net%2Fstatic%2Fwww%2Fmobile%2Fedit%2F20220103_1095%2Fupload_1641195025934IPtO2.JPEG%22&amp;type&#x3D;nf464_260\" alt=\"다이어트가 저절로 되는 이색 애호박 요리\" width=\"232\" height=\"130\" onerror=\"this.outerHTML=\\'<span class=\\\\\\'pm_noimg\\\\\\'><span class=\\\\\\'noimg_text\\\\\\'>이미지 준비중</span></span>\\'\">\\n\\t\\t\\t\\t\\t\\t<span class=\"thumb_dim\"></span>\\n\\t\\t\\t\\t\\t\\t<span class=\"thumb_bd\"></span>\\n\\t\\t\\t\\t\\t\\t<i class=\"pm_ico_play\"><span class=\"blind\">재생</span></i>\\n\\t\\t\\t\\t\\t\\t<span class=\"theme_runtime\"><span class=\"runtime_bg\">재생시간</span><em class=\"time\">03:02</em></span>\\n\\t\\t\\t\\t\\t</div>\\n\\t\\t\\t\\t\\t<div class=\"media_info\">\\n\\t\\t\\t\\t\\t\\t<div class=\"info_box\">\\n\\t\\t\\t\\t\\t\\t\\t<strong class=\"title\">다이어트가 저절로 되는 이색 애호박 요리</strong>\\n\\t\\t\\t\\t\\t\\t\\t<div class=\"source_wrap\">\\n\\t\\t\\t\\t\\t\\t\\t\\t<span class=\"date\">2주일 전</span>\\n\\t\\t\\t\\t\\t\\t\\t\\t<span class=\"source\">\\n                                    \\n                                    <span class=\"source_inner\">양장금주부</span>\\n                                </span>\\n\\t\\t\\t\\t\\t\\t\\t</div>\\n\\t\\t\\t\\t\\t\\t</div>\\n\\t\\t\\t\\t\\t</div>\\n\\t\\t\\t\\t</a>\\n\\t\\t\\t\\n\\t\\t\\t\\t<a href=\"https://m.tv.naver.com/v/24367727\" class=\"media_area\" data-gdid=\"CAS_ec175a8e-6c66-11ec-9428-1903a4518a90\" data-clk=\"tcc_fod.video1cont2\" target=\"_blank\">\\n\\t\\t\\t\\t\\t<div class=\"media_thumb\">\\n\\t\\t\\t\\t\\t\\t<img src=\"https://s.pstatic.net/dthumb.phinf/?src&#x3D;%22https%3A%2F%2Fs.pstatic.net%2Fstatic%2Fwww%2Fmobile%2Fedit%2F20220103_1095%2Fupload_16411950219277lof3.JPEG%22&amp;type&#x3D;nf464_260\" data-src=\"https://s.pstatic.net/dthumb.phinf/?src&#x3D;%22https%3A%2F%2Fs.pstatic.net%2Fstatic%2Fwww%2Fmobile%2Fedit%2F20220103_1095%2Fupload_16411950219277lof3.JPEG%22&amp;type&#x3D;nf464_260\" alt=\"라면 끓이기 만큼 쉬운 굴 떡국 만드는 법\" width=\"232\" height=\"130\" onerror=\"this.outerHTML=\\'<span class=\\\\\\'pm_noimg\\\\\\'><span class=\\\\\\'noimg_text\\\\\\'>이미지 준비중</span></span>\\'\">\\n\\t\\t\\t\\t\\t\\t<span class=\"thumb_dim\"></span>\\n\\t\\t\\t\\t\\t\\t<span class=\"thumb_bd\"></span>\\n\\t\\t\\t\\t\\t\\t<i class=\"pm_ico_play\"><span class=\"blind\">재생</span></i>\\n\\t\\t\\t\\t\\t\\t<span class=\"theme_runtime\"><span class=\"runtime_bg\">재생시간</span><em class=\"time\">02:53</em></span>\\n\\t\\t\\t\\t\\t</div>\\n\\t\\t\\t\\t\\t<div class=\"media_info\">\\n\\t\\t\\t\\t\\t\\t<div class=\"info_box\">\\n\\t\\t\\t\\t\\t\\t\\t<strong class=\"title\">라면 끓이기 만큼 쉬운 굴 떡국 만드는 법</strong>\\n\\t\\t\\t\\t\\t\\t\\t<div class=\"source_wrap\">\\n\\t\\t\\t\\t\\t\\t\\t\\t<span class=\"date\">1주일 전</span>\\n\\t\\t\\t\\t\\t\\t\\t\\t<span class=\"source\">\\n                                    \\n                                    <span class=\"source_inner\">양장금주부</span>\\n                                </span>\\n\\t\\t\\t\\t\\t\\t\\t</div>\\n\\t\\t\\t\\t\\t\\t</div>\\n\\t\\t\\t\\t\\t</div>\\n\\t\\t\\t\\t</a>\\n\\t\\t\\t\\n\\t\\t\\t\\t<a href=\"https://m.tv.naver.com/v/16233003\" class=\"media_area\" data-gdid=\"CAS_2605b2da-693a-11ec-a0a0-67bff016008e\" data-clk=\"tcc_fod.video1cont3\" target=\"_blank\">\\n\\t\\t\\t\\t\\t<div class=\"media_thumb\">\\n\\t\\t\\t\\t\\t\\t<img src=\"https://s.pstatic.net/dthumb.phinf/?src&#x3D;%22https%3A%2F%2Fs.pstatic.net%2Fstatic%2Fwww%2Fmobile%2Fedit%2F20211203_1095%2Fupload_1638496809623FEkOB.jpg%22&amp;type&#x3D;nf464_260\" data-src=\"https://s.pstatic.net/dthumb.phinf/?src&#x3D;%22https%3A%2F%2Fs.pstatic.net%2Fstatic%2Fwww%2Fmobile%2Fedit%2F20211203_1095%2Fupload_1638496809623FEkOB.jpg%22&amp;type&#x3D;nf464_260\" alt=\"귤 보관법\" width=\"232\" height=\"130\" onerror=\"this.outerHTML=\\'<span class=\\\\\\'pm_noimg\\\\\\'><span class=\\\\\\'noimg_text\\\\\\'>이미지 준비중</span></span>\\'\">\\n\\t\\t\\t\\t\\t\\t<span class=\"thumb_dim\"></span>\\n\\t\\t\\t\\t\\t\\t<span class=\"thumb_bd\"></span>\\n\\t\\t\\t\\t\\t\\t<i class=\"pm_ico_play\"><span class=\"blind\">재생</span></i>\\n\\t\\t\\t\\t\\t\\t<span class=\"theme_runtime\"><span class=\"runtime_bg\">재생시간</span><em class=\"time\">01:10</em></span>\\n\\t\\t\\t\\t\\t</div>\\n\\t\\t\\t\\t\\t<div class=\"media_info\">\\n\\t\\t\\t\\t\\t\\t<div class=\"info_box\">\\n\\t\\t\\t\\t\\t\\t\\t<strong class=\"title\">귤 보관법</strong>\\n\\t\\t\\t\\t\\t\\t\\t<div class=\"source_wrap\">\\n\\t\\t\\t\\t\\t\\t\\t\\t<span class=\"date\">1년 전</span>\\n\\t\\t\\t\\t\\t\\t\\t\\t<span class=\"source\">\\n                                    \\n                                    <span class=\"source_inner\">우리의식탁</span>\\n                                </span>\\n\\t\\t\\t\\t\\t\\t\\t</div>\\n\\t\\t\\t\\t\\t\\t</div>\\n\\t\\t\\t\\t\\t</div>\\n\\t\\t\\t\\t</a>\\n\\t\\t\\t\\n\\t\\t</div>\\n\\t</div>\\n</div>\\n<div class=\"group_theme\" data-block-id=\"\" data-block-code=\"PC-THEME-LIVING-MOBILE-RANKING-DEFAULT-1\" data-block-type=\"MATERIALS\" data-template-code=\"MOBILE-RANKING-LIST\"\\n\\n\\t data-da=\"container\"\\n\\t data-index=\"\"\\n     data-page=\"1\"\\n\\t >\\n\\n\\t<div class=\"list_theme_wrap\">\\n\\t\\t<ul class=\"list_theme\">\\n\\t\\t\\t\\n\\t\\t\\t\\t<li class=\"theme_item\" data-gdid=\"CAS_7ce2278f-6f77-11ec-b40d-9fc4fd1828d8\" data-da-position=\"true\">\\n\\t\\t\\t\\t\\t<a href=\"https://blog.naver.com/ostwee/222609231061\" class=\"theme_thumb\" data-clk=\"tcc_fod.list2cont1\" target=\"_blank\">\\n\\t\\t\\t\\t\\t\\t<img src=\"https://s.pstatic.net/dthumb.phinf/?src&#x3D;%22https%3A%2F%2Fs.pstatic.net%2Fstatic%2Fwww%2Fmobile%2Fedit%2F20220107_1095%2Fupload_1641532134769egnsA.JPEG%22&amp;type&#x3D;nf340_228\" data-src=\"https://s.pstatic.net/dthumb.phinf/?src&#x3D;%22https%3A%2F%2Fs.pstatic.net%2Fstatic%2Fwww%2Fmobile%2Fedit%2F20220107_1095%2Fupload_1641532134769egnsA.JPEG%22&amp;type&#x3D;nf340_228\" alt=\"신선하다고 착각하기 쉬운 수산물 상식 4\" width=\"170\" height=\"114\" onerror=\"this.outerHTML=\\'<span class=\\\\\\'pm_noimg\\\\\\'><span class=\\\\\\'noimg_text\\\\\\'>이미지 준비중</span></span>\\'\">\\n\\t\\t\\t\\t\\t\\t<span class=\"thumb_bd\"></span>\\n                        \\n\\t\\t\\t\\t\\t</a>\\n\\t\\t\\t\\t\\t<a href=\"https://blog.naver.com/ostwee/222609231061\" class=\"theme_info\" data-clk=\"tcc_fod.list2cont1\" target=\"_blank\">\\n\\t\\t\\t\\t\\t\\t<em class=\"theme_category\"> 레시피</em>\\n\\t\\t\\t\\t\\t\\t<strong class=\"title elss\">신선하다고 착각하기 쉬운 수산물 상식 4</strong>\\n                        <p class=\"desc\">본격적인 수산물 성수기가 시작됐습니다. 오늘은 시장이나 마트에서 수산물 고를 때 참고할 만한 ‘수산물 상식 4가지’를 알아봅니다. 수산시장에 가면 종종 수조 안에서 몸을 팔딱거리는 생선들을 볼 수 있는데요. 힘차게 몸을 움직이니 싱싱하다고 생각하기 쉽지만, 사실 모든 생선이 다 그런 것은 아닙니다. 우리가 자주 먹는 광어, 우럭, 참돔 등 흰 살 생선은 물</p>\\n\\t\\t\\t\\t\\t\\t<div class=\"source_box\">\\n\\t\\t\\t\\t\\t\\t\\t<span class=\"date\">1주일 전</span>\\n\\t\\t\\t\\t\\t\\t\\t<span class=\"source\">\\n                                \\n                                <span class=\"source_inner\">인어교주해적단</span>\\n                            </span>\\n\\t\\t\\t\\t\\t\\t</div>\\n\\t\\t\\t\\t\\t</a>\\n\\t\\t\\t\\t</li>\\n\\t\\t\\t\\n\\t\\t\\t\\t<li class=\"theme_item\" data-gdid=\"CAS_c3f08455-6df4-11ec-b7dd-ed4a77e5dc60\" data-da-position=\"true\">\\n\\t\\t\\t\\t\\t<a href=\"https://blog.naver.com/hayeoun0320/222599586374\" class=\"theme_thumb\" data-clk=\"tcc_fod.list2cont2\" target=\"_blank\">\\n\\t\\t\\t\\t\\t\\t<img src=\"https://s.pstatic.net/dthumb.phinf/?src&#x3D;%22https%3A%2F%2Fs.pstatic.net%2Fstatic%2Fwww%2Fmobile%2Fedit%2F20220105_1095%2Fupload_1641365990647FDcyF.JPEG%22&amp;type&#x3D;nf340_228\" data-src=\"https://s.pstatic.net/dthumb.phinf/?src&#x3D;%22https%3A%2F%2Fs.pstatic.net%2Fstatic%2Fwww%2Fmobile%2Fedit%2F20220105_1095%2Fupload_1641365990647FDcyF.JPEG%22&amp;type&#x3D;nf340_228\" alt=\"스지와 한우사태로 수육 삶는법  류수영 편스토랑 스지전골 끓이기 압력밥솥으로 15분이면 OK~\" width=\"170\" height=\"114\" onerror=\"this.outerHTML=\\'<span class=\\\\\\'pm_noimg\\\\\\'><span class=\\\\\\'noimg_text\\\\\\'>이미지 준비중</span></span>\\'\">\\n\\t\\t\\t\\t\\t\\t<span class=\"thumb_bd\"></span>\\n                        \\n\\t\\t\\t\\t\\t</a>\\n\\t\\t\\t\\t\\t<a href=\"https://blog.naver.com/hayeoun0320/222599586374\" class=\"theme_info\" data-clk=\"tcc_fod.list2cont2\" target=\"_blank\">\\n\\t\\t\\t\\t\\t\\t<em class=\"theme_category\"> 레시피</em>\\n\\t\\t\\t\\t\\t\\t<strong class=\"title elss\">스지와 한우사태로 수육 삶는법  류수영 편스토랑 스지전골 끓이기 압력밥솥으로 15분이면 OK~</strong>\\n                        <p class=\"desc\">쫄깃쫄깃 스지수육 부드러운 사태수육 펀스토랑 류수영 쫄깃수육 만드는법 날은 추워지는데 코로나는 더 기승이고 돌밥 돌밥이네요 돌아서면 밥 돌아서면 밥이요. 이웃님이 포스팅에 돌밥 돌밥이라고 쓰셔서 돌솥밥을 해드셨나 하고 보니 그뜻이네요. ㅎ 진짜 돌밥이라 마트가면 매일 뭘 해먹을까 고민이예요. 저는 하나로 마트를 자주가는데 한우사태를 세일하네요. 세일할때 고</p>\\n\\t\\t\\t\\t\\t\\t<div class=\"source_box\">\\n\\t\\t\\t\\t\\t\\t\\t<span class=\"date\">3주일 전</span>\\n\\t\\t\\t\\t\\t\\t\\t<span class=\"source\">\\n                                \\n                                <span class=\"source_inner\">베이비블루</span>\\n                            </span>\\n\\t\\t\\t\\t\\t\\t</div>\\n\\t\\t\\t\\t\\t</a>\\n\\t\\t\\t\\t</li>\\n\\t\\t\\t\\n\\t\\t\\t\\t<li class=\"theme_item\" data-gdid=\"CAS_c3f0845a-6df4-11ec-b7dd-4d449a88d665\" data-da-position=\"true\">\\n\\t\\t\\t\\t\\t<a href=\"https://blog.naver.com/clarclar/222593712095\" class=\"theme_thumb\" data-clk=\"tcc_fod.list2cont3\" target=\"_blank\">\\n\\t\\t\\t\\t\\t\\t<img src=\"https://s.pstatic.net/dthumb.phinf/?src&#x3D;%22https%3A%2F%2Fs.pstatic.net%2Fstatic%2Fwww%2Fmobile%2Fedit%2F20220105_1095%2Fupload_1641366064132hliU9.JPEG%22&amp;type&#x3D;nf340_228\" data-src=\"https://s.pstatic.net/dthumb.phinf/?src&#x3D;%22https%3A%2F%2Fs.pstatic.net%2Fstatic%2Fwww%2Fmobile%2Fedit%2F20220105_1095%2Fupload_1641366064132hliU9.JPEG%22&amp;type&#x3D;nf340_228\" alt=\"통삼겹살 수육 압력밥솥 수육 삶기 편스토랑 오윤아 삼겹살 보쌈 삶는법\" width=\"170\" height=\"114\" onerror=\"this.outerHTML=\\'<span class=\\\\\\'pm_noimg\\\\\\'><span class=\\\\\\'noimg_text\\\\\\'>이미지 준비중</span></span>\\'\">\\n\\t\\t\\t\\t\\t\\t<span class=\"thumb_bd\"></span>\\n                        \\n\\t\\t\\t\\t\\t</a>\\n\\t\\t\\t\\t\\t<a href=\"https://blog.naver.com/clarclar/222593712095\" class=\"theme_info\" data-clk=\"tcc_fod.list2cont3\" target=\"_blank\">\\n\\t\\t\\t\\t\\t\\t<em class=\"theme_category\"> 레시피</em>\\n\\t\\t\\t\\t\\t\\t<strong class=\"title elss\">통삼겹살 수육 압력밥솥 수육 삶기 편스토랑 오윤아 삼겹살 보쌈 삶는법</strong>\\n                        <p class=\"desc\">김장철 일 때 보쌈을 많이 먹지요 죵이네도 보쌈해 먹어야지 하고 미뤄 놨는데요 이번 주 편스토랑에 오윤아씨가 달팽이 식당에서 아들 민이와 함께 일일 식당에서 손님들에게 식사 대접하는 게 나와요 오윤아씨가 손님들에게 선보이는 요리 중에 돼지 보쌈이 있었어요 맛깔스러운 김치와 굴과 함께 내더라구요 죵이네도 이번 기회에 먹자 해서 삼겹살 보쌈을 먹기로 했지요 돼</p>\\n\\t\\t\\t\\t\\t\\t<div class=\"source_box\">\\n\\t\\t\\t\\t\\t\\t\\t<span class=\"date\">4주일 전</span>\\n\\t\\t\\t\\t\\t\\t\\t<span class=\"source\">\\n                                \\n                                <span class=\"source_inner\">꿀라</span>\\n                            </span>\\n\\t\\t\\t\\t\\t\\t</div>\\n\\t\\t\\t\\t\\t</a>\\n\\t\\t\\t\\t</li>\\n\\t\\t\\t\\n\\t\\t\\t\\t<li class=\"theme_item\" data-gdid=\"CAS_c3f0845d-6df4-11ec-b7dd-af89a28a437a\" data-da-position=\"true\">\\n\\t\\t\\t\\t\\t<a href=\"https://blog.naver.com/naya399/222594946858\" class=\"theme_thumb\" data-clk=\"tcc_fod.list2cont4\" target=\"_blank\">\\n\\t\\t\\t\\t\\t\\t<img src=\"https://s.pstatic.net/dthumb.phinf/?src&#x3D;%22https%3A%2F%2Fs.pstatic.net%2Fstatic%2Fwww%2Fmobile%2Fedit%2F20220105_1095%2Fupload_1641366099369nQEUf.JPEG%22&amp;type&#x3D;nf340_228\" data-src=\"https://s.pstatic.net/dthumb.phinf/?src&#x3D;%22https%3A%2F%2Fs.pstatic.net%2Fstatic%2Fwww%2Fmobile%2Fedit%2F20220105_1095%2Fupload_1641366099369nQEUf.JPEG%22&amp;type&#x3D;nf340_228\" alt=\"무청 시래기밥과 양념간장 전기밥솥 요리로 부드러운 시래기나물밥 만드는법\" width=\"170\" height=\"114\" onerror=\"this.outerHTML=\\'<span class=\\\\\\'pm_noimg\\\\\\'><span class=\\\\\\'noimg_text\\\\\\'>이미지 준비중</span></span>\\'\">\\n\\t\\t\\t\\t\\t\\t<span class=\"thumb_bd\"></span>\\n                        \\n\\t\\t\\t\\t\\t</a>\\n\\t\\t\\t\\t\\t<a href=\"https://blog.naver.com/naya399/222594946858\" class=\"theme_info\" data-clk=\"tcc_fod.list2cont4\" target=\"_blank\">\\n\\t\\t\\t\\t\\t\\t<em class=\"theme_category\"> 레시피</em>\\n\\t\\t\\t\\t\\t\\t<strong class=\"title elss\">무청 시래기밥과 양념간장 전기밥솥 요리로 부드러운 시래기나물밥 만드는법</strong>\\n                        <p class=\"desc\">재료는 정말 별것 아닌데 한 번 맛 들이면 자꾸 생각나는 맛으로 시래기가 있어요 이렇게 푸근한 맛이 또 있을까 싶은 무청시래기요리로 시래기밥을 만들어 볼게요 정말 간단하게 만드는 #무청시래기밥 이지만 추천하고 싶은 맛이랍니다 기본적으로 국간장과 들기름으로 양념을 해서 전기 압력밥솥으로 밥을 지었더니 밥알은 찰기가 잘잘 흐르는 찰밥 맛이 나면서 부드러운 시래</p>\\n\\t\\t\\t\\t\\t\\t<div class=\"source_box\">\\n\\t\\t\\t\\t\\t\\t\\t<span class=\"date\">4주일 전</span>\\n\\t\\t\\t\\t\\t\\t\\t<span class=\"source\">\\n                                \\n                                <span class=\"source_inner\">칼라</span>\\n                            </span>\\n\\t\\t\\t\\t\\t\\t</div>\\n\\t\\t\\t\\t\\t</a>\\n\\t\\t\\t\\t</li>\\n\\t\\t\\t\\n\\t\\t</ul>\\n\\t</div>\\n</div>\\n<div class=\"group_theme _NM_API_UI\" data-ui-circular=\"false\" data-block-id=\"5edf1cb2d6902f284e3b8295\" data-block-code=\"\" data-block-type=\"BLOCKS\" data-template-code=\"FLICKING-IMAGE3\"\\n\\n    >\\n    <div class=\"theme_title\">\\n        <a href=\"https://happybean.naver.com/\" class=\"title\" target=\"_blank\"\\n            data-clk=\"tcc_fod.happytitle\">마음까지 채우는 클릭</a>\\n    </div>\\n    <div class=\" media_view_wrap type_flick\">\\n        <a href=\"#\" role=\"button\" class=\"pm_btn_prev _NM_UI_PAGE_PREV\" data-clk=\"tcc_fod.happypre\"><i\\n                class=\"ico_btn\"><span class=\"blind\">이전</span></i></a>\\n        <a href=\"#\" role=\"button\" class=\"pm_btn_next _NM_UI_PAGE_NEXT\" data-clk=\"tcc_fod.happynext\"><i\\n                class=\"ico_btn\"><span class=\"blind\">다음</span></i></a>\\n        <div class=\"_NM_UI_PAGE_CONTAINER\" style=\"overflow: hidden; height: 240px;\">\\n            \\n            <div style=\"width:750px\">\\n                <div class=\"media_view\">\\n                    \\n                    <a href=\"https://happybean.naver.com/fundings/detail/F446?p&#x3D;p&amp;s&#x3D;nmfp\" target=\"_blank\" class=\"media_area\" data-gdid=\"F446\"\\n                        data-clk=\"tcc_fod.happycon1\">\\n                        <div class=\"media_thumb\">\\n                            <img src=\"https://happybean-phinf.pstatic.net/20211230_262/16408437776598bh6F_JPEG/th.jpg?type&#x3D;f464_260\" alt=\"고소한 맛과 향이 일품인 명절 선물세트\" width=\"232\" height=\"130\" onerror=\"this.outerHTML=\\'<span class=\\\\\\'pm_noimg\\\\\\'><span class=\\\\\\'noimg_text\\\\\\'>이미지 준비중</span></span>\\'\">\\n                            <span class=\"thumb_bd\"></span>\\n                            <em class=\"theme_badge\"><span class=\"badge_inner\">펀딩</span></em>\\n                        </div>\\n                        <div class=\"media_info\">\\n                            <div class=\"info_box\">\\n                                <strong class=\"title\">고소한 맛과 향이 일품인 명절 선물세트</strong>\\n                                <div class=\"source_wrap\">\\n                                    <span class=\"dsc\"><em class=\"theme_hl\">352%</em> 달성</span>\\n                                    <span class=\"source\"><span class=\"source_inner\">경기도주식회사</span></span>\\n                                </div>\\n                            </div>\\n                        </div>\\n                    </a>\\n                    \\n                    <a href=\"https://happybean.naver.com/fundings/detail/F450?p&#x3D;p&amp;s&#x3D;nmfp\" target=\"_blank\" class=\"media_area\" data-gdid=\"F450\"\\n                        data-clk=\"tcc_fod.happycon2\">\\n                        <div class=\"media_thumb\">\\n                            <img src=\"https://happybean-phinf.pstatic.net/20220110_205/16417929159562I4Nm_JPEG/EBA3BDEC28281.jpg?type&#x3D;f464_260\" alt=\"바삭하고 구수한 식감의 수제 누룽지\" width=\"232\" height=\"130\" onerror=\"this.outerHTML=\\'<span class=\\\\\\'pm_noimg\\\\\\'><span class=\\\\\\'noimg_text\\\\\\'>이미지 준비중</span></span>\\'\">\\n                            <span class=\"thumb_bd\"></span>\\n                            <em class=\"theme_badge\"><span class=\"badge_inner\">펀딩</span></em>\\n                        </div>\\n                        <div class=\"media_info\">\\n                            <div class=\"info_box\">\\n                                <strong class=\"title\">바삭하고 구수한 식감의 수제 누룽지</strong>\\n                                <div class=\"source_wrap\">\\n                                    <span class=\"dsc\"><em class=\"theme_hl\">145%</em> 달성</span>\\n                                    <span class=\"source\"><span class=\"source_inner\">샘물자리</span></span>\\n                                </div>\\n                            </div>\\n                        </div>\\n                    </a>\\n                    \\n                    <a href=\"https://happybean.naver.com/fundings/detail/F417?p&#x3D;p&amp;s&#x3D;nmfp\" target=\"_blank\" class=\"media_area\" data-gdid=\"F417\"\\n                        data-clk=\"tcc_fod.happycon3\">\\n                        <div class=\"media_thumb\">\\n                            <img src=\"https://happybean-phinf.pstatic.net/20211210_111/1639128295484fjFmE_JPEG/th.jpg?type&#x3D;f464_260\" alt=\"추운 겨울 생각나는 따뜻한 뼈해장국\" width=\"232\" height=\"130\" onerror=\"this.outerHTML=\\'<span class=\\\\\\'pm_noimg\\\\\\'><span class=\\\\\\'noimg_text\\\\\\'>이미지 준비중</span></span>\\'\">\\n                            <span class=\"thumb_bd\"></span>\\n                            <em class=\"theme_badge\"><span class=\"badge_inner\">펀딩</span></em>\\n                        </div>\\n                        <div class=\"media_info\">\\n                            <div class=\"info_box\">\\n                                <strong class=\"title\">추운 겨울 생각나는 따뜻한 뼈해장국</strong>\\n                                <div class=\"source_wrap\">\\n                                    <span class=\"dsc\"><em class=\"theme_hl\">835%</em> 달성</span>\\n                                    <span class=\"source\"><span class=\"source_inner\">맛들식품</span></span>\\n                                </div>\\n                            </div>\\n                        </div>\\n                    </a>\\n                    \\n                </div>\\n            </div>\\n            \\n            <div style=\"width:750px\">\\n                <div class=\"media_view\">\\n                    \\n                    <a href=\"https://happybean.naver.com/fundings/detail/F439?p&#x3D;p&amp;s&#x3D;nmfp\" target=\"_blank\" class=\"media_area\" data-gdid=\"F439\"\\n                        data-clk=\"tcc_fod.happycon4\">\\n                        <div class=\"media_thumb\">\\n                            <img src=\"https://happybean-phinf.pstatic.net/20211227_219/1640568886863lzhnC_JPEG/th1.jpg?type&#x3D;f464_260\" alt=\"연초에 즐기는 호랑이 기운 버섯 전골 밥상\" width=\"232\" height=\"130\" onerror=\"this.outerHTML=\\'<span class=\\\\\\'pm_noimg\\\\\\'><span class=\\\\\\'noimg_text\\\\\\'>이미지 준비중</span></span>\\'\">\\n                            <span class=\"thumb_bd\"></span>\\n                            <em class=\"theme_badge\"><span class=\"badge_inner\">펀딩</span></em>\\n                        </div>\\n                        <div class=\"media_info\">\\n                            <div class=\"info_box\">\\n                                <strong class=\"title\">연초에 즐기는 호랑이 기운 버섯 전골 밥상</strong>\\n                                <div class=\"source_wrap\">\\n                                    <span class=\"dsc\"><em class=\"theme_hl\">438%</em> 달성</span>\\n                                    <span class=\"source\"><span class=\"source_inner\">경기도</span></span>\\n                                </div>\\n                            </div>\\n                        </div>\\n                    </a>\\n                    \\n                    <a href=\"https://happybean.naver.com/donations/H000000182338?p&#x3D;p&amp;s&#x3D;nmfp\" target=\"_blank\" class=\"media_area\" data-gdid=\"H000000182338\"\\n                        data-clk=\"tcc_fod.happycon5\">\\n                        <div class=\"media_thumb\">\\n                            <img src=\"https://happybean-phinf.pstatic.net/20211224_233/1640326324314TYuYg_JPEG/KakaoTalk_20180605_154349694.jpg?type&#x3D;f464_260\" alt=\"홀로 이겨내야 하는 외로운 설 명절\" width=\"232\" height=\"130\" onerror=\"this.outerHTML=\\'<span class=\\\\\\'pm_noimg\\\\\\'><span class=\\\\\\'noimg_text\\\\\\'>이미지 준비중</span></span>\\'\">\\n                            <span class=\"thumb_bd\"></span>\\n                            <em class=\"theme_badge\"><span class=\"badge_inner\">기부</span></em>\\n                        </div>\\n                        <div class=\"media_info\">\\n                            <div class=\"info_box\">\\n                                <strong class=\"title\">홀로 이겨내야 하는 외로운 설 명절</strong>\\n                                <div class=\"source_wrap\">\\n                                    <span class=\"dsc\"><em class=\"theme_hl\">4,373,400원</em> 기부</span>\\n                                    <span class=\"source\"><span class=\"source_inner\">하당노인복지관</span></span>\\n                                </div>\\n                            </div>\\n                        </div>\\n                    </a>\\n                    \\n                    <a href=\"https://happybean.naver.com/donations/H000000182374?p&#x3D;p&amp;s&#x3D;nmfp\" target=\"_blank\" class=\"media_area\" data-gdid=\"H000000182374\"\\n                        data-clk=\"tcc_fod.happycon6\">\\n                        <div class=\"media_thumb\">\\n                            <img src=\"https://happybean-phinf.pstatic.net/20211228_194/1640653939759iFdw4_JPEG/KakaoTalk_20211108_115143625.jpg?type&#x3D;f464_260\" alt=\"오늘도 아픈 몸을 이끌고 폐지를 주우러 나갑니다\" width=\"232\" height=\"130\" onerror=\"this.outerHTML=\\'<span class=\\\\\\'pm_noimg\\\\\\'><span class=\\\\\\'noimg_text\\\\\\'>이미지 준비중</span></span>\\'\">\\n                            <span class=\"thumb_bd\"></span>\\n                            <em class=\"theme_badge\"><span class=\"badge_inner\">기부</span></em>\\n                        </div>\\n                        <div class=\"media_info\">\\n                            <div class=\"info_box\">\\n                                <strong class=\"title\">오늘도 아픈 몸을 이끌고 폐지를 주우러 나갑니다</strong>\\n                                <div class=\"source_wrap\">\\n                                    <span class=\"dsc\"><em class=\"theme_hl\">2,911,900원</em> 기부</span>\\n                                    <span class=\"source\"><span class=\"source_inner\">시립강동노인종합복지관</span></span>\\n                                </div>\\n                            </div>\\n                        </div>\\n                    </a>\\n                    \\n                </div>\\n            </div>\\n            \\n        </div>\\n    </div>\\n</div>\\n<div class=\"group_theme\" data-block-id=\"\" data-block-code=\"PC-THEME-LIVING-MOBILE-RANKING-DEFAULT-2\" data-block-type=\"MATERIALS\" data-template-code=\"MOBILE-RANKING-LIST\"\\n\\n\\t data-da=\"container\"\\n\\t data-index=\"\"\\n     data-page=\"2\"\\n\\t style=\"display:none\">\\n\\n\\t<div class=\"list_theme_wrap\">\\n\\t\\t<ul class=\"list_theme\">\\n\\t\\t\\t\\n\\t\\t\\t\\t<li class=\"theme_item\" data-gdid=\"CAS_c3f08459-6df4-11ec-b7dd-3baa3852bcf8\" data-da-position=\"true\">\\n\\t\\t\\t\\t\\t<a href=\"https://blog.naver.com/s-bong-h/222610101192\" class=\"theme_thumb\" data-clk=\"tcc_fod.list3cont1\" target=\"_blank\">\\n\\t\\t\\t\\t\\t\\t<img  data-src=\"https://s.pstatic.net/dthumb.phinf/?src&#x3D;%22https%3A%2F%2Fs.pstatic.net%2Fstatic%2Fwww%2Fmobile%2Fedit%2F20220105_1095%2Fupload_16413660488516QAeB.JPEG%22&amp;type&#x3D;nf340_228\" alt=\"인후통, 목감기에 좋은 요리/배숙, 배찜 만들기\" width=\"170\" height=\"114\" onerror=\"this.outerHTML=\\'<span class=\\\\\\'pm_noimg\\\\\\'><span class=\\\\\\'noimg_text\\\\\\'>이미지 준비중</span></span>\\'\">\\n\\t\\t\\t\\t\\t\\t<span class=\"thumb_bd\"></span>\\n                        \\n\\t\\t\\t\\t\\t</a>\\n\\t\\t\\t\\t\\t<a href=\"https://blog.naver.com/s-bong-h/222610101192\" class=\"theme_info\" data-clk=\"tcc_fod.list3cont1\" target=\"_blank\">\\n\\t\\t\\t\\t\\t\\t<em class=\"theme_category\"> 레시피</em>\\n\\t\\t\\t\\t\\t\\t<strong class=\"title elss\">인후통, 목감기에 좋은 요리/배숙, 배찜 만들기</strong>\\n                        <p class=\"desc\">코로나 증상으로 인후통이 너무 심해서 집에서 목감기에 좋은 배찜을 해먹었어요 재료 배, 대추 5개, 생강 조금, 꿀, 계피 한조각 다행히 이마트 새벽배송에서 배랑 사과를 하나씩 세트로 팔아요 배숙 해먹자고 배를 여러개 살 필요가 없더라구요 배를 먼저 위에만 뚜껑처럼 잘라요 담을수있게 씨랑 속을 수저로 파줘요 대추는 씨를 빼고 생강도 껍질을 벗겨줘요 생강, </p>\\n\\t\\t\\t\\t\\t\\t<div class=\"source_box\">\\n\\t\\t\\t\\t\\t\\t\\t<span class=\"date\">1주일 전</span>\\n\\t\\t\\t\\t\\t\\t\\t<span class=\"source\">\\n                                \\n                                <span class=\"source_inner\">Bong</span>\\n                            </span>\\n\\t\\t\\t\\t\\t\\t</div>\\n\\t\\t\\t\\t\\t</a>\\n\\t\\t\\t\\t</li>\\n\\t\\t\\t\\n\\t\\t\\t\\t<li class=\"theme_item\" data-gdid=\"CAS_c3f0845c-6df4-11ec-b7dd-57c46c6160db\" data-da-position=\"true\">\\n\\t\\t\\t\\t\\t<a href=\"https://blog.naver.com/bongs1021/222462402209\" class=\"theme_thumb\" data-clk=\"tcc_fod.list3cont2\" target=\"_blank\">\\n\\t\\t\\t\\t\\t\\t<img  data-src=\"https://s.pstatic.net/dthumb.phinf/?src&#x3D;%22https%3A%2F%2Fs.pstatic.net%2Fstatic%2Fwww%2Fmobile%2Fedit%2F20220105_1095%2Fupload_16413661087956vk6t.JPEG%22&amp;type&#x3D;nf340_228\" alt=\"누룽지 닭백숙 삼계탕 전기밥솥 끓이는법 삼계탕닭손질\" width=\"170\" height=\"114\" onerror=\"this.outerHTML=\\'<span class=\\\\\\'pm_noimg\\\\\\'><span class=\\\\\\'noimg_text\\\\\\'>이미지 준비중</span></span>\\'\">\\n\\t\\t\\t\\t\\t\\t<span class=\"thumb_bd\"></span>\\n                        \\n\\t\\t\\t\\t\\t</a>\\n\\t\\t\\t\\t\\t<a href=\"https://blog.naver.com/bongs1021/222462402209\" class=\"theme_info\" data-clk=\"tcc_fod.list3cont2\" target=\"_blank\">\\n\\t\\t\\t\\t\\t\\t<em class=\"theme_category\"> 레시피</em>\\n\\t\\t\\t\\t\\t\\t<strong class=\"title elss\">누룽지 닭백숙 삼계탕 전기밥솥 끓이는법 삼계탕닭손질</strong>\\n                        <p class=\"desc\">자주 가는 카페에서 #누룽지닭백숙 끓이는법이 유행이라 따라 만들었다. #누룽지닭백숙전기밥솥 으로 끓이는 버전인데 몽땅 넣고 취사만 누르면 되니 정말 간편하더라. 밥솥 세척이 걱정이 되었지만 뚜껑과 구멍만 닦아내면 되니 이 또한 간단하다. #삼계탕닭손질 만 해두면 손 가는 것이 없는 아주 쉬운 #누룽지삼계탕이 된다. #삼계탕 끓이는법은 늘 일반 냄비나 압력냄</p>\\n\\t\\t\\t\\t\\t\\t<div class=\"source_box\">\\n\\t\\t\\t\\t\\t\\t\\t<span class=\"date\">5개월 전</span>\\n\\t\\t\\t\\t\\t\\t\\t<span class=\"source\">\\n                                \\n                                <span class=\"source_inner\">봉스</span>\\n                            </span>\\n\\t\\t\\t\\t\\t\\t</div>\\n\\t\\t\\t\\t\\t</a>\\n\\t\\t\\t\\t</li>\\n\\t\\t\\t\\n\\t\\t\\t\\t<li class=\"theme_item\" data-gdid=\"CAS_61527f38-6ec2-11ec-acff-4110a085b5bd\" data-da-position=\"true\">\\n\\t\\t\\t\\t\\t<a href=\"https://blog.naver.com/blogourhome/222614661645\" class=\"theme_thumb\" data-clk=\"tcc_fod.list3cont3\" target=\"_blank\">\\n\\t\\t\\t\\t\\t\\t<img  data-src=\"https://s.pstatic.net/dthumb.phinf/?src&#x3D;%22https%3A%2F%2Fs.pstatic.net%2Fstatic%2Fwww%2Fmobile%2Fedit%2F20220106_1095%2Fupload_1641459405537JRLjH.JPEG%22&amp;type&#x3D;nf340_228\" alt=\"새해 다이어트 소원을 빌어 주세요~! 아워홈이 이뤄 드립니다!\" width=\"170\" height=\"114\" onerror=\"this.outerHTML=\\'<span class=\\\\\\'pm_noimg\\\\\\'><span class=\\\\\\'noimg_text\\\\\\'>이미지 준비중</span></span>\\'\">\\n\\t\\t\\t\\t\\t\\t<span class=\"thumb_bd\"></span>\\n                        \\n\\t\\t\\t\\t\\t</a>\\n\\t\\t\\t\\t\\t<a href=\"https://blog.naver.com/blogourhome/222614661645\" class=\"theme_info\" data-clk=\"tcc_fod.list3cont3\" target=\"_blank\">\\n\\t\\t\\t\\t\\t\\t<em class=\"theme_category\"> 레시피</em>\\n\\t\\t\\t\\t\\t\\t<strong class=\"title elss\">새해 다이어트 소원을 빌어 주세요~! 아워홈이 이뤄 드립니다!</strong>\\n                        <p class=\"desc\">매년 설문조사에서 새해 계획 중 가장 많은 사람들이 세우는 목표 1~2위를 놓치지 않는 그것! 다.이.어.트. 다이어트와 금연에 성공한 사람들이 제일 독한 사람들이라는 말이 있을 정도로, 아무리 매년 새롭게 마음을 다잡아도 다이어트에 성공하는 것은 결코 쉬운 일이 아니죠 ㅠㅠㅠㅠ 하지만, 쉽지 않다고 해서 여기서 그냥 포기할 수는 없잖아요? 아워홈에게 다이</p>\\n\\t\\t\\t\\t\\t\\t<div class=\"source_box\">\\n\\t\\t\\t\\t\\t\\t\\t<span class=\"date\">4일 전</span>\\n\\t\\t\\t\\t\\t\\t\\t<span class=\"source\">\\n                                \\n                                <span class=\"source_inner\">아워홈</span>\\n                            </span>\\n\\t\\t\\t\\t\\t\\t</div>\\n\\t\\t\\t\\t\\t</a>\\n\\t\\t\\t\\t</li>\\n\\t\\t\\t\\n\\t\\t\\t\\t<li class=\"theme_item\" data-gdid=\"CAS_61527f35-6ec2-11ec-acff-edbd2d7b3706\" data-da-position=\"true\">\\n\\t\\t\\t\\t\\t<a href=\"https://blog.naver.com/wj_food/222613761726\" class=\"theme_thumb\" data-clk=\"tcc_fod.list3cont4\" target=\"_blank\">\\n\\t\\t\\t\\t\\t\\t<img  data-src=\"https://s.pstatic.net/dthumb.phinf/?src&#x3D;%22https%3A%2F%2Fs.pstatic.net%2Fstatic%2Fwww%2Fmobile%2Fedit%2F20220106_1095%2Fupload_1641454148375U5M3B.JPEG%22&amp;type&#x3D;nf340_228\" alt=\"새해 선물로 딱, 쫀득 홍삼 젤리 레시피\" width=\"170\" height=\"114\" onerror=\"this.outerHTML=\\'<span class=\\\\\\'pm_noimg\\\\\\'><span class=\\\\\\'noimg_text\\\\\\'>이미지 준비중</span></span>\\'\">\\n\\t\\t\\t\\t\\t\\t<span class=\"thumb_bd\"></span>\\n                        \\n\\t\\t\\t\\t\\t</a>\\n\\t\\t\\t\\t\\t<a href=\"https://blog.naver.com/wj_food/222613761726\" class=\"theme_info\" data-clk=\"tcc_fod.list3cont4\" target=\"_blank\">\\n\\t\\t\\t\\t\\t\\t<em class=\"theme_category\"> 레시피</em>\\n\\t\\t\\t\\t\\t\\t<strong class=\"title elss\">새해 선물로 딱, 쫀득 홍삼 젤리 레시피</strong>\\n                        <p class=\"desc\">안녕하세요! 여러분 W진이입니다 😆 2022년 새해가 밝아 뭔가 색다르게 붕~뜬 기분이 드는 W진이인데요! 이번 2022년에는 조금 더 건강하게 살아보고자 😶 쉽게 만들고 맛있고 건강한 간식인 홍삼젤리 레시피를 가지고왔습니다 !! 🙌🏻 쫀득한 홍삼젤리! W진이와 함께 만들어볼까요 ✨ 장쾌삼 홍삼력으로 만드는 쫀득한 홍삼 젤리 먼저 홍삼젤리를 만들기 </p>\\n\\t\\t\\t\\t\\t\\t<div class=\"source_box\">\\n\\t\\t\\t\\t\\t\\t\\t<span class=\"date\">5일 전</span>\\n\\t\\t\\t\\t\\t\\t\\t<span class=\"source\">\\n                                \\n                                <span class=\"source_inner\">W진이</span>\\n                            </span>\\n\\t\\t\\t\\t\\t\\t</div>\\n\\t\\t\\t\\t\\t</a>\\n\\t\\t\\t\\t</li>\\n\\t\\t\\t\\n\\t\\t\\t\\t<li class=\"theme_item\" data-gdid=\"CAS_61527f36-6ec2-11ec-acff-1ffac78313d6\" data-da-position=\"true\">\\n\\t\\t\\t\\t\\t<a href=\"https://blog.naver.com/ottogitoday1/222614354236\" class=\"theme_thumb\" data-clk=\"tcc_fod.list3cont5\" target=\"_blank\">\\n\\t\\t\\t\\t\\t\\t<img  data-src=\"https://s.pstatic.net/dthumb.phinf/?src&#x3D;%22https%3A%2F%2Fs.pstatic.net%2Fstatic%2Fwww%2Fmobile%2Fedit%2F20220106_1095%2Fupload_16414541530339qHvr.JPEG%22&amp;type&#x3D;nf340_228\" alt=\"이번 새해엔 꼭!! 이루고 싶은 소원을 남기면 뜨끈한 새해 몸보신 박스를 선물로 드릴게요 ( •͈ᴗ-)ᓂ-ෆ\" width=\"170\" height=\"114\" onerror=\"this.outerHTML=\\'<span class=\\\\\\'pm_noimg\\\\\\'><span class=\\\\\\'noimg_text\\\\\\'>이미지 준비중</span></span>\\'\">\\n\\t\\t\\t\\t\\t\\t<span class=\"thumb_bd\"></span>\\n                        \\n\\t\\t\\t\\t\\t</a>\\n\\t\\t\\t\\t\\t<a href=\"https://blog.naver.com/ottogitoday1/222614354236\" class=\"theme_info\" data-clk=\"tcc_fod.list3cont5\" target=\"_blank\">\\n\\t\\t\\t\\t\\t\\t<em class=\"theme_category\"> 레시피</em>\\n\\t\\t\\t\\t\\t\\t<strong class=\"title elss\">이번 새해엔 꼭!! 이루고 싶은 소원을 남기면 뜨끈한 새해 몸보신 박스를 선물로 드릴게요 ( •͈ᴗ-)ᓂ-ෆ</strong>\\n                        <p class=\"desc\">올해 꼭 이루고 싶은 나만의 새해 소원을 댓글로 남겨주시면 뜨근한 새해 몸보신 박스를 드려요☆ * 안녕하세요. 오뚜기입니다 다들 즐거운 하루 보내고 계시나요~? 어느새 2022년이 시작되었어요~ 오뚜기도 임인년 호랑이의 기운을 받아 다시 힘차~게! 달릴 준비를 하고 있어요 잇님들은 이번 새해엔 꼭 이루어야겠어!! 하며 가슴에 품고 있는 소원이 있나요? 올해</p>\\n\\t\\t\\t\\t\\t\\t<div class=\"source_box\">\\n\\t\\t\\t\\t\\t\\t\\t<span class=\"date\">4일 전</span>\\n\\t\\t\\t\\t\\t\\t\\t<span class=\"source\">\\n                                \\n                                <span class=\"source_inner\">오뚜기</span>\\n                            </span>\\n\\t\\t\\t\\t\\t\\t</div>\\n\\t\\t\\t\\t\\t</a>\\n\\t\\t\\t\\t</li>\\n\\t\\t\\t\\n\\t\\t</ul>\\n\\t</div>\\n</div>\\n<div class=\"group_theme\" data-block-id=\"\" data-block-code=\"PC-THEME-LIVING-MOBILE-RANKING-DEFAULT-3\" data-block-type=\"MATERIALS\" data-template-code=\"MOBILE-RANKING-LIST\"\\n\\n\\t data-da=\"container\"\\n\\t data-index=\"\"\\n     data-page=\"2\"\\n\\t style=\"display:none\">\\n\\n\\t<div class=\"list_theme_wrap\">\\n\\t\\t<ul class=\"list_theme\">\\n\\t\\t\\t\\n\\t\\t\\t\\t<li class=\"theme_item\" data-gdid=\"CAS_61527f37-6ec2-11ec-acff-1d59a5c067fc\" data-da-position=\"true\">\\n\\t\\t\\t\\t\\t<a href=\"https://blog.naver.com/sempiostory/222612646470\" class=\"theme_thumb\" data-clk=\"tcc_fod.list4cont1\" target=\"_blank\">\\n\\t\\t\\t\\t\\t\\t<img  data-src=\"https://s.pstatic.net/dthumb.phinf/?src&#x3D;%22https%3A%2F%2Fs.pstatic.net%2Fstatic%2Fwww%2Fmobile%2Fedit%2F20220106_1095%2Fupload_1641454157483OXyYN.JPEG%22&amp;type&#x3D;nf340_228\" alt=\"새해건강! 가볍게 맛있는 &#x27;백년동안 흑초&#x27;가 응원합니다\" width=\"170\" height=\"114\" onerror=\"this.outerHTML=\\'<span class=\\\\\\'pm_noimg\\\\\\'><span class=\\\\\\'noimg_text\\\\\\'>이미지 준비중</span></span>\\'\">\\n\\t\\t\\t\\t\\t\\t<span class=\"thumb_bd\"></span>\\n                        \\n\\t\\t\\t\\t\\t</a>\\n\\t\\t\\t\\t\\t<a href=\"https://blog.naver.com/sempiostory/222612646470\" class=\"theme_info\" data-clk=\"tcc_fod.list4cont1\" target=\"_blank\">\\n\\t\\t\\t\\t\\t\\t<em class=\"theme_category\"> 레시피</em>\\n\\t\\t\\t\\t\\t\\t<strong class=\"title elss\">새해건강! 가볍게 맛있는 \\'백년동안 흑초\\'가 응원합니다</strong>\\n                        <p class=\"desc\">2022년 목표에 #건강 이 있다면 주목! 100% 현미발효한 식초의 왕 #흑초 에 비움에 좋다고 알려진 🥝과일 🥬채소를 더해 😇 무겁게 쌓인 몸은 가볍게! 😋 누구나 부담없이 맛있게! 기호에 맞게 물에 타 즐기는 백년동안 흑초 그린파워로 건강한 새해를 시작해보세요- + 에너지를 채우고 싶다면 백년동안 흑초 블랙파워도 있어요! EVENT 백년동안 흑</p>\\n\\t\\t\\t\\t\\t\\t<div class=\"source_box\">\\n\\t\\t\\t\\t\\t\\t\\t<span class=\"date\">6일 전</span>\\n\\t\\t\\t\\t\\t\\t\\t<span class=\"source\">\\n                                \\n                                <span class=\"source_inner\">샘표</span>\\n                            </span>\\n\\t\\t\\t\\t\\t\\t</div>\\n\\t\\t\\t\\t\\t</a>\\n\\t\\t\\t\\t</li>\\n\\t\\t\\t\\n\\t\\t\\t\\t<li class=\"theme_item\" data-gdid=\"CAS_bc4f99e5-6f76-11ec-acff-d1c22e3bde0b\" data-da-position=\"true\">\\n\\t\\t\\t\\t\\t<a href=\"https://post.naver.com/viewer/postView.naver?volumeNo&#x3D;32984992&amp;memberNo&#x3D;15460571\" class=\"theme_thumb\" data-clk=\"tcc_fod.list4cont2\" target=\"_blank\">\\n\\t\\t\\t\\t\\t\\t<img  data-src=\"https://s.pstatic.net/dthumb.phinf/?src&#x3D;%22https%3A%2F%2Fs.pstatic.net%2Fstatic%2Fwww%2Fmobile%2Fedit%2F20220107_1095%2Fupload_1641531931606gv1Dm.JPEG%22&amp;type&#x3D;nf340_228\" alt=\"SNS에서 호불호 난리 난 특이한 먹거리\" width=\"170\" height=\"114\" onerror=\"this.outerHTML=\\'<span class=\\\\\\'pm_noimg\\\\\\'><span class=\\\\\\'noimg_text\\\\\\'>이미지 준비중</span></span>\\'\">\\n\\t\\t\\t\\t\\t\\t<span class=\"thumb_bd\"></span>\\n                        \\n\\t\\t\\t\\t\\t</a>\\n\\t\\t\\t\\t\\t<a href=\"https://post.naver.com/viewer/postView.naver?volumeNo&#x3D;32984992&amp;memberNo&#x3D;15460571\" class=\"theme_info\" data-clk=\"tcc_fod.list4cont2\" target=\"_blank\">\\n\\t\\t\\t\\t\\t\\t<em class=\"theme_category\"> 레시피</em>\\n\\t\\t\\t\\t\\t\\t<strong class=\"title elss\">SNS에서 호불호 난리 난 특이한 먹거리</strong>\\n                        <p class=\"desc\">신기한 식품 요즘 들어 급격히 먹을 것에 대한 논쟁이 거세진 느낌이다. 최근 몇 년 동안 ‘민트초코’에 대한 호불호 논란만큼 뜨거운 논쟁이 또 있었나 싶을 정도다. 이는 그만큼 사람들의 식성이, 이제는 일률적이지 않고 사람 수만큼 다양해졌다는 의미로 받아들일 수 있을 것이다. 하지만 그런 상황 속에서도 당최 이해할 수 없는, 4차원의 센스를 가진 신기한 음</p>\\n\\t\\t\\t\\t\\t\\t<div class=\"source_box\">\\n\\t\\t\\t\\t\\t\\t\\t<span class=\"date\">5일 전</span>\\n\\t\\t\\t\\t\\t\\t\\t<span class=\"source\">\\n                                \\n                                <span class=\"source_inner\">데일리</span>\\n                            </span>\\n\\t\\t\\t\\t\\t\\t</div>\\n\\t\\t\\t\\t\\t</a>\\n\\t\\t\\t\\t</li>\\n\\t\\t\\t\\n\\t\\t\\t\\t<li class=\"theme_item\" data-gdid=\"CAS_5e2678f1-6df4-11ec-b7dd-1f6ae1b3c447\" data-da-position=\"true\">\\n\\t\\t\\t\\t\\t<a href=\"https://blog.naver.com/ji5632000/222440580597\" class=\"theme_thumb\" data-clk=\"tcc_fod.list4cont3\" target=\"_blank\">\\n\\t\\t\\t\\t\\t\\t<img  data-src=\"https://s.pstatic.net/dthumb.phinf/?src&#x3D;%22https%3A%2F%2Fs.pstatic.net%2Fstatic%2Fwww%2Fmobile%2Fedit%2F20220105_1095%2Fupload_1641365580249Nnyyj.JPEG%22&amp;type&#x3D;nf340_228\" alt=\"[차돌박이 숙주찜 2탄] 깻잎으로 말아 더 향긋하게 부추맛간장소스로 감칠맛 높이는비법 깻잎차돌박이숙주찜 만들기\" width=\"170\" height=\"114\" onerror=\"this.outerHTML=\\'<span class=\\\\\\'pm_noimg\\\\\\'><span class=\\\\\\'noimg_text\\\\\\'>이미지 준비중</span></span>\\'\">\\n\\t\\t\\t\\t\\t\\t<span class=\"thumb_bd\"></span>\\n                        \\n\\t\\t\\t\\t\\t</a>\\n\\t\\t\\t\\t\\t<a href=\"https://blog.naver.com/ji5632000/222440580597\" class=\"theme_info\" data-clk=\"tcc_fod.list4cont3\" target=\"_blank\">\\n\\t\\t\\t\\t\\t\\t<em class=\"theme_category\"> 레시피</em>\\n\\t\\t\\t\\t\\t\\t<strong class=\"title elss\">[차돌박이 숙주찜 2탄] 깻잎으로 말아 더 향긋하게 부추맛간장소스로 감칠맛 높이는비법 깻잎차돌박이숙주찜 만들기</strong>\\n                        <p class=\"desc\">부추맛간장 양념 만드는법 깻잎차돌박이숙주찜 만들기 감칠맛 높이는 레시피 든든하면서 간단하고 입맛없는 요즘에 입맛을 잡는 건강요리로 제격이어서 1탄에는 베이컨 차돌박이로만 말아줬다면 이번엔 깻잎을 더해 더 향긋하게 드실 수 있고 부추로 만든 소스까지 더한 레시피를 소개해 보려해요 저탄고지식단 키토제닉식단처럼 우리 몸은 단백질로 구성되어있어 단백질을 많이 ..</p>\\n\\t\\t\\t\\t\\t\\t<div class=\"source_box\">\\n\\t\\t\\t\\t\\t\\t\\t<span class=\"date\">5개월 전</span>\\n\\t\\t\\t\\t\\t\\t\\t<span class=\"source\">\\n                                \\n                                <span class=\"source_inner\">로네리스</span>\\n                            </span>\\n\\t\\t\\t\\t\\t\\t</div>\\n\\t\\t\\t\\t\\t</a>\\n\\t\\t\\t\\t</li>\\n\\t\\t\\t\\n\\t\\t\\t\\t<li class=\"theme_item\" data-gdid=\"CAS_bc4f99e6-6f76-11ec-acff-6f768b3722f0\" data-da-position=\"true\">\\n\\t\\t\\t\\t\\t<a href=\"https://blog.naver.com/the_sool/222615193814\" class=\"theme_thumb\" data-clk=\"tcc_fod.list4cont4\" target=\"_blank\">\\n\\t\\t\\t\\t\\t\\t<img  data-src=\"https://s.pstatic.net/dthumb.phinf/?src&#x3D;%22https%3A%2F%2Fs.pstatic.net%2Fstatic%2Fwww%2Fmobile%2Fedit%2F20220107_1095%2Fupload_1641531938715GMLpC.JPEG%22&amp;type&#x3D;nf340_228\" alt=\"뱅쇼로 따뜻하게 마시기 좋은 한국 레드와인\" width=\"170\" height=\"114\" onerror=\"this.outerHTML=\\'<span class=\\\\\\'pm_noimg\\\\\\'><span class=\\\\\\'noimg_text\\\\\\'>이미지 준비중</span></span>\\'\">\\n\\t\\t\\t\\t\\t\\t<span class=\"thumb_bd\"></span>\\n                        \\n\\t\\t\\t\\t\\t</a>\\n\\t\\t\\t\\t\\t<a href=\"https://blog.naver.com/the_sool/222615193814\" class=\"theme_info\" data-clk=\"tcc_fod.list4cont4\" target=\"_blank\">\\n\\t\\t\\t\\t\\t\\t<em class=\"theme_category\"> 레시피</em>\\n\\t\\t\\t\\t\\t\\t<strong class=\"title elss\">뱅쇼로 따뜻하게 마시기 좋은 한국 레드와인</strong>\\n                        <p class=\"desc\">추운 겨울엔 역시 따뜻하게 즐길 수 있는 음료를 찾게 되는데요. 한국에는 데워마시는 술 모주가 있다면, 유럽에서는 와인을 따뜻하게 끓여 마시는 뱅쇼가 있습니다. 뱅쇼는 따뜻하게 데운 와인에 좋아하는 과일이나 향신료를 넣어 색다른 달콤함을 느낄 수 있는 음료인데요. 온몸을 따뜻하게 녹여줄 뱅쇼로 만들기 좋은 한국 레드와인을 소개해드릴게요! 여기서 잠깐, 뱅쇼</p>\\n\\t\\t\\t\\t\\t\\t<div class=\"source_box\">\\n\\t\\t\\t\\t\\t\\t\\t<span class=\"date\">4일 전</span>\\n\\t\\t\\t\\t\\t\\t\\t<span class=\"source\">\\n                                \\n                                <span class=\"source_inner\">더술닷컴</span>\\n                            </span>\\n\\t\\t\\t\\t\\t\\t</div>\\n\\t\\t\\t\\t\\t</a>\\n\\t\\t\\t\\t</li>\\n\\t\\t\\t\\n\\t\\t\\t\\t<li class=\"theme_item\" data-gdid=\"CAS_9b15cc0b-6df3-11ec-9428-55e566d8bcb3\" data-da-position=\"true\">\\n\\t\\t\\t\\t\\t<a href=\"https://blog.naver.com/aldudcldud/222597629951\" class=\"theme_thumb\" data-clk=\"tcc_fod.list4cont5\" target=\"_blank\">\\n\\t\\t\\t\\t\\t\\t<img  data-src=\"https://s.pstatic.net/dthumb.phinf/?src&#x3D;%22https%3A%2F%2Fs.pstatic.net%2Fstatic%2Fwww%2Fmobile%2Fedit%2F20220105_1095%2Fupload_1641365762104MUM4k.JPEG%22&amp;type&#x3D;nf340_228\" alt=\"이연복 배추찜 만드는 법\" width=\"170\" height=\"114\" onerror=\"this.outerHTML=\\'<span class=\\\\\\'pm_noimg\\\\\\'><span class=\\\\\\'noimg_text\\\\\\'>이미지 준비중</span></span>\\'\">\\n\\t\\t\\t\\t\\t\\t<span class=\"thumb_bd\"></span>\\n                        \\n\\t\\t\\t\\t\\t</a>\\n\\t\\t\\t\\t\\t<a href=\"https://blog.naver.com/aldudcldud/222597629951\" class=\"theme_info\" data-clk=\"tcc_fod.list4cont5\" target=\"_blank\">\\n\\t\\t\\t\\t\\t\\t<em class=\"theme_category\"> 레시피</em>\\n\\t\\t\\t\\t\\t\\t<strong class=\"title elss\">이연복 배추찜 만드는 법</strong>\\n                        <p class=\"desc\">이연복 배추찜 만드는 법 인스타에서 사진으로만 보다가 직접 만들어 먹고 홀딱 반한 이연복 배추찜이에요. 이연복 셰프님 명성은 익히 알고 있지만, 간단한 레시피에도 내공이 장난 아니시네요~~~ 알배추 사다 한 번 해 먹고 또 해 달라는 식구들 때문에 또 사와서 해먹었어요. 진짜 너무 맛있어요~~~~~ 좋은 레시피 알려 주셔서 감사합니다. 만들기 정말 쉽고 맛</p>\\n\\t\\t\\t\\t\\t\\t<div class=\"source_box\">\\n\\t\\t\\t\\t\\t\\t\\t<span class=\"date\">3주일 전</span>\\n\\t\\t\\t\\t\\t\\t\\t<span class=\"source\">\\n                                \\n                                <span class=\"source_inner\">햇살마미</span>\\n                            </span>\\n\\t\\t\\t\\t\\t\\t</div>\\n\\t\\t\\t\\t\\t</a>\\n\\t\\t\\t\\t</li>\\n\\t\\t\\t\\n\\t\\t</ul>\\n\\t</div>\\n</div>\\n<div class=\"group_theme\" data-block-id=\"\" data-block-code=\"PC-THEME-LIVING-MOBILE-RANKING-DEFAULT-4\" data-block-type=\"MATERIALS\" data-template-code=\"MOBILE-RANKING-LIST\"\\n\\n\\t data-da=\"container\"\\n\\t data-index=\"\"\\n     data-page=\"3\"\\n\\t style=\"display:none\">\\n\\n\\t<div class=\"list_theme_wrap\">\\n\\t\\t<ul class=\"list_theme\">\\n\\t\\t\\t\\n\\t\\t\\t\\t<li class=\"theme_item\" data-gdid=\"CAS_5e2678ef-6df4-11ec-b7dd-bdef87766b37\" data-da-position=\"true\">\\n\\t\\t\\t\\t\\t<a href=\"https://blog.naver.com/hee81hoo/222554636821\" class=\"theme_thumb\" data-clk=\"tcc_fod.list5cont1\" target=\"_blank\">\\n\\t\\t\\t\\t\\t\\t<img  data-src=\"https://s.pstatic.net/dthumb.phinf/?src&#x3D;%22https%3A%2F%2Fs.pstatic.net%2Fstatic%2Fwww%2Fmobile%2Fedit%2F20220105_1095%2Fupload_16413655355343pN8i.JPEG%22&amp;type&#x3D;nf340_228\" alt=\"간장 찜닭 레시피 단짠 양념 소스 만들기\" width=\"170\" height=\"114\" onerror=\"this.outerHTML=\\'<span class=\\\\\\'pm_noimg\\\\\\'><span class=\\\\\\'noimg_text\\\\\\'>이미지 준비중</span></span>\\'\">\\n\\t\\t\\t\\t\\t\\t<span class=\"thumb_bd\"></span>\\n                        \\n\\t\\t\\t\\t\\t</a>\\n\\t\\t\\t\\t\\t<a href=\"https://blog.naver.com/hee81hoo/222554636821\" class=\"theme_info\" data-clk=\"tcc_fod.list5cont1\" target=\"_blank\">\\n\\t\\t\\t\\t\\t\\t<em class=\"theme_category\"> 레시피</em>\\n\\t\\t\\t\\t\\t\\t<strong class=\"title elss\">간장 찜닭 레시피 단짠 양념 소스 만들기</strong>\\n                        <p class=\"desc\">간장 찜닭 레시피 단짠 양념 소스 만들기 간장 양념이 푹 배어든 닭고기에 찰진 당면과 잘 익은 감자는 찜닭 먹는 즐거움이죠! 집에서 만들면 좋아하는 재료 듬뿍 넣어 더욱 푸짐하게 즐길 수 있는데요. 의외로 만들기도 간단한 간장 찜닭 레시피. 같이 만들어볼까요~ 요리시간: 1시간 난이도: 중 재료 2~3인분 기준 닭 1마리(1Kg) 감자 2개 당근 1/2개 </p>\\n\\t\\t\\t\\t\\t\\t<div class=\"source_box\">\\n\\t\\t\\t\\t\\t\\t\\t<span class=\"date\">2개월 전</span>\\n\\t\\t\\t\\t\\t\\t\\t<span class=\"source\">\\n                                \\n                                <span class=\"source_inner\">은야쟁이</span>\\n                            </span>\\n\\t\\t\\t\\t\\t\\t</div>\\n\\t\\t\\t\\t\\t</a>\\n\\t\\t\\t\\t</li>\\n\\t\\t\\t\\n\\t\\t\\t\\t<li class=\"theme_item\" data-gdid=\"CAS_5e2678f0-6df4-11ec-b7dd-0d4aff04fffc\" data-da-position=\"true\">\\n\\t\\t\\t\\t\\t<a href=\"https://blog.naver.com/jiji1135/222578733847\" class=\"theme_thumb\" data-clk=\"tcc_fod.list5cont2\" target=\"_blank\">\\n\\t\\t\\t\\t\\t\\t<img  data-src=\"https://s.pstatic.net/dthumb.phinf/?src&#x3D;%22https%3A%2F%2Fs.pstatic.net%2Fstatic%2Fwww%2Fmobile%2Fedit%2F20220105_1095%2Fupload_1641365503906pnsIY.JPEG%22&amp;type&#x3D;nf340_228\" alt=\"소갈비찜 레시피 칭찬받는 소갈비찜 양념\" width=\"170\" height=\"114\" onerror=\"this.outerHTML=\\'<span class=\\\\\\'pm_noimg\\\\\\'><span class=\\\\\\'noimg_text\\\\\\'>이미지 준비중</span></span>\\'\">\\n\\t\\t\\t\\t\\t\\t<span class=\"thumb_bd\"></span>\\n                        \\n\\t\\t\\t\\t\\t</a>\\n\\t\\t\\t\\t\\t<a href=\"https://blog.naver.com/jiji1135/222578733847\" class=\"theme_info\" data-clk=\"tcc_fod.list5cont2\" target=\"_blank\">\\n\\t\\t\\t\\t\\t\\t<em class=\"theme_category\"> 레시피</em>\\n\\t\\t\\t\\t\\t\\t<strong class=\"title elss\">소갈비찜 레시피 칭찬받는 소갈비찜 양념</strong>\\n                        <p class=\"desc\">소갈비찜 레시피 칭찬받는 소갈비찜 양념 알려드려요 손님초대요리나 생일상차림으로 아주 어울리는 메뉴이죠? 그리고 추석때도 한번쯤은 꼭 하게 되는데요 저는 이번에 울엄마 생신때 만들어보았어요 처음에는 요리할 생각은 아니었었는데 장보는데 따라갔다가 소고기 너무 싱싱한게 맛있어 보이더라고요 마침 엄마 생신도 있고 하니 소갈비찜 레시피로 맛있게 해드리면 딱이다 ..</p>\\n\\t\\t\\t\\t\\t\\t<div class=\"source_box\">\\n\\t\\t\\t\\t\\t\\t\\t<span class=\"date\">1개월 전</span>\\n\\t\\t\\t\\t\\t\\t\\t<span class=\"source\">\\n                                \\n                                <span class=\"source_inner\">콩순이언니</span>\\n                            </span>\\n\\t\\t\\t\\t\\t\\t</div>\\n\\t\\t\\t\\t\\t</a>\\n\\t\\t\\t\\t</li>\\n\\t\\t\\t\\n\\t\\t\\t\\t<li class=\"theme_item\" data-gdid=\"CAS_6c2f9cea-6df4-11ec-9428-fd6f4078d4e0\" data-da-position=\"true\">\\n\\t\\t\\t\\t\\t<a href=\"https://blog.naver.com/ghdtkaehddl/222605359147\" class=\"theme_thumb\" data-clk=\"tcc_fod.list5cont3\" target=\"_blank\">\\n\\t\\t\\t\\t\\t\\t<img  data-src=\"https://s.pstatic.net/dthumb.phinf/?src&#x3D;%22https%3A%2F%2Fs.pstatic.net%2Fstatic%2Fwww%2Fmobile%2Fedit%2F20220105_1095%2Fupload_1641365591176HTS7K.JPEG%22&amp;type&#x3D;nf340_228\" alt=\"명란계란찜 만드는법 초간단 전자레인지 명란젓요리\" width=\"170\" height=\"114\" onerror=\"this.outerHTML=\\'<span class=\\\\\\'pm_noimg\\\\\\'><span class=\\\\\\'noimg_text\\\\\\'>이미지 준비중</span></span>\\'\">\\n\\t\\t\\t\\t\\t\\t<span class=\"thumb_bd\"></span>\\n                        \\n\\t\\t\\t\\t\\t</a>\\n\\t\\t\\t\\t\\t<a href=\"https://blog.naver.com/ghdtkaehddl/222605359147\" class=\"theme_info\" data-clk=\"tcc_fod.list5cont3\" target=\"_blank\">\\n\\t\\t\\t\\t\\t\\t<em class=\"theme_category\"> 레시피</em>\\n\\t\\t\\t\\t\\t\\t<strong class=\"title elss\">명란계란찜 만드는법 초간단 전자레인지 명란젓요리</strong>\\n                        <p class=\"desc\">명란계란찜 만드는법, 초간단 전자레인지 계란찜 명란젓요리 추워서 더 일어나기 싫은 아침. 이불 속에서 꼼짝하기 싫은 겨울아침은 보드랍고 따뜻한 아침메뉴를 준비해요. 오늘은 초간단 아침반찬으로 명란계란찜을 만들었는데요. 대파 듬뿍 다져넣고, 감칠맛 톡톡 터지는 명란 넣어 부드럽고 맛있는 명란젓요리에요. 명란은 한번 사면 파스타에도 넣고 계란말이도 만들고 비빔</p>\\n\\t\\t\\t\\t\\t\\t<div class=\"source_box\">\\n\\t\\t\\t\\t\\t\\t\\t<span class=\"date\">2주일 전</span>\\n\\t\\t\\t\\t\\t\\t\\t<span class=\"source\">\\n                                \\n                                <span class=\"source_inner\">스위트비</span>\\n                            </span>\\n\\t\\t\\t\\t\\t\\t</div>\\n\\t\\t\\t\\t\\t</a>\\n\\t\\t\\t\\t</li>\\n\\t\\t\\t\\n\\t\\t\\t\\t<li class=\"theme_item\" data-gdid=\"CAS_6c2f9ce9-6df4-11ec-9428-835cd54f4b9f\" data-da-position=\"true\">\\n\\t\\t\\t\\t\\t<a href=\"https://blog.naver.com/mh950621/222514129554\" class=\"theme_thumb\" data-clk=\"tcc_fod.list5cont4\" target=\"_blank\">\\n\\t\\t\\t\\t\\t\\t<img  data-src=\"https://s.pstatic.net/dthumb.phinf/?src&#x3D;%22https%3A%2F%2Fs.pstatic.net%2Fstatic%2Fwww%2Fmobile%2Fedit%2F20220105_1095%2Fupload_16413655999693F5CK.JPEG%22&amp;type&#x3D;nf340_228\" alt=\"통삼겹살 김치찜 만들기 백종원 레시피 돼지고기 김치찜\" width=\"170\" height=\"114\" onerror=\"this.outerHTML=\\'<span class=\\\\\\'pm_noimg\\\\\\'><span class=\\\\\\'noimg_text\\\\\\'>이미지 준비중</span></span>\\'\">\\n\\t\\t\\t\\t\\t\\t<span class=\"thumb_bd\"></span>\\n                        \\n\\t\\t\\t\\t\\t</a>\\n\\t\\t\\t\\t\\t<a href=\"https://blog.naver.com/mh950621/222514129554\" class=\"theme_info\" data-clk=\"tcc_fod.list5cont4\" target=\"_blank\">\\n\\t\\t\\t\\t\\t\\t<em class=\"theme_category\"> 레시피</em>\\n\\t\\t\\t\\t\\t\\t<strong class=\"title elss\">통삼겹살 김치찜 만들기 백종원 레시피 돼지고기 김치찜</strong>\\n                        <p class=\"desc\">오랜 명절 끝, 덜 먹는다고 먹는데도 평소보다는 느끼한 음식들의 향연이다보니 절로 생각나는 음식! 매콤얼큰한 통삼겹살 김치찜. 김치는 그간 조금씩 남았던 자투리 김치 모아두었던 것으로 해결. 평소에도 명절 끝엔 꼭 한번씩 매콤칼칼하게 김치찜을 해먹었던지라 이번에도 꼭 써먹게 되려니 싶어 추석을 앞두고 그간 조금이나마 미련이 남아 보관했던 것들 싸악 정리할 </p>\\n\\t\\t\\t\\t\\t\\t<div class=\"source_box\">\\n\\t\\t\\t\\t\\t\\t\\t<span class=\"date\">3개월 전</span>\\n\\t\\t\\t\\t\\t\\t\\t<span class=\"source\">\\n                                \\n                                <span class=\"source_inner\">언제나웃음</span>\\n                            </span>\\n\\t\\t\\t\\t\\t\\t</div>\\n\\t\\t\\t\\t\\t</a>\\n\\t\\t\\t\\t</li>\\n\\t\\t\\t\\n\\t\\t\\t\\t<li class=\"theme_item\" data-gdid=\"CAS_5e2678f3-6df4-11ec-b7dd-a5b4db1d11e6\" data-da-position=\"true\">\\n\\t\\t\\t\\t\\t<a href=\"https://blog.naver.com/sun_y210/222528718016\" class=\"theme_thumb\" data-clk=\"tcc_fod.list5cont5\" target=\"_blank\">\\n\\t\\t\\t\\t\\t\\t<img  data-src=\"https://s.pstatic.net/dthumb.phinf/?src&#x3D;%22https%3A%2F%2Fs.pstatic.net%2Fstatic%2Fwww%2Fmobile%2Fedit%2F20220105_1095%2Fupload_1641365788237QFnfo.JPEG%22&amp;type&#x3D;nf340_228\" alt=\"영등포 대한옥st 소꼬리찜 만들기 꿀맛 우니 레시피, 꿀팁\" width=\"170\" height=\"114\" onerror=\"this.outerHTML=\\'<span class=\\\\\\'pm_noimg\\\\\\'><span class=\\\\\\'noimg_text\\\\\\'>이미지 준비중</span></span>\\'\">\\n\\t\\t\\t\\t\\t\\t<span class=\"thumb_bd\"></span>\\n                        \\n\\t\\t\\t\\t\\t</a>\\n\\t\\t\\t\\t\\t<a href=\"https://blog.naver.com/sun_y210/222528718016\" class=\"theme_info\" data-clk=\"tcc_fod.list5cont5\" target=\"_blank\">\\n\\t\\t\\t\\t\\t\\t<em class=\"theme_category\"> 레시피</em>\\n\\t\\t\\t\\t\\t\\t<strong class=\"title elss\">영등포 대한옥st 소꼬리찜 만들기 꿀맛 우니 레시피, 꿀팁</strong>\\n                        <p class=\"desc\">무더운 여름날 웨이팅 1시간 해서 먹었던 영등포 대한옥 소꼬리찜. 웨이팅이 아깝지 않을만큼 정말 맛있게 먹었는데, 양이 적어서 아쉬웠어요. 그래서 집에서 만들어 보았습니다! 소꼬리(2kg) 3인분, 조리시간 7시간 호주산 소꼬리 2kg 스티어 등급(100일 인 곡물을 먹인 목초사유육) 두명이서 완전 많이 혹은 물릴때까지 먹을 수 있는 양이라 다른 음식이랑 </p>\\n\\t\\t\\t\\t\\t\\t<div class=\"source_box\">\\n\\t\\t\\t\\t\\t\\t\\t<span class=\"date\">3개월 전</span>\\n\\t\\t\\t\\t\\t\\t\\t<span class=\"source\">\\n                                \\n                                <span class=\"source_inner\">신쩜</span>\\n                            </span>\\n\\t\\t\\t\\t\\t\\t</div>\\n\\t\\t\\t\\t\\t</a>\\n\\t\\t\\t\\t</li>\\n\\t\\t\\t\\n\\t\\t</ul>\\n\\t</div>\\n</div>\\n<div class=\"group_theme\" data-block-id=\"\" data-block-code=\"PC-THEME-LIVING-MOBILE-RANKING-DEFAULT-5\" data-block-type=\"MATERIALS\" data-template-code=\"MOBILE-RANKING-LIST\"\\n\\n\\t data-da=\"container\"\\n\\t data-index=\"\"\\n     data-page=\"3\"\\n\\t style=\"display:none\">\\n\\n\\t<div class=\"list_theme_wrap\">\\n\\t\\t<ul class=\"list_theme\">\\n\\t\\t\\t\\n\\t\\t\\t\\t<li class=\"theme_item\" data-gdid=\"CAS_9b15cc0f-6df3-11ec-9428-03941d1f3abd\" data-da-position=\"true\">\\n\\t\\t\\t\\t\\t<a href=\"https://blog.naver.com/cio629/222598224722\" class=\"theme_thumb\" data-clk=\"tcc_fod.list6cont1\" target=\"_blank\">\\n\\t\\t\\t\\t\\t\\t<img  data-src=\"https://s.pstatic.net/dthumb.phinf/?src&#x3D;%22https%3A%2F%2Fs.pstatic.net%2Fstatic%2Fwww%2Fmobile%2Fedit%2F20220105_1095%2Fupload_1641365550551Bbvz5.JPEG%22&amp;type&#x3D;nf340_228\" alt=\"아귀찜 만들기 매콤 양념 해물찜 술안주레시피\" width=\"170\" height=\"114\" onerror=\"this.outerHTML=\\'<span class=\\\\\\'pm_noimg\\\\\\'><span class=\\\\\\'noimg_text\\\\\\'>이미지 준비중</span></span>\\'\">\\n\\t\\t\\t\\t\\t\\t<span class=\"thumb_bd\"></span>\\n                        \\n\\t\\t\\t\\t\\t</a>\\n\\t\\t\\t\\t\\t<a href=\"https://blog.naver.com/cio629/222598224722\" class=\"theme_info\" data-clk=\"tcc_fod.list6cont1\" target=\"_blank\">\\n\\t\\t\\t\\t\\t\\t<em class=\"theme_category\"> 레시피</em>\\n\\t\\t\\t\\t\\t\\t<strong class=\"title elss\">아귀찜 만들기 매콤 양념 해물찜 술안주레시피</strong>\\n                        <p class=\"desc\">춥다고 대문 밖에 나가지도 않고.. 이래저래 긴긴 칩거 생활에 스트레스가 이만저만이 아니네요. 불금 안주로 넘나 좋은ㅋ 매콤 양념 #아구찜 준비해 보았어요. 라벤더가 제일 좋아하는 #술안주레시피 ㅋ 삼겹살이냐.. 아구찜이냐.. 정말 늘 고민되는 #아구찜만들기 요 안주 하나만 있음 끝이예욧! 마트에 갔는데 겁나 싱싱한 생아구에 시선고정! 아구 간까지 위에 척</p>\\n\\t\\t\\t\\t\\t\\t<div class=\"source_box\">\\n\\t\\t\\t\\t\\t\\t\\t<span class=\"date\">3주일 전</span>\\n\\t\\t\\t\\t\\t\\t\\t<span class=\"source\">\\n                                \\n                                <span class=\"source_inner\">라벤더</span>\\n                            </span>\\n\\t\\t\\t\\t\\t\\t</div>\\n\\t\\t\\t\\t\\t</a>\\n\\t\\t\\t\\t</li>\\n\\t\\t\\t\\n\\t\\t\\t\\t<li class=\"theme_item\" data-gdid=\"CAS_9b15cc11-6df3-11ec-9428-65b0042db192\" data-da-position=\"true\">\\n\\t\\t\\t\\t\\t<a href=\"https://blog.naver.com/tkmh1982/222493274248\" class=\"theme_thumb\" data-clk=\"tcc_fod.list6cont2\" target=\"_blank\">\\n\\t\\t\\t\\t\\t\\t<img  data-src=\"https://s.pstatic.net/dthumb.phinf/?src&#x3D;%22https%3A%2F%2Fs.pstatic.net%2Fstatic%2Fwww%2Fmobile%2Fedit%2F20220105_1095%2Fupload_1641365571831mPEA2.JPEG%22&amp;type&#x3D;nf340_228\" alt=\"술안주 베스트 바지락술찜 레시피 바지락 요리 해감까지\" width=\"170\" height=\"114\" onerror=\"this.outerHTML=\\'<span class=\\\\\\'pm_noimg\\\\\\'><span class=\\\\\\'noimg_text\\\\\\'>이미지 준비중</span></span>\\'\">\\n\\t\\t\\t\\t\\t\\t<span class=\"thumb_bd\"></span>\\n                        \\n\\t\\t\\t\\t\\t</a>\\n\\t\\t\\t\\t\\t<a href=\"https://blog.naver.com/tkmh1982/222493274248\" class=\"theme_info\" data-clk=\"tcc_fod.list6cont2\" target=\"_blank\">\\n\\t\\t\\t\\t\\t\\t<em class=\"theme_category\"> 레시피</em>\\n\\t\\t\\t\\t\\t\\t<strong class=\"title elss\">술안주 베스트 바지락술찜 레시피 바지락 요리 해감까지</strong>\\n                        <p class=\"desc\">술안주 베스트 바지락술찜 레시피 바지락 요리 해감까지 어제는 엄니 밑반찬 만들어서 갖다 드리고 엄니와 점심 먹고 장을 보러 갔는데 바지락이 싱싱하니 나 좀 데려가 주라~~하는 거 있죠! 요즘 마이 서방님 힘들어 보였는데 비도 오는데 술안주로 딱이다 싶어 바지락 담아 왔답니다 평소에 #바지락요리 좋아하는 남편인지라 바지락을 보더니 입꼬리가 올라가더라고요 #술</p>\\n\\t\\t\\t\\t\\t\\t<div class=\"source_box\">\\n\\t\\t\\t\\t\\t\\t\\t<span class=\"date\">4개월 전</span>\\n\\t\\t\\t\\t\\t\\t\\t<span class=\"source\">\\n                                \\n                                <span class=\"source_inner\">해나리</span>\\n                            </span>\\n\\t\\t\\t\\t\\t\\t</div>\\n\\t\\t\\t\\t\\t</a>\\n\\t\\t\\t\\t</li>\\n\\t\\t\\t\\n\\t\\t\\t\\t<li class=\"theme_item\" data-gdid=\"CAS_9b15cc0d-6df3-11ec-9428-553d71805729\" data-da-position=\"true\">\\n\\t\\t\\t\\t\\t<a href=\"https://blog.naver.com/bookey3/222592687946\" class=\"theme_thumb\" data-clk=\"tcc_fod.list6cont3\" target=\"_blank\">\\n\\t\\t\\t\\t\\t\\t<img  data-src=\"https://s.pstatic.net/dthumb.phinf/?src&#x3D;%22https%3A%2F%2Fs.pstatic.net%2Fstatic%2Fwww%2Fmobile%2Fedit%2F20220105_1095%2Fupload_1641365515408tp86d.JPEG%22&amp;type&#x3D;nf340_228\" alt=\"석화찜 굴찜 딱 10분만 찌세요\" width=\"170\" height=\"114\" onerror=\"this.outerHTML=\\'<span class=\\\\\\'pm_noimg\\\\\\'><span class=\\\\\\'noimg_text\\\\\\'>이미지 준비중</span></span>\\'\">\\n\\t\\t\\t\\t\\t\\t<span class=\"thumb_bd\"></span>\\n                        \\n\\t\\t\\t\\t\\t</a>\\n\\t\\t\\t\\t\\t<a href=\"https://blog.naver.com/bookey3/222592687946\" class=\"theme_info\" data-clk=\"tcc_fod.list6cont3\" target=\"_blank\">\\n\\t\\t\\t\\t\\t\\t<em class=\"theme_category\"> 레시피</em>\\n\\t\\t\\t\\t\\t\\t<strong class=\"title elss\">석화찜 굴찜 딱 10분만 찌세요</strong>\\n                        <p class=\"desc\">해마다 이맘때쯤이면 항상 우리집을 찾아오는 귀한 선물이 있답니다~ 고것이 무엇인고 하니 바로 석화, 다른 말로 하면 굴인데요. 전남 여수에서 굴 양식을 하는 지인이 계신데 꼭 이때쯤 보내주시거든요. 석화찜 굴찜 찌는 법 그래서 어제 택배로 받은 김에 오늘은 석화찜 굴찜 만드는 법 알려드릴게요. 사실 뭐 방법이랄 것까지도 없이 쉽긴 한데 처음 해본다거나 하면</p>\\n\\t\\t\\t\\t\\t\\t<div class=\"source_box\">\\n\\t\\t\\t\\t\\t\\t\\t<span class=\"date\">4주일 전</span>\\n\\t\\t\\t\\t\\t\\t\\t<span class=\"source\">\\n                                \\n                                <span class=\"source_inner\">우쿠리</span>\\n                            </span>\\n\\t\\t\\t\\t\\t\\t</div>\\n\\t\\t\\t\\t\\t</a>\\n\\t\\t\\t\\t</li>\\n\\t\\t\\t\\n\\t\\t\\t\\t<li class=\"theme_item\" data-gdid=\"CAS_315c0e8f-69e0-11ec-9428-f1059db380d7\" data-da-position=\"true\">\\n\\t\\t\\t\\t\\t<a href=\"https://blog.naver.com/mare326/222535121884\" class=\"theme_thumb\" data-clk=\"tcc_fod.list6cont4\" target=\"_blank\">\\n\\t\\t\\t\\t\\t\\t<img  data-src=\"https://s.pstatic.net/dthumb.phinf/?src&#x3D;%22https%3A%2F%2Fs.pstatic.net%2Fstatic%2Fwww%2Fmobile%2Fedit%2F20211231_1095%2Fupload_1640917399956bvZzj.JPEG%22&amp;type&#x3D;nf340_228\" alt=\"느타리버섯요리, 두부버섯샐러드 만드는 법, 다이어트 요리\" width=\"170\" height=\"114\" onerror=\"this.outerHTML=\\'<span class=\\\\\\'pm_noimg\\\\\\'><span class=\\\\\\'noimg_text\\\\\\'>이미지 준비중</span></span>\\'\">\\n\\t\\t\\t\\t\\t\\t<span class=\"thumb_bd\"></span>\\n                        \\n\\t\\t\\t\\t\\t</a>\\n\\t\\t\\t\\t\\t<a href=\"https://blog.naver.com/mare326/222535121884\" class=\"theme_info\" data-clk=\"tcc_fod.list6cont4\" target=\"_blank\">\\n\\t\\t\\t\\t\\t\\t<em class=\"theme_category\"> 레시피</em>\\n\\t\\t\\t\\t\\t\\t<strong class=\"title elss\">느타리버섯요리, 두부버섯샐러드 만드는 법, 다이어트 요리</strong>\\n                        <p class=\"desc\">가을장마가 길어서 그런가... 올가을에는 자연산 버섯이 풍년이라고 하네요. 막내삼촌이 줘서 두세 번 버섯요리를 먹었죠. 김치냉장고에 염장 싸리버섯이 있기는 한데 아껴먹는 중입니다. 자연산 버섯만큼이나 좋아하는 느타리버섯으로 오늘은 느타리버섯두부 샐러드를 만들었어요. 요즘 진짜 다이어트 중이라 저녁으로는 샐러드를 먹는데 버섯두부 샐러드 다이어트 한 그릇 요리</p>\\n\\t\\t\\t\\t\\t\\t<div class=\"source_box\">\\n\\t\\t\\t\\t\\t\\t\\t<span class=\"date\">2개월 전</span>\\n\\t\\t\\t\\t\\t\\t\\t<span class=\"source\">\\n                                \\n                                <span class=\"source_inner\">어부동김반장</span>\\n                            </span>\\n\\t\\t\\t\\t\\t\\t</div>\\n\\t\\t\\t\\t\\t</a>\\n\\t\\t\\t\\t</li>\\n\\t\\t\\t\\n\\t\\t\\t\\t<li class=\"theme_item\" data-gdid=\"CAS_a1177058-6f74-11ec-8dd3-47f4fee4fdb8\" data-da-position=\"true\">\\n\\t\\t\\t\\t\\t<a href=\"https://post.naver.com/viewer/postView.naver?volumeNo&#x3D;32890067&amp;memberNo&#x3D;36529745\" class=\"theme_thumb\" data-clk=\"tcc_fod.list6cont5\" target=\"_blank\">\\n\\t\\t\\t\\t\\t\\t<img  data-src=\"https://s.pstatic.net/dthumb.phinf/?src&#x3D;%22https%3A%2F%2Fs.pstatic.net%2Fstatic%2Fwww%2Fmobile%2Fedit%2F20220107_1095%2Fupload_1641531219368xOa0f.JPEG%22&amp;type&#x3D;nf340_228\" alt=\"2021 외식 트렌드 총정리 #우리술 #오마카세 #도넛 #비건\" width=\"170\" height=\"114\" onerror=\"this.outerHTML=\\'<span class=\\\\\\'pm_noimg\\\\\\'><span class=\\\\\\'noimg_text\\\\\\'>이미지 준비중</span></span>\\'\">\\n\\t\\t\\t\\t\\t\\t<span class=\"thumb_bd\"></span>\\n                        \\n\\t\\t\\t\\t\\t</a>\\n\\t\\t\\t\\t\\t<a href=\"https://post.naver.com/viewer/postView.naver?volumeNo&#x3D;32890067&amp;memberNo&#x3D;36529745\" class=\"theme_info\" data-clk=\"tcc_fod.list6cont5\" target=\"_blank\">\\n\\t\\t\\t\\t\\t\\t<em class=\"theme_category\"> 레시피</em>\\n\\t\\t\\t\\t\\t\\t<strong class=\"title elss\">2021 외식 트렌드 총정리 #우리술 #오마카세 #도넛 #비건</strong>\\n                        <p class=\"desc\">2021 외식업계 트렌드 리포트 외식업 종사자가 뽑은 베스트 브랜드&amp;트렌드 코로나19와 함께 한 두번째 해가 저물고 있다. 끝날 것 같지 않았던 최악의 상황. 버티고 버텨 더욱 단단하게 성장한 곳이 있는가 하면 버티지 못해 결국 무너져내린 곳들도 있다. 극단의 양극화다. 힘들었던 만큼 치열했던 한해를 정리하고 새로운 한해를 준비할 때다. Tiger </p>\\n\\t\\t\\t\\t\\t\\t<div class=\"source_box\">\\n\\t\\t\\t\\t\\t\\t\\t<span class=\"date\">1주일 전</span>\\n\\t\\t\\t\\t\\t\\t\\t<span class=\"source\">\\n                                \\n                                <span class=\"source_inner\">월간식당</span>\\n                            </span>\\n\\t\\t\\t\\t\\t\\t</div>\\n\\t\\t\\t\\t\\t</a>\\n\\t\\t\\t\\t</li>\\n\\t\\t\\t\\n\\t\\t</ul>\\n\\t</div>\\n</div>\\n<div class=\"group_theme\" data-block-id=\"\" data-block-code=\"PC-THEME-LIVING-MOBILE-RANKING-DEFAULT-6\" data-block-type=\"MATERIALS\" data-template-code=\"MOBILE-RANKING-LIST\"\\n\\n\\t data-da=\"container\"\\n\\t data-index=\"\"\\n     data-page=\"4\"\\n\\t style=\"display:none\">\\n\\n\\t<div class=\"list_theme_wrap\">\\n\\t\\t<ul class=\"list_theme\">\\n\\t\\t\\t\\n\\t\\t\\t\\t<li class=\"theme_item\" data-gdid=\"CAS_e58c23a1-69e0-11ec-9428-556d643c0e23\" data-da-position=\"true\">\\n\\t\\t\\t\\t\\t<a href=\"https://blog.naver.com/tangkwon/222414238752\" class=\"theme_thumb\" data-clk=\"tcc_fod.list7cont1\" target=\"_blank\">\\n\\t\\t\\t\\t\\t\\t<img  data-src=\"https://s.pstatic.net/dthumb.phinf/?src&#x3D;%22https%3A%2F%2Fs.pstatic.net%2Fstatic%2Fwww%2Fmobile%2Fedit%2F20211231_1095%2Fupload_1640917370075ktkrz.JPEG%22&amp;type&#x3D;nf340_228\" alt=\"들깨 연근 샐러드 부드럽고 아삭한 식감의 연근들깨무침 연근 요리\" width=\"170\" height=\"114\" onerror=\"this.outerHTML=\\'<span class=\\\\\\'pm_noimg\\\\\\'><span class=\\\\\\'noimg_text\\\\\\'>이미지 준비중</span></span>\\'\">\\n\\t\\t\\t\\t\\t\\t<span class=\"thumb_bd\"></span>\\n                        \\n\\t\\t\\t\\t\\t</a>\\n\\t\\t\\t\\t\\t<a href=\"https://blog.naver.com/tangkwon/222414238752\" class=\"theme_info\" data-clk=\"tcc_fod.list7cont1\" target=\"_blank\">\\n\\t\\t\\t\\t\\t\\t<em class=\"theme_category\"> 레시피</em>\\n\\t\\t\\t\\t\\t\\t<strong class=\"title elss\">들깨 연근 샐러드 부드럽고 아삭한 식감의 연근들깨무침 연근 요리</strong>\\n                        <p class=\"desc\">지난주 어머님 집에 갔을 때 큰형님이 만드셨다며 연근샐러드를 꺼내시는데 맛있더라고요. 삶은 연근에 들깨가루 넣고 무친 건데요. 형님도 어느 식당에 갔더니 이 샐러드가 나왔다면서 만들어 보셨다네요? 저도 지난해였던 가 뷔페가서 맛 보았던 연근샐러드 만든 적 있었는데 집밥의 주부 마음은 같은 가 봐요! : ) 큰형님은 워낙 음식 솜씨가 좋으니깐,,, 저도 집에</p>\\n\\t\\t\\t\\t\\t\\t<div class=\"source_box\">\\n\\t\\t\\t\\t\\t\\t\\t<span class=\"date\">6개월 전</span>\\n\\t\\t\\t\\t\\t\\t\\t<span class=\"source\">\\n                                \\n                                <span class=\"source_inner\">탱이</span>\\n                            </span>\\n\\t\\t\\t\\t\\t\\t</div>\\n\\t\\t\\t\\t\\t</a>\\n\\t\\t\\t\\t</li>\\n\\t\\t\\t\\n\\t\\t\\t\\t<li class=\"theme_item\" data-gdid=\"CAS_a1177059-6f74-11ec-8dd3-b1cdca5281ad\" data-da-position=\"true\">\\n\\t\\t\\t\\t\\t<a href=\"https://post.naver.com/viewer/postView.naver?volumeNo&#x3D;33080742&amp;memberNo&#x3D;31588952\" class=\"theme_thumb\" data-clk=\"tcc_fod.list7cont2\" target=\"_blank\">\\n\\t\\t\\t\\t\\t\\t<img  data-src=\"https://s.pstatic.net/dthumb.phinf/?src&#x3D;%22https%3A%2F%2Fs.pstatic.net%2Fstatic%2Fwww%2Fmobile%2Fedit%2F20220107_1095%2Fupload_1641531358592B6Px1.JPEG%22&amp;type&#x3D;nf340_228\" alt=\"요즘 새롭게 부상하는 부산 스페셜티 커피 5\" width=\"170\" height=\"114\" onerror=\"this.outerHTML=\\'<span class=\\\\\\'pm_noimg\\\\\\'><span class=\\\\\\'noimg_text\\\\\\'>이미지 준비중</span></span>\\'\">\\n\\t\\t\\t\\t\\t\\t<span class=\"thumb_bd\"></span>\\n                        \\n\\t\\t\\t\\t\\t</a>\\n\\t\\t\\t\\t\\t<a href=\"https://post.naver.com/viewer/postView.naver?volumeNo&#x3D;33080742&amp;memberNo&#x3D;31588952\" class=\"theme_info\" data-clk=\"tcc_fod.list7cont2\" target=\"_blank\">\\n\\t\\t\\t\\t\\t\\t<em class=\"theme_category\"> 레시피</em>\\n\\t\\t\\t\\t\\t\\t<strong class=\"title elss\">요즘 새롭게 부상하는 부산 스페셜티 커피 5</strong>\\n                        <p class=\"desc\">안녕, 나는 커피를 마시고 글을 쓰는 심재범이다. 지난번 기사 부산 스페셜티 커피의 판타스틱4에 이어, 이번에는 새롭게 부상하는 스페셜티 커피 매장을 다섯 군데 소개할 예정이다. 부산의 커피가 재밌는 이유는 흥행과 작품성을 골고루 담보하는 영화 같기 때문이다. 오늘 소개할 카페 역시 재미와 흥행 모두 보장한다. [1]Hytte roastery히떼 로스터리 </p>\\n\\t\\t\\t\\t\\t\\t<div class=\"source_box\">\\n\\t\\t\\t\\t\\t\\t\\t<span class=\"date\">4일 전</span>\\n\\t\\t\\t\\t\\t\\t\\t<span class=\"source\">\\n                                \\n                                <span class=\"source_inner\">디에디트</span>\\n                            </span>\\n\\t\\t\\t\\t\\t\\t</div>\\n\\t\\t\\t\\t\\t</a>\\n\\t\\t\\t\\t</li>\\n\\t\\t\\t\\n\\t\\t\\t\\t<li class=\"theme_item\" data-gdid=\"CAS_315c0e86-69e0-11ec-9428-eb5a68f817d0\" data-da-position=\"true\">\\n\\t\\t\\t\\t\\t<a href=\"https://blog.naver.com/jiwon_n37/222603035316\" class=\"theme_thumb\" data-clk=\"tcc_fod.list7cont3\" target=\"_blank\">\\n\\t\\t\\t\\t\\t\\t<img  data-src=\"https://s.pstatic.net/dthumb.phinf/?src&#x3D;%22https%3A%2F%2Fs.pstatic.net%2Fstatic%2Fwww%2Fmobile%2Fedit%2F20211231_1095%2Fupload_1640917306400frT8b.JPEG%22&amp;type&#x3D;nf340_228\" alt=\"야채샐러드 종류, 구운 버섯샐러드 만들기부터 발사믹 드레싱까지!\" width=\"170\" height=\"114\" onerror=\"this.outerHTML=\\'<span class=\\\\\\'pm_noimg\\\\\\'><span class=\\\\\\'noimg_text\\\\\\'>이미지 준비중</span></span>\\'\">\\n\\t\\t\\t\\t\\t\\t<span class=\"thumb_bd\"></span>\\n                        \\n\\t\\t\\t\\t\\t</a>\\n\\t\\t\\t\\t\\t<a href=\"https://blog.naver.com/jiwon_n37/222603035316\" class=\"theme_info\" data-clk=\"tcc_fod.list7cont3\" target=\"_blank\">\\n\\t\\t\\t\\t\\t\\t<em class=\"theme_category\"> 레시피</em>\\n\\t\\t\\t\\t\\t\\t<strong class=\"title elss\">야채샐러드 종류, 구운 버섯샐러드 만들기부터 발사믹 드레싱까지!</strong>\\n                        <p class=\"desc\">야채샐러드 종류, 구운 버섯샐러드 만들기부터 발사믹 드레싱까지! 어젯밤부터 계속 일이 많아서 다 늦게서야 오늘의 첫 번째 포스팅을 해 봅니다. ㅎㅎ 아무래도 홈파티 음식을 준비하다 보면 메인은 육류이기가 쉬우니 이렇게 샐러드 한 가지는 야채샐러드 종류로 준비하면 구성이 딱 좋아요~ 그래서 오늘 샐러드는 요전에도 포스팅했던 구운버섯샐러드 만들기이구요, 발사믹</p>\\n\\t\\t\\t\\t\\t\\t<div class=\"source_box\">\\n\\t\\t\\t\\t\\t\\t\\t<span class=\"date\">2주일 전</span>\\n\\t\\t\\t\\t\\t\\t\\t<span class=\"source\">\\n                                \\n                                <span class=\"source_inner\">아무튼 봄</span>\\n                            </span>\\n\\t\\t\\t\\t\\t\\t</div>\\n\\t\\t\\t\\t\\t</a>\\n\\t\\t\\t\\t</li>\\n\\t\\t\\t\\n\\t\\t\\t\\t<li class=\"theme_item\" data-gdid=\"CAS_e58c23a3-69e0-11ec-9428-0302e51057e2\" data-da-position=\"true\">\\n\\t\\t\\t\\t\\t<a href=\"https://blog.naver.com/yjk535/222587551319\" class=\"theme_thumb\" data-clk=\"tcc_fod.list7cont4\" target=\"_blank\">\\n\\t\\t\\t\\t\\t\\t<img  data-src=\"https://s.pstatic.net/dthumb.phinf/?src&#x3D;%22https%3A%2F%2Fs.pstatic.net%2Fstatic%2Fwww%2Fmobile%2Fedit%2F20211231_1095%2Fupload_1640917319153TPrfo.JPEG%22&amp;type&#x3D;nf340_228\" alt=\"배추 겉절이 샐러드 한 끼 뚝딱 만들기 쉬운 아삭한 배추 요리\" width=\"170\" height=\"114\" onerror=\"this.outerHTML=\\'<span class=\\\\\\'pm_noimg\\\\\\'><span class=\\\\\\'noimg_text\\\\\\'>이미지 준비중</span></span>\\'\">\\n\\t\\t\\t\\t\\t\\t<span class=\"thumb_bd\"></span>\\n                        \\n\\t\\t\\t\\t\\t</a>\\n\\t\\t\\t\\t\\t<a href=\"https://blog.naver.com/yjk535/222587551319\" class=\"theme_info\" data-clk=\"tcc_fod.list7cont4\" target=\"_blank\">\\n\\t\\t\\t\\t\\t\\t<em class=\"theme_category\"> 레시피</em>\\n\\t\\t\\t\\t\\t\\t<strong class=\"title elss\">배추 겉절이 샐러드 한 끼 뚝딱 만들기 쉬운 아삭한 배추 요리</strong>\\n                        <p class=\"desc\">배추 겉절이 만들기 배추가 많으니 배추로 이것저것 만들어 먹는데 이 #배추겉절이 #배추샐러드 갖은 한식 양념 소스 만들어 먹으니 정말 맛있어요. 고소하게 만들어 다른 음식이나 고기 먹을 때 먹으니 아삭아삭 정말 좋더라고요. 소스 만들어 쌈 배추 썬 위에 뿌려주고 먹을 때 살살 섞어먹으면 되는 거라 만들기도 정말 쉬워요. 배추 ¼쪽 잘라서 속에 쌈으로 먹을 </p>\\n\\t\\t\\t\\t\\t\\t<div class=\"source_box\">\\n\\t\\t\\t\\t\\t\\t\\t<span class=\"date\">1개월 전</span>\\n\\t\\t\\t\\t\\t\\t\\t<span class=\"source\">\\n                                \\n                                <span class=\"source_inner\">요리보고</span>\\n                            </span>\\n\\t\\t\\t\\t\\t\\t</div>\\n\\t\\t\\t\\t\\t</a>\\n\\t\\t\\t\\t</li>\\n\\t\\t\\t\\n\\t\\t\\t\\t<li class=\"theme_item\" data-gdid=\"CAS_3d68a977-6f87-11ec-8dd3-635355032a47\" data-da-position=\"true\">\\n\\t\\t\\t\\t\\t<a href=\"https://blog.naver.com/minimini0107/222605277866\" class=\"theme_thumb\" data-clk=\"tcc_fod.list7cont5\" target=\"_blank\">\\n\\t\\t\\t\\t\\t\\t<img  data-src=\"https://s.pstatic.net/dthumb.phinf/?src&#x3D;%22https%3A%2F%2Fs.pstatic.net%2Fstatic%2Fwww%2Fmobile%2Fedit%2F20211231_1095%2Fupload_1640917340907xiKfi.JPEG%22&amp;type&#x3D;nf340_228\" alt=\"리코타치즈 만들기 간단한 아침샐러드로 리코타치즈샐러드 냠냠\" width=\"170\" height=\"114\" onerror=\"this.outerHTML=\\'<span class=\\\\\\'pm_noimg\\\\\\'><span class=\\\\\\'noimg_text\\\\\\'>이미지 준비중</span></span>\\'\">\\n\\t\\t\\t\\t\\t\\t<span class=\"thumb_bd\"></span>\\n                        \\n\\t\\t\\t\\t\\t</a>\\n\\t\\t\\t\\t\\t<a href=\"https://blog.naver.com/minimini0107/222605277866\" class=\"theme_info\" data-clk=\"tcc_fod.list7cont5\" target=\"_blank\">\\n\\t\\t\\t\\t\\t\\t<em class=\"theme_category\"> 레시피</em>\\n\\t\\t\\t\\t\\t\\t<strong class=\"title elss\">리코타치즈 만들기 간단한 아침샐러드로 리코타치즈샐러드 냠냠</strong>\\n                        <p class=\"desc\">리코타치즈 만들기 간단한 아침샐러드로 리코타치즈샐러드 냠냠 했지요 :) 주말 내내 잘 먹었더니 살이 또 포동포동하게 쪘네요. 오늘부터 또다시 다이어트를 시작해야겠어요. 다이어트에는 역시 샐러드! 하지만 그냥 샐러드는 맛이가 없어서 잘 안 들어가더라고요. 그래서 리코타치즈 만들어 리코타치즈샐러드를 만들었어요. 푸릇푸릇 신선한 채소에 여러 가지 제철 과일 그리</p>\\n\\t\\t\\t\\t\\t\\t<div class=\"source_box\">\\n\\t\\t\\t\\t\\t\\t\\t<span class=\"date\">2주일 전</span>\\n\\t\\t\\t\\t\\t\\t\\t<span class=\"source\">\\n                                \\n                                <span class=\"source_inner\">뽕림이</span>\\n                            </span>\\n\\t\\t\\t\\t\\t\\t</div>\\n\\t\\t\\t\\t\\t</a>\\n\\t\\t\\t\\t</li>\\n\\t\\t\\t\\n\\t\\t</ul>\\n\\t</div>\\n</div>\\n<div class=\"group_theme\" data-block-id=\"\" data-block-code=\"PC-THEME-LIVING-MOBILE-RANKING-DEFAULT-7\" data-block-type=\"MATERIALS\" data-template-code=\"MOBILE-RANKING-LIST\"\\n\\n\\t data-da=\"container\"\\n\\t data-index=\"\"\\n     data-page=\"4\"\\n\\t style=\"display:none\">\\n\\n\\t<div class=\"list_theme_wrap\">\\n\\t\\t<ul class=\"list_theme\">\\n\\t\\t\\t\\n\\t\\t\\t\\t<li class=\"theme_item\" data-gdid=\"CAS_e58c23a4-69e0-11ec-9428-1fecb177ee87\" data-da-position=\"true\">\\n\\t\\t\\t\\t\\t<a href=\"https://blog.naver.com/bsy615/222606935024\" class=\"theme_thumb\" data-clk=\"tcc_fod.list8cont1\" target=\"_blank\">\\n\\t\\t\\t\\t\\t\\t<img  data-src=\"https://s.pstatic.net/dthumb.phinf/?src&#x3D;%22https%3A%2F%2Fs.pstatic.net%2Fstatic%2Fwww%2Fmobile%2Fedit%2F20211231_1095%2Fupload_1640917355547uihq5.JPEG%22&amp;type&#x3D;nf340_228\" alt=\"소고기샐러드 오리엔탈드레싱 만들기 소고기 요리\" width=\"170\" height=\"114\" onerror=\"this.outerHTML=\\'<span class=\\\\\\'pm_noimg\\\\\\'><span class=\\\\\\'noimg_text\\\\\\'>이미지 준비중</span></span>\\'\">\\n\\t\\t\\t\\t\\t\\t<span class=\"thumb_bd\"></span>\\n                        \\n\\t\\t\\t\\t\\t</a>\\n\\t\\t\\t\\t\\t<a href=\"https://blog.naver.com/bsy615/222606935024\" class=\"theme_info\" data-clk=\"tcc_fod.list8cont1\" target=\"_blank\">\\n\\t\\t\\t\\t\\t\\t<em class=\"theme_category\"> 레시피</em>\\n\\t\\t\\t\\t\\t\\t<strong class=\"title elss\">소고기샐러드 오리엔탈드레싱 만들기 소고기 요리</strong>\\n                        <p class=\"desc\">적은 양의 고기로 아주 푸짐하니 배부르게 먹을 수 있는 소고기샐러드 만들기입니다. 분명 적은 양의 고기가 들어갔음에도 기분 상하지 않고 든든하니 천천히 즐기며 먹을 수 있는 여유도 생기게 하고요. 냉장고에 조금씩 남아있는 야채들 처리용으로도 좋고 친구와 먹어도 좋지만 혼자서 와인 한잔하며 먹기 딱 좋은 메뉴이기도 해요. 소고기 요리를 얼마 안 먹은 것 같은</p>\\n\\t\\t\\t\\t\\t\\t<div class=\"source_box\">\\n\\t\\t\\t\\t\\t\\t\\t<span class=\"date\">1주일 전</span>\\n\\t\\t\\t\\t\\t\\t\\t<span class=\"source\">\\n                                \\n                                <span class=\"source_inner\">졸리</span>\\n                            </span>\\n\\t\\t\\t\\t\\t\\t</div>\\n\\t\\t\\t\\t\\t</a>\\n\\t\\t\\t\\t</li>\\n\\t\\t\\t\\n\\t\\t\\t\\t<li class=\"theme_item\" data-gdid=\"CAS_3d68a976-6f87-11ec-8dd3-57346e1f594c\" data-da-position=\"true\">\\n\\t\\t\\t\\t\\t<a href=\"https://blog.naver.com/kimhy004/222602665675\" class=\"theme_thumb\" data-clk=\"tcc_fod.list8cont2\" target=\"_blank\">\\n\\t\\t\\t\\t\\t\\t<img  data-src=\"https://s.pstatic.net/dthumb.phinf/?src&#x3D;%22https%3A%2F%2Fs.pstatic.net%2Fstatic%2Fwww%2Fmobile%2Fedit%2F20211231_1095%2Fupload_1640917434714FDRuc.JPEG%22&amp;type&#x3D;nf340_228\" alt=\"토마토 카프레제 상큼한 발사믹 소스 만들기\" width=\"170\" height=\"114\" onerror=\"this.outerHTML=\\'<span class=\\\\\\'pm_noimg\\\\\\'><span class=\\\\\\'noimg_text\\\\\\'>이미지 준비중</span></span>\\'\">\\n\\t\\t\\t\\t\\t\\t<span class=\"thumb_bd\"></span>\\n                        \\n\\t\\t\\t\\t\\t</a>\\n\\t\\t\\t\\t\\t<a href=\"https://blog.naver.com/kimhy004/222602665675\" class=\"theme_info\" data-clk=\"tcc_fod.list8cont2\" target=\"_blank\">\\n\\t\\t\\t\\t\\t\\t<em class=\"theme_category\"> 레시피</em>\\n\\t\\t\\t\\t\\t\\t<strong class=\"title elss\">토마토 카프레제 상큼한 발사믹 소스 만들기</strong>\\n                        <p class=\"desc\">안녕하세요 들꽃향기입니다. #토마토요리 로 #토마토카프레제 샐러드 만들기~~! #크리스마스음식 으로 #샐러드 종류를 올리게 되는데요. 바질, 토마토, 치즈의 조합이 예뻐서 #홈파티음식 으로 올리면 비주얼이 좋아서 눈이 더 즐거워집니다. 기본적으로 사용하는 발사믹식초를 활용한 #발사믹소스 만들기 #발사믹드레싱 도 보여드릴게요. 예전에는 큰 토.마.토로 모짜렐</p>\\n\\t\\t\\t\\t\\t\\t<div class=\"source_box\">\\n\\t\\t\\t\\t\\t\\t\\t<span class=\"date\">2주일 전</span>\\n\\t\\t\\t\\t\\t\\t\\t<span class=\"source\">\\n                                \\n                                <span class=\"source_inner\">들꽃향기</span>\\n                            </span>\\n\\t\\t\\t\\t\\t\\t</div>\\n\\t\\t\\t\\t\\t</a>\\n\\t\\t\\t\\t</li>\\n\\t\\t\\t\\n\\t\\t\\t\\t<li class=\"theme_item\" data-gdid=\"CAS_e58c23a2-69e0-11ec-9428-492a458379da\" data-da-position=\"true\">\\n\\t\\t\\t\\t\\t<a href=\"https://blog.naver.com/musoi99/222506267424\" class=\"theme_thumb\" data-clk=\"tcc_fod.list8cont3\" target=\"_blank\">\\n\\t\\t\\t\\t\\t\\t<img  data-src=\"https://s.pstatic.net/dthumb.phinf/?src&#x3D;%22https%3A%2F%2Fs.pstatic.net%2Fstatic%2Fwww%2Fmobile%2Fedit%2F20211231_1095%2Fupload_1640917328895KE4jH.JPEG%22&amp;type&#x3D;nf340_228\" alt=\"구운 늙은 호박 샐러드 만들기\" width=\"170\" height=\"114\" onerror=\"this.outerHTML=\\'<span class=\\\\\\'pm_noimg\\\\\\'><span class=\\\\\\'noimg_text\\\\\\'>이미지 준비중</span></span>\\'\">\\n\\t\\t\\t\\t\\t\\t<span class=\"thumb_bd\"></span>\\n                        \\n\\t\\t\\t\\t\\t</a>\\n\\t\\t\\t\\t\\t<a href=\"https://blog.naver.com/musoi99/222506267424\" class=\"theme_info\" data-clk=\"tcc_fod.list8cont3\" target=\"_blank\">\\n\\t\\t\\t\\t\\t\\t<em class=\"theme_category\"> 레시피</em>\\n\\t\\t\\t\\t\\t\\t<strong class=\"title elss\">구운 늙은 호박 샐러드 만들기</strong>\\n                        <p class=\"desc\">샐러드를 만들 때 보통은 그냥 샐러드 채소에 올리브유와 발사믹식초 정도만 뿌린 후 위에는 치즈 혹은 견과류를 곁들여서 먹는 편입니다. 하지만 좀 더 풍성하게 먹고 싶을 땐 약간 귀찮아도 다양한 재료를 넣어서 먹고 있는데요. 오늘은 구운 늙은 호박을 곁들였습니다. 달착지근한 맛을 가지고 있는 늙은 호박은 버터에 구우면 참 맛이 좋은데 그렇게 샐러드로 만들어 </p>\\n\\t\\t\\t\\t\\t\\t<div class=\"source_box\">\\n\\t\\t\\t\\t\\t\\t\\t<span class=\"date\">2개월 전</span>\\n\\t\\t\\t\\t\\t\\t\\t<span class=\"source\">\\n                                \\n                                <span class=\"source_inner\">미상유</span>\\n                            </span>\\n\\t\\t\\t\\t\\t\\t</div>\\n\\t\\t\\t\\t\\t</a>\\n\\t\\t\\t\\t</li>\\n\\t\\t\\t\\n\\t\\t\\t\\t<li class=\"theme_item\" data-gdid=\"CAS_e58c23a0-69e0-11ec-9428-11bbb3bf6eac\" data-da-position=\"true\">\\n\\t\\t\\t\\t\\t<a href=\"https://blog.naver.com/fruit528/222588757525\" class=\"theme_thumb\" data-clk=\"tcc_fod.list8cont4\" target=\"_blank\">\\n\\t\\t\\t\\t\\t\\t<img  data-src=\"https://s.pstatic.net/dthumb.phinf/?src&#x3D;%22https%3A%2F%2Fs.pstatic.net%2Fstatic%2Fwww%2Fmobile%2Fedit%2F20211231_1095%2Fupload_1640917349395cFtAw.JPEG%22&amp;type&#x3D;nf340_228\" alt=\"홈카페메뉴.. 부드럽고 고소한 고구마 샐러드 만드는법\" width=\"170\" height=\"114\" onerror=\"this.outerHTML=\\'<span class=\\\\\\'pm_noimg\\\\\\'><span class=\\\\\\'noimg_text\\\\\\'>이미지 준비중</span></span>\\'\">\\n\\t\\t\\t\\t\\t\\t<span class=\"thumb_bd\"></span>\\n                        \\n\\t\\t\\t\\t\\t</a>\\n\\t\\t\\t\\t\\t<a href=\"https://blog.naver.com/fruit528/222588757525\" class=\"theme_info\" data-clk=\"tcc_fod.list8cont4\" target=\"_blank\">\\n\\t\\t\\t\\t\\t\\t<em class=\"theme_category\"> 레시피</em>\\n\\t\\t\\t\\t\\t\\t<strong class=\"title elss\">홈카페메뉴.. 부드럽고 고소한 고구마 샐러드 만드는법</strong>\\n                        <p class=\"desc\">안녕하세요 이웃님들~~~ 요즘 날씨 왜 이렇게 따뜻한가요...일출본다고 새벽에 잠깐 만성리 해변에 다녀왔는데 실내복에 조끼 하나 걸치고 다녀왔는데도 전혀 춥지 않고 새벽바람도 차게 느껴지지가 않더라고요... 아마 점심때쯤엔 기온이 올라가 더 따뜻해질 텐데 말입니다 어제는 아파트 엘베에서 아파트 이웃님을 만났는데 요즘 날씨 겨울 날씨 맞냐고... 아니 우리 </p>\\n\\t\\t\\t\\t\\t\\t<div class=\"source_box\">\\n\\t\\t\\t\\t\\t\\t\\t<span class=\"date\">1개월 전</span>\\n\\t\\t\\t\\t\\t\\t\\t<span class=\"source\">\\n                                \\n                                <span class=\"source_inner\">과일짱</span>\\n                            </span>\\n\\t\\t\\t\\t\\t\\t</div>\\n\\t\\t\\t\\t\\t</a>\\n\\t\\t\\t\\t</li>\\n\\t\\t\\t\\n\\t\\t\\t\\t<li class=\"theme_item\" data-gdid=\"CAS_315c0e8e-69e0-11ec-9428-25585b69e39f\" data-da-position=\"true\">\\n\\t\\t\\t\\t\\t<a href=\"https://blog.naver.com/sunwly/222602520801\" class=\"theme_thumb\" data-clk=\"tcc_fod.list8cont5\" target=\"_blank\">\\n\\t\\t\\t\\t\\t\\t<img  data-src=\"https://s.pstatic.net/dthumb.phinf/?src&#x3D;%22https%3A%2F%2Fs.pstatic.net%2Fstatic%2Fwww%2Fmobile%2Fedit%2F20211231_1095%2Fupload_1640917392779Cbd1A.JPEG%22&amp;type&#x3D;nf340_228\" alt=\"유린기 만드는법 유린기소스 바삭한 튀김옷 튀김반죽 닭가슴살튀김 요리 연말 홈파티 음식\" width=\"170\" height=\"114\" onerror=\"this.outerHTML=\\'<span class=\\\\\\'pm_noimg\\\\\\'><span class=\\\\\\'noimg_text\\\\\\'>이미지 준비중</span></span>\\'\">\\n\\t\\t\\t\\t\\t\\t<span class=\"thumb_bd\"></span>\\n                        \\n\\t\\t\\t\\t\\t</a>\\n\\t\\t\\t\\t\\t<a href=\"https://blog.naver.com/sunwly/222602520801\" class=\"theme_info\" data-clk=\"tcc_fod.list8cont5\" target=\"_blank\">\\n\\t\\t\\t\\t\\t\\t<em class=\"theme_category\"> 레시피</em>\\n\\t\\t\\t\\t\\t\\t<strong class=\"title elss\">유린기 만드는법 유린기소스 바삭한 튀김옷 튀김반죽 닭가슴살튀김 요리 연말 홈파티 음식</strong>\\n                        <p class=\"desc\">#바삭한튀김옷 #유린기 새콤달콤매콤한 #유린기소스 로 #치킨샐러드 준비해 봤어요 #연말홈파티 #홈파티음식 #연말음식 으로 상차림 하면 푸짐하고 근사하잖아요 아이들이 모일 때는 파스타나 피자, 스테이크 등 양식 스타일을 세팅하면 좋고 어른들이 모일 때는 이렇게 중식샐러드 유린기와 한식의 갈비요리, 일식의 회 등 요리 위주의 음식으로 상차림 하면 #연말홈파티음</p>\\n\\t\\t\\t\\t\\t\\t<div class=\"source_box\">\\n\\t\\t\\t\\t\\t\\t\\t<span class=\"date\">2주일 전</span>\\n\\t\\t\\t\\t\\t\\t\\t<span class=\"source\">\\n                                \\n                                <span class=\"source_inner\">각설탕식구들</span>\\n                            </span>\\n\\t\\t\\t\\t\\t\\t</div>\\n\\t\\t\\t\\t\\t</a>\\n\\t\\t\\t\\t</li>\\n\\t\\t\\t\\n\\t\\t</ul>\\n\\t</div>\\n</div>\\n<div class=\"group_theme\" data-block-id=\"\" data-block-code=\"PC-THEME-LIVING-MOBILE-RANKING-DEFAULT-8\" data-block-type=\"MATERIALS\" data-template-code=\"MOBILE-RANKING-LIST\"\\n\\n\\t data-da=\"container\"\\n\\t data-index=\"\"\\n     data-page=\"5\"\\n\\t style=\"display:none\">\\n\\n\\t<div class=\"list_theme_wrap\">\\n\\t\\t<ul class=\"list_theme\">\\n\\t\\t\\t\\n\\t\\t\\t\\t<li class=\"theme_item\" data-gdid=\"CAS_fe54a92a-69de-11ec-9428-712dc2ea21c7\" data-da-position=\"true\">\\n\\t\\t\\t\\t\\t<a href=\"https://blog.naver.com/eun06370/222605005392\" class=\"theme_thumb\" data-clk=\"tcc_fod.list9cont1\" target=\"_blank\">\\n\\t\\t\\t\\t\\t\\t<img  data-src=\"https://s.pstatic.net/dthumb.phinf/?src&#x3D;%22https%3A%2F%2Fs.pstatic.net%2Fstatic%2Fwww%2Fmobile%2Fedit%2F20211231_1095%2Fupload_1640917157577fn7vK.JPEG%22&amp;type&#x3D;nf340_228\" alt=\"밥반찬도 가능한 맵지않은 지코바 만들기 레시피~\" width=\"170\" height=\"114\" onerror=\"this.outerHTML=\\'<span class=\\\\\\'pm_noimg\\\\\\'><span class=\\\\\\'noimg_text\\\\\\'>이미지 준비중</span></span>\\'\">\\n\\t\\t\\t\\t\\t\\t<span class=\"thumb_bd\"></span>\\n                        \\n\\t\\t\\t\\t\\t</a>\\n\\t\\t\\t\\t\\t<a href=\"https://blog.naver.com/eun06370/222605005392\" class=\"theme_info\" data-clk=\"tcc_fod.list9cont1\" target=\"_blank\">\\n\\t\\t\\t\\t\\t\\t<em class=\"theme_category\"> 레시피</em>\\n\\t\\t\\t\\t\\t\\t<strong class=\"title elss\">밥반찬도 가능한 맵지않은 지코바 만들기 레시피~</strong>\\n                        <p class=\"desc\">한동안 야식으로 지코바를 좀 시켜먹었었는데 배달음식 먹는걸 줄이기도하고 살도 자꾸 쪄서 자연스럽게 멀어진 그음식 지코바!! 간만에 지코바가 땡겨서 한번 만들어 봤다~~ 재료는 닭다리살, 밀떡 두줌, 라면 한봉지 양념은 고추장 3큰술 고춧가루 2큰술 케찹 6큰술 설탕 6큰술 간장 8큰술 마늘 3큰술 맛술 2큰술 올리고당 8큰술 맵찔이 남편을 위해 맵지않게 만</p>\\n\\t\\t\\t\\t\\t\\t<div class=\"source_box\">\\n\\t\\t\\t\\t\\t\\t\\t<span class=\"date\">2주일 전</span>\\n\\t\\t\\t\\t\\t\\t\\t<span class=\"source\">\\n                                \\n                                <span class=\"source_inner\">주민3</span>\\n                            </span>\\n\\t\\t\\t\\t\\t\\t</div>\\n\\t\\t\\t\\t\\t</a>\\n\\t\\t\\t\\t</li>\\n\\t\\t\\t\\n\\t\\t\\t\\t<li class=\"theme_item\" data-gdid=\"CAS_fe54a925-69de-11ec-9428-0b744fa549e3\" data-da-position=\"true\">\\n\\t\\t\\t\\t\\t<a href=\"https://blog.naver.com/lyun1024/222522443627\" class=\"theme_thumb\" data-clk=\"tcc_fod.list9cont2\" target=\"_blank\">\\n\\t\\t\\t\\t\\t\\t<img  data-src=\"https://s.pstatic.net/dthumb.phinf/?src&#x3D;%22https%3A%2F%2Fs.pstatic.net%2Fstatic%2Fwww%2Fmobile%2Fedit%2F20211231_1095%2Fupload_1640916888001UnHI6.JPEG%22&amp;type&#x3D;nf340_228\" alt=\"꽃양파튀김! 블루밍 어니언 에어프라이어 양파튀김, 양파요리~\" width=\"170\" height=\"114\" onerror=\"this.outerHTML=\\'<span class=\\\\\\'pm_noimg\\\\\\'><span class=\\\\\\'noimg_text\\\\\\'>이미지 준비중</span></span>\\'\">\\n\\t\\t\\t\\t\\t\\t<span class=\"thumb_bd\"></span>\\n                        \\n\\t\\t\\t\\t\\t</a>\\n\\t\\t\\t\\t\\t<a href=\"https://blog.naver.com/lyun1024/222522443627\" class=\"theme_info\" data-clk=\"tcc_fod.list9cont2\" target=\"_blank\">\\n\\t\\t\\t\\t\\t\\t<em class=\"theme_category\"> 레시피</em>\\n\\t\\t\\t\\t\\t\\t<strong class=\"title elss\">꽃양파튀김! 블루밍 어니언 에어프라이어 양파튀김, 양파요리~</strong>\\n                        <p class=\"desc\">꽃양파튀김! 블루밍 어니언 에어프라이어 양파튀김, 양파요리~ 이웃님들 어니언링 좋아하세요? 어니언링 같은 양파튀김 너무 맛있죠~ 맥주 안주로 진짜 딱인데요! 맥주 사랑이 남다른 남편을 위해 맥주안주를 만들었어요^^ 남편이 양파를 엄청 좋아하는데, 양파요리 중 양파꽃튀김 도전!! 지난번에 알토란에 나온 거 봤는데 만들어 봐야지 하고는 이제야 만들었어요,ㅋㅋ </p>\\n\\t\\t\\t\\t\\t\\t<div class=\"source_box\">\\n\\t\\t\\t\\t\\t\\t\\t<span class=\"date\">3개월 전</span>\\n\\t\\t\\t\\t\\t\\t\\t<span class=\"source\">\\n                                \\n                                <span class=\"source_inner\">빅톨</span>\\n                            </span>\\n\\t\\t\\t\\t\\t\\t</div>\\n\\t\\t\\t\\t\\t</a>\\n\\t\\t\\t\\t</li>\\n\\t\\t\\t\\n\\t\\t\\t\\t<li class=\"theme_item\" data-gdid=\"CAS_1fc29814-69e0-11ec-9428-c35f368884a3\" data-da-position=\"true\">\\n\\t\\t\\t\\t\\t<a href=\"https://blog.naver.com/mildek/222606655138\" class=\"theme_thumb\" data-clk=\"tcc_fod.list9cont3\" target=\"_blank\">\\n\\t\\t\\t\\t\\t\\t<img  data-src=\"https://s.pstatic.net/dthumb.phinf/?src&#x3D;%22https%3A%2F%2Fs.pstatic.net%2Fstatic%2Fwww%2Fmobile%2Fedit%2F20220105_1095%2Fupload_1641372835197QcTKp.JPEG%22&amp;type&#x3D;nf340_228\" alt=\"콘치즈 만드는법 레시피  옥수수캔 요리 에어프라이어 맥주안주 만들기\" width=\"170\" height=\"114\" onerror=\"this.outerHTML=\\'<span class=\\\\\\'pm_noimg\\\\\\'><span class=\\\\\\'noimg_text\\\\\\'>이미지 준비중</span></span>\\'\">\\n\\t\\t\\t\\t\\t\\t<span class=\"thumb_bd\"></span>\\n                        \\n\\t\\t\\t\\t\\t</a>\\n\\t\\t\\t\\t\\t<a href=\"https://blog.naver.com/mildek/222606655138\" class=\"theme_info\" data-clk=\"tcc_fod.list9cont3\" target=\"_blank\">\\n\\t\\t\\t\\t\\t\\t<em class=\"theme_category\"> 레시피</em>\\n\\t\\t\\t\\t\\t\\t<strong class=\"title elss\">콘치즈 만드는법 레시피  옥수수캔 요리 에어프라이어 맥주안주 만들기</strong>\\n                        <p class=\"desc\">콘치즈만드는법 오후 9시가 다 되가는 야밤에 갑자기 치킨 생각이 많이 나는 거에요. 아 주문을 해야 하나? 다이어트 중이라 음식을 조심해야 한다고 저녁을 건너 뛰려는데 꼭 이렇게 나를 갈등하게 만드는 식욕이라는 악마의 속삭임! 억누르지 못하고 결국 시간이 늦어 치킨은 못 시키고 직접 콘치즈를 만들었어요. 버터 문질문질칠한 팬에 캔옥수수를 넣고 치즈 듬뿍 얹</p>\\n\\t\\t\\t\\t\\t\\t<div class=\"source_box\">\\n\\t\\t\\t\\t\\t\\t\\t<span class=\"date\">1주일 전</span>\\n\\t\\t\\t\\t\\t\\t\\t<span class=\"source\">\\n                                \\n                                <span class=\"source_inner\">초코초코</span>\\n                            </span>\\n\\t\\t\\t\\t\\t\\t</div>\\n\\t\\t\\t\\t\\t</a>\\n\\t\\t\\t\\t</li>\\n\\t\\t\\t\\n\\t\\t\\t\\t<li class=\"theme_item\" data-gdid=\"CAS_1fc29815-69e0-11ec-9428-2d78525b3179\" data-da-position=\"true\">\\n\\t\\t\\t\\t\\t<a href=\"https://blog.naver.com/lotusms12/222606308144\" class=\"theme_thumb\" data-clk=\"tcc_fod.list9cont4\" target=\"_blank\">\\n\\t\\t\\t\\t\\t\\t<img  data-src=\"https://s.pstatic.net/dthumb.phinf/?src&#x3D;%22https%3A%2F%2Fs.pstatic.net%2Fstatic%2Fwww%2Fmobile%2Fedit%2F20220105_1095%2Fupload_1641372842971L1o4H.JPEG%22&amp;type&#x3D;nf340_228\" alt=\"비빔당면 재료 당면 불리는 시간 삶는법  당면요리\" width=\"170\" height=\"114\" onerror=\"this.outerHTML=\\'<span class=\\\\\\'pm_noimg\\\\\\'><span class=\\\\\\'noimg_text\\\\\\'>이미지 준비중</span></span>\\'\">\\n\\t\\t\\t\\t\\t\\t<span class=\"thumb_bd\"></span>\\n                        \\n\\t\\t\\t\\t\\t</a>\\n\\t\\t\\t\\t\\t<a href=\"https://blog.naver.com/lotusms12/222606308144\" class=\"theme_info\" data-clk=\"tcc_fod.list9cont4\" target=\"_blank\">\\n\\t\\t\\t\\t\\t\\t<em class=\"theme_category\"> 레시피</em>\\n\\t\\t\\t\\t\\t\\t<strong class=\"title elss\">비빔당면 재료 당면 불리는 시간 삶는법  당면요리</strong>\\n                        <p class=\"desc\">비빔당면 만들기 당면 재료 당면 불리는 시간 삶기 당면요리 오늘 점심 뭐 먹지 한그릇음식 제가 좋아하는 메뉴가 몇가지 있는데 그 중에 손에 꼽히는 메뉴 비빔당면 이에요. 어릴때부터 당면을 엄청 먹었던것 같은데 부산에 깡통시장에 가면 비빔당면 제가 다니는 단골집이 있는 거기도 못간지 한참 되었어요 한번가면 두그릇은 먹을 정도로 좋아하는데 그래서 집에서 가끔 </p>\\n\\t\\t\\t\\t\\t\\t<div class=\"source_box\">\\n\\t\\t\\t\\t\\t\\t\\t<span class=\"date\">2주일 전</span>\\n\\t\\t\\t\\t\\t\\t\\t<span class=\"source\">\\n                                \\n                                <span class=\"source_inner\">햇살바람</span>\\n                            </span>\\n\\t\\t\\t\\t\\t\\t</div>\\n\\t\\t\\t\\t\\t</a>\\n\\t\\t\\t\\t</li>\\n\\t\\t\\t\\n\\t\\t\\t\\t<li class=\"theme_item\" data-gdid=\"CAS_fe54a929-69de-11ec-9428-f19db633d641\" data-da-position=\"true\">\\n\\t\\t\\t\\t\\t<a href=\"https://blog.naver.com/djanus/222567922887\" class=\"theme_thumb\" data-clk=\"tcc_fod.list9cont5\" target=\"_blank\">\\n\\t\\t\\t\\t\\t\\t<img  data-src=\"https://s.pstatic.net/dthumb.phinf/?src&#x3D;%22https%3A%2F%2Fs.pstatic.net%2Fstatic%2Fwww%2Fmobile%2Fedit%2F20211231_1095%2Fupload_1640916916549Ia1e1.JPEG%22&amp;type&#x3D;nf340_228\" alt=\"알배기배추전 만들기 야식메뉴~알배기배추요리\" width=\"170\" height=\"114\" onerror=\"this.outerHTML=\\'<span class=\\\\\\'pm_noimg\\\\\\'><span class=\\\\\\'noimg_text\\\\\\'>이미지 준비중</span></span>\\'\">\\n\\t\\t\\t\\t\\t\\t<span class=\"thumb_bd\"></span>\\n                        \\n\\t\\t\\t\\t\\t</a>\\n\\t\\t\\t\\t\\t<a href=\"https://blog.naver.com/djanus/222567922887\" class=\"theme_info\" data-clk=\"tcc_fod.list9cont5\" target=\"_blank\">\\n\\t\\t\\t\\t\\t\\t<em class=\"theme_category\"> 레시피</em>\\n\\t\\t\\t\\t\\t\\t<strong class=\"title elss\">알배기배추전 만들기 야식메뉴~알배기배추요리</strong>\\n                        <p class=\"desc\">드디어 무 배추가 끝내주게 맛있는 겨울이 왔어요~ 추위에 견디기 위해 영양만점 농축되어 달콤달콤 단맛이 폭발나는 알배기배추 역시 알배기배추요리로는 배추전이 최고지요 정말로 먹을때마다 눈 똥글! 깜짝깜짝 놀라는 #알배기배추전 어떻게 딱 배추만 굽는데 이런맛이 나지? 믿을 수가 없어요 늘 뜨거울때 참지 못하고 입안가득 넣어서 입 데이기 딱 좋은~~ㅋㅋㅋ 워~~</p>\\n\\t\\t\\t\\t\\t\\t<div class=\"source_box\">\\n\\t\\t\\t\\t\\t\\t\\t<span class=\"date\">1개월 전</span>\\n\\t\\t\\t\\t\\t\\t\\t<span class=\"source\">\\n                                \\n                                <span class=\"source_inner\">미니멀쿡</span>\\n                            </span>\\n\\t\\t\\t\\t\\t\\t</div>\\n\\t\\t\\t\\t\\t</a>\\n\\t\\t\\t\\t</li>\\n\\t\\t\\t\\n\\t\\t</ul>\\n\\t</div>\\n</div>\\n<div class=\"group_theme\" data-block-id=\"\" data-block-code=\"PC-THEME-LIVING-MOBILE-RANKING-DEFAULT-9\" data-block-type=\"MATERIALS\" data-template-code=\"MOBILE-RANKING-LIST\"\\n\\n\\t data-da=\"container\"\\n\\t data-index=\"\"\\n     data-page=\"5\"\\n\\t style=\"display:none\">\\n\\n\\t<div class=\"list_theme_wrap\">\\n\\t\\t<ul class=\"list_theme\">\\n\\t\\t\\t\\n\\t\\t\\t\\t<li class=\"theme_item\" data-gdid=\"CAS_fe54a92c-69de-11ec-9428-cd51baddc563\" data-da-position=\"true\">\\n\\t\\t\\t\\t\\t<a href=\"https://blog.naver.com/ssuii928/222555227428\" class=\"theme_thumb\" data-clk=\"tcc_fod.list10cont1\" target=\"_blank\">\\n\\t\\t\\t\\t\\t\\t<img  data-src=\"https://s.pstatic.net/dthumb.phinf/?src&#x3D;%22https%3A%2F%2Fs.pstatic.net%2Fstatic%2Fwww%2Fmobile%2Fedit%2F20211231_1095%2Fupload_1640916939737DqioH.JPEG%22&amp;type&#x3D;nf340_228\" alt=\"떡꼬치 소스 만들기 추억의 분식 양념 그대로♪\" width=\"170\" height=\"114\" onerror=\"this.outerHTML=\\'<span class=\\\\\\'pm_noimg\\\\\\'><span class=\\\\\\'noimg_text\\\\\\'>이미지 준비중</span></span>\\'\">\\n\\t\\t\\t\\t\\t\\t<span class=\"thumb_bd\"></span>\\n                        \\n\\t\\t\\t\\t\\t</a>\\n\\t\\t\\t\\t\\t<a href=\"https://blog.naver.com/ssuii928/222555227428\" class=\"theme_info\" data-clk=\"tcc_fod.list10cont1\" target=\"_blank\">\\n\\t\\t\\t\\t\\t\\t<em class=\"theme_category\"> 레시피</em>\\n\\t\\t\\t\\t\\t\\t<strong class=\"title elss\">떡꼬치 소스 만들기 추억의 분식 양념 그대로♪</strong>\\n                        <p class=\"desc\">떡꼬치 소스 만들기 추억의 분식 양념 그대로♪ ⓒ글,사진 쑤이 오랜만에 집밥으로 분식 만들어 먹었어요 김밥, 어묵탕, 떡꼬치 조합이면 사먹는 거 못지 않은 맛난 분식데이 ♪ 평소 외식보단 집밥을 주로 먹는 편인데 삼시세끼 쌀밥으로 챙겨먹다가 색다른 메뉴가 땡기길래 추억의 떡꼬치와 함께 맛있는 참치김밥 싸먹었답니다 :-) 날씨가 너무 좋아서 도시락싸서 나들이</p>\\n\\t\\t\\t\\t\\t\\t<div class=\"source_box\">\\n\\t\\t\\t\\t\\t\\t\\t<span class=\"date\">2개월 전</span>\\n\\t\\t\\t\\t\\t\\t\\t<span class=\"source\">\\n                                \\n                                <span class=\"source_inner\">쑤이</span>\\n                            </span>\\n\\t\\t\\t\\t\\t\\t</div>\\n\\t\\t\\t\\t\\t</a>\\n\\t\\t\\t\\t</li>\\n\\t\\t\\t\\n\\t\\t\\t\\t<li class=\"theme_item\" data-gdid=\"CAS_fe54a928-69de-11ec-9428-fffb5b80272d\" data-da-position=\"true\">\\n\\t\\t\\t\\t\\t<a href=\"https://blog.naver.com/heya0310/222606813406\" class=\"theme_thumb\" data-clk=\"tcc_fod.list10cont2\" target=\"_blank\">\\n\\t\\t\\t\\t\\t\\t<img  data-src=\"https://s.pstatic.net/dthumb.phinf/?src&#x3D;%22https%3A%2F%2Fs.pstatic.net%2Fstatic%2Fwww%2Fmobile%2Fedit%2F20220105_1095%2Fupload_1641372828661jCvMy.JPEG%22&amp;type&#x3D;nf340_228\" alt=\"순두부열라면 끓이는 법 열라면 레시피\" width=\"170\" height=\"114\" onerror=\"this.outerHTML=\\'<span class=\\\\\\'pm_noimg\\\\\\'><span class=\\\\\\'noimg_text\\\\\\'>이미지 준비중</span></span>\\'\">\\n\\t\\t\\t\\t\\t\\t<span class=\"thumb_bd\"></span>\\n                        \\n\\t\\t\\t\\t\\t</a>\\n\\t\\t\\t\\t\\t<a href=\"https://blog.naver.com/heya0310/222606813406\" class=\"theme_info\" data-clk=\"tcc_fod.list10cont2\" target=\"_blank\">\\n\\t\\t\\t\\t\\t\\t<em class=\"theme_category\"> 레시피</em>\\n\\t\\t\\t\\t\\t\\t<strong class=\"title elss\">순두부열라면 끓이는 법 열라면 레시피</strong>\\n                        <p class=\"desc\">종종 만들어 먹는 #순두부열라면 얼큰하고 개운한 국물이 꼭 순두부찌개 같아 밥말아 먹어도 맛있고 든든함 순두부도 계란, 파도 늘 냉장고에 있어서 즐겨 만들어 먹는 #열라면레시피 #순두부열라면끓이는법 쉬운듯 어려운게 물조절 인데 순두부열라면 끓일땐 물을 적게 넣고 끓이다가 취향껏 추가하는게 낫다. 순두부에 수분이 많아서 끓이다 보면 한강~ 이럴땐 참치액 1큰</p>\\n\\t\\t\\t\\t\\t\\t<div class=\"source_box\">\\n\\t\\t\\t\\t\\t\\t\\t<span class=\"date\">1주일 전</span>\\n\\t\\t\\t\\t\\t\\t\\t<span class=\"source\">\\n                                \\n                                <span class=\"source_inner\">김줌마</span>\\n                            </span>\\n\\t\\t\\t\\t\\t\\t</div>\\n\\t\\t\\t\\t\\t</a>\\n\\t\\t\\t\\t</li>\\n\\t\\t\\t\\n\\t\\t\\t\\t<li class=\"theme_item\" data-gdid=\"CAS_ff5d75c6-6eba-11ec-b40d-2788c624b00b\" data-da-position=\"true\">\\n\\t\\t\\t\\t\\t<a href=\"https://post.naver.com/viewer/postView.naver?volumeNo&#x3D;33075860&amp;memberNo&#x3D;12396532\" class=\"theme_thumb\" data-clk=\"tcc_fod.list10cont3\" target=\"_blank\">\\n\\t\\t\\t\\t\\t\\t<img  data-src=\"https://s.pstatic.net/dthumb.phinf/?src&#x3D;%22https%3A%2F%2Fs.pstatic.net%2Fstatic%2Fwww%2Fmobile%2Fedit%2F20220106_1095%2Fupload_1641451395143HSTIH.jpg%22&amp;type&#x3D;nf340_228\" alt=\"[청파언덕집] 희망과 착한 소비가 있는곳 \" width=\"170\" height=\"114\" onerror=\"this.outerHTML=\\'<span class=\\\\\\'pm_noimg\\\\\\'><span class=\\\\\\'noimg_text\\\\\\'>이미지 준비중</span></span>\\'\">\\n\\t\\t\\t\\t\\t\\t<span class=\"thumb_bd\"></span>\\n                        \\n\\t\\t\\t\\t\\t</a>\\n\\t\\t\\t\\t\\t<a href=\"https://post.naver.com/viewer/postView.naver?volumeNo&#x3D;33075860&amp;memberNo&#x3D;12396532\" class=\"theme_info\" data-clk=\"tcc_fod.list10cont3\" target=\"_blank\">\\n\\t\\t\\t\\t\\t\\t<em class=\"theme_category\"> 레시피</em>\\n\\t\\t\\t\\t\\t\\t<strong class=\"title elss\">[청파언덕집] 희망과 착한 소비가 있는곳 </strong>\\n                        <p class=\"desc\">안녕하세요~ 요리를 통한 도시재생 사회적협동조합니다. 2021년이 휙 지나고 2022년이 왔네요. 정말 빠르게 지난 것 같아요. 먼저 새해 복 많이 받으세요~22년에는 코로나도 종식이 되고 이 포스팅을 읽으시는분 들의 하시는일들이 모두 다 잘되길 바라겠습니다. 건강하시고요~22년 1월이 시작되었는데 21년도 요리를 통한 도시재생 사회적협동조합의 공익 사업을</p>\\n\\t\\t\\t\\t\\t\\t<div class=\"source_box\">\\n\\t\\t\\t\\t\\t\\t\\t<span class=\"date\">4일 전</span>\\n\\t\\t\\t\\t\\t\\t\\t<span class=\"source\">\\n                                \\n                                <span class=\"source_inner\">요리인류</span>\\n                            </span>\\n\\t\\t\\t\\t\\t\\t</div>\\n\\t\\t\\t\\t\\t</a>\\n\\t\\t\\t\\t</li>\\n\\t\\t\\t\\n\\t\\t\\t\\t<li class=\"theme_item\" data-gdid=\"CAS_fe54a927-69de-11ec-9428-cbd1d07f95e3\" data-da-position=\"true\">\\n\\t\\t\\t\\t\\t<a href=\"https://blog.naver.com/qhql89/222556041447\" class=\"theme_thumb\" data-clk=\"tcc_fod.list10cont4\" target=\"_blank\">\\n\\t\\t\\t\\t\\t\\t<img  data-src=\"https://s.pstatic.net/dthumb.phinf/?src&#x3D;%22https%3A%2F%2Fs.pstatic.net%2Fstatic%2Fwww%2Fmobile%2Fedit%2F20220105_1095%2Fupload_1641372819058ZWQva.JPEG%22&amp;type&#x3D;nf340_228\" alt=\"야식추천 백종원 잔치국수 만들기 육수 고명 양념장 소면 삶는법 시간까지\" width=\"170\" height=\"114\" onerror=\"this.outerHTML=\\'<span class=\\\\\\'pm_noimg\\\\\\'><span class=\\\\\\'noimg_text\\\\\\'>이미지 준비중</span></span>\\'\">\\n\\t\\t\\t\\t\\t\\t<span class=\"thumb_bd\"></span>\\n                        \\n\\t\\t\\t\\t\\t</a>\\n\\t\\t\\t\\t\\t<a href=\"https://blog.naver.com/qhql89/222556041447\" class=\"theme_info\" data-clk=\"tcc_fod.list10cont4\" target=\"_blank\">\\n\\t\\t\\t\\t\\t\\t<em class=\"theme_category\"> 레시피</em>\\n\\t\\t\\t\\t\\t\\t<strong class=\"title elss\">야식추천 백종원 잔치국수 만들기 육수 고명 양념장 소면 삶는법 시간까지</strong>\\n                        <p class=\"desc\">copyright 2021 all rights reserved by 망고어멈 안녕하세요 망고어멈이에요. 아침 저녁으로 코끝이 시려운 계절이 왔어요. 이런 날에는 이제는 차가운 음식보다는 온 몸을 따뜻하게 녹여줄 수 있는 뜨끈한 국물요리가 끌리는데요. 그래서 저도 자꾸 국물위주의 음식을 하는 것 같아요. 주말에도 직접 주방 간접등을 달아준다고 저녁에 쉬지 않</p>\\n\\t\\t\\t\\t\\t\\t<div class=\"source_box\">\\n\\t\\t\\t\\t\\t\\t\\t<span class=\"date\">2개월 전</span>\\n\\t\\t\\t\\t\\t\\t\\t<span class=\"source\">\\n                                \\n                                <span class=\"source_inner\">망고야미</span>\\n                            </span>\\n\\t\\t\\t\\t\\t\\t</div>\\n\\t\\t\\t\\t\\t</a>\\n\\t\\t\\t\\t</li>\\n\\t\\t\\t\\n\\t\\t\\t\\t<li class=\"theme_item\" data-gdid=\"CAS_fe54a924-69de-11ec-9428-29a15e22c05e\" data-da-position=\"true\">\\n\\t\\t\\t\\t\\t<a href=\"https://blog.naver.com/pyoun0181/222595482415\" class=\"theme_thumb\" data-clk=\"tcc_fod.list10cont5\" target=\"_blank\">\\n\\t\\t\\t\\t\\t\\t<img  data-src=\"https://s.pstatic.net/dthumb.phinf/?src&#x3D;%22https%3A%2F%2Fs.pstatic.net%2Fstatic%2Fwww%2Fmobile%2Fedit%2F20211231_1095%2Fupload_1640916882047QivTZ.JPEG%22&amp;type&#x3D;nf340_228\" alt=\"백종원 국물 떡볶이 황금레시피 떡국떡 자취생 요리 야식 메뉴\" width=\"170\" height=\"114\" onerror=\"this.outerHTML=\\'<span class=\\\\\\'pm_noimg\\\\\\'><span class=\\\\\\'noimg_text\\\\\\'>이미지 준비중</span></span>\\'\">\\n\\t\\t\\t\\t\\t\\t<span class=\"thumb_bd\"></span>\\n                        \\n\\t\\t\\t\\t\\t</a>\\n\\t\\t\\t\\t\\t<a href=\"https://blog.naver.com/pyoun0181/222595482415\" class=\"theme_info\" data-clk=\"tcc_fod.list10cont5\" target=\"_blank\">\\n\\t\\t\\t\\t\\t\\t<em class=\"theme_category\"> 레시피</em>\\n\\t\\t\\t\\t\\t\\t<strong class=\"title elss\">백종원 국물 떡볶이 황금레시피 떡국떡 자취생 요리 야식 메뉴</strong>\\n                        <p class=\"desc\">떡국떡으로 만드는 자취생 요리 백파더 떡볶이 레시피 글, 사진, 요리, by_배화 백파더 요리를 멈추지 마! 한창 인기리에 방영되었을 때 요린이분들을 위한 #떡볶이레시피 공개 수업은 폭발적인 반응이 있었는데 벌써 일 년이 지나간다. 그 후로 나도 종종 사용하고 우리 딸도 간편하게 만들어 먹는다고 하는 #백종원떡볶이레시피 모든 재료 다 느 ~~서 만드는 간편</p>\\n\\t\\t\\t\\t\\t\\t<div class=\"source_box\">\\n\\t\\t\\t\\t\\t\\t\\t<span class=\"date\">3주일 전</span>\\n\\t\\t\\t\\t\\t\\t\\t<span class=\"source\">\\n                                \\n                                <span class=\"source_inner\">배화</span>\\n                            </span>\\n\\t\\t\\t\\t\\t\\t</div>\\n\\t\\t\\t\\t\\t</a>\\n\\t\\t\\t\\t</li>\\n\\t\\t\\t\\n\\t\\t</ul>\\n\\t</div>\\n</div>\\n<div class=\"group_theme\" data-block-id=\"\" data-block-code=\"PC-THEME-LIVING-MOBILE-RANKING-DEFAULT-10\" data-block-type=\"MATERIALS\" data-template-code=\"MOBILE-RANKING-LIST\"\\n\\n\\t data-da=\"container\"\\n\\t data-index=\"\"\\n     data-page=\"6\"\\n\\t style=\"display:none\">\\n\\n\\t<div class=\"list_theme_wrap\">\\n\\t\\t<ul class=\"list_theme\">\\n\\t\\t\\t\\n\\t\\t\\t\\t<li class=\"theme_item\" data-gdid=\"CAS_260f58fa-6e03-11ec-b7dd-f94b7751c7ff\" data-da-position=\"true\">\\n\\t\\t\\t\\t\\t<a href=\"https://post.naver.com/viewer/postView.naver?volumeNo&#x3D;33071306&amp;memberNo&#x3D;36054406\" class=\"theme_thumb\" data-clk=\"tcc_fod.list11cont1\" target=\"_blank\">\\n\\t\\t\\t\\t\\t\\t<img  data-src=\"https://s.pstatic.net/dthumb.phinf/?src&#x3D;%22https%3A%2F%2Fs.pstatic.net%2Fstatic%2Fwww%2Fmobile%2Fedit%2F20220106_1095%2Fupload_16414534372219nE13.JPEG%22&amp;type&#x3D;nf340_228\" alt=\"간편식도 프리미엄, 아주 특별한 면 한 그릇\" width=\"170\" height=\"114\" onerror=\"this.outerHTML=\\'<span class=\\\\\\'pm_noimg\\\\\\'><span class=\\\\\\'noimg_text\\\\\\'>이미지 준비중</span></span>\\'\">\\n\\t\\t\\t\\t\\t\\t<span class=\"thumb_bd\"></span>\\n                        \\n\\t\\t\\t\\t\\t</a>\\n\\t\\t\\t\\t\\t<a href=\"https://post.naver.com/viewer/postView.naver?volumeNo&#x3D;33071306&amp;memberNo&#x3D;36054406\" class=\"theme_info\" data-clk=\"tcc_fod.list11cont1\" target=\"_blank\">\\n\\t\\t\\t\\t\\t\\t<em class=\"theme_category\"> 레시피</em>\\n\\t\\t\\t\\t\\t\\t<strong class=\"title elss\">간편식도 프리미엄, 아주 특별한 면 한 그릇</strong>\\n                        <p class=\"desc\">간편식도 프리미엄 시대 아주 특별한 면 한 그릇 퀄리티 높은 가정간편식(HMR)에 대한 관심이 늘고 있는 이때, 프리미엄 면요리를 다양하게 펼치고 있는 면사랑의 &#x27;냉동팩면 9종’으로 집에서 미식 여행을 떠나보자. 세계 각국 면요리로더욱 다양해진 냉동면 시장 간편 조리만으로도 요리 전문점 부럽지 않은 면요리를 맛보고 싶다면, 정통 방식으로 제대로 만든 브랜드</p>\\n\\t\\t\\t\\t\\t\\t<div class=\"source_box\">\\n\\t\\t\\t\\t\\t\\t\\t<span class=\"date\">4일 전</span>\\n\\t\\t\\t\\t\\t\\t\\t<span class=\"source\">\\n                                \\n                                <span class=\"source_inner\">스타일러 주부생활</span>\\n                            </span>\\n\\t\\t\\t\\t\\t\\t</div>\\n\\t\\t\\t\\t\\t</a>\\n\\t\\t\\t\\t</li>\\n\\t\\t\\t\\n\\t\\t\\t\\t<li class=\"theme_item\" data-gdid=\"CAS_cd2ed169-6e02-11ec-b693-ffff8f7c3d41\" data-da-position=\"true\">\\n\\t\\t\\t\\t\\t<a href=\"https://post.naver.com/viewer/postView.naver?volumeNo&#x3D;33037371&amp;memberNo&#x3D;35869883\" class=\"theme_thumb\" data-clk=\"tcc_fod.list11cont2\" target=\"_blank\">\\n\\t\\t\\t\\t\\t\\t<img  data-src=\"https://s.pstatic.net/dthumb.phinf/?src&#x3D;%22https%3A%2F%2Fs.pstatic.net%2Fstatic%2Fwww%2Fmobile%2Fedit%2F20220105_1095%2Fupload_1641372020153JYLh3.JPEG%22&amp;type&#x3D;nf340_228\" alt=\"닭 가슴살 말고! 맛있게 건강한 프로틴 제품\" width=\"170\" height=\"114\" onerror=\"this.outerHTML=\\'<span class=\\\\\\'pm_noimg\\\\\\'><span class=\\\\\\'noimg_text\\\\\\'>이미지 준비중</span></span>\\'\">\\n\\t\\t\\t\\t\\t\\t<span class=\"thumb_bd\"></span>\\n                        \\n\\t\\t\\t\\t\\t</a>\\n\\t\\t\\t\\t\\t<a href=\"https://post.naver.com/viewer/postView.naver?volumeNo&#x3D;33037371&amp;memberNo&#x3D;35869883\" class=\"theme_info\" data-clk=\"tcc_fod.list11cont2\" target=\"_blank\">\\n\\t\\t\\t\\t\\t\\t<em class=\"theme_category\"> 레시피</em>\\n\\t\\t\\t\\t\\t\\t<strong class=\"title elss\">닭 가슴살 말고! 맛있게 건강한 프로틴 제품</strong>\\n                        <p class=\"desc\">새해 작심삼일 목표는 첫째도, 둘째도 다이어트 아니겠습니까. 저도 살을 빼려고 발버둥 친 시절이 있었으나... 단백질 식단의 대명사라 불리는 닭가슴살의 ‘퍽퍽함’ 앞에 매번 무릎을 꿇었다죠. 다이어트 혹은 근육질 몸을 만들 때 빠지지 않고 등장하는 고단백 식단! 제 뇌구조 상 ‘단백질&#x3D;운동 보조제&#x3D;비싼데 맛없음’ </p>\\n\\t\\t\\t\\t\\t\\t<div class=\"source_box\">\\n\\t\\t\\t\\t\\t\\t\\t<span class=\"date\">5일 전</span>\\n\\t\\t\\t\\t\\t\\t\\t<span class=\"source\">\\n                                \\n                                <span class=\"source_inner\">더농부</span>\\n                            </span>\\n\\t\\t\\t\\t\\t\\t</div>\\n\\t\\t\\t\\t\\t</a>\\n\\t\\t\\t\\t</li>\\n\\t\\t\\t\\n\\t\\t\\t\\t<li class=\"theme_item\" data-gdid=\"CAS_fe54a926-69de-11ec-9428-abdeae8e7958\" data-da-position=\"true\">\\n\\t\\t\\t\\t\\t<a href=\"https://blog.naver.com/orbyun/222520774676\" class=\"theme_thumb\" data-clk=\"tcc_fod.list11cont3\" target=\"_blank\">\\n\\t\\t\\t\\t\\t\\t<img  data-src=\"https://s.pstatic.net/dthumb.phinf/?src&#x3D;%22https%3A%2F%2Fs.pstatic.net%2Fstatic%2Fwww%2Fmobile%2Fedit%2F20220105_1095%2Fupload_1641372813849UPJTO.JPEG%22&amp;type&#x3D;nf340_228\" alt=\"색다른 냉동만두 요리 깐풍만두\" width=\"170\" height=\"114\" onerror=\"this.outerHTML=\\'<span class=\\\\\\'pm_noimg\\\\\\'><span class=\\\\\\'noimg_text\\\\\\'>이미지 준비중</span></span>\\'\">\\n\\t\\t\\t\\t\\t\\t<span class=\"thumb_bd\"></span>\\n                        \\n\\t\\t\\t\\t\\t</a>\\n\\t\\t\\t\\t\\t<a href=\"https://blog.naver.com/orbyun/222520774676\" class=\"theme_info\" data-clk=\"tcc_fod.list11cont3\" target=\"_blank\">\\n\\t\\t\\t\\t\\t\\t<em class=\"theme_category\"> 레시피</em>\\n\\t\\t\\t\\t\\t\\t<strong class=\"title elss\">색다른 냉동만두 요리 깐풍만두</strong>\\n                        <p class=\"desc\">각 가정에 한봉지 쯤은 쟁여져있을 냉동만두. 쪄먹거나 구워 먹는 평범한 요리 말고 조금은 색다른 깐풍만두로 만들어 보자. 색다른 냉동만두 요리 깐풍만두 재료 : 냉동만두 / 파 / 양배추 / 통마늘 / 간장 / 굴소스 / 식초 / 설탕 / 맛술 / 고추기름 옵션 : 홍고추 / 청고추 / 파프리카 / 양파 등등.... 냉동만두만 굽기 아쉬워서 새우도 곁들였다</p>\\n\\t\\t\\t\\t\\t\\t<div class=\"source_box\">\\n\\t\\t\\t\\t\\t\\t\\t<span class=\"date\">3개월 전</span>\\n\\t\\t\\t\\t\\t\\t\\t<span class=\"source\">\\n                                \\n                                <span class=\"source_inner\">옥상상추</span>\\n                            </span>\\n\\t\\t\\t\\t\\t\\t</div>\\n\\t\\t\\t\\t\\t</a>\\n\\t\\t\\t\\t</li>\\n\\t\\t\\t\\n\\t\\t\\t\\t<li class=\"theme_item\" data-gdid=\"CAS_ff5d75c5-6eba-11ec-b40d-6d87ccf10756\" data-da-position=\"true\">\\n\\t\\t\\t\\t\\t<a href=\"https://post.naver.com/viewer/postView.naver?volumeNo&#x3D;33076355&amp;memberNo&#x3D;12396532\" class=\"theme_thumb\" data-clk=\"tcc_fod.list11cont4\" target=\"_blank\">\\n\\t\\t\\t\\t\\t\\t<img  data-src=\"https://s.pstatic.net/dthumb.phinf/?src&#x3D;%22https%3A%2F%2Fs.pstatic.net%2Fstatic%2Fwww%2Fmobile%2Fedit%2F20220106_1095%2Fupload_1641451088543mKpcc.jpg%22&amp;type&#x3D;nf340_228\" alt=\"희망클래스 #11 와인 어디까지 아세요? \" width=\"170\" height=\"114\" onerror=\"this.outerHTML=\\'<span class=\\\\\\'pm_noimg\\\\\\'><span class=\\\\\\'noimg_text\\\\\\'>이미지 준비중</span></span>\\'\">\\n\\t\\t\\t\\t\\t\\t<span class=\"thumb_bd\"></span>\\n                        \\n\\t\\t\\t\\t\\t</a>\\n\\t\\t\\t\\t\\t<a href=\"https://post.naver.com/viewer/postView.naver?volumeNo&#x3D;33076355&amp;memberNo&#x3D;12396532\" class=\"theme_info\" data-clk=\"tcc_fod.list11cont4\" target=\"_blank\">\\n\\t\\t\\t\\t\\t\\t<em class=\"theme_category\"> 레시피</em>\\n\\t\\t\\t\\t\\t\\t<strong class=\"title elss\">희망클래스 #11 와인 어디까지 아세요? </strong>\\n                        <p class=\"desc\">안녕하세요~ 요리인류지기입니다.오늘은 희망클래스 11번째 시간이예요~ 희망클래스 중 와인클래스 이론 part.1 와인 어디까지 아세요? 입니다. 아는 만큼 보이는게 바로 와인이잖아요~ 스파클링와인까지 배우고 가실께요^^매너가 신사와 숙녀를 만들듯 와인의 기초와 매너가 와인을 아는 멋진 신사와 숙녀를 만들어요~ 이번 포스팅과 다음 포스팅에서 조금이라도 와인을</p>\\n\\t\\t\\t\\t\\t\\t<div class=\"source_box\">\\n\\t\\t\\t\\t\\t\\t\\t<span class=\"date\">4일 전</span>\\n\\t\\t\\t\\t\\t\\t\\t<span class=\"source\">\\n                                \\n                                <span class=\"source_inner\">요리인류</span>\\n                            </span>\\n\\t\\t\\t\\t\\t\\t</div>\\n\\t\\t\\t\\t\\t</a>\\n\\t\\t\\t\\t</li>\\n\\t\\t\\t\\n\\t\\t\\t\\t<li class=\"theme_item\" data-gdid=\"CAS_fa415153-6e01-11ec-9428-21c15aee9639\" data-da-position=\"true\">\\n\\t\\t\\t\\t\\t<a href=\"https://post.naver.com/viewer/postView.naver?volumeNo&#x3D;33069585&amp;memberNo&#x3D;4836725\" class=\"theme_thumb\" data-clk=\"tcc_fod.list11cont5\" target=\"_blank\">\\n\\t\\t\\t\\t\\t\\t<img  data-src=\"https://s.pstatic.net/dthumb.phinf/?src&#x3D;%22https%3A%2F%2Fs.pstatic.net%2Fstatic%2Fwww%2Fmobile%2Fedit%2F20220105_1095%2Fupload_1641371870167JEofd.JPEG%22&amp;type&#x3D;nf340_228\" alt=\"바싹 꼬투리전, 얼마나 바삭할까?\" width=\"170\" height=\"114\" onerror=\"this.outerHTML=\\'<span class=\\\\\\'pm_noimg\\\\\\'><span class=\\\\\\'noimg_text\\\\\\'>이미지 준비중</span></span>\\'\">\\n\\t\\t\\t\\t\\t\\t<span class=\"thumb_bd\"></span>\\n                        \\n\\t\\t\\t\\t\\t</a>\\n\\t\\t\\t\\t\\t<a href=\"https://post.naver.com/viewer/postView.naver?volumeNo&#x3D;33069585&amp;memberNo&#x3D;4836725\" class=\"theme_info\" data-clk=\"tcc_fod.list11cont5\" target=\"_blank\">\\n\\t\\t\\t\\t\\t\\t<em class=\"theme_category\"> 레시피</em>\\n\\t\\t\\t\\t\\t\\t<strong class=\"title elss\">바싹 꼬투리전, 얼마나 바삭할까?</strong>\\n                        <p class=\"desc\">김치전 테두리의 바삭함을 정말 제대로 구현했을까?쩝쩝박사들의 연구에는 한계가 없나 보다. 김치전 꼬투리의 맛만 느낄 수 있는 제품이라니. 아니면 전집에서 테두리만 먹고 중간은 남기고 가는 내 모습을 본 건가? 아무튼 오랜만에 호기심이 생기는 신제품이 출시되어 바싹하게 먹어봤다.신제품 출시 기사는 12월 초에 나왔는데 정작 제품은 예약구매를 한 다음 크리스마</p>\\n\\t\\t\\t\\t\\t\\t<div class=\"source_box\">\\n\\t\\t\\t\\t\\t\\t\\t<span class=\"date\">5일 전</span>\\n\\t\\t\\t\\t\\t\\t\\t<span class=\"source\">\\n                                \\n                                <span class=\"source_inner\">대학내일</span>\\n                            </span>\\n\\t\\t\\t\\t\\t\\t</div>\\n\\t\\t\\t\\t\\t</a>\\n\\t\\t\\t\\t</li>\\n\\t\\t\\t\\n\\t\\t</ul>\\n\\t</div>\\n</div>\\n<div class=\"group_theme\" data-block-id=\"\" data-block-code=\"PC-THEME-LIVING-MOBILE-RANKING-DEFAULT-11\" data-block-type=\"MATERIALS\" data-template-code=\"MOBILE-RANKING-LIST\"\\n\\n\\t data-da=\"container\"\\n\\t data-index=\"\"\\n     data-page=\"6\"\\n\\t style=\"display:none\">\\n\\n\\t<div class=\"list_theme_wrap\">\\n\\t\\t<ul class=\"list_theme\">\\n\\t\\t\\t\\n\\t\\t\\t\\t<li class=\"theme_item\" data-gdid=\"CAS_132c6420-6e09-11ec-9428-8b87952b399a\" data-da-position=\"true\">\\n\\t\\t\\t\\t\\t<a href=\"https://blog.naver.com/petitejr1/222603559390\" class=\"theme_thumb\" data-clk=\"tcc_fod.list12cont1\" target=\"_blank\">\\n\\t\\t\\t\\t\\t\\t<img  data-src=\"https://s.pstatic.net/dthumb.phinf/?src&#x3D;%22https%3A%2F%2Fs.pstatic.net%2Fstatic%2Fwww%2Fmobile%2Fedit%2F20211231_1095%2Fupload_164091497941892gHL.JPEG%22&amp;type&#x3D;nf340_228\" alt=\"저탄수화물 간식 [어묵프라이] 초간단 안주 빠삭이 만들기\" width=\"170\" height=\"114\" onerror=\"this.outerHTML=\\'<span class=\\\\\\'pm_noimg\\\\\\'><span class=\\\\\\'noimg_text\\\\\\'>이미지 준비중</span></span>\\'\">\\n\\t\\t\\t\\t\\t\\t<span class=\"thumb_bd\"></span>\\n                        \\n\\t\\t\\t\\t\\t</a>\\n\\t\\t\\t\\t\\t<a href=\"https://blog.naver.com/petitejr1/222603559390\" class=\"theme_info\" data-clk=\"tcc_fod.list12cont1\" target=\"_blank\">\\n\\t\\t\\t\\t\\t\\t<em class=\"theme_category\"> 레시피</em>\\n\\t\\t\\t\\t\\t\\t<strong class=\"title elss\">저탄수화물 간식 [어묵프라이] 초간단 안주 빠삭이 만들기</strong>\\n                        <p class=\"desc\">안녕하세요, 태태뭉입니다. 주간레시피 라는 이름으로 주기적으로 야매요리를 올리던 시기도 있었는데 지금은 취미삼아 간혹 올리고 있는 상태이네요. 주간요리 라는 이름으로 넘버링을 하여 올리기에는 내가봐두 넘 야매 요리라ㅋㅋㅋ 좀 부끄러웠더랬습니다ㅋㅋㅋ 오늘도 사실 요리라기보다는 에어프라이어 활용 정도로 이름붙여도 될듯한 어묵프라이 요거에요. 요즘 제가 이틀..</p>\\n\\t\\t\\t\\t\\t\\t<div class=\"source_box\">\\n\\t\\t\\t\\t\\t\\t\\t<span class=\"date\">2주일 전</span>\\n\\t\\t\\t\\t\\t\\t\\t<span class=\"source\">\\n                                \\n                                <span class=\"source_inner\">태태뭉</span>\\n                            </span>\\n\\t\\t\\t\\t\\t\\t</div>\\n\\t\\t\\t\\t\\t</a>\\n\\t\\t\\t\\t</li>\\n\\t\\t\\t\\n\\t\\t\\t\\t<li class=\"theme_item\" data-gdid=\"CAS_1486faf7-69da-11ec-b7dd-b745683a2ee5\" data-da-position=\"true\">\\n\\t\\t\\t\\t\\t<a href=\"https://blog.naver.com/jimini0_0/222571580853\" class=\"theme_thumb\" data-clk=\"tcc_fod.list12cont2\" target=\"_blank\">\\n\\t\\t\\t\\t\\t\\t<img  data-src=\"https://s.pstatic.net/dthumb.phinf/?src&#x3D;%22https%3A%2F%2Fs.pstatic.net%2Fstatic%2Fwww%2Fmobile%2Fedit%2F20220105_1095%2Fupload_1641374457181zTZmb.JPEG%22&amp;type&#x3D;nf340_228\" alt=\"어묵말이 야채말이어묵 저탄고지다이어트 비건 레시피\" width=\"170\" height=\"114\" onerror=\"this.outerHTML=\\'<span class=\\\\\\'pm_noimg\\\\\\'><span class=\\\\\\'noimg_text\\\\\\'>이미지 준비중</span></span>\\'\">\\n\\t\\t\\t\\t\\t\\t<span class=\"thumb_bd\"></span>\\n                        \\n\\t\\t\\t\\t\\t</a>\\n\\t\\t\\t\\t\\t<a href=\"https://blog.naver.com/jimini0_0/222571580853\" class=\"theme_info\" data-clk=\"tcc_fod.list12cont2\" target=\"_blank\">\\n\\t\\t\\t\\t\\t\\t<em class=\"theme_category\"> 레시피</em>\\n\\t\\t\\t\\t\\t\\t<strong class=\"title elss\">어묵말이 야채말이어묵 저탄고지다이어트 비건 레시피</strong>\\n                        <p class=\"desc\">저탄고지다이어트 비건 레시피 어묵말이 , 야채말이어묵 주변 분들은 알고 계신분들은 아시겠지만, 탄수화물을 줄이려고 노력을 하는 통에 여러가지 레시피를 늘 고민해요 요즘 조금 대충하고 있는 것 같기는 하지만 그럼에도 저녁식탁은 지키려고 노력을 하거든요 오늘은 밥을 대신 해줄 역할을 한 채소를 가득넣어서 오뎅을 말아서 하나씩 입에 넣고 간단하게 먹을만한 음식을</p>\\n\\t\\t\\t\\t\\t\\t<div class=\"source_box\">\\n\\t\\t\\t\\t\\t\\t\\t<span class=\"date\">1개월 전</span>\\n\\t\\t\\t\\t\\t\\t\\t<span class=\"source\">\\n                                \\n                                <span class=\"source_inner\">GruMum</span>\\n                            </span>\\n\\t\\t\\t\\t\\t\\t</div>\\n\\t\\t\\t\\t\\t</a>\\n\\t\\t\\t\\t</li>\\n\\t\\t\\t\\n\\t\\t\\t\\t<li class=\"theme_item\" data-gdid=\"CAS_132c6421-6e09-11ec-9428-f19782a30bcf\" data-da-position=\"true\">\\n\\t\\t\\t\\t\\t<a href=\"https://blog.naver.com/valueyey/222569549067\" class=\"theme_thumb\" data-clk=\"tcc_fod.list12cont3\" target=\"_blank\">\\n\\t\\t\\t\\t\\t\\t<img  data-src=\"https://s.pstatic.net/dthumb.phinf/?src&#x3D;%22https%3A%2F%2Fs.pstatic.net%2Fstatic%2Fwww%2Fmobile%2Fedit%2F20211231_1095%2Fupload_1640914895339SBjYc.JPEG%22&amp;type&#x3D;nf340_228\" alt=\"저탄고지 식단. 슬기로운 산촌생활 유연석 st 두부달걀전 만들기\" width=\"170\" height=\"114\" onerror=\"this.outerHTML=\\'<span class=\\\\\\'pm_noimg\\\\\\'><span class=\\\\\\'noimg_text\\\\\\'>이미지 준비중</span></span>\\'\">\\n\\t\\t\\t\\t\\t\\t<span class=\"thumb_bd\"></span>\\n                        \\n\\t\\t\\t\\t\\t</a>\\n\\t\\t\\t\\t\\t<a href=\"https://blog.naver.com/valueyey/222569549067\" class=\"theme_info\" data-clk=\"tcc_fod.list12cont3\" target=\"_blank\">\\n\\t\\t\\t\\t\\t\\t<em class=\"theme_category\"> 레시피</em>\\n\\t\\t\\t\\t\\t\\t<strong class=\"title elss\">저탄고지 식단. 슬기로운 산촌생활 유연석 st 두부달걀전 만들기</strong>\\n                        <p class=\"desc\">저탄고지 식단. 두부달걀전 만들기 요즘 재미있게 보고 있는 슬기로운 산촌생활.. 99즈 멤버들의 유쾌한 모습을 보는 재미도 있지만, 은근 진심인 그들의 요리에도 눈길이 가는데요. 지난주엔 뉴클리어 반점 st 짜장면과 탕수육이 그렇게 먹고 싶게 하더라고요. (요건 조만간 따라 하기 들어갑니다. ㅎㅎ) 오늘은 좀 지난 방송에서 보았던 뜻밖의 저탄고지 식단 - </p>\\n\\t\\t\\t\\t\\t\\t<div class=\"source_box\">\\n\\t\\t\\t\\t\\t\\t\\t<span class=\"date\">1개월 전</span>\\n\\t\\t\\t\\t\\t\\t\\t<span class=\"source\">\\n                                \\n                                <span class=\"source_inner\">향기</span>\\n                            </span>\\n\\t\\t\\t\\t\\t\\t</div>\\n\\t\\t\\t\\t\\t</a>\\n\\t\\t\\t\\t</li>\\n\\t\\t\\t\\n\\t\\t\\t\\t<li class=\"theme_item\" data-gdid=\"CAS_132c641f-6e09-11ec-9428-bdd8a73e9b87\" data-da-position=\"true\">\\n\\t\\t\\t\\t\\t<a href=\"https://blog.naver.com/kies84/222547514525\" class=\"theme_thumb\" data-clk=\"tcc_fod.list12cont4\" target=\"_blank\">\\n\\t\\t\\t\\t\\t\\t<img  data-src=\"https://s.pstatic.net/dthumb.phinf/?src&#x3D;%22https%3A%2F%2Fs.pstatic.net%2Fstatic%2Fwww%2Fmobile%2Fedit%2F20211231_1095%2Fupload_1640914958480aKsdi.JPEG%22&amp;type&#x3D;nf340_228\" alt=\"밀가루 없는 양배추다이어트 마르게리타 피자 저탄고지 식단\" width=\"170\" height=\"114\" onerror=\"this.outerHTML=\\'<span class=\\\\\\'pm_noimg\\\\\\'><span class=\\\\\\'noimg_text\\\\\\'>이미지 준비중</span></span>\\'\">\\n\\t\\t\\t\\t\\t\\t<span class=\"thumb_bd\"></span>\\n                        \\n\\t\\t\\t\\t\\t</a>\\n\\t\\t\\t\\t\\t<a href=\"https://blog.naver.com/kies84/222547514525\" class=\"theme_info\" data-clk=\"tcc_fod.list12cont4\" target=\"_blank\">\\n\\t\\t\\t\\t\\t\\t<em class=\"theme_category\"> 레시피</em>\\n\\t\\t\\t\\t\\t\\t<strong class=\"title elss\">밀가루 없는 양배추다이어트 마르게리타 피자 저탄고지 식단</strong>\\n                        <p class=\"desc\">한동안 날이 추워져서 한식을 열심히 먹었더니, 이제 양식이 슬금슬금 생각이 나더라고요. 그래서 무엇을 만들어 먹을까 고민을 하다가 밀가루 없이 만드는 저탄고지 식단 메뉴로 추천하고 싶은 양배추 다이어트 피자 마르게리타 피자 만드는 방법을 소개해드릴게요. 자 오늘의 재료는 아래와 같은데요. 양배추 채썬것 150g + 방울토마토 4~5개 + 스낵모짜렐라치즈 9</p>\\n\\t\\t\\t\\t\\t\\t<div class=\"source_box\">\\n\\t\\t\\t\\t\\t\\t\\t<span class=\"date\">2개월 전</span>\\n\\t\\t\\t\\t\\t\\t\\t<span class=\"source\">\\n                                \\n                                <span class=\"source_inner\">초대리</span>\\n                            </span>\\n\\t\\t\\t\\t\\t\\t</div>\\n\\t\\t\\t\\t\\t</a>\\n\\t\\t\\t\\t</li>\\n\\t\\t\\t\\n\\t\\t\\t\\t<li class=\"theme_item\" data-gdid=\"CAS_9d07de15-69dd-11ec-b7dd-63dc335ffa75\" data-da-position=\"true\">\\n\\t\\t\\t\\t\\t<a href=\"https://blog.naver.com/soyeo_/222584184516\" class=\"theme_thumb\" data-clk=\"tcc_fod.list12cont5\" target=\"_blank\">\\n\\t\\t\\t\\t\\t\\t<img  data-src=\"https://s.pstatic.net/dthumb.phinf/?src&#x3D;%22https%3A%2F%2Fs.pstatic.net%2Fstatic%2Fwww%2Fmobile%2Fedit%2F20220105_1095%2Fupload_16413744630562XGEk.JPEG%22&amp;type&#x3D;nf340_228\" alt=\"[저탄고지 키토식단] 성시경 삼겹살 두부조림 (키토 버전)\" width=\"170\" height=\"114\" onerror=\"this.outerHTML=\\'<span class=\\\\\\'pm_noimg\\\\\\'><span class=\\\\\\'noimg_text\\\\\\'>이미지 준비중</span></span>\\'\">\\n\\t\\t\\t\\t\\t\\t<span class=\"thumb_bd\"></span>\\n                        \\n\\t\\t\\t\\t\\t</a>\\n\\t\\t\\t\\t\\t<a href=\"https://blog.naver.com/soyeo_/222584184516\" class=\"theme_info\" data-clk=\"tcc_fod.list12cont5\" target=\"_blank\">\\n\\t\\t\\t\\t\\t\\t<em class=\"theme_category\"> 레시피</em>\\n\\t\\t\\t\\t\\t\\t<strong class=\"title elss\">[저탄고지 키토식단] 성시경 삼겹살 두부조림 (키토 버전)</strong>\\n                        <p class=\"desc\">[SSO 저탄고지 키토제닉 식단] 성시경 삼겹살 두부조림 (키토 버전) ※ 지방을 과하게 더하기보다 당을 줄이는 데 집중한 식단 ※ 성시경님의 레시피를 키토 버전으로 변형·수정한 식단 성시경 삼겹살 두부조림 재료 ◆ 이 식단에 사용한 재료 정보 두부 : CJ 단단한 부침 두부 오일 : 백설 퓨어 올리브오일 간장 : 브래그 리퀴드 아미노스 올리고당 : 큐원 </p>\\n\\t\\t\\t\\t\\t\\t<div class=\"source_box\">\\n\\t\\t\\t\\t\\t\\t\\t<span class=\"date\">1개월 전</span>\\n\\t\\t\\t\\t\\t\\t\\t<span class=\"source\">\\n                                \\n                                <span class=\"source_inner\">sso</span>\\n                            </span>\\n\\t\\t\\t\\t\\t\\t</div>\\n\\t\\t\\t\\t\\t</a>\\n\\t\\t\\t\\t</li>\\n\\t\\t\\t\\n\\t\\t</ul>\\n\\t</div>\\n</div>\\n\\n\\n\\n\\n\\t<div class=\"btn_more_wrap\">\\n\\t\\t<button type=\"button\" class=\"btn_more\" data-clk-custom=\"tcc_fod.more\" data-next-page=\"2\"><i class=\"ico_more\"></i>새로운 글 더보기</button>\\n\\t</div>\\n\\n\\n<div class=\"NM_THEME_META\" style=\"display: none\" data-panel-code=\"LIVING\" data-parent-code=\"\"></div>\\n\\n\\t</div>\\n</div>\\n </div> </div> <div id=\"NM_INT_RIGHT\" class=\"column_right\"> <div class=\"column_fix_wrap\"> <div id=\"da_brand\"></div> \\n\\n\\n\\n\\n<div id=\"account\" class=\"sc_login\">\\n<h2 class=\"blind\">Sign in</h2>\\n<p class=\"login_msg\">Connect with people</p>\\n<a href=\"https://nid.naver.com/nidlogin.login?mode=form&url=https%3A%2F%2Fwww.naver.com\" class=\"link_login\" data-clk=\"log_off.login\"><i class=\"ico_naver\"><span class=\"blind\">NAVER</span></i>Sign in</a>\\n<div class=\"sub_area\">\\n<div class=\"look_box\">\\n<a href=\"https://nid.naver.com/user/help.nhn?todo=idinquiry\" class=\"link_look\" data-clk=\"log_off.searchid\">Forgot Username</a>\\n<a href=\"https://nid.naver.com/nidreminder.form\" class=\"link_look\" data-clk=\"log_off.searchpass\">Password</a>\\n</div>\\n<a href=\"https://nid.naver.com/nidregister.form?url=https%3A%2F%2Fwww.naver.com\" class=\"link_join\" data-clk=\"log_off.registration\">Sign up</a>\\n</div>\\n</div>\\n\\n\\n\\n <div id=\"timesquare\" class=\"sc_timesquare\"> <h2 class=\"blind\">타임스퀘어</h2> <div class=\"card_wrap\">\\n<div class=\"card_nav\">\\n<a href=\"#\" role=\"button\" class=\"btn_nav btn_prev\" data-clk=\"squ.pre\"><span class=\"blind\">이전</span></a>\\n<a href=\"#\" role=\"button\" class=\"btn_nav btn_next\" data-clk=\"squ.next\"><span class=\"blind\">다음</span></a>\\n</div>\\n<div id=\"NM_TS_ROLLING_WRAP\" style=\"height: 100%;\">\\n<div>\\n<a href=\"https://search.naver.com/search.naver?sm=top_hty&amp;fbm=0&amp;ie=utf8&amp;query=%EC%BD%94%EB%A1%9C%EB%82%9819\" class=\"card_news\" data-clk=\"squ.line3\"><i class=\"news_badge\">이슈</i><span class=\"news\">코로나바이러스감염증-19 현황</span></a>\\n</div>\\n<div>\\n<a href=\"https://campaign.naver.com/collect_v2/?target=https%3A%2F%2Fcampaign.naver.com%2Fnaverapp%2Fqrpass&pcode=Naver_loginbottom_1&event_id=qr\" class=\"card_notice\" data-clk=\"squ.covidqrcheckin\"><span class=\"notice\"><i class=\"ico_qrcode\"></i><strong>쉬운 방역패스</strong>를 위한 <strong>바로가기 설치</strong> 안내</span></a>\\n</div>\\n<div>\\n<a href=\"https://finance.naver.com/sise/sise_index.nhn?code=KOSPI\" class=\"card_stock \" data-clk=\"squ.kospi\">\\n<strong class=\"stock_title\">증시</strong>\\n<div class=\"stock_box\">\\n<em class=\"name\">코스피</em>\\n<strong class=\"current\">2,912.42</strong>\\n<span class=\"rate rate_down\">14.30 -0.49%</span>\\n</div>\\n</a>\\n</div>\\n<div>\\n<a href=\"https://finance.naver.com/sise/sise_index.nhn?code=KOSDAQ\" class=\"card_stock \" data-clk=\"squ.kosdaq\">\\n<strong class=\"stock_title\">증시</strong>\\n<div class=\"stock_box\">\\n<em class=\"name\">코스닥</em>\\n<strong class=\"current\">963.53</strong>\\n<span class=\"rate rate_down\">16.85 -1.72%</span>\\n</div>\\n</a>\\n</div>\\n<div>\\n<a href=\"https://finance.naver.com/marketindex/exchangeDetail.nhn?marketindexCd=FX_USDKRW\" class=\"card_stock type_exchange\" data-clk=\"squ.usd\">\\n<strong class=\"stock_title\">환율</strong>\\n<div class=\"stock_box\">\\n<em class=\"name\">USD</em>\\n<strong class=\"current\">1,195.90</strong>\\n<span class=\"rate rate_down\">2.10 -0.18%</span>\\n</div>\\n</a>\\n</div>\\n</div>\\n</div> <!-- EMPTY --> </div> <div id=\"veta_branding\"> <div id=\"veta_branding_inner\" style=\"width:350px;height:200px\"> </div> <span class=\"veta_bd_t\"></span> <span class=\"veta_bd_b\"></span> <span class=\"veta_bd_l\"></span> <span class=\"veta_bd_r\"></span> </div> <div id=\"shopcast\" class=\"sc_shopcast\"> <iframe id=\"shopcast_iframe\" data-iframe-src=\"/shoppingbox/shoppingboxnew/main.nhn?domain=N\" title=\"쇼핑캐스트\" width=\"350\" height=\"1539\" marginheight=\"0\" marginwidth=\"0\" scrolling=\"no\" frameborder=\"0\"></iframe> </div> </div> </div> <a id=\"NM_scroll_top_btn\" href=\"#wrap\" class=\"content_top\"><span class=\"blind\">TOP</span></a> <button id=\"NM_darkmode_btn\" type=\"button\" role=\"button\" class=\"btn_theme\" aria-pressed=\"false\"  > <span class=\"blind\">라이트 모드로 보기</span> </button> </div> <div id=\"footer\" role=\"contentinfo\"> <div class=\"footer_inner\"> <div id=\"NM-FOOTER-AD\" class=\"banner_area\"> <div class=\"da_box_wrap\"> <div id=\"da_public_left\"> </div> <div id=\"da_public_right\"> </div> <div id=\"veta_time2\"> </div> </div> </div> <div class=\"notice_area\" data-clk-prefix=\"ntc\"> <div class=\"notice_box\"> <h3 class=\"title\"><a href=\"https://www.naver.com/NOTICE\">공지사항</a> </h3> <!-- EMPTY --> </div> <a href=\"more.html\" class=\"link_all\" data-clk=\"svcmap\">서비스 전체보기</a> </div> <div class=\"aside_area\"> <div class=\"partner_box_wrap\"> <div class=\"partner_box\" data-clk-prefix=\"crt\"> <h3 class=\"title\">Creators</h3> <a href=\"https://www.navercorp.com/service/creators\" class=\"link_partner\" data-clk=\"creator\">크리에이터</a> <a href=\"https://www.navercorp.com/service/business\" class=\"link_partner\" data-clk=\"smbusiness\">스몰비즈니스</a> </div> <div class=\"partner_box\" data-clk-prefix=\"crt\"> <h3 class=\"title\">Partners</h3> <a href=\"https://campaign.naver.com/smefullcare/online/\" class=\"link_partner\" data-clk=\"sme\">SME 풀케어 시스템</a> <a href=\"https://business.naver.com/service.html\" class=\"link_partner\" data-clk=\"service\">비즈니스 · 광고</a> <a href=\"https://sell.storefarm.naver.com/#/home/about\" class=\"link_partner\" data-clk=\"store\">스토어 개설</a> <a href=\"https://smartplace.naver.com\" class=\"link_partner\" data-clk=\"place\">지역업체 등록</a> <a href=\"https://expert.naver.com/expert/introduction?tab=guide#join\" class=\"link_partner\" data-clk=\"expert\">엑스퍼트 등록</a> </div> <div class=\"partner_box\" data-clk-prefix=\"crt\"> <h3 class=\"title\">Developers</h3> <a href=\"https://developers.naver.com\" class=\"link_partner\" data-clk=\"center\">네이버 개발자 센터</a> <a href=\"https://developers.naver.com/docs/common/openapiguide/#/apilist.md\" class=\"link_partner\" data-clk=\"openapi\">오픈 API</a> <a href=\"https://naver.github.io\" class=\"link_partner\" data-clk=\"opensource\">오픈소스</a> <a href=\"https://d2.naver.com\" class=\"link_partner\" data-clk=\"d2\">네이버 D2</a> <a href=\"http://d2startup.com\" class=\"link_partner\" data-clk=\"naverD2SF\">네이버 D2SF</a> <a href=\"https://www.naverlabs.com\" class=\"link_partner\" data-clk=\"labs\">네이버 랩스</a> </div> </div> <div class=\"service_box_wrap\"> <div class=\"service_box\" data-clk-prefix=\"wbd\"> <a href=\"http://whale.naver.com/\" class=\"service_logo\" data-clk=\"bt\"> <img src=\"data:image/png;base64,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\" alt=\"웨일\" width=\"48\" height=\"48\"> </a> <div class=\"service_info\"> <strong class=\"title\">웨일 브라우저</strong> <a href=\"http://whale.naver.com/\" class=\"dsc\" data-clk=\"bt\">다운받기</a> </div> </div> <div class=\"service_box\" data-clk-prefix=\"prj\"> <a href=\"https://search.naver.com/search.naver?where=nexearch&sm=top_hty&fbm=1&ie=utf8&query=%ED%94%84%EB%A1%9C%EC%A0%9D%ED%8A%B8%EA%BD%83\" class=\"service_logo\" data-clk=\"link\"> <img src=\"data:image/png;base64,iVBORw0KGgoAAAANSUhEUgAAAF4AAABkCAMAAAA47XeXAAAAgVBMVEUAAADN5PdGm99Gm99Gm99Gm99Gm95Gm99Gm99Gm99Gm99Gm99Gm99Gm99Gm99Gm99Gm99Gm99Gm99Gm99Gm99Gm99Gm99Gmt9Gm99Gm99Gm99Gm95Gm99Gm99Gm95Gm99Hm99Gm99Gm9/////3+/5cp+LO5PfR5/fO5fdcp+P7/f/zv5GhAAAAInRSTlMA/v7vH9u5qJNgGwb6l8a9uqF9WFUyLxYMCtbVmLCwe4OCj8gzEgAAA0NJREFUaN7NmmFz4iAQhkkwMTHGWrWtWvWuq8mF+/8/8Ey2nb0OhSwQZnw+MHQ7pbjAy2s2gsuiLPJMLpcyy4tyISZltnmHbxw3MzEVr/MUNNL5q5iCt2ccXCN9fhPB7CQYkTsRRlWDlboSAexzGCHfC28OKxhldfDOzBMwePLNTw0sauHFFphshQcLCUwkaQRfXYBPSkrEUBdv3jezcXXhw1ciUhc+fCUidQlH7qzqEk5d2dQlnHxvU5dwVgdXdSGclaiGyamt6hLO1qIu4ZASzcFE092SBprk1jagulvXAAw/qb5N7m176xQYmOPoLymYaK/X65/PNhlagE6LGUhfRM8FjNzuf/73//bHmInzoJEpjMyeWpp9RzGz/PT6+QvMNO2Q+67PPeYZY5h7jDVg5OM+/BGikd13JfDAj/Ad1WLMyEyUwKPT00ypN1GKAljQJtFiFgqRe86eYhbWIvPPPR5d+9pKiIgUwKNJdHXBvW9jyRye1EWLWYfnJcd141Byspizz7gbUyWDuqiW0v15D9g3ZgF86JwyKUgUHJaATUmS5rsEdkkTZLjZS8Alw+skFr8Nl6H6uosShaKOp3Zo+/jgFTDe+wcSfv0yFGfQaLX7tDO0reXOPRuMCG4Q11Y3IiYblWgzS7R+h31qdRtlGB7zikeUckz+AB3a8FuMqD7Cd2nhUHLOEIkLubQIkEuLxIdwEwUy3HyXxsbgPMJcGuGox+TSIugxuTQ+KHIaAS5N92eIIuMT5tJoPfHy5q9yKoXLelLuKRri0mjMQdhwTPw6Sv8pzKXhFyhNilEwkSCXRrnAnaPnJdyl0UrqXircpeHVglnv+62K4NJo3lFcGmWd79KO7OQoXAE8XNO6tIQGxj7fpfHTwk8RubQLWEGvgTNGKzj01fixunCMCCYcvSSlaFwUyKVx86J3bczpUR3zimq1LqdosAUbJF54ar+uk5Gju436mPTk8ZAXFdO93HRYTesUVgf3B+y0XdxLfdVputmfKp/iBtNjyl3c0kzUwtJIWewIPvAL9LOyWLsV9WAps3VRzh6hJBm3oOqsRKfHLGYzS/GP+iLBuBKdqkd+iWPkFZTHf4Em4us/uhI5qss/6zK5u8+AXpwAAAAASUVORK5CYII=\" alt=\"꽃\" width=\"47\" height=\"50\"> </a> <div class=\"service_info\"> <strong class=\"title\">프로젝트 꽃</strong> <a href=\"https://search.naver.com/search.naver?where=nexearch&sm=top_hty&fbm=1&ie=utf8&query=%ED%94%84%EB%A1%9C%EC%A0%9D%ED%8A%B8%EA%BD%83\" class=\"dsc\" data-clk=\"link\">바로가기</a> </div> </div> </div> </div> <div class=\"corp_area\" data-clk-prefix=\"plc\"> <h3 class=\"blind\">네이버 정책 및 약관</h3> <ul class=\"list_corp\"> <li class=\"corp_item\"><a href=\"https://www.navercorp.com\" data-clk=\"intronhn\">회사소개</a></li> <li class=\"corp_item\"><a href=\"https://recruit.navercorp.com/naver/recruitMain\" data-clk=\"recruit\">인재채용</a></li> <li class=\"corp_item\"><a href=\"https://www.navercorp.com/naver/proposalGuide\" data-clk=\"contact\">제휴제안</a></li> <li class=\"corp_item\"><a href=\"/policy/service.html\" data-clk=\"service\">이용약관</a></li> <li class=\"corp_item\"><a href=\"/policy/privacy.html\" data-clk=\"privacy\"><strong>개인정보처리방침</strong></a></li> <li class=\"corp_item\"><a href=\"/policy/youthpolicy.html\" data-clk=\"youth\">청소년보호정책</a></li> <li class=\"corp_item\"><a href=\"/policy/spamcheck.html\" data-clk=\"policy\">네이버 정책</a></li> <li class=\"corp_item\"><a href=\"https://help.naver.com/\" data-clk=\"helpcenter\">고객센터</a></li> </ul> <address class=\"addr\"><a href=\"https://www.navercorp.com\" target=\"_blank\" data-clk=\"nhn\">ⓒ NAVER Corp.</a></address> </div> </div> </div> </div> <div id=\"adscript\" style=\"display:none\"></div> </body> </html>\\n'"
      ]
     },
     "execution_count": 7,
     "metadata": {},
     "output_type": "execute_result"
    }
   ],
   "source": [
    "#네이버로부터 받은 html 문서 정보 전체 출력\n",
    "res1.text"
   ]
  },
  {
   "cell_type": "code",
   "execution_count": 8,
   "metadata": {
    "id": "ANXCoZd-HAd4"
   },
   "outputs": [],
   "source": [
    "# 네이버 html 문서를 naver html 파일로 저장 \n",
    "with open('naver.html', 'w', encoding = 'utf8') as f:\n",
    "    f.write(res1.text)"
   ]
  },
  {
   "cell_type": "code",
   "execution_count": null,
   "metadata": {
    "id": "SDEunQCyHAd4"
   },
   "outputs": [],
   "source": []
  },
  {
   "cell_type": "markdown",
   "metadata": {
    "id": "dIWZgpToHAd5"
   },
   "source": [
    "## 1. 네이버 뉴스 크롤링"
   ]
  },
  {
   "cell_type": "code",
   "execution_count": 18,
   "metadata": {
    "id": "HKpb6h2oHAd5"
   },
   "outputs": [],
   "source": [
    "#정보요청 라이브러리 import\n",
    "import requests\n",
    "\n",
    "#크롤링 라이브러리 import\n",
    "from bs4 import BeautifulSoup "
   ]
  },
  {
   "cell_type": "markdown",
   "metadata": {
    "id": "5b1cFWrPHAd5"
   },
   "source": [
    "<b>로봇으로 인식 방지</b><br>\n",
    "코드를 바탕으로 크롤링 시 로봇으로 인식하고 접속을 차단하는 경우 존재 <br>\n",
    "엄연히 한 유저로서 정보를 추출한다는 표시인 User-Agent 필요 <br>\n",
    "자신의 User-Agent는 <a href = 'https://www.whatismybrowser.com/detect/what-is-my-user-agent'>'what is my useragent'</a> 사이트에 접속"
   ]
  },
  {
   "cell_type": "code",
   "execution_count": 19,
   "metadata": {
    "id": "ku_tAkznHAd5"
   },
   "outputs": [],
   "source": [
    "#User-Agent 지정\n",
    "headers = {'Mozilla/5.0 (Windows NT 10.0; Win64; x64) AppleWebKit/537.36 (KHTML, like Gecko) Chrome/97.0.4692.71 Safari/537.36'}"
   ]
  },
  {
   "cell_type": "code",
   "execution_count": 11,
   "metadata": {
    "id": "BmrYX0jbHAd5"
   },
   "outputs": [],
   "source": [
    "#크롤링 할 대상 url 지정\n",
    "url = 'https://news.naver.com'\n",
    "\n",
    "#크롤링 대상 url과 headers를 기반으로 정보 요청\n",
    "res = requests.get(url, headers = headers)\n",
    "\n",
    "#정상적으로 정보를 받은 경우 지속, 그렇지 않은 경우 중지\n",
    "res.raise_for_status()\n",
    "\n",
    "#html문서를 beautifulsoup의 lxml 형태로 변환\n",
    "soup = BeautifulSoup(res.text, 'lxml') "
   ]
  },
  {
   "cell_type": "markdown",
   "metadata": {
    "id": "_YkpYpBXHAd6"
   },
   "source": [
    "<b>단일 추출</b>"
   ]
  },
  {
   "cell_type": "code",
   "execution_count": 12,
   "metadata": {
    "id": "_EEFVUeuHAd6",
    "outputId": "6ffc3c1c-ef0f-4fff-a965-7e5e351f9b1f"
   },
   "outputs": [
    {
     "data": {
      "text/plain": [
       "<div class=\"main_brick_item\">\n",
       "<div class=\"comp_journal_subscribe\">\n",
       "<div class=\"cjs_title_wrap\">\n",
       "<h3 class=\"cjs_edit_title\">\n",
       "<span class=\"cjs_main\">언론사편집</span>\n",
       "<a class=\"cjs_subscribe_a\" href=\"#feedCard\" onclick=\"nclk(event, 'home.editassetting', '', '')\">\n",
       "<span class=\"subs_text\">기자\n",
       "                        \n",
       "                    </span>\n",
       "<span class=\"subs_text\">연재\n",
       "                        \n",
       "                    </span>\n",
       "</a>\n",
       "</h3>\n",
       "<a class=\"cjs_more_link\" href=\"https://media.naver.com/channel/settings\" onclick=\"nclk(event, 'home.editsetting', '', '')\">\n",
       "                구독설정\n",
       "                \n",
       "                <span class=\"ico_more\"></span>\n",
       "</a>\n",
       "</div>\n",
       "</div>\n",
       "</div>"
      ]
     },
     "execution_count": 12,
     "metadata": {},
     "output_type": "execute_result"
    }
   ],
   "source": [
    "#html문서에서 main_brick_item이라는 이름의 class를 지닌 div element를 선택\n",
    "div1 = soup.find('div', attrs = {'class' : 'main_brick_item'})\n",
    "\n",
    "#선택한 element 내용 출력\n",
    "div1"
   ]
  },
  {
   "cell_type": "code",
   "execution_count": 13,
   "metadata": {
    "id": "e2u_e3S2HAd6",
    "outputId": "99323030-9276-4f23-9e16-4890f584b843"
   },
   "outputs": [
    {
     "data": {
      "text/plain": [
       "<a class=\"cjs_subscribe_a\" href=\"#feedCard\" onclick=\"nclk(event, 'home.editassetting', '', '')\">\n",
       "<span class=\"subs_text\">기자\n",
       "                        \n",
       "                    </span>\n",
       "<span class=\"subs_text\">연재\n",
       "                        \n",
       "                    </span>\n",
       "</a>"
      ]
     },
     "execution_count": 13,
     "metadata": {},
     "output_type": "execute_result"
    }
   ],
   "source": [
    "#div1 element에서 첫번째로 발견되는 a element를 반환\n",
    "div1.a"
   ]
  },
  {
   "cell_type": "code",
   "execution_count": 14,
   "metadata": {
    "id": "QI4TbD6OHAd6"
   },
   "outputs": [
    {
     "data": {
      "text/plain": [
       "{'href': '#feedCard',\n",
       " 'class': ['cjs_subscribe_a'],\n",
       " 'onclick': \"nclk(event, 'home.editassetting', '', '')\"}"
      ]
     },
     "execution_count": 14,
     "metadata": {},
     "output_type": "execute_result"
    }
   ],
   "source": [
    "#div1 element에서 첫번째로 발견되는 a element의 attribute 추출\n",
    "div1.a.attrs"
   ]
  },
  {
   "cell_type": "code",
   "execution_count": 15,
   "metadata": {
    "id": "w9ECRBekHAd6"
   },
   "outputs": [
    {
     "data": {
      "text/plain": [
       "['cjs_subscribe_a']"
      ]
     },
     "execution_count": 15,
     "metadata": {},
     "output_type": "execute_result"
    }
   ],
   "source": [
    "#div1 element에서 첫번째로 발견되는 a element의 class attribute 정보 추출\n",
    "div1.a['class']"
   ]
  },
  {
   "cell_type": "code",
   "execution_count": 16,
   "metadata": {
    "id": "aAHuim2AHAd6"
   },
   "outputs": [
    {
     "data": {
      "text/plain": [
       "'\\n기자\\n                        \\n                    \\n연재\\n                        \\n                    \\n'"
      ]
     },
     "execution_count": 16,
     "metadata": {},
     "output_type": "execute_result"
    }
   ],
   "source": [
    "#div1 element에서 첫번째로 발견되는 a element의 글자 추출\n",
    "div1.a.get_text()"
   ]
  },
  {
   "cell_type": "markdown",
   "metadata": {
    "id": "tcIiOTXeHAd7"
   },
   "source": [
    "<b>다중 추출</b>"
   ]
  },
  {
   "cell_type": "code",
   "execution_count": 17,
   "metadata": {
    "id": "oV814Dn6HAd7"
   },
   "outputs": [],
   "source": [
    "#크롤링 할 대상 url 지정\n",
    "url = 'https://news.naver.com/main/main.naver?mode=LSD&mid=shm&sid1=100'\n",
    "\n",
    "#크롤링 대상 url과 headers를 기반으로 정보 요청\n",
    "res = requests.get(url, headers = headers)\n",
    "\n",
    "#정상적으로 정보를 받은 경우 지속, 그렇지 않은 경우 중지\n",
    "res.raise_for_status()\n",
    "\n",
    "#html문서를 beautifulsoup의 lxml 형태로 변환\n",
    "soup = BeautifulSoup(res.text, 'lxml') "
   ]
  },
  {
   "cell_type": "code",
   "execution_count": 18,
   "metadata": {
    "id": "j08k0PKEHAd7",
    "outputId": "efd40a69-a29e-4989-be85-29a3588abd5c"
   },
   "outputs": [
    {
     "data": {
      "text/plain": [
       "[<a class=\"cluster_text_headline nclicks(cls_pol.clsart)\" href=\"https://news.naver.com/main/read.naver?mode=LSD&amp;mid=shm&amp;sid1=100&amp;oid=056&amp;aid=0011192124\">‘공공기관 노동이사제’·‘만16세 정당가입’ 법사위 통과…내일 본회의</a>,\n",
       " <a class=\"cluster_text_headline nclicks(cls_pol.clsart)\" href=\"https://news.naver.com/main/read.naver?mode=LSD&amp;mid=shm&amp;sid1=100&amp;oid=022&amp;aid=0003656231\">‘공공기관 노동이사제’ 법사위 통과… 11일 본회의 상정</a>,\n",
       " <a class=\"cluster_text_headline nclicks(cls_pol.clsart)\" href=\"https://news.naver.com/main/read.naver?mode=LSD&amp;mid=shm&amp;sid1=100&amp;oid=016&amp;aid=0001935640\">高1도 당원된다</a>,\n",
       " <a class=\"cluster_text_headline nclicks(cls_pol.clsart)\" href=\"https://news.naver.com/main/read.naver?mode=LSD&amp;mid=shm&amp;sid1=100&amp;oid=421&amp;aid=0005836293\">'고1도 정당 가입' 정당법 법사위 통과…3·9 재보선부터 '고3 공천'</a>,\n",
       " <a class=\"cluster_text_headline nclicks(cls_pol.clsart)\" href=\"https://news.naver.com/main/read.naver?mode=LSD&amp;mid=shm&amp;sid1=100&amp;oid=023&amp;aid=0003665426\">與 “安은 윤석열 아바타” 공격모드로 돌변</a>,\n",
       " <a class=\"cluster_text_headline nclicks(cls_pol.clsart)\" href=\"https://news.naver.com/main/read.naver?mode=LSD&amp;mid=shm&amp;sid1=100&amp;oid=022&amp;aid=0003656271\">“安 국가 발전에 필요한 분”이라던 與…‘마의 15%’ 벽 넘자 “‘MB 아바타’ 넘어 ‘尹 아바타’”</a>,\n",
       " <a class=\"cluster_text_headline nclicks(cls_pol.clsart)\" href=\"https://news.naver.com/main/read.naver?mode=LSD&amp;mid=shm&amp;sid1=100&amp;oid=005&amp;aid=0001497572\">與, 안철수 상승세에 “망언하는 윤석열 아바타” 싸잡아 비난</a>,\n",
       " <a class=\"cluster_text_headline nclicks(cls_pol.clsart)\" href=\"https://news.naver.com/main/read.naver?mode=LSD&amp;mid=shm&amp;sid1=100&amp;oid=437&amp;aid=0000286042\">민주당, 안철수 본격 견제…\"안 후보는 MB 넘어 윤석열 아바타\"</a>,\n",
       " <a class=\"cluster_text_headline nclicks(cls_pol.clsart)\" href=\"https://news.naver.com/main/read.naver?mode=LSD&amp;mid=shm&amp;sid1=100&amp;oid=277&amp;aid=0005028725\">북, 엿새만에 다시 미사일 발사… 왜</a>,\n",
       " <a class=\"cluster_text_headline nclicks(cls_pol.clsart)\" href=\"https://news.naver.com/main/read.naver?mode=LSD&amp;mid=shm&amp;sid1=100&amp;oid=422&amp;aid=0000522897\">美, 北극초음속미사일 시험 주장에 \"여전히 평가중\"</a>,\n",
       " <a class=\"cluster_text_headline nclicks(cls_pol.clsart)\" href=\"https://news.naver.com/main/read.naver?mode=LSD&amp;mid=shm&amp;sid1=100&amp;oid=214&amp;aid=0001171609\">북, 동해상으로 미상 발사체 발사‥탄도미사일 쏜지 6일 만</a>,\n",
       " <a class=\"cluster_text_headline nclicks(cls_pol.clsart)\" href=\"https://news.naver.com/main/read.naver?mode=LSD&amp;mid=shm&amp;sid1=100&amp;oid=008&amp;aid=0004694585\">안보리 입장 전한 외교부 \"北 미사일 우려...대화복귀 촉구\"</a>,\n",
       " <a class=\"cluster_text_headline nclicks(cls_pol.clsart)\" href=\"https://news.naver.com/main/read.naver?mode=LSD&amp;mid=shm&amp;sid1=100&amp;oid=025&amp;aid=0003165522\">文대통령, 중동 3개국 순방…전날 공개한 野엔 \"명백한 외교결레\"</a>,\n",
       " <a class=\"cluster_text_headline nclicks(cls_pol.clsart)\" href=\"https://news.naver.com/main/read.naver?mode=LSD&amp;mid=shm&amp;sid1=100&amp;oid=047&amp;aid=0002338578\">문 대통령, 15~22일 UAE·사우디·이집트 방문한다</a>,\n",
       " <a class=\"cluster_text_headline nclicks(cls_pol.clsart)\" href=\"https://news.naver.com/main/read.naver?mode=LSD&amp;mid=shm&amp;sid1=100&amp;oid=052&amp;aid=0001687853\">靑, 文 순방 선공개한 野에 강한 유감...\"외교적 결례\"</a>,\n",
       " <a class=\"cluster_text_headline nclicks(cls_pol.clsart)\" href=\"https://news.naver.com/main/read.naver?mode=LSD&amp;mid=shm&amp;sid1=100&amp;oid=055&amp;aid=0000945593\">문 대통령, 15∼22일 중동 3개국 순방…UAE · 사우디 · 이집트 방문</a>,\n",
       " <a class=\"cluster_text_headline nclicks(cls_pol.clsart)\" href=\"https://news.naver.com/main/read.naver?mode=LSD&amp;mid=shm&amp;sid1=100&amp;oid=018&amp;aid=0005124358\">이재명 \"135兆 투자, 일자리 200만개, G5 경제대국\"…경제비전 발표</a>,\n",
       " <a class=\"cluster_text_headline nclicks(cls_pol.clsart)\" href=\"https://news.naver.com/main/read.naver?mode=LSD&amp;mid=shm&amp;sid1=100&amp;oid=277&amp;aid=0005028677\">이재명 신경제 비전 발표 “대전환과 개혁으로 세계 5강 경제 완성”</a>,\n",
       " <a class=\"cluster_text_headline nclicks(cls_pol.clsart)\" href=\"https://news.naver.com/main/read.naver?mode=LSD&amp;mid=shm&amp;sid1=100&amp;oid=366&amp;aid=0000786164\">尹 “공산 침략에서 나라 구한 인천상륙작전처럼 역전 드라마 시작”</a>,\n",
       " <a class=\"cluster_text_headline nclicks(cls_pol.clsart)\" href=\"https://news.naver.com/main/read.naver?mode=LSD&amp;mid=shm&amp;sid1=100&amp;oid=020&amp;aid=0003404877\">尹 “인천상륙작전처럼 역전…주 52시간 국민합의 재도출”</a>,\n",
       " <a class=\"cluster_text_headline nclicks(cls_pol.clsart)\" href=\"https://news.naver.com/main/read.naver?mode=LSD&amp;mid=shm&amp;sid1=100&amp;oid=008&amp;aid=0004694513\">\"국민 생명 지키는 게 국가 소임\"…尹, 닥터헬기 확대 공약 발표</a>,\n",
       " <a class=\"cluster_text_headline nclicks(cls_pol.clsart)\" href=\"https://news.naver.com/main/read.naver?mode=LSD&amp;mid=shm&amp;sid1=100&amp;oid=055&amp;aid=0000945752\">윤석열 \"닥터헬기 운용 지역 전국으로 확대\" 공약</a>,\n",
       " <a class=\"cluster_text_headline nclicks(cls_pol.clsart)\" href=\"https://news.naver.com/main/read.naver?mode=LSD&amp;mid=shm&amp;sid1=100&amp;oid=016&amp;aid=0001935454\">김종인 “무슨 복귀?” 홍준표 “더 이상 바보짓 안해”…꼬여버린 ‘대통합’</a>,\n",
       " <a class=\"cluster_text_headline nclicks(cls_pol.clsart)\" href=\"https://news.naver.com/main/read.naver?mode=LSD&amp;mid=shm&amp;sid1=100&amp;oid=005&amp;aid=0001497862\">[단독]김종인, ‘정권교체 尹·安 누가 적합’ 질문에 “노코멘트”</a>,\n",
       " <a class=\"cluster_text_headline nclicks(cls_pol.clsart)\" href=\"https://news.naver.com/main/read.naver?mode=LSD&amp;mid=shm&amp;sid1=100&amp;oid=001&amp;aid=0012909853\">이재명 \"디지털인재 교육비 선지원하는 '휴먼캐피털' 도입\"</a>,\n",
       " <a class=\"cluster_text_headline nclicks(cls_pol.clsart)\" href=\"https://news.naver.com/main/read.naver?mode=LSD&amp;mid=shm&amp;sid1=100&amp;oid=029&amp;aid=0002715362\">‘정책 행보’ 이재명, ‘메타버스 정부’ 띄운다…‘디지털 코리아’ 청사진은?</a>,\n",
       " <a class=\"cluster_text_headline nclicks(cls_pol.clsart)\" href=\"https://news.naver.com/main/read.naver?mode=LSD&amp;mid=shm&amp;sid1=100&amp;oid=421&amp;aid=0005836447\">홍준표 \"대선이 초등 반장 선거로 전락\"…이재명·윤석열 싸잡아 비판</a>,\n",
       " <a class=\"cluster_text_headline nclicks(cls_pol.clsart)\" href=\"https://news.naver.com/main/read.naver?mode=LSD&amp;mid=shm&amp;sid1=100&amp;oid=020&amp;aid=0003405026\">홍준표 “대선이 초등학교 반장선거도 아니고…저급해”</a>,\n",
       " <a class=\"cluster_text_headline nclicks(cls_pol.clsart)\" href=\"https://news.naver.com/main/read.naver?mode=LSD&amp;mid=shm&amp;sid1=100&amp;oid=214&amp;aid=0001171643\">김 총리 \"평택 화재, 뼈저린 반성해야‥정부 대책 원점에서 재검토\"</a>,\n",
       " <a class=\"cluster_text_headline nclicks(cls_pol.clsart)\" href=\"https://news.naver.com/main/read.naver?mode=LSD&amp;mid=shm&amp;sid1=100&amp;oid=056&amp;aid=0011192548\">김 총리 “평택 소방관 순직에 책임 통감…기존 대책 전면 재점검”</a>,\n",
       " <a class=\"cluster_text_headline nclicks(cls_pol.clsart)\" href=\"https://news.naver.com/main/read.naver?mode=LSD&amp;mid=shm&amp;sid1=100&amp;oid=015&amp;aid=0004651285\">'토리 아빠' 윤석열 \"강아지들 아니면 10년 세월 잘 버텼겠나\"</a>,\n",
       " <a class=\"cluster_text_headline nclicks(cls_pol.clsart)\" href=\"https://news.naver.com/main/read.naver?mode=LSD&amp;mid=shm&amp;sid1=100&amp;oid=001&amp;aid=0012909198\">'토리 아빠' 윤석열 \"강아지들 아니면 10년 세월 잘 버텼겠나\"</a>,\n",
       " <a class=\"cluster_text_headline nclicks(cls_pol.clsart)\" href=\"https://news.naver.com/main/read.naver?mode=LSD&amp;mid=shm&amp;sid1=100&amp;oid=005&amp;aid=0001497846\">與 저격한 진중권 “훈련소서 ‘멸공의 횃불’ 부를 때 항의했나”</a>,\n",
       " <a class=\"cluster_text_headline nclicks(cls_pol.clsart)\" href=\"https://news.naver.com/main/read.naver?mode=LSD&amp;mid=shm&amp;sid1=100&amp;oid=018&amp;aid=0005124413\">진중권 “훈련소서 ‘멸공의 횃불’ 부를 때 항의했나? 적당히 좀”</a>,\n",
       " <a class=\"cluster_text_headline nclicks(cls_pol.clsart)\" href=\"https://news.naver.com/main/read.naver?mode=LSD&amp;mid=shm&amp;sid1=100&amp;oid=005&amp;aid=0001497566\">尹측 “여가부는 ‘남혐부’…박살 내놓고 다시 출발해야”</a>,\n",
       " <a class=\"cluster_text_headline nclicks(cls_pol.clsart)\" href=\"https://news.naver.com/main/read.naver?mode=LSD&amp;mid=shm&amp;sid1=100&amp;oid=052&amp;aid=0001687923\">장예찬 \"여가부 박살\"...류호정 \"尹, 다시 시작해야\"</a>,\n",
       " <a class=\"cluster_text_headline nclicks(cls_pol.clsart)\" href=\"https://news.naver.com/main/read.naver?mode=LSD&amp;mid=shm&amp;sid1=100&amp;oid=448&amp;aid=0000348672\">정성호 \"與, 멸공 비판·불매 운동 멈춰야…野 음모에 말려드는 일\"</a>,\n",
       " <a class=\"cluster_text_headline nclicks(cls_pol.clsart)\" href=\"https://news.naver.com/main/read.naver?mode=LSD&amp;mid=shm&amp;sid1=100&amp;oid=079&amp;aid=0003595697\">정성호 \"음모 말리지 않게 '멸공비판' 멈춰야…기업 불매운동도 자제\"</a>,\n",
       " <a class=\"cluster_text_headline nclicks(cls_pol.clsart)\" href=\"https://news.naver.com/main/read.naver?mode=LSD&amp;mid=shm&amp;sid1=100&amp;oid=011&amp;aid=0004006508\">유시민 “尹의 '젠더 이슈' 띄우기는 모 아니면 도···2등 전략”</a>,\n",
       " <a class=\"cluster_text_headline nclicks(cls_pol.clsart)\" href=\"https://news.naver.com/main/read.naver?mode=LSD&amp;mid=shm&amp;sid1=100&amp;oid=018&amp;aid=0005124335\">유시민 “약은 이재명, 젠더 이슈 발 빼…安, 단일화 이기기 어려워\"</a>]"
      ]
     },
     "execution_count": 18,
     "metadata": {},
     "output_type": "execute_result"
    }
   ],
   "source": [
    "#html문서에서 cluster_text_headline nclicks(cls_pol.clsart)라는 이름의 class를 지닌 a 태그의 element들 모두 선택\n",
    "a1 = soup.findAll('a', attrs = {'class' : 'cluster_text_headline nclicks(cls_pol.clsart)'})\n",
    "\n",
    "#선택한 element들 내용 출력\n",
    "a1"
   ]
  },
  {
   "cell_type": "code",
   "execution_count": 19,
   "metadata": {
    "id": "S2Pe0lUAHAd7",
    "outputId": "45addad5-bf53-47ab-b9c9-0261ea865986"
   },
   "outputs": [
    {
     "name": "stdout",
     "output_type": "stream",
     "text": [
      "기사 제목 : ‘공공기관 노동이사제’·‘만16세 정당가입’ 법사위 통과…내일 본회의\n",
      "(링크 : https://news.naver.com/main/read.naver?mode=LSD&mid=shm&sid1=100&oid=056&aid=0011192124)\n",
      "기사 제목 : ‘공공기관 노동이사제’ 법사위 통과… 11일 본회의 상정\n",
      "(링크 : https://news.naver.com/main/read.naver?mode=LSD&mid=shm&sid1=100&oid=022&aid=0003656231)\n",
      "기사 제목 : 高1도 당원된다\n",
      "(링크 : https://news.naver.com/main/read.naver?mode=LSD&mid=shm&sid1=100&oid=016&aid=0001935640)\n",
      "기사 제목 : '고1도 정당 가입' 정당법 법사위 통과…3·9 재보선부터 '고3 공천'\n",
      "(링크 : https://news.naver.com/main/read.naver?mode=LSD&mid=shm&sid1=100&oid=421&aid=0005836293)\n",
      "기사 제목 : 與 “安은 윤석열 아바타” 공격모드로 돌변\n",
      "(링크 : https://news.naver.com/main/read.naver?mode=LSD&mid=shm&sid1=100&oid=023&aid=0003665426)\n",
      "기사 제목 : “安 국가 발전에 필요한 분”이라던 與…‘마의 15%’ 벽 넘자 “‘MB 아바타’ 넘어 ‘尹 아바타’”\n",
      "(링크 : https://news.naver.com/main/read.naver?mode=LSD&mid=shm&sid1=100&oid=022&aid=0003656271)\n",
      "기사 제목 : 與, 안철수 상승세에 “망언하는 윤석열 아바타” 싸잡아 비난\n",
      "(링크 : https://news.naver.com/main/read.naver?mode=LSD&mid=shm&sid1=100&oid=005&aid=0001497572)\n",
      "기사 제목 : 민주당, 안철수 본격 견제…\"안 후보는 MB 넘어 윤석열 아바타\"\n",
      "(링크 : https://news.naver.com/main/read.naver?mode=LSD&mid=shm&sid1=100&oid=437&aid=0000286042)\n",
      "기사 제목 : 북, 엿새만에 다시 미사일 발사… 왜\n",
      "(링크 : https://news.naver.com/main/read.naver?mode=LSD&mid=shm&sid1=100&oid=277&aid=0005028725)\n",
      "기사 제목 : 美, 北극초음속미사일 시험 주장에 \"여전히 평가중\"\n",
      "(링크 : https://news.naver.com/main/read.naver?mode=LSD&mid=shm&sid1=100&oid=422&aid=0000522897)\n",
      "기사 제목 : 북, 동해상으로 미상 발사체 발사‥탄도미사일 쏜지 6일 만\n",
      "(링크 : https://news.naver.com/main/read.naver?mode=LSD&mid=shm&sid1=100&oid=214&aid=0001171609)\n",
      "기사 제목 : 안보리 입장 전한 외교부 \"北 미사일 우려...대화복귀 촉구\"\n",
      "(링크 : https://news.naver.com/main/read.naver?mode=LSD&mid=shm&sid1=100&oid=008&aid=0004694585)\n",
      "기사 제목 : 文대통령, 중동 3개국 순방…전날 공개한 野엔 \"명백한 외교결레\"\n",
      "(링크 : https://news.naver.com/main/read.naver?mode=LSD&mid=shm&sid1=100&oid=025&aid=0003165522)\n",
      "기사 제목 : 문 대통령, 15~22일 UAE·사우디·이집트 방문한다\n",
      "(링크 : https://news.naver.com/main/read.naver?mode=LSD&mid=shm&sid1=100&oid=047&aid=0002338578)\n",
      "기사 제목 : 靑, 文 순방 선공개한 野에 강한 유감...\"외교적 결례\"\n",
      "(링크 : https://news.naver.com/main/read.naver?mode=LSD&mid=shm&sid1=100&oid=052&aid=0001687853)\n",
      "기사 제목 : 문 대통령, 15∼22일 중동 3개국 순방…UAE · 사우디 · 이집트 방문\n",
      "(링크 : https://news.naver.com/main/read.naver?mode=LSD&mid=shm&sid1=100&oid=055&aid=0000945593)\n",
      "기사 제목 : 이재명 \"135兆 투자, 일자리 200만개, G5 경제대국\"…경제비전 발표\n",
      "(링크 : https://news.naver.com/main/read.naver?mode=LSD&mid=shm&sid1=100&oid=018&aid=0005124358)\n",
      "기사 제목 : 이재명 신경제 비전 발표 “대전환과 개혁으로 세계 5강 경제 완성”\n",
      "(링크 : https://news.naver.com/main/read.naver?mode=LSD&mid=shm&sid1=100&oid=277&aid=0005028677)\n",
      "기사 제목 : 尹 “공산 침략에서 나라 구한 인천상륙작전처럼 역전 드라마 시작”\n",
      "(링크 : https://news.naver.com/main/read.naver?mode=LSD&mid=shm&sid1=100&oid=366&aid=0000786164)\n",
      "기사 제목 : 尹 “인천상륙작전처럼 역전…주 52시간 국민합의 재도출”\n",
      "(링크 : https://news.naver.com/main/read.naver?mode=LSD&mid=shm&sid1=100&oid=020&aid=0003404877)\n",
      "기사 제목 : \"국민 생명 지키는 게 국가 소임\"…尹, 닥터헬기 확대 공약 발표\n",
      "(링크 : https://news.naver.com/main/read.naver?mode=LSD&mid=shm&sid1=100&oid=008&aid=0004694513)\n",
      "기사 제목 : 윤석열 \"닥터헬기 운용 지역 전국으로 확대\" 공약\n",
      "(링크 : https://news.naver.com/main/read.naver?mode=LSD&mid=shm&sid1=100&oid=055&aid=0000945752)\n",
      "기사 제목 : 김종인 “무슨 복귀?” 홍준표 “더 이상 바보짓 안해”…꼬여버린 ‘대통합’\n",
      "(링크 : https://news.naver.com/main/read.naver?mode=LSD&mid=shm&sid1=100&oid=016&aid=0001935454)\n",
      "기사 제목 : [단독]김종인, ‘정권교체 尹·安 누가 적합’ 질문에 “노코멘트”\n",
      "(링크 : https://news.naver.com/main/read.naver?mode=LSD&mid=shm&sid1=100&oid=005&aid=0001497862)\n",
      "기사 제목 : 이재명 \"디지털인재 교육비 선지원하는 '휴먼캐피털' 도입\"\n",
      "(링크 : https://news.naver.com/main/read.naver?mode=LSD&mid=shm&sid1=100&oid=001&aid=0012909853)\n",
      "기사 제목 : ‘정책 행보’ 이재명, ‘메타버스 정부’ 띄운다…‘디지털 코리아’ 청사진은?\n",
      "(링크 : https://news.naver.com/main/read.naver?mode=LSD&mid=shm&sid1=100&oid=029&aid=0002715362)\n",
      "기사 제목 : 홍준표 \"대선이 초등 반장 선거로 전락\"…이재명·윤석열 싸잡아 비판\n",
      "(링크 : https://news.naver.com/main/read.naver?mode=LSD&mid=shm&sid1=100&oid=421&aid=0005836447)\n",
      "기사 제목 : 홍준표 “대선이 초등학교 반장선거도 아니고…저급해”\n",
      "(링크 : https://news.naver.com/main/read.naver?mode=LSD&mid=shm&sid1=100&oid=020&aid=0003405026)\n",
      "기사 제목 : 김 총리 \"평택 화재, 뼈저린 반성해야‥정부 대책 원점에서 재검토\"\n",
      "(링크 : https://news.naver.com/main/read.naver?mode=LSD&mid=shm&sid1=100&oid=214&aid=0001171643)\n",
      "기사 제목 : 김 총리 “평택 소방관 순직에 책임 통감…기존 대책 전면 재점검”\n",
      "(링크 : https://news.naver.com/main/read.naver?mode=LSD&mid=shm&sid1=100&oid=056&aid=0011192548)\n",
      "기사 제목 : '토리 아빠' 윤석열 \"강아지들 아니면 10년 세월 잘 버텼겠나\"\n",
      "(링크 : https://news.naver.com/main/read.naver?mode=LSD&mid=shm&sid1=100&oid=015&aid=0004651285)\n",
      "기사 제목 : '토리 아빠' 윤석열 \"강아지들 아니면 10년 세월 잘 버텼겠나\"\n",
      "(링크 : https://news.naver.com/main/read.naver?mode=LSD&mid=shm&sid1=100&oid=001&aid=0012909198)\n",
      "기사 제목 : 與 저격한 진중권 “훈련소서 ‘멸공의 횃불’ 부를 때 항의했나”\n",
      "(링크 : https://news.naver.com/main/read.naver?mode=LSD&mid=shm&sid1=100&oid=005&aid=0001497846)\n",
      "기사 제목 : 진중권 “훈련소서 ‘멸공의 횃불’ 부를 때 항의했나? 적당히 좀”\n",
      "(링크 : https://news.naver.com/main/read.naver?mode=LSD&mid=shm&sid1=100&oid=018&aid=0005124413)\n",
      "기사 제목 : 尹측 “여가부는 ‘남혐부’…박살 내놓고 다시 출발해야”\n",
      "(링크 : https://news.naver.com/main/read.naver?mode=LSD&mid=shm&sid1=100&oid=005&aid=0001497566)\n",
      "기사 제목 : 장예찬 \"여가부 박살\"...류호정 \"尹, 다시 시작해야\"\n",
      "(링크 : https://news.naver.com/main/read.naver?mode=LSD&mid=shm&sid1=100&oid=052&aid=0001687923)\n",
      "기사 제목 : 정성호 \"與, 멸공 비판·불매 운동 멈춰야…野 음모에 말려드는 일\"\n",
      "(링크 : https://news.naver.com/main/read.naver?mode=LSD&mid=shm&sid1=100&oid=448&aid=0000348672)\n",
      "기사 제목 : 정성호 \"음모 말리지 않게 '멸공비판' 멈춰야…기업 불매운동도 자제\"\n",
      "(링크 : https://news.naver.com/main/read.naver?mode=LSD&mid=shm&sid1=100&oid=079&aid=0003595697)\n",
      "기사 제목 : 유시민 “尹의 '젠더 이슈' 띄우기는 모 아니면 도···2등 전략”\n",
      "(링크 : https://news.naver.com/main/read.naver?mode=LSD&mid=shm&sid1=100&oid=011&aid=0004006508)\n",
      "기사 제목 : 유시민 “약은 이재명, 젠더 이슈 발 빼…安, 단일화 이기기 어려워\"\n",
      "(링크 : https://news.naver.com/main/read.naver?mode=LSD&mid=shm&sid1=100&oid=018&aid=0005124335)\n"
     ]
    }
   ],
   "source": [
    "#각 뉴스 제목과 링크를 추출할 반복문 생성\n",
    "for a in a1:\n",
    "    \n",
    "    #a 태그의 element의 text 선택 및 공백 제거\n",
    "    title = a.get_text()\n",
    "    \n",
    "    #a 태그의 element 내에서 href class attribute 정보 추출 및 링크 생성\n",
    "    link = a['href']\n",
    "    \n",
    "    #기사 제목과 해당 링크 출력\n",
    "    print(f'기사 제목 : {title}') \n",
    "    print(f'(링크 : {link})')"
   ]
  },
  {
   "cell_type": "code",
   "execution_count": 20,
   "metadata": {},
   "outputs": [
    {
     "name": "stdout",
     "output_type": "stream",
     "text": [
      "기사 제목 : ‘공공기관 노동이사제’·‘만16세 정당가입’ 법사위 통과…내일 본회의\n",
      "(링크 : https://news.naver.com/main/read.naver?mode=LSD&mid=shm&sid1=100&oid=056&aid=0011192124)\n",
      "기사 제목 : ‘공공기관 노동이사제’ 법사위 통과… 11일 본회의 상정\n",
      "(링크 : https://news.naver.com/main/read.naver?mode=LSD&mid=shm&sid1=100&oid=022&aid=0003656231)\n",
      "기사 제목 : 高1도 당원된다\n",
      "(링크 : https://news.naver.com/main/read.naver?mode=LSD&mid=shm&sid1=100&oid=016&aid=0001935640)\n",
      "기사 제목 : '고1도 정당 가입' 정당법 법사위 통과…3·9 재보선부터 '고3 공천'\n",
      "(링크 : https://news.naver.com/main/read.naver?mode=LSD&mid=shm&sid1=100&oid=421&aid=0005836293)\n",
      "기사 제목 : 與 “安은 윤석열 아바타” 공격모드로 돌변\n",
      "(링크 : https://news.naver.com/main/read.naver?mode=LSD&mid=shm&sid1=100&oid=023&aid=0003665426)\n",
      "기사 제목 : “安 국가 발전에 필요한 분”이라던 與…‘마의 15%’ 벽 넘자 “‘MB 아바타’ 넘어 ‘尹 아바타’”\n",
      "(링크 : https://news.naver.com/main/read.naver?mode=LSD&mid=shm&sid1=100&oid=022&aid=0003656271)\n",
      "기사 제목 : 與, 안철수 상승세에 “망언하는 윤석열 아바타” 싸잡아 비난\n",
      "(링크 : https://news.naver.com/main/read.naver?mode=LSD&mid=shm&sid1=100&oid=005&aid=0001497572)\n",
      "기사 제목 : 민주당, 안철수 본격 견제…\"안 후보는 MB 넘어 윤석열 아바타\"\n",
      "(링크 : https://news.naver.com/main/read.naver?mode=LSD&mid=shm&sid1=100&oid=437&aid=0000286042)\n",
      "기사 제목 : 북, 엿새만에 다시 미사일 발사… 왜\n",
      "(링크 : https://news.naver.com/main/read.naver?mode=LSD&mid=shm&sid1=100&oid=277&aid=0005028725)\n",
      "기사 제목 : 美, 北극초음속미사일 시험 주장에 \"여전히 평가중\"\n",
      "(링크 : https://news.naver.com/main/read.naver?mode=LSD&mid=shm&sid1=100&oid=422&aid=0000522897)\n",
      "기사 제목 : 북, 동해상으로 미상 발사체 발사‥탄도미사일 쏜지 6일 만\n",
      "(링크 : https://news.naver.com/main/read.naver?mode=LSD&mid=shm&sid1=100&oid=214&aid=0001171609)\n",
      "기사 제목 : 안보리 입장 전한 외교부 \"北 미사일 우려...대화복귀 촉구\"\n",
      "(링크 : https://news.naver.com/main/read.naver?mode=LSD&mid=shm&sid1=100&oid=008&aid=0004694585)\n",
      "기사 제목 : 文대통령, 중동 3개국 순방…전날 공개한 野엔 \"명백한 외교결레\"\n",
      "(링크 : https://news.naver.com/main/read.naver?mode=LSD&mid=shm&sid1=100&oid=025&aid=0003165522)\n",
      "기사 제목 : 문 대통령, 15~22일 UAE·사우디·이집트 방문한다\n",
      "(링크 : https://news.naver.com/main/read.naver?mode=LSD&mid=shm&sid1=100&oid=047&aid=0002338578)\n",
      "기사 제목 : 靑, 文 순방 선공개한 野에 강한 유감...\"외교적 결례\"\n",
      "(링크 : https://news.naver.com/main/read.naver?mode=LSD&mid=shm&sid1=100&oid=052&aid=0001687853)\n",
      "기사 제목 : 문 대통령, 15∼22일 중동 3개국 순방…UAE · 사우디 · 이집트 방문\n",
      "(링크 : https://news.naver.com/main/read.naver?mode=LSD&mid=shm&sid1=100&oid=055&aid=0000945593)\n",
      "기사 제목 : 이재명 \"135兆 투자, 일자리 200만개, G5 경제대국\"…경제비전 발표\n",
      "(링크 : https://news.naver.com/main/read.naver?mode=LSD&mid=shm&sid1=100&oid=018&aid=0005124358)\n",
      "기사 제목 : 이재명 신경제 비전 발표 “대전환과 개혁으로 세계 5강 경제 완성”\n",
      "(링크 : https://news.naver.com/main/read.naver?mode=LSD&mid=shm&sid1=100&oid=277&aid=0005028677)\n",
      "기사 제목 : 尹 “공산 침략에서 나라 구한 인천상륙작전처럼 역전 드라마 시작”\n",
      "(링크 : https://news.naver.com/main/read.naver?mode=LSD&mid=shm&sid1=100&oid=366&aid=0000786164)\n",
      "기사 제목 : 尹 “인천상륙작전처럼 역전…주 52시간 국민합의 재도출”\n",
      "(링크 : https://news.naver.com/main/read.naver?mode=LSD&mid=shm&sid1=100&oid=020&aid=0003404877)\n",
      "기사 제목 : \"국민 생명 지키는 게 국가 소임\"…尹, 닥터헬기 확대 공약 발표\n",
      "(링크 : https://news.naver.com/main/read.naver?mode=LSD&mid=shm&sid1=100&oid=008&aid=0004694513)\n",
      "기사 제목 : 윤석열 \"닥터헬기 운용 지역 전국으로 확대\" 공약\n",
      "(링크 : https://news.naver.com/main/read.naver?mode=LSD&mid=shm&sid1=100&oid=055&aid=0000945752)\n",
      "기사 제목 : 김종인 “무슨 복귀?” 홍준표 “더 이상 바보짓 안해”…꼬여버린 ‘대통합’\n",
      "(링크 : https://news.naver.com/main/read.naver?mode=LSD&mid=shm&sid1=100&oid=016&aid=0001935454)\n",
      "기사 제목 : [단독]김종인, ‘정권교체 尹·安 누가 적합’ 질문에 “노코멘트”\n",
      "(링크 : https://news.naver.com/main/read.naver?mode=LSD&mid=shm&sid1=100&oid=005&aid=0001497862)\n",
      "기사 제목 : 이재명 \"디지털인재 교육비 선지원하는 '휴먼캐피털' 도입\"\n",
      "(링크 : https://news.naver.com/main/read.naver?mode=LSD&mid=shm&sid1=100&oid=001&aid=0012909853)\n",
      "기사 제목 : ‘정책 행보’ 이재명, ‘메타버스 정부’ 띄운다…‘디지털 코리아’ 청사진은?\n",
      "(링크 : https://news.naver.com/main/read.naver?mode=LSD&mid=shm&sid1=100&oid=029&aid=0002715362)\n",
      "기사 제목 : 홍준표 \"대선이 초등 반장 선거로 전락\"…이재명·윤석열 싸잡아 비판\n",
      "(링크 : https://news.naver.com/main/read.naver?mode=LSD&mid=shm&sid1=100&oid=421&aid=0005836447)\n",
      "기사 제목 : 홍준표 “대선이 초등학교 반장선거도 아니고…저급해”\n",
      "(링크 : https://news.naver.com/main/read.naver?mode=LSD&mid=shm&sid1=100&oid=020&aid=0003405026)\n",
      "기사 제목 : 김 총리 \"평택 화재, 뼈저린 반성해야‥정부 대책 원점에서 재검토\"\n",
      "(링크 : https://news.naver.com/main/read.naver?mode=LSD&mid=shm&sid1=100&oid=214&aid=0001171643)\n",
      "기사 제목 : 김 총리 “평택 소방관 순직에 책임 통감…기존 대책 전면 재점검”\n",
      "(링크 : https://news.naver.com/main/read.naver?mode=LSD&mid=shm&sid1=100&oid=056&aid=0011192548)\n",
      "기사 제목 : '토리 아빠' 윤석열 \"강아지들 아니면 10년 세월 잘 버텼겠나\"\n",
      "(링크 : https://news.naver.com/main/read.naver?mode=LSD&mid=shm&sid1=100&oid=015&aid=0004651285)\n",
      "기사 제목 : '토리 아빠' 윤석열 \"강아지들 아니면 10년 세월 잘 버텼겠나\"\n",
      "(링크 : https://news.naver.com/main/read.naver?mode=LSD&mid=shm&sid1=100&oid=001&aid=0012909198)\n",
      "기사 제목 : 與 저격한 진중권 “훈련소서 ‘멸공의 횃불’ 부를 때 항의했나”\n",
      "(링크 : https://news.naver.com/main/read.naver?mode=LSD&mid=shm&sid1=100&oid=005&aid=0001497846)\n",
      "기사 제목 : 진중권 “훈련소서 ‘멸공의 횃불’ 부를 때 항의했나? 적당히 좀”\n",
      "(링크 : https://news.naver.com/main/read.naver?mode=LSD&mid=shm&sid1=100&oid=018&aid=0005124413)\n",
      "기사 제목 : 尹측 “여가부는 ‘남혐부’…박살 내놓고 다시 출발해야”\n",
      "(링크 : https://news.naver.com/main/read.naver?mode=LSD&mid=shm&sid1=100&oid=005&aid=0001497566)\n",
      "기사 제목 : 장예찬 \"여가부 박살\"...류호정 \"尹, 다시 시작해야\"\n",
      "(링크 : https://news.naver.com/main/read.naver?mode=LSD&mid=shm&sid1=100&oid=052&aid=0001687923)\n",
      "기사 제목 : 정성호 \"與, 멸공 비판·불매 운동 멈춰야…野 음모에 말려드는 일\"\n",
      "(링크 : https://news.naver.com/main/read.naver?mode=LSD&mid=shm&sid1=100&oid=448&aid=0000348672)\n",
      "기사 제목 : 정성호 \"음모 말리지 않게 '멸공비판' 멈춰야…기업 불매운동도 자제\"\n",
      "(링크 : https://news.naver.com/main/read.naver?mode=LSD&mid=shm&sid1=100&oid=079&aid=0003595697)\n",
      "기사 제목 : 유시민 “尹의 '젠더 이슈' 띄우기는 모 아니면 도···2등 전략”\n",
      "(링크 : https://news.naver.com/main/read.naver?mode=LSD&mid=shm&sid1=100&oid=011&aid=0004006508)\n",
      "기사 제목 : 유시민 “약은 이재명, 젠더 이슈 발 빼…安, 단일화 이기기 어려워\"\n",
      "(링크 : https://news.naver.com/main/read.naver?mode=LSD&mid=shm&sid1=100&oid=018&aid=0005124335)\n",
      "기사 제목 : ‘공공기관 노동이사제’·‘만16세 정당가입’ 법사위 통과…내일 본회의\n",
      "(링크 : https://news.naver.com/main/read.naver?mode=LSD&mid=shm&sid1=100&oid=056&aid=0011192124)\n",
      "기사 제목 : ‘공공기관 노동이사제’ 법사위 통과… 11일 본회의 상정\n",
      "(링크 : https://news.naver.com/main/read.naver?mode=LSD&mid=shm&sid1=100&oid=022&aid=0003656231)\n",
      "기사 제목 : 高1도 당원된다\n",
      "(링크 : https://news.naver.com/main/read.naver?mode=LSD&mid=shm&sid1=100&oid=016&aid=0001935640)\n",
      "기사 제목 : '고1도 정당 가입' 정당법 법사위 통과…3·9 재보선부터 '고3 공천'\n",
      "(링크 : https://news.naver.com/main/read.naver?mode=LSD&mid=shm&sid1=100&oid=421&aid=0005836293)\n",
      "기사 제목 : 與 “安은 윤석열 아바타” 공격모드로 돌변\n",
      "(링크 : https://news.naver.com/main/read.naver?mode=LSD&mid=shm&sid1=100&oid=023&aid=0003665426)\n",
      "기사 제목 : “安 국가 발전에 필요한 분”이라던 與…‘마의 15%’ 벽 넘자 “‘MB 아바타’ 넘어 ‘尹 아바타’”\n",
      "(링크 : https://news.naver.com/main/read.naver?mode=LSD&mid=shm&sid1=100&oid=022&aid=0003656271)\n",
      "기사 제목 : 與, 안철수 상승세에 “망언하는 윤석열 아바타” 싸잡아 비난\n",
      "(링크 : https://news.naver.com/main/read.naver?mode=LSD&mid=shm&sid1=100&oid=005&aid=0001497572)\n",
      "기사 제목 : 민주당, 안철수 본격 견제…\"안 후보는 MB 넘어 윤석열 아바타\"\n",
      "(링크 : https://news.naver.com/main/read.naver?mode=LSD&mid=shm&sid1=100&oid=437&aid=0000286042)\n",
      "기사 제목 : 북, 엿새만에 다시 미사일 발사… 왜\n",
      "(링크 : https://news.naver.com/main/read.naver?mode=LSD&mid=shm&sid1=100&oid=277&aid=0005028725)\n",
      "기사 제목 : 美, 北극초음속미사일 시험 주장에 \"여전히 평가중\"\n",
      "(링크 : https://news.naver.com/main/read.naver?mode=LSD&mid=shm&sid1=100&oid=422&aid=0000522897)\n",
      "기사 제목 : 북, 동해상으로 미상 발사체 발사‥탄도미사일 쏜지 6일 만\n",
      "(링크 : https://news.naver.com/main/read.naver?mode=LSD&mid=shm&sid1=100&oid=214&aid=0001171609)\n",
      "기사 제목 : 안보리 입장 전한 외교부 \"北 미사일 우려...대화복귀 촉구\"\n",
      "(링크 : https://news.naver.com/main/read.naver?mode=LSD&mid=shm&sid1=100&oid=008&aid=0004694585)\n",
      "기사 제목 : 文대통령, 중동 3개국 순방…전날 공개한 野엔 \"명백한 외교결레\"\n",
      "(링크 : https://news.naver.com/main/read.naver?mode=LSD&mid=shm&sid1=100&oid=025&aid=0003165522)\n",
      "기사 제목 : 문 대통령, 15~22일 UAE·사우디·이집트 방문한다\n",
      "(링크 : https://news.naver.com/main/read.naver?mode=LSD&mid=shm&sid1=100&oid=047&aid=0002338578)\n",
      "기사 제목 : 靑, 文 순방 선공개한 野에 강한 유감...\"외교적 결례\"\n",
      "(링크 : https://news.naver.com/main/read.naver?mode=LSD&mid=shm&sid1=100&oid=052&aid=0001687853)\n",
      "기사 제목 : 문 대통령, 15∼22일 중동 3개국 순방…UAE · 사우디 · 이집트 방문\n",
      "(링크 : https://news.naver.com/main/read.naver?mode=LSD&mid=shm&sid1=100&oid=055&aid=0000945593)\n",
      "기사 제목 : 이재명 \"135兆 투자, 일자리 200만개, G5 경제대국\"…경제비전 발표\n",
      "(링크 : https://news.naver.com/main/read.naver?mode=LSD&mid=shm&sid1=100&oid=018&aid=0005124358)\n",
      "기사 제목 : 이재명 신경제 비전 발표 “대전환과 개혁으로 세계 5강 경제 완성”\n",
      "(링크 : https://news.naver.com/main/read.naver?mode=LSD&mid=shm&sid1=100&oid=277&aid=0005028677)\n",
      "기사 제목 : 尹 “공산 침략에서 나라 구한 인천상륙작전처럼 역전 드라마 시작”\n",
      "(링크 : https://news.naver.com/main/read.naver?mode=LSD&mid=shm&sid1=100&oid=366&aid=0000786164)\n",
      "기사 제목 : 尹 “인천상륙작전처럼 역전…주 52시간 국민합의 재도출”\n",
      "(링크 : https://news.naver.com/main/read.naver?mode=LSD&mid=shm&sid1=100&oid=020&aid=0003404877)\n",
      "기사 제목 : \"국민 생명 지키는 게 국가 소임\"…尹, 닥터헬기 확대 공약 발표\n",
      "(링크 : https://news.naver.com/main/read.naver?mode=LSD&mid=shm&sid1=100&oid=008&aid=0004694513)\n",
      "기사 제목 : 윤석열 \"닥터헬기 운용 지역 전국으로 확대\" 공약\n",
      "(링크 : https://news.naver.com/main/read.naver?mode=LSD&mid=shm&sid1=100&oid=055&aid=0000945752)\n",
      "기사 제목 : 김종인 “무슨 복귀?” 홍준표 “더 이상 바보짓 안해”…꼬여버린 ‘대통합’\n",
      "(링크 : https://news.naver.com/main/read.naver?mode=LSD&mid=shm&sid1=100&oid=016&aid=0001935454)\n",
      "기사 제목 : [단독]김종인, ‘정권교체 尹·安 누가 적합’ 질문에 “노코멘트”\n",
      "(링크 : https://news.naver.com/main/read.naver?mode=LSD&mid=shm&sid1=100&oid=005&aid=0001497862)\n",
      "기사 제목 : 이재명 \"디지털인재 교육비 선지원하는 '휴먼캐피털' 도입\"\n",
      "(링크 : https://news.naver.com/main/read.naver?mode=LSD&mid=shm&sid1=100&oid=001&aid=0012909853)\n",
      "기사 제목 : ‘정책 행보’ 이재명, ‘메타버스 정부’ 띄운다…‘디지털 코리아’ 청사진은?\n",
      "(링크 : https://news.naver.com/main/read.naver?mode=LSD&mid=shm&sid1=100&oid=029&aid=0002715362)\n",
      "기사 제목 : 홍준표 \"대선이 초등 반장 선거로 전락\"…이재명·윤석열 싸잡아 비판\n",
      "(링크 : https://news.naver.com/main/read.naver?mode=LSD&mid=shm&sid1=100&oid=421&aid=0005836447)\n",
      "기사 제목 : 홍준표 “대선이 초등학교 반장선거도 아니고…저급해”\n",
      "(링크 : https://news.naver.com/main/read.naver?mode=LSD&mid=shm&sid1=100&oid=020&aid=0003405026)\n",
      "기사 제목 : 김 총리 \"평택 화재, 뼈저린 반성해야‥정부 대책 원점에서 재검토\"\n",
      "(링크 : https://news.naver.com/main/read.naver?mode=LSD&mid=shm&sid1=100&oid=214&aid=0001171643)\n",
      "기사 제목 : 김 총리 “평택 소방관 순직에 책임 통감…기존 대책 전면 재점검”\n",
      "(링크 : https://news.naver.com/main/read.naver?mode=LSD&mid=shm&sid1=100&oid=056&aid=0011192548)\n",
      "기사 제목 : '토리 아빠' 윤석열 \"강아지들 아니면 10년 세월 잘 버텼겠나\"\n",
      "(링크 : https://news.naver.com/main/read.naver?mode=LSD&mid=shm&sid1=100&oid=015&aid=0004651285)\n",
      "기사 제목 : '토리 아빠' 윤석열 \"강아지들 아니면 10년 세월 잘 버텼겠나\"\n",
      "(링크 : https://news.naver.com/main/read.naver?mode=LSD&mid=shm&sid1=100&oid=001&aid=0012909198)\n",
      "기사 제목 : 與 저격한 진중권 “훈련소서 ‘멸공의 횃불’ 부를 때 항의했나”\n",
      "(링크 : https://news.naver.com/main/read.naver?mode=LSD&mid=shm&sid1=100&oid=005&aid=0001497846)\n",
      "기사 제목 : 진중권 “훈련소서 ‘멸공의 횃불’ 부를 때 항의했나? 적당히 좀”\n",
      "(링크 : https://news.naver.com/main/read.naver?mode=LSD&mid=shm&sid1=100&oid=018&aid=0005124413)\n",
      "기사 제목 : 尹측 “여가부는 ‘남혐부’…박살 내놓고 다시 출발해야”\n",
      "(링크 : https://news.naver.com/main/read.naver?mode=LSD&mid=shm&sid1=100&oid=005&aid=0001497566)\n",
      "기사 제목 : 장예찬 \"여가부 박살\"...류호정 \"尹, 다시 시작해야\"\n",
      "(링크 : https://news.naver.com/main/read.naver?mode=LSD&mid=shm&sid1=100&oid=052&aid=0001687923)\n",
      "기사 제목 : 정성호 \"與, 멸공 비판·불매 운동 멈춰야…野 음모에 말려드는 일\"\n",
      "(링크 : https://news.naver.com/main/read.naver?mode=LSD&mid=shm&sid1=100&oid=448&aid=0000348672)\n",
      "기사 제목 : 정성호 \"음모 말리지 않게 '멸공비판' 멈춰야…기업 불매운동도 자제\"\n",
      "(링크 : https://news.naver.com/main/read.naver?mode=LSD&mid=shm&sid1=100&oid=079&aid=0003595697)\n",
      "기사 제목 : 유시민 “尹의 '젠더 이슈' 띄우기는 모 아니면 도···2등 전략”\n",
      "(링크 : https://news.naver.com/main/read.naver?mode=LSD&mid=shm&sid1=100&oid=011&aid=0004006508)\n",
      "기사 제목 : 유시민 “약은 이재명, 젠더 이슈 발 빼…安, 단일화 이기기 어려워\"\n",
      "(링크 : https://news.naver.com/main/read.naver?mode=LSD&mid=shm&sid1=100&oid=018&aid=0005124335)\n"
     ]
    },
    {
     "name": "stdout",
     "output_type": "stream",
     "text": [
      "기사 제목 : ‘공공기관 노동이사제’·‘만16세 정당가입’ 법사위 통과…내일 본회의\n",
      "(링크 : https://news.naver.com/main/read.naver?mode=LSD&mid=shm&sid1=100&oid=056&aid=0011192124)\n",
      "기사 제목 : ‘공공기관 노동이사제’ 법사위 통과… 11일 본회의 상정\n",
      "(링크 : https://news.naver.com/main/read.naver?mode=LSD&mid=shm&sid1=100&oid=022&aid=0003656231)\n",
      "기사 제목 : 高1도 당원된다\n",
      "(링크 : https://news.naver.com/main/read.naver?mode=LSD&mid=shm&sid1=100&oid=016&aid=0001935640)\n",
      "기사 제목 : '고1도 정당 가입' 정당법 법사위 통과…3·9 재보선부터 '고3 공천'\n",
      "(링크 : https://news.naver.com/main/read.naver?mode=LSD&mid=shm&sid1=100&oid=421&aid=0005836293)\n",
      "기사 제목 : 與 “安은 윤석열 아바타” 공격모드로 돌변\n",
      "(링크 : https://news.naver.com/main/read.naver?mode=LSD&mid=shm&sid1=100&oid=023&aid=0003665426)\n",
      "기사 제목 : “安 국가 발전에 필요한 분”이라던 與…‘마의 15%’ 벽 넘자 “‘MB 아바타’ 넘어 ‘尹 아바타’”\n",
      "(링크 : https://news.naver.com/main/read.naver?mode=LSD&mid=shm&sid1=100&oid=022&aid=0003656271)\n",
      "기사 제목 : 與, 안철수 상승세에 “망언하는 윤석열 아바타” 싸잡아 비난\n",
      "(링크 : https://news.naver.com/main/read.naver?mode=LSD&mid=shm&sid1=100&oid=005&aid=0001497572)\n",
      "기사 제목 : 민주당, 안철수 본격 견제…\"안 후보는 MB 넘어 윤석열 아바타\"\n",
      "(링크 : https://news.naver.com/main/read.naver?mode=LSD&mid=shm&sid1=100&oid=437&aid=0000286042)\n",
      "기사 제목 : 북, 엿새만에 다시 미사일 발사… 왜\n",
      "(링크 : https://news.naver.com/main/read.naver?mode=LSD&mid=shm&sid1=100&oid=277&aid=0005028725)\n",
      "기사 제목 : 美, 北극초음속미사일 시험 주장에 \"여전히 평가중\"\n",
      "(링크 : https://news.naver.com/main/read.naver?mode=LSD&mid=shm&sid1=100&oid=422&aid=0000522897)\n",
      "기사 제목 : 북, 동해상으로 미상 발사체 발사‥탄도미사일 쏜지 6일 만\n",
      "(링크 : https://news.naver.com/main/read.naver?mode=LSD&mid=shm&sid1=100&oid=214&aid=0001171609)\n",
      "기사 제목 : 안보리 입장 전한 외교부 \"北 미사일 우려...대화복귀 촉구\"\n",
      "(링크 : https://news.naver.com/main/read.naver?mode=LSD&mid=shm&sid1=100&oid=008&aid=0004694585)\n",
      "기사 제목 : 文대통령, 중동 3개국 순방…전날 공개한 野엔 \"명백한 외교결레\"\n",
      "(링크 : https://news.naver.com/main/read.naver?mode=LSD&mid=shm&sid1=100&oid=025&aid=0003165522)\n",
      "기사 제목 : 문 대통령, 15~22일 UAE·사우디·이집트 방문한다\n",
      "(링크 : https://news.naver.com/main/read.naver?mode=LSD&mid=shm&sid1=100&oid=047&aid=0002338578)\n",
      "기사 제목 : 靑, 文 순방 선공개한 野에 강한 유감...\"외교적 결례\"\n",
      "(링크 : https://news.naver.com/main/read.naver?mode=LSD&mid=shm&sid1=100&oid=052&aid=0001687853)\n",
      "기사 제목 : 문 대통령, 15∼22일 중동 3개국 순방…UAE · 사우디 · 이집트 방문\n",
      "(링크 : https://news.naver.com/main/read.naver?mode=LSD&mid=shm&sid1=100&oid=055&aid=0000945593)\n",
      "기사 제목 : 이재명 \"135兆 투자, 일자리 200만개, G5 경제대국\"…경제비전 발표\n",
      "(링크 : https://news.naver.com/main/read.naver?mode=LSD&mid=shm&sid1=100&oid=018&aid=0005124358)\n",
      "기사 제목 : 이재명 신경제 비전 발표 “대전환과 개혁으로 세계 5강 경제 완성”\n",
      "(링크 : https://news.naver.com/main/read.naver?mode=LSD&mid=shm&sid1=100&oid=277&aid=0005028677)\n",
      "기사 제목 : 尹 “공산 침략에서 나라 구한 인천상륙작전처럼 역전 드라마 시작”\n",
      "(링크 : https://news.naver.com/main/read.naver?mode=LSD&mid=shm&sid1=100&oid=366&aid=0000786164)\n",
      "기사 제목 : 尹 “인천상륙작전처럼 역전…주 52시간 국민합의 재도출”\n",
      "(링크 : https://news.naver.com/main/read.naver?mode=LSD&mid=shm&sid1=100&oid=020&aid=0003404877)\n",
      "기사 제목 : \"국민 생명 지키는 게 국가 소임\"…尹, 닥터헬기 확대 공약 발표\n",
      "(링크 : https://news.naver.com/main/read.naver?mode=LSD&mid=shm&sid1=100&oid=008&aid=0004694513)\n",
      "기사 제목 : 윤석열 \"닥터헬기 운용 지역 전국으로 확대\" 공약\n",
      "(링크 : https://news.naver.com/main/read.naver?mode=LSD&mid=shm&sid1=100&oid=055&aid=0000945752)\n",
      "기사 제목 : 김종인 “무슨 복귀?” 홍준표 “더 이상 바보짓 안해”…꼬여버린 ‘대통합’\n",
      "(링크 : https://news.naver.com/main/read.naver?mode=LSD&mid=shm&sid1=100&oid=016&aid=0001935454)\n",
      "기사 제목 : [단독]김종인, ‘정권교체 尹·安 누가 적합’ 질문에 “노코멘트”\n",
      "(링크 : https://news.naver.com/main/read.naver?mode=LSD&mid=shm&sid1=100&oid=005&aid=0001497862)\n",
      "기사 제목 : 이재명 \"디지털인재 교육비 선지원하는 '휴먼캐피털' 도입\"\n",
      "(링크 : https://news.naver.com/main/read.naver?mode=LSD&mid=shm&sid1=100&oid=001&aid=0012909853)\n",
      "기사 제목 : ‘정책 행보’ 이재명, ‘메타버스 정부’ 띄운다…‘디지털 코리아’ 청사진은?\n",
      "(링크 : https://news.naver.com/main/read.naver?mode=LSD&mid=shm&sid1=100&oid=029&aid=0002715362)\n",
      "기사 제목 : 홍준표 \"대선이 초등 반장 선거로 전락\"…이재명·윤석열 싸잡아 비판\n",
      "(링크 : https://news.naver.com/main/read.naver?mode=LSD&mid=shm&sid1=100&oid=421&aid=0005836447)\n",
      "기사 제목 : 홍준표 “대선이 초등학교 반장선거도 아니고…저급해”\n",
      "(링크 : https://news.naver.com/main/read.naver?mode=LSD&mid=shm&sid1=100&oid=020&aid=0003405026)\n",
      "기사 제목 : 김 총리 \"평택 화재, 뼈저린 반성해야‥정부 대책 원점에서 재검토\"\n",
      "(링크 : https://news.naver.com/main/read.naver?mode=LSD&mid=shm&sid1=100&oid=214&aid=0001171643)\n",
      "기사 제목 : 김 총리 “평택 소방관 순직에 책임 통감…기존 대책 전면 재점검”\n",
      "(링크 : https://news.naver.com/main/read.naver?mode=LSD&mid=shm&sid1=100&oid=056&aid=0011192548)\n",
      "기사 제목 : '토리 아빠' 윤석열 \"강아지들 아니면 10년 세월 잘 버텼겠나\"\n",
      "(링크 : https://news.naver.com/main/read.naver?mode=LSD&mid=shm&sid1=100&oid=015&aid=0004651285)\n",
      "기사 제목 : '토리 아빠' 윤석열 \"강아지들 아니면 10년 세월 잘 버텼겠나\"\n",
      "(링크 : https://news.naver.com/main/read.naver?mode=LSD&mid=shm&sid1=100&oid=001&aid=0012909198)\n",
      "기사 제목 : 與 저격한 진중권 “훈련소서 ‘멸공의 횃불’ 부를 때 항의했나”\n",
      "(링크 : https://news.naver.com/main/read.naver?mode=LSD&mid=shm&sid1=100&oid=005&aid=0001497846)\n",
      "기사 제목 : 진중권 “훈련소서 ‘멸공의 횃불’ 부를 때 항의했나? 적당히 좀”\n",
      "(링크 : https://news.naver.com/main/read.naver?mode=LSD&mid=shm&sid1=100&oid=018&aid=0005124413)\n",
      "기사 제목 : 尹측 “여가부는 ‘남혐부’…박살 내놓고 다시 출발해야”\n",
      "(링크 : https://news.naver.com/main/read.naver?mode=LSD&mid=shm&sid1=100&oid=005&aid=0001497566)\n",
      "기사 제목 : 장예찬 \"여가부 박살\"...류호정 \"尹, 다시 시작해야\"\n",
      "(링크 : https://news.naver.com/main/read.naver?mode=LSD&mid=shm&sid1=100&oid=052&aid=0001687923)\n",
      "기사 제목 : 정성호 \"與, 멸공 비판·불매 운동 멈춰야…野 음모에 말려드는 일\"\n",
      "(링크 : https://news.naver.com/main/read.naver?mode=LSD&mid=shm&sid1=100&oid=448&aid=0000348672)\n",
      "기사 제목 : 정성호 \"음모 말리지 않게 '멸공비판' 멈춰야…기업 불매운동도 자제\"\n",
      "(링크 : https://news.naver.com/main/read.naver?mode=LSD&mid=shm&sid1=100&oid=079&aid=0003595697)\n",
      "기사 제목 : 유시민 “尹의 '젠더 이슈' 띄우기는 모 아니면 도···2등 전략”\n",
      "(링크 : https://news.naver.com/main/read.naver?mode=LSD&mid=shm&sid1=100&oid=011&aid=0004006508)\n",
      "기사 제목 : 유시민 “약은 이재명, 젠더 이슈 발 빼…安, 단일화 이기기 어려워\"\n",
      "(링크 : https://news.naver.com/main/read.naver?mode=LSD&mid=shm&sid1=100&oid=018&aid=0005124335)\n",
      "기사 제목 : ‘공공기관 노동이사제’·‘만16세 정당가입’ 법사위 통과…내일 본회의\n",
      "(링크 : https://news.naver.com/main/read.naver?mode=LSD&mid=shm&sid1=100&oid=056&aid=0011192124)\n",
      "기사 제목 : ‘공공기관 노동이사제’ 법사위 통과… 11일 본회의 상정\n",
      "(링크 : https://news.naver.com/main/read.naver?mode=LSD&mid=shm&sid1=100&oid=022&aid=0003656231)\n",
      "기사 제목 : 高1도 당원된다\n",
      "(링크 : https://news.naver.com/main/read.naver?mode=LSD&mid=shm&sid1=100&oid=016&aid=0001935640)\n",
      "기사 제목 : '고1도 정당 가입' 정당법 법사위 통과…3·9 재보선부터 '고3 공천'\n",
      "(링크 : https://news.naver.com/main/read.naver?mode=LSD&mid=shm&sid1=100&oid=421&aid=0005836293)\n",
      "기사 제목 : 與 “安은 윤석열 아바타” 공격모드로 돌변\n",
      "(링크 : https://news.naver.com/main/read.naver?mode=LSD&mid=shm&sid1=100&oid=023&aid=0003665426)\n",
      "기사 제목 : “安 국가 발전에 필요한 분”이라던 與…‘마의 15%’ 벽 넘자 “‘MB 아바타’ 넘어 ‘尹 아바타’”\n",
      "(링크 : https://news.naver.com/main/read.naver?mode=LSD&mid=shm&sid1=100&oid=022&aid=0003656271)\n",
      "기사 제목 : 與, 안철수 상승세에 “망언하는 윤석열 아바타” 싸잡아 비난\n",
      "(링크 : https://news.naver.com/main/read.naver?mode=LSD&mid=shm&sid1=100&oid=005&aid=0001497572)\n",
      "기사 제목 : 민주당, 안철수 본격 견제…\"안 후보는 MB 넘어 윤석열 아바타\"\n",
      "(링크 : https://news.naver.com/main/read.naver?mode=LSD&mid=shm&sid1=100&oid=437&aid=0000286042)\n",
      "기사 제목 : 북, 엿새만에 다시 미사일 발사… 왜\n",
      "(링크 : https://news.naver.com/main/read.naver?mode=LSD&mid=shm&sid1=100&oid=277&aid=0005028725)\n",
      "기사 제목 : 美, 北극초음속미사일 시험 주장에 \"여전히 평가중\"\n",
      "(링크 : https://news.naver.com/main/read.naver?mode=LSD&mid=shm&sid1=100&oid=422&aid=0000522897)\n",
      "기사 제목 : 북, 동해상으로 미상 발사체 발사‥탄도미사일 쏜지 6일 만\n",
      "(링크 : https://news.naver.com/main/read.naver?mode=LSD&mid=shm&sid1=100&oid=214&aid=0001171609)\n",
      "기사 제목 : 안보리 입장 전한 외교부 \"北 미사일 우려...대화복귀 촉구\"\n",
      "(링크 : https://news.naver.com/main/read.naver?mode=LSD&mid=shm&sid1=100&oid=008&aid=0004694585)\n",
      "기사 제목 : 文대통령, 중동 3개국 순방…전날 공개한 野엔 \"명백한 외교결레\"\n",
      "(링크 : https://news.naver.com/main/read.naver?mode=LSD&mid=shm&sid1=100&oid=025&aid=0003165522)\n",
      "기사 제목 : 문 대통령, 15~22일 UAE·사우디·이집트 방문한다\n",
      "(링크 : https://news.naver.com/main/read.naver?mode=LSD&mid=shm&sid1=100&oid=047&aid=0002338578)\n",
      "기사 제목 : 靑, 文 순방 선공개한 野에 강한 유감...\"외교적 결례\"\n",
      "(링크 : https://news.naver.com/main/read.naver?mode=LSD&mid=shm&sid1=100&oid=052&aid=0001687853)\n",
      "기사 제목 : 문 대통령, 15∼22일 중동 3개국 순방…UAE · 사우디 · 이집트 방문\n",
      "(링크 : https://news.naver.com/main/read.naver?mode=LSD&mid=shm&sid1=100&oid=055&aid=0000945593)\n",
      "기사 제목 : 이재명 \"135兆 투자, 일자리 200만개, G5 경제대국\"…경제비전 발표\n",
      "(링크 : https://news.naver.com/main/read.naver?mode=LSD&mid=shm&sid1=100&oid=018&aid=0005124358)\n",
      "기사 제목 : 이재명 신경제 비전 발표 “대전환과 개혁으로 세계 5강 경제 완성”\n",
      "(링크 : https://news.naver.com/main/read.naver?mode=LSD&mid=shm&sid1=100&oid=277&aid=0005028677)\n",
      "기사 제목 : 尹 “공산 침략에서 나라 구한 인천상륙작전처럼 역전 드라마 시작”\n",
      "(링크 : https://news.naver.com/main/read.naver?mode=LSD&mid=shm&sid1=100&oid=366&aid=0000786164)\n",
      "기사 제목 : 尹 “인천상륙작전처럼 역전…주 52시간 국민합의 재도출”\n",
      "(링크 : https://news.naver.com/main/read.naver?mode=LSD&mid=shm&sid1=100&oid=020&aid=0003404877)\n",
      "기사 제목 : \"국민 생명 지키는 게 국가 소임\"…尹, 닥터헬기 확대 공약 발표\n",
      "(링크 : https://news.naver.com/main/read.naver?mode=LSD&mid=shm&sid1=100&oid=008&aid=0004694513)\n",
      "기사 제목 : 윤석열 \"닥터헬기 운용 지역 전국으로 확대\" 공약\n",
      "(링크 : https://news.naver.com/main/read.naver?mode=LSD&mid=shm&sid1=100&oid=055&aid=0000945752)\n",
      "기사 제목 : 김종인 “무슨 복귀?” 홍준표 “더 이상 바보짓 안해”…꼬여버린 ‘대통합’\n",
      "(링크 : https://news.naver.com/main/read.naver?mode=LSD&mid=shm&sid1=100&oid=016&aid=0001935454)\n",
      "기사 제목 : [단독]김종인, ‘정권교체 尹·安 누가 적합’ 질문에 “노코멘트”\n",
      "(링크 : https://news.naver.com/main/read.naver?mode=LSD&mid=shm&sid1=100&oid=005&aid=0001497862)\n",
      "기사 제목 : 이재명 \"디지털인재 교육비 선지원하는 '휴먼캐피털' 도입\"\n",
      "(링크 : https://news.naver.com/main/read.naver?mode=LSD&mid=shm&sid1=100&oid=001&aid=0012909853)\n",
      "기사 제목 : ‘정책 행보’ 이재명, ‘메타버스 정부’ 띄운다…‘디지털 코리아’ 청사진은?\n",
      "(링크 : https://news.naver.com/main/read.naver?mode=LSD&mid=shm&sid1=100&oid=029&aid=0002715362)\n",
      "기사 제목 : 홍준표 \"대선이 초등 반장 선거로 전락\"…이재명·윤석열 싸잡아 비판\n",
      "(링크 : https://news.naver.com/main/read.naver?mode=LSD&mid=shm&sid1=100&oid=421&aid=0005836447)\n",
      "기사 제목 : 홍준표 “대선이 초등학교 반장선거도 아니고…저급해”\n",
      "(링크 : https://news.naver.com/main/read.naver?mode=LSD&mid=shm&sid1=100&oid=020&aid=0003405026)\n",
      "기사 제목 : 김 총리 \"평택 화재, 뼈저린 반성해야‥정부 대책 원점에서 재검토\"\n",
      "(링크 : https://news.naver.com/main/read.naver?mode=LSD&mid=shm&sid1=100&oid=214&aid=0001171643)\n",
      "기사 제목 : 김 총리 “평택 소방관 순직에 책임 통감…기존 대책 전면 재점검”\n",
      "(링크 : https://news.naver.com/main/read.naver?mode=LSD&mid=shm&sid1=100&oid=056&aid=0011192548)\n",
      "기사 제목 : '토리 아빠' 윤석열 \"강아지들 아니면 10년 세월 잘 버텼겠나\"\n",
      "(링크 : https://news.naver.com/main/read.naver?mode=LSD&mid=shm&sid1=100&oid=015&aid=0004651285)\n",
      "기사 제목 : '토리 아빠' 윤석열 \"강아지들 아니면 10년 세월 잘 버텼겠나\"\n",
      "(링크 : https://news.naver.com/main/read.naver?mode=LSD&mid=shm&sid1=100&oid=001&aid=0012909198)\n",
      "기사 제목 : 與 저격한 진중권 “훈련소서 ‘멸공의 횃불’ 부를 때 항의했나”\n",
      "(링크 : https://news.naver.com/main/read.naver?mode=LSD&mid=shm&sid1=100&oid=005&aid=0001497846)\n",
      "기사 제목 : 진중권 “훈련소서 ‘멸공의 횃불’ 부를 때 항의했나? 적당히 좀”\n",
      "(링크 : https://news.naver.com/main/read.naver?mode=LSD&mid=shm&sid1=100&oid=018&aid=0005124413)\n",
      "기사 제목 : 尹측 “여가부는 ‘남혐부’…박살 내놓고 다시 출발해야”\n",
      "(링크 : https://news.naver.com/main/read.naver?mode=LSD&mid=shm&sid1=100&oid=005&aid=0001497566)\n",
      "기사 제목 : 장예찬 \"여가부 박살\"...류호정 \"尹, 다시 시작해야\"\n",
      "(링크 : https://news.naver.com/main/read.naver?mode=LSD&mid=shm&sid1=100&oid=052&aid=0001687923)\n",
      "기사 제목 : 정성호 \"與, 멸공 비판·불매 운동 멈춰야…野 음모에 말려드는 일\"\n",
      "(링크 : https://news.naver.com/main/read.naver?mode=LSD&mid=shm&sid1=100&oid=448&aid=0000348672)\n",
      "기사 제목 : 정성호 \"음모 말리지 않게 '멸공비판' 멈춰야…기업 불매운동도 자제\"\n",
      "(링크 : https://news.naver.com/main/read.naver?mode=LSD&mid=shm&sid1=100&oid=079&aid=0003595697)\n",
      "기사 제목 : 유시민 “尹의 '젠더 이슈' 띄우기는 모 아니면 도···2등 전략”\n",
      "(링크 : https://news.naver.com/main/read.naver?mode=LSD&mid=shm&sid1=100&oid=011&aid=0004006508)\n",
      "기사 제목 : 유시민 “약은 이재명, 젠더 이슈 발 빼…安, 단일화 이기기 어려워\"\n",
      "(링크 : https://news.naver.com/main/read.naver?mode=LSD&mid=shm&sid1=100&oid=018&aid=0005124335)\n"
     ]
    },
    {
     "name": "stdout",
     "output_type": "stream",
     "text": [
      "기사 제목 : ‘공공기관 노동이사제’·‘만16세 정당가입’ 법사위 통과…내일 본회의\n",
      "(링크 : https://news.naver.com/main/read.naver?mode=LSD&mid=shm&sid1=100&oid=056&aid=0011192124)\n",
      "기사 제목 : ‘공공기관 노동이사제’ 법사위 통과… 11일 본회의 상정\n",
      "(링크 : https://news.naver.com/main/read.naver?mode=LSD&mid=shm&sid1=100&oid=022&aid=0003656231)\n",
      "기사 제목 : 高1도 당원된다\n",
      "(링크 : https://news.naver.com/main/read.naver?mode=LSD&mid=shm&sid1=100&oid=016&aid=0001935640)\n",
      "기사 제목 : '고1도 정당 가입' 정당법 법사위 통과…3·9 재보선부터 '고3 공천'\n",
      "(링크 : https://news.naver.com/main/read.naver?mode=LSD&mid=shm&sid1=100&oid=421&aid=0005836293)\n",
      "기사 제목 : 與 “安은 윤석열 아바타” 공격모드로 돌변\n",
      "(링크 : https://news.naver.com/main/read.naver?mode=LSD&mid=shm&sid1=100&oid=023&aid=0003665426)\n",
      "기사 제목 : “安 국가 발전에 필요한 분”이라던 與…‘마의 15%’ 벽 넘자 “‘MB 아바타’ 넘어 ‘尹 아바타’”\n",
      "(링크 : https://news.naver.com/main/read.naver?mode=LSD&mid=shm&sid1=100&oid=022&aid=0003656271)\n",
      "기사 제목 : 與, 안철수 상승세에 “망언하는 윤석열 아바타” 싸잡아 비난\n",
      "(링크 : https://news.naver.com/main/read.naver?mode=LSD&mid=shm&sid1=100&oid=005&aid=0001497572)\n",
      "기사 제목 : 민주당, 안철수 본격 견제…\"안 후보는 MB 넘어 윤석열 아바타\"\n",
      "(링크 : https://news.naver.com/main/read.naver?mode=LSD&mid=shm&sid1=100&oid=437&aid=0000286042)\n",
      "기사 제목 : 북, 엿새만에 다시 미사일 발사… 왜\n",
      "(링크 : https://news.naver.com/main/read.naver?mode=LSD&mid=shm&sid1=100&oid=277&aid=0005028725)\n",
      "기사 제목 : 美, 北극초음속미사일 시험 주장에 \"여전히 평가중\"\n",
      "(링크 : https://news.naver.com/main/read.naver?mode=LSD&mid=shm&sid1=100&oid=422&aid=0000522897)\n",
      "기사 제목 : 북, 동해상으로 미상 발사체 발사‥탄도미사일 쏜지 6일 만\n",
      "(링크 : https://news.naver.com/main/read.naver?mode=LSD&mid=shm&sid1=100&oid=214&aid=0001171609)\n",
      "기사 제목 : 안보리 입장 전한 외교부 \"北 미사일 우려...대화복귀 촉구\"\n",
      "(링크 : https://news.naver.com/main/read.naver?mode=LSD&mid=shm&sid1=100&oid=008&aid=0004694585)\n",
      "기사 제목 : 文대통령, 중동 3개국 순방…전날 공개한 野엔 \"명백한 외교결레\"\n",
      "(링크 : https://news.naver.com/main/read.naver?mode=LSD&mid=shm&sid1=100&oid=025&aid=0003165522)\n",
      "기사 제목 : 문 대통령, 15~22일 UAE·사우디·이집트 방문한다\n",
      "(링크 : https://news.naver.com/main/read.naver?mode=LSD&mid=shm&sid1=100&oid=047&aid=0002338578)\n",
      "기사 제목 : 靑, 文 순방 선공개한 野에 강한 유감...\"외교적 결례\"\n",
      "(링크 : https://news.naver.com/main/read.naver?mode=LSD&mid=shm&sid1=100&oid=052&aid=0001687853)\n",
      "기사 제목 : 문 대통령, 15∼22일 중동 3개국 순방…UAE · 사우디 · 이집트 방문\n",
      "(링크 : https://news.naver.com/main/read.naver?mode=LSD&mid=shm&sid1=100&oid=055&aid=0000945593)\n",
      "기사 제목 : 이재명 \"135兆 투자, 일자리 200만개, G5 경제대국\"…경제비전 발표\n",
      "(링크 : https://news.naver.com/main/read.naver?mode=LSD&mid=shm&sid1=100&oid=018&aid=0005124358)\n",
      "기사 제목 : 이재명 신경제 비전 발표 “대전환과 개혁으로 세계 5강 경제 완성”\n",
      "(링크 : https://news.naver.com/main/read.naver?mode=LSD&mid=shm&sid1=100&oid=277&aid=0005028677)\n",
      "기사 제목 : 尹 “공산 침략에서 나라 구한 인천상륙작전처럼 역전 드라마 시작”\n",
      "(링크 : https://news.naver.com/main/read.naver?mode=LSD&mid=shm&sid1=100&oid=366&aid=0000786164)\n",
      "기사 제목 : 尹 “인천상륙작전처럼 역전…주 52시간 국민합의 재도출”\n",
      "(링크 : https://news.naver.com/main/read.naver?mode=LSD&mid=shm&sid1=100&oid=020&aid=0003404877)\n",
      "기사 제목 : \"국민 생명 지키는 게 국가 소임\"…尹, 닥터헬기 확대 공약 발표\n",
      "(링크 : https://news.naver.com/main/read.naver?mode=LSD&mid=shm&sid1=100&oid=008&aid=0004694513)\n",
      "기사 제목 : 윤석열 \"닥터헬기 운용 지역 전국으로 확대\" 공약\n",
      "(링크 : https://news.naver.com/main/read.naver?mode=LSD&mid=shm&sid1=100&oid=055&aid=0000945752)\n",
      "기사 제목 : 김종인 “무슨 복귀?” 홍준표 “더 이상 바보짓 안해”…꼬여버린 ‘대통합’\n",
      "(링크 : https://news.naver.com/main/read.naver?mode=LSD&mid=shm&sid1=100&oid=016&aid=0001935454)\n",
      "기사 제목 : [단독]김종인, ‘정권교체 尹·安 누가 적합’ 질문에 “노코멘트”\n",
      "(링크 : https://news.naver.com/main/read.naver?mode=LSD&mid=shm&sid1=100&oid=005&aid=0001497862)\n",
      "기사 제목 : 이재명 \"디지털인재 교육비 선지원하는 '휴먼캐피털' 도입\"\n",
      "(링크 : https://news.naver.com/main/read.naver?mode=LSD&mid=shm&sid1=100&oid=001&aid=0012909853)\n",
      "기사 제목 : ‘정책 행보’ 이재명, ‘메타버스 정부’ 띄운다…‘디지털 코리아’ 청사진은?\n",
      "(링크 : https://news.naver.com/main/read.naver?mode=LSD&mid=shm&sid1=100&oid=029&aid=0002715362)\n",
      "기사 제목 : 홍준표 \"대선이 초등 반장 선거로 전락\"…이재명·윤석열 싸잡아 비판\n",
      "(링크 : https://news.naver.com/main/read.naver?mode=LSD&mid=shm&sid1=100&oid=421&aid=0005836447)\n",
      "기사 제목 : 홍준표 “대선이 초등학교 반장선거도 아니고…저급해”\n",
      "(링크 : https://news.naver.com/main/read.naver?mode=LSD&mid=shm&sid1=100&oid=020&aid=0003405026)\n",
      "기사 제목 : 김 총리 \"평택 화재, 뼈저린 반성해야‥정부 대책 원점에서 재검토\"\n",
      "(링크 : https://news.naver.com/main/read.naver?mode=LSD&mid=shm&sid1=100&oid=214&aid=0001171643)\n",
      "기사 제목 : 김 총리 “평택 소방관 순직에 책임 통감…기존 대책 전면 재점검”\n",
      "(링크 : https://news.naver.com/main/read.naver?mode=LSD&mid=shm&sid1=100&oid=056&aid=0011192548)\n",
      "기사 제목 : '토리 아빠' 윤석열 \"강아지들 아니면 10년 세월 잘 버텼겠나\"\n",
      "(링크 : https://news.naver.com/main/read.naver?mode=LSD&mid=shm&sid1=100&oid=015&aid=0004651285)\n",
      "기사 제목 : '토리 아빠' 윤석열 \"강아지들 아니면 10년 세월 잘 버텼겠나\"\n",
      "(링크 : https://news.naver.com/main/read.naver?mode=LSD&mid=shm&sid1=100&oid=001&aid=0012909198)\n",
      "기사 제목 : 與 저격한 진중권 “훈련소서 ‘멸공의 횃불’ 부를 때 항의했나”\n",
      "(링크 : https://news.naver.com/main/read.naver?mode=LSD&mid=shm&sid1=100&oid=005&aid=0001497846)\n",
      "기사 제목 : 진중권 “훈련소서 ‘멸공의 횃불’ 부를 때 항의했나? 적당히 좀”\n",
      "(링크 : https://news.naver.com/main/read.naver?mode=LSD&mid=shm&sid1=100&oid=018&aid=0005124413)\n",
      "기사 제목 : 尹측 “여가부는 ‘남혐부’…박살 내놓고 다시 출발해야”\n",
      "(링크 : https://news.naver.com/main/read.naver?mode=LSD&mid=shm&sid1=100&oid=005&aid=0001497566)\n",
      "기사 제목 : 장예찬 \"여가부 박살\"...류호정 \"尹, 다시 시작해야\"\n",
      "(링크 : https://news.naver.com/main/read.naver?mode=LSD&mid=shm&sid1=100&oid=052&aid=0001687923)\n",
      "기사 제목 : 정성호 \"與, 멸공 비판·불매 운동 멈춰야…野 음모에 말려드는 일\"\n",
      "(링크 : https://news.naver.com/main/read.naver?mode=LSD&mid=shm&sid1=100&oid=448&aid=0000348672)\n",
      "기사 제목 : 정성호 \"음모 말리지 않게 '멸공비판' 멈춰야…기업 불매운동도 자제\"\n",
      "(링크 : https://news.naver.com/main/read.naver?mode=LSD&mid=shm&sid1=100&oid=079&aid=0003595697)\n",
      "기사 제목 : 유시민 “尹의 '젠더 이슈' 띄우기는 모 아니면 도···2등 전략”\n",
      "(링크 : https://news.naver.com/main/read.naver?mode=LSD&mid=shm&sid1=100&oid=011&aid=0004006508)\n",
      "기사 제목 : 유시민 “약은 이재명, 젠더 이슈 발 빼…安, 단일화 이기기 어려워\"\n",
      "(링크 : https://news.naver.com/main/read.naver?mode=LSD&mid=shm&sid1=100&oid=018&aid=0005124335)\n"
     ]
    }
   ],
   "source": [
    "#페이지 별로 추출하는 반복문 생성\n",
    "for i in range(5):\n",
    "    #페이지 별로 요청을 보내고 soup의 lxml 형태로 변환\n",
    "    url = f'https://news.naver.com/main/main.naver?mode=LSD&mid=shm&sid1=100#&date=%2000:00:00&page={i}'\n",
    "    res = requests.get(url, headers = headers)\n",
    "    res.raise_for_status()\n",
    "    soup = BeautifulSoup(res.text, 'lxml') \n",
    "    \n",
    "    #html문서에서 cluster_text_headline nclicks(cls_pol.clsart)라는 이름의 class를 지닌 a 태그의 element들 모두 선택\n",
    "    a2 = soup.findAll('a', attrs = {'class' : 'cluster_text_headline nclicks(cls_pol.clsart)'})\n",
    "    \n",
    "    #각 뉴스 제목과 링크를 추출할 반복문 생성\n",
    "    for a in a2:\n",
    "        title = a.get_text().strip()\n",
    "        link = a['href']\n",
    "        print(f'기사 제목 : {title}') \n",
    "        print(f'(링크 : {link})')"
   ]
  },
  {
   "cell_type": "markdown",
   "metadata": {},
   "source": [
    "<b>뷰티풀숲의 유용한 함수</b><br>\n",
    "soup.select([상위 태그부터 차례대로 목표 태그까지 작성])     (ex. soup.select('ul.type01 > li > dl > dt > a')) <br><br>\n",
    "find([태그], {[속성] : [속성 내용]})<br>\n",
    "findAll([태그], {[속성] : [속성 내용]})<br>\n",
    "[태그].attrs     (ex. a.attrs))<br>\n",
    "[태그][[속성]]     (ex. a['class']))<br>\n",
    "[태그].get_text()     (ex. a.get_text())<br>\n",
    "대상으로 할 element를 변수로 지정한 후 [변수].[함수]와 같이 사용<br><br>"
   ]
  },
  {
   "cell_type": "code",
   "execution_count": null,
   "metadata": {},
   "outputs": [],
   "source": []
  },
  {
   "cell_type": "markdown",
   "metadata": {},
   "source": [
    "## 2. 네이버 항공권 크롤링"
   ]
  },
  {
   "cell_type": "code",
   "execution_count": 24,
   "metadata": {},
   "outputs": [],
   "source": [
    "#셀레늄 라이브러리 불러오기\n",
    "from selenium import webdriver\n",
    "\n",
    "#셀레늄에서 html문서가 생성될 때까지 대기하는 함수 불러오기\n",
    "from selenium.webdriver.support.ui import WebDriverWait\n",
    "\n",
    "#셀레늄에서 조건을 걸어줄 수 있는 함수 불러오기\n",
    "from selenium.webdriver.support import expected_conditions as EC\n",
    "from selenium.webdriver.common.by import By"
   ]
  },
  {
   "cell_type": "code",
   "execution_count": 28,
   "metadata": {},
   "outputs": [
    {
     "name": "stderr",
     "output_type": "stream",
     "text": [
      "C:\\Users\\endea\\AppData\\Local\\Temp/ipykernel_17796/808309575.py:5: DeprecationWarning: executable_path has been deprecated, please pass in a Service object\n",
      "  browser = webdriver.Chrome(path)\n"
     ]
    }
   ],
   "source": [
    "#크롬드라이버 경로 설정\n",
    "path = 'C:\\\\Users\\\\endea\\\\Desktop\\\\data\\\\chromedriver_win32\\\\chromedriver'\n",
    "\n",
    "#드라이버 객체 생성\n",
    "browser = webdriver.Chrome(path)\n",
    "#코랩에서 작업시 option 추가\n",
    "#browser = webdriver.Chrome(path, options = options)"
   ]
  },
  {
   "cell_type": "code",
   "execution_count": 30,
   "metadata": {},
   "outputs": [],
   "source": [
    "#네이버 항공권 예매 사이트로 접속\n",
    "browser.get('https://flight.naver.com/')"
   ]
  },
  {
   "cell_type": "code",
   "execution_count": 23,
   "metadata": {},
   "outputs": [],
   "source": [
    "#가는 날 클릭 \n",
    "browser.find_element_by_xpath('//*[@id=\"__next\"]/div/div[1]/div[4]/div/div/div[2]/div[2]/button[1]').click()"
   ]
  },
  {
   "cell_type": "code",
   "execution_count": 25,
   "metadata": {},
   "outputs": [],
   "source": [
    "#이번달 27일, 다음달 28일 선택\n",
    "browser.find_element_by_xpath('//*[@id=\"__next\"]/div/div[1]/div[10]/div[2]/div[1]/div[2]/div/div[2]/table/tbody/tr[5]/td[4]/button').click()\n",
    "browser.implicitly_wait(time_to_wait=2)\n",
    "browser.find_element_by_xpath('//*[@id=\"__next\"]/div/div[1]/div[10]/div[2]/div[1]/div[2]/div/div[3]/table/tbody/tr[5]/td[1]/button').click()"
   ]
  },
  {
   "cell_type": "code",
   "execution_count": 26,
   "metadata": {},
   "outputs": [],
   "source": [
    "#도착지 선택\n",
    "browser.find_element_by_xpath('//*[@id=\"__next\"]/div/div[1]/div[4]/div/div/div[2]/div[1]/button[2]').click()"
   ]
  },
  {
   "cell_type": "code",
   "execution_count": 27,
   "metadata": {},
   "outputs": [],
   "source": [
    "#국내 선택\n",
    "browser.find_element_by_xpath('//*[@id=\"__next\"]/div/div[1]/div[10]/div[2]/section/section/button[1]').click()"
   ]
  },
  {
   "cell_type": "code",
   "execution_count": 28,
   "metadata": {},
   "outputs": [],
   "source": [
    "#제주 선택\n",
    "browser.find_element_by_xpath('//*[@id=\"__next\"]/div/div[1]/div[10]/div[2]/section/section/div/button[2]').click()"
   ]
  },
  {
   "cell_type": "code",
   "execution_count": 29,
   "metadata": {},
   "outputs": [
    {
     "name": "stdout",
     "output_type": "stream",
     "text": [
      "제주항공\n",
      "1%적립이벤트혜택\n",
      "06:00GMP\n",
      "07:05CJU\n",
      "01시간 05분\n",
      "특가석편도 24,750원~\n",
      "네이버페이 결제시 1%+1,500원 적립편도 23,745원~\n"
     ]
    }
   ],
   "source": [
    "# 항공권 검색 클릭\n",
    "browser.find_element_by_xpath('//*[@id=\"__next\"]/div/div[1]/div[4]/div/div/button').click()\n",
    "\n",
    "try:\n",
    "    #10초 간 대기하면서 지정한 xpath가 존재 시 동작 수행\n",
    "    elem = WebDriverWait(browser, 10).until(EC.presence_of_element_located((By.XPATH, '//*[@id=\"__next\"]/div/div[1]/div[4]/div/div[2]/div[2]')))\n",
    "    # 성공했을 때 첫 번째 결과 출력\n",
    "    print(elem.text)\n",
    "finally:\n",
    "    browser.quit()"
   ]
  },
  {
   "cell_type": "markdown",
   "metadata": {},
   "source": [
    "<b>셀레늄 대상 지정 함수</b><br>\n",
    "find_element_by_class_name(self, name)<br>\n",
    "find_element_by_css_selector(self, css_selector)<br>\n",
    "find_element_by_id(self, id_)<br>\n",
    "find_element_by_link_text(self, link_text)<br>\n",
    "find_element_by_name(self, name)<br>\n",
    "find_element_by_partial_link_text(self, link_text)<br>\n",
    "find_element_by_tag_name(self, name)<br>\n",
    "find_element_by_xpath(self, xpath)<br>\n",
    "다중 지정은 find_element 대신에 find_elements<br>\n",
    "browser.[함수]와 같이 사용<br><br>\n",
    "\n",
    "<b>셀레늄 로딩 대기 함수</b><br>\n",
    "암묵적 대기(무조건 대기) : browser.implicitly_wait(time_to_wait=[대기 시간 (초)])<br>\n",
    "명시적 대기(조건 충족 시 대기 해제) : 위 코드에서 try ~ finally 부분<br>\n",
    "time 라이브러리의 sleep([대기 시간 (초)]) 함수를 이용해 대기 가능<br><br>\n",
    "\n",
    "<b>셀레늄 대기 조건 함수</b><br>\n",
    "title_is<br>\n",
    "title_contains<br>\n",
    "presence_of_element_located<br>\n",
    "visibility_of_element_located<br>\n",
    "visibility_of<br>\n",
    "presence_of_all_elements_located<br>\n",
    "text_to_be_present_in_element<br>\n",
    "text_to_be_present_in_element_value<br>\n",
    "frame_to_be_available_and_switch_to_it<br>\n",
    "invisibility_of_element_located<br>\n",
    "element_to_be_clickable<br>\n",
    "staleness_of<br>\n",
    "element_to_be_selected<br>\n",
    "element_located_to_be_selected<br>\n",
    "element_selection_state_to_be<br>\n",
    "element_located_selection_state_to_be<br>\n",
    "alert_is_present<br>\n",
    "이 외에도 \\__init__ 함수와 \\__call__ 함수를 구현한 class를 활용한 custom 조건도 가능<br>\n",
    "대상으로 할 element를 변수로 지정한 후 [변수].[함수]와 같이 사용<br><br>\n",
    "\n",
    "<b>셀레늄 상호작용 함수</b><br>\n",
    "텍스트 입력 : send_keys([입력할 내용 (문자열)])<br>\n",
    "키보드 키 : send_keys(Keys.[버튼이름 (CANCLE, TAB, BACKSPACE, ENTER 등...)])<br>\n",
    "텍스트 입력 지우기 : clear()<br>\n",
    "파일 업로드 : send_keys(file_path)<br>\n",
    "클릭 : click()<br>\n",
    "옵션 선택 : select_by_index, select_by_visible_text, select_by_value<br>\n",
    "옵션 전체 해제 : deselect_all()<br>\n",
    "옵션 제출 : submit()<br>\n",
    "JavaScript 코드 실행 : execute_script()<br>\n",
    "대상으로 할 element를 변수로 지정한 후 [변수].[함수]와 같이 사용<br><br>\n",
    "\n",
    "<b>브라우저 상호작용 함수</b><br>\n",
    "최대화 : maximize_window()<br>\n",
    "최소화 : minimize_window()<br>\n",
    "뒤로가기 : back()<br>\n",
    "앞으로가기 : forward()<br>\n",
    "새로고침 : refresh()<br>\n",
    "스크린샷 저장 : save_screenshot([파일명])<br>\n",
    "스크롤 내리기 : execute_script('window.scrollTo(0, document.body.scrollHeight);')<br>\n",
    "종료 : quit()<br>\n",
    "browser.[함수]와 같이 사용"
   ]
  },
  {
   "cell_type": "code",
   "execution_count": null,
   "metadata": {
    "id": "6xPoOvAwHAd8"
   },
   "outputs": [],
   "source": []
  },
  {
   "cell_type": "markdown",
   "metadata": {
    "id": "Xjg1dGJBHAd8"
   },
   "source": [
    "## 3. 구글 이미지 크롤링"
   ]
  },
  {
   "cell_type": "markdown",
   "metadata": {},
   "source": [
    "<b>beautifulsoup 활용</b>"
   ]
  },
  {
   "cell_type": "code",
   "execution_count": 31,
   "metadata": {},
   "outputs": [],
   "source": [
    "#정보요청 라이브러리1 불러오기\n",
    "import requests\n",
    "\n",
    "#정보요청 라이브러리2 불러오기\n",
    "import urllib\n",
    "\n",
    "#beautifulsoup 라이브러리 불러오기\n",
    "from bs4 import BeautifulSoup "
   ]
  },
  {
   "cell_type": "code",
   "execution_count": 33,
   "metadata": {},
   "outputs": [],
   "source": [
    "#크롤링 할 대상 url 지정\n",
    "url = 'https://www.google.com/search?q=%EC%BD%94%EC%B9%B4%EC%BD%9C%EB%9D%BC&source=lnms&tbm=isch&sa=X&ved=2ahUKEwi21s-08qb1AhVPCqYKHU73AsQQ_AUoAXoECAMQAw&cshid=1641807941462513&biw=1536&bih=754&dpr=1.25'\n",
    "\n",
    "#크롤링 대상 url과 headers를 기반으로 정보 요청\n",
    "res = requests.get(url, headers = headers)\n",
    "\n",
    "#정상적으로 정보를 받은 경우 지속, 그렇지 않은 경우 중지\n",
    "res.raise_for_status()\n",
    "\n",
    "#html문서를 beautifulsoup의 lxml 형태로 변환\n",
    "soup = BeautifulSoup(res.text, 'lxml') "
   ]
  },
  {
   "cell_type": "code",
   "execution_count": 34,
   "metadata": {},
   "outputs": [],
   "source": [
    "#html문서에서 rg_i Q4LuWd라는 이름의 class를 지닌 img 태그의 element들 모두 선택\n",
    "imgs = soup.findAll('img', attrs = {'class' : 'rg_i Q4LuWd'})"
   ]
  },
  {
   "cell_type": "code",
   "execution_count": 35,
   "metadata": {},
   "outputs": [],
   "source": [
    "for index, img in enumerate(imgs):\n",
    "    try:\n",
    "        image_url = img['src']\n",
    "        urllib.request.urlretrieve(image_url, '코카콜라' + str(index) + '.jpg')\n",
    "    except:\n",
    "        pass"
   ]
  },
  {
   "cell_type": "code",
   "execution_count": null,
   "metadata": {},
   "outputs": [],
   "source": []
  },
  {
   "cell_type": "markdown",
   "metadata": {
    "id": "FH9lKAK-HAd8"
   },
   "source": [
    "<b>selenium 활용</b>"
   ]
  },
  {
   "cell_type": "code",
   "execution_count": 32,
   "metadata": {
    "id": "Uo6YAFwlIOgk"
   },
   "outputs": [],
   "source": [
    "#셀레늄 라이브러리 불러오기\n",
    "from selenium import webdriver\n",
    "\n",
    "#키보드 자판을 입력할 수 있는 셀레늄 함수 불러오기\n",
    "from selenium.webdriver.common.keys import Keys\n",
    "\n",
    "#시간에 따른 컨트롤이 가능한 라이브러리 불러오기\n",
    "import time"
   ]
  },
  {
   "cell_type": "code",
   "execution_count": 36,
   "metadata": {},
   "outputs": [],
   "source": [
    "#크롬드라이버 경로 설정\n",
    "path = 'C:\\\\Users\\\\admin1\\\\Desktop\\\\DSL\\\\22-1 활동\\\\220111_기초세션_crawling\\\\chromedriver'\n",
    "\n",
    "#드라이버 객체 생성\n",
    "browser = webdriver.Chrome(path)"
   ]
  },
  {
   "cell_type": "code",
   "execution_count": 37,
   "metadata": {},
   "outputs": [],
   "source": [
    "#구글 검색 사이트로 접속\n",
    "browser.get('https://www.google.co.kr/')"
   ]
  },
  {
   "cell_type": "code",
   "execution_count": 41,
   "metadata": {},
   "outputs": [],
   "source": [
    "#검색창 경로 찾은 후 음료수 제품명 입력 후 엔터\n",
    "browser.find_element_by_xpath('/html/body/div[1]/div[3]/form/div[1]/div[1]/div[1]/div/div[2]/input').send_keys('코카콜라')\n",
    "browser.find_element_by_xpath('/html/body/div[1]/div[3]/form/div[1]/div[1]/div[1]/div/div[2]/input').send_keys(Keys.ENTER)"
   ]
  },
  {
   "cell_type": "code",
   "execution_count": 42,
   "metadata": {},
   "outputs": [],
   "source": [
    "#이미지 블럭 클릭\n",
    "browser.find_element_by_xpath('//*[@id=\"hdtb-msb\"]/div[1]/div/div[2]/a').click()"
   ]
  },
  {
   "cell_type": "code",
   "execution_count": 24,
   "metadata": {},
   "outputs": [],
   "source": [
    "#스크롤 시 이미지가 더 많이 생성되므로 자동으로 스크롤 하는 반복문 생성\n",
    "while True:\n",
    "    \n",
    "    #현재 문서의 스크롤 높이를 저장\n",
    "    now_scroll = browser.execute_script('return document.body.scrollHeight')\n",
    "    \n",
    "    #페이지 최하단으로 스크롤\n",
    "    browser.execute_script('window.scrollTo(0, document.body.scrollHeight);')\n",
    "    \n",
    "    #페이지 로딩 대기\n",
    "    time.sleep(1)\n",
    "    \n",
    "    #스크롤 한 문서의 스크롤 높이를 저장\n",
    "    last_scroll = browser.execute_script('return document.body.scrollHeight')\n",
    "    \n",
    "    #현재 높이와 이전 높이가 같은 경우 반복문을 탈출하는 조건문 생성\n",
    "    if now_scroll == last_scroll:\n",
    "        \n",
    "        #더보기 버튼이 있는 경우 클릭 후 탈출 그 외는 그냥 탈출\n",
    "        try:\n",
    "            browser.find_element_by_css_selector('.mye4qd').click()\n",
    "            break\n",
    "        except:\n",
    "            break"
   ]
  },
  {
   "cell_type": "code",
   "execution_count": 44,
   "metadata": {},
   "outputs": [],
   "source": [
    "#페이지에서 이미지에 해당하는 css 태그를 지정해 이미지 찾기\n",
    "images = browser.find_elements_by_css_selector('.rg_i.Q4LuWd')"
   ]
  },
  {
   "cell_type": "code",
   "execution_count": 45,
   "metadata": {},
   "outputs": [
    {
     "ename": "ElementClickInterceptedException",
     "evalue": "Message: element click intercepted: Element <img src=\"data:image/jpeg;base64,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\" data-deferred=\"1\" class=\"rg_i Q4LuWd\" jsname=\"Q4LuWd\" width=\"207\" height=\"207\" alt=\"코카콜라] 종류별로 다 모았다 코카콜라/코카콜라제로/코카콜라라이트/커피코카콜라 - 티몬\" data-iml=\"868\" data-atf=\"true\"> is not clickable at point (219, 657). Other element would receive the click: <div jsname=\"r5xl4\" class=\"islrc\" style=\"width: 440px;\">...</div>\n  (Session info: chrome=97.0.4692.71)\n",
     "output_type": "error",
     "traceback": [
      "\u001b[1;31m---------------------------------------------------------------------------\u001b[0m",
      "\u001b[1;31mElementClickInterceptedException\u001b[0m          Traceback (most recent call last)",
      "\u001b[1;32m<ipython-input-45-d80b4b55b362>\u001b[0m in \u001b[0;36m<module>\u001b[1;34m\u001b[0m\n\u001b[0;32m      6\u001b[0m \u001b[1;33m\u001b[0m\u001b[0m\n\u001b[0;32m      7\u001b[0m     \u001b[1;31m#이미지 클릭\u001b[0m\u001b[1;33m\u001b[0m\u001b[1;33m\u001b[0m\u001b[1;33m\u001b[0m\u001b[0m\n\u001b[1;32m----> 8\u001b[1;33m     \u001b[0mimage\u001b[0m\u001b[1;33m.\u001b[0m\u001b[0mclick\u001b[0m\u001b[1;33m(\u001b[0m\u001b[1;33m)\u001b[0m\u001b[1;33m\u001b[0m\u001b[1;33m\u001b[0m\u001b[0m\n\u001b[0m\u001b[0;32m      9\u001b[0m \u001b[1;33m\u001b[0m\u001b[0m\n\u001b[0;32m     10\u001b[0m     \u001b[1;31m#이미지 로딩 대기\u001b[0m\u001b[1;33m\u001b[0m\u001b[1;33m\u001b[0m\u001b[1;33m\u001b[0m\u001b[0m\n",
      "\u001b[1;32m~\\AppData\\Local\\Programs\\Anaconda\\lib\\site-packages\\selenium\\webdriver\\remote\\webelement.py\u001b[0m in \u001b[0;36mclick\u001b[1;34m(self)\u001b[0m\n\u001b[0;32m     78\u001b[0m     \u001b[1;32mdef\u001b[0m \u001b[0mclick\u001b[0m\u001b[1;33m(\u001b[0m\u001b[0mself\u001b[0m\u001b[1;33m)\u001b[0m\u001b[1;33m:\u001b[0m\u001b[1;33m\u001b[0m\u001b[1;33m\u001b[0m\u001b[0m\n\u001b[0;32m     79\u001b[0m         \u001b[1;34m\"\"\"Clicks the element.\"\"\"\u001b[0m\u001b[1;33m\u001b[0m\u001b[1;33m\u001b[0m\u001b[0m\n\u001b[1;32m---> 80\u001b[1;33m         \u001b[0mself\u001b[0m\u001b[1;33m.\u001b[0m\u001b[0m_execute\u001b[0m\u001b[1;33m(\u001b[0m\u001b[0mCommand\u001b[0m\u001b[1;33m.\u001b[0m\u001b[0mCLICK_ELEMENT\u001b[0m\u001b[1;33m)\u001b[0m\u001b[1;33m\u001b[0m\u001b[1;33m\u001b[0m\u001b[0m\n\u001b[0m\u001b[0;32m     81\u001b[0m \u001b[1;33m\u001b[0m\u001b[0m\n\u001b[0;32m     82\u001b[0m     \u001b[1;32mdef\u001b[0m \u001b[0msubmit\u001b[0m\u001b[1;33m(\u001b[0m\u001b[0mself\u001b[0m\u001b[1;33m)\u001b[0m\u001b[1;33m:\u001b[0m\u001b[1;33m\u001b[0m\u001b[1;33m\u001b[0m\u001b[0m\n",
      "\u001b[1;32m~\\AppData\\Local\\Programs\\Anaconda\\lib\\site-packages\\selenium\\webdriver\\remote\\webelement.py\u001b[0m in \u001b[0;36m_execute\u001b[1;34m(self, command, params)\u001b[0m\n\u001b[0;32m    631\u001b[0m             \u001b[0mparams\u001b[0m \u001b[1;33m=\u001b[0m \u001b[1;33m{\u001b[0m\u001b[1;33m}\u001b[0m\u001b[1;33m\u001b[0m\u001b[1;33m\u001b[0m\u001b[0m\n\u001b[0;32m    632\u001b[0m         \u001b[0mparams\u001b[0m\u001b[1;33m[\u001b[0m\u001b[1;34m'id'\u001b[0m\u001b[1;33m]\u001b[0m \u001b[1;33m=\u001b[0m \u001b[0mself\u001b[0m\u001b[1;33m.\u001b[0m\u001b[0m_id\u001b[0m\u001b[1;33m\u001b[0m\u001b[1;33m\u001b[0m\u001b[0m\n\u001b[1;32m--> 633\u001b[1;33m         \u001b[1;32mreturn\u001b[0m \u001b[0mself\u001b[0m\u001b[1;33m.\u001b[0m\u001b[0m_parent\u001b[0m\u001b[1;33m.\u001b[0m\u001b[0mexecute\u001b[0m\u001b[1;33m(\u001b[0m\u001b[0mcommand\u001b[0m\u001b[1;33m,\u001b[0m \u001b[0mparams\u001b[0m\u001b[1;33m)\u001b[0m\u001b[1;33m\u001b[0m\u001b[1;33m\u001b[0m\u001b[0m\n\u001b[0m\u001b[0;32m    634\u001b[0m \u001b[1;33m\u001b[0m\u001b[0m\n\u001b[0;32m    635\u001b[0m     \u001b[1;32mdef\u001b[0m \u001b[0mfind_element\u001b[0m\u001b[1;33m(\u001b[0m\u001b[0mself\u001b[0m\u001b[1;33m,\u001b[0m \u001b[0mby\u001b[0m\u001b[1;33m=\u001b[0m\u001b[0mBy\u001b[0m\u001b[1;33m.\u001b[0m\u001b[0mID\u001b[0m\u001b[1;33m,\u001b[0m \u001b[0mvalue\u001b[0m\u001b[1;33m=\u001b[0m\u001b[1;32mNone\u001b[0m\u001b[1;33m)\u001b[0m\u001b[1;33m:\u001b[0m\u001b[1;33m\u001b[0m\u001b[1;33m\u001b[0m\u001b[0m\n",
      "\u001b[1;32m~\\AppData\\Local\\Programs\\Anaconda\\lib\\site-packages\\selenium\\webdriver\\remote\\webdriver.py\u001b[0m in \u001b[0;36mexecute\u001b[1;34m(self, driver_command, params)\u001b[0m\n\u001b[0;32m    319\u001b[0m         \u001b[0mresponse\u001b[0m \u001b[1;33m=\u001b[0m \u001b[0mself\u001b[0m\u001b[1;33m.\u001b[0m\u001b[0mcommand_executor\u001b[0m\u001b[1;33m.\u001b[0m\u001b[0mexecute\u001b[0m\u001b[1;33m(\u001b[0m\u001b[0mdriver_command\u001b[0m\u001b[1;33m,\u001b[0m \u001b[0mparams\u001b[0m\u001b[1;33m)\u001b[0m\u001b[1;33m\u001b[0m\u001b[1;33m\u001b[0m\u001b[0m\n\u001b[0;32m    320\u001b[0m         \u001b[1;32mif\u001b[0m \u001b[0mresponse\u001b[0m\u001b[1;33m:\u001b[0m\u001b[1;33m\u001b[0m\u001b[1;33m\u001b[0m\u001b[0m\n\u001b[1;32m--> 321\u001b[1;33m             \u001b[0mself\u001b[0m\u001b[1;33m.\u001b[0m\u001b[0merror_handler\u001b[0m\u001b[1;33m.\u001b[0m\u001b[0mcheck_response\u001b[0m\u001b[1;33m(\u001b[0m\u001b[0mresponse\u001b[0m\u001b[1;33m)\u001b[0m\u001b[1;33m\u001b[0m\u001b[1;33m\u001b[0m\u001b[0m\n\u001b[0m\u001b[0;32m    322\u001b[0m             response['value'] = self._unwrap_value(\n\u001b[0;32m    323\u001b[0m                 response.get('value', None))\n",
      "\u001b[1;32m~\\AppData\\Local\\Programs\\Anaconda\\lib\\site-packages\\selenium\\webdriver\\remote\\errorhandler.py\u001b[0m in \u001b[0;36mcheck_response\u001b[1;34m(self, response)\u001b[0m\n\u001b[0;32m    240\u001b[0m                 \u001b[0malert_text\u001b[0m \u001b[1;33m=\u001b[0m \u001b[0mvalue\u001b[0m\u001b[1;33m[\u001b[0m\u001b[1;34m'alert'\u001b[0m\u001b[1;33m]\u001b[0m\u001b[1;33m.\u001b[0m\u001b[0mget\u001b[0m\u001b[1;33m(\u001b[0m\u001b[1;34m'text'\u001b[0m\u001b[1;33m)\u001b[0m\u001b[1;33m\u001b[0m\u001b[1;33m\u001b[0m\u001b[0m\n\u001b[0;32m    241\u001b[0m             \u001b[1;32mraise\u001b[0m \u001b[0mexception_class\u001b[0m\u001b[1;33m(\u001b[0m\u001b[0mmessage\u001b[0m\u001b[1;33m,\u001b[0m \u001b[0mscreen\u001b[0m\u001b[1;33m,\u001b[0m \u001b[0mstacktrace\u001b[0m\u001b[1;33m,\u001b[0m \u001b[0malert_text\u001b[0m\u001b[1;33m)\u001b[0m\u001b[1;33m\u001b[0m\u001b[1;33m\u001b[0m\u001b[0m\n\u001b[1;32m--> 242\u001b[1;33m         \u001b[1;32mraise\u001b[0m \u001b[0mexception_class\u001b[0m\u001b[1;33m(\u001b[0m\u001b[0mmessage\u001b[0m\u001b[1;33m,\u001b[0m \u001b[0mscreen\u001b[0m\u001b[1;33m,\u001b[0m \u001b[0mstacktrace\u001b[0m\u001b[1;33m)\u001b[0m\u001b[1;33m\u001b[0m\u001b[1;33m\u001b[0m\u001b[0m\n\u001b[0m\u001b[0;32m    243\u001b[0m \u001b[1;33m\u001b[0m\u001b[0m\n\u001b[0;32m    244\u001b[0m     \u001b[1;32mdef\u001b[0m \u001b[0m_value_or_default\u001b[0m\u001b[1;33m(\u001b[0m\u001b[0mself\u001b[0m\u001b[1;33m,\u001b[0m \u001b[0mobj\u001b[0m\u001b[1;33m,\u001b[0m \u001b[0mkey\u001b[0m\u001b[1;33m,\u001b[0m \u001b[0mdefault\u001b[0m\u001b[1;33m)\u001b[0m\u001b[1;33m:\u001b[0m\u001b[1;33m\u001b[0m\u001b[1;33m\u001b[0m\u001b[0m\n",
      "\u001b[1;31mElementClickInterceptedException\u001b[0m: Message: element click intercepted: Element <img src=\"data:image/jpeg;base64,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\" data-deferred=\"1\" class=\"rg_i Q4LuWd\" jsname=\"Q4LuWd\" width=\"207\" height=\"207\" alt=\"코카콜라] 종류별로 다 모았다 코카콜라/코카콜라제로/코카콜라라이트/커피코카콜라 - 티몬\" data-iml=\"868\" data-atf=\"true\"> is not clickable at point (219, 657). Other element would receive the click: <div jsname=\"r5xl4\" class=\"islrc\" style=\"width: 440px;\">...</div>\n  (Session info: chrome=97.0.4692.71)\n"
     ]
    }
   ],
   "source": [
    "#찾은 이미지 개수 초기값 지정\n",
    "num = 1\n",
    "\n",
    "#이미지들마다 클릭하여 원본 이미지를 불러올 수 있도록 하는 반복문\n",
    "for image in images:\n",
    "        \n",
    "    #이미지 클릭\n",
    "    image.click()\n",
    "\n",
    "    #이미지 로딩 대기\n",
    "    time.sleep(2)\n",
    "\n",
    "    #이미지 url 지정\n",
    "    image_url = browser.find_element_by_xpath('//*[@id=\"Sva75c\"]/div/div/div[3]/div[2]/c-wiz/div/div[1]/div[1]/div[2]/div/a/img').get_attribute('src')\n",
    "\n",
    "    #자동화로 접속할 수 없는 경우 opener 함수로 접속할 수 있게 함수 생성\n",
    "    opener = urllib.request.build_opener()\n",
    "\n",
    "    #사용자 헤더 지정\n",
    "    opener.addheaders = [('User-Agent', 'Mozilla/5.0 (Windows NT 10.0; Win64; x64) AppleWebKit/537.36 (KHTML, like Gecko) Chrome/97.0.4692.71 Safari/537.36')]\n",
    "\n",
    "    #opener 함수로 이미지 접속\n",
    "    urllib.request.install_opener(opener)\n",
    "\n",
    "    #확장자와 위치를 설정해 해당 이미지를 다운로드\n",
    "    urllib.request.urlretrieve(image_url, '코카콜라' + str(num) + '.jpg')\n",
    "\n",
    "    #이미지 개수 1 증가\n",
    "    num += 1\n",
    "\n",
    "    #이미지 개수 10개 초과 시 반복문 탈출\n",
    "    if num > 10:\n",
    "        break"
   ]
  },
  {
   "cell_type": "code",
   "execution_count": null,
   "metadata": {},
   "outputs": [],
   "source": [
    "#찾은 이미지 개수 초기값 지정\n",
    "num = 1\n",
    "#이미지들마다 클릭하여 원본 이미지를 불러올 수 있도록 하는 반복문\n",
    "for image in images: \n",
    "    try:\n",
    "        #이미지 클릭\n",
    "        image.click()\n",
    "        #이미지 로딩 대기\n",
    "        time.sleep(2)\n",
    "        #이미지 url 지정\n",
    "        image_url = browser.find_element_by_xpath('//*[@id=\"Sva75c\"]/div/div/div[3]/div[2]/c-wiz/div/div[1]/div[1]/div[2]/div/a/img').get_attribute('src')\n",
    "        #자동화로 접속할 수 없는 경우 opener 함수로 접속할 수 있게 함수 생성\n",
    "        opener = urllib.request.build_opener()\n",
    "        #사용자 헤더 지정\n",
    "        opener.addheaders = [('User-Agent', 'Mozilla/5.0 (Windows NT 10.0; Win64; x64) AppleWebKit/537.36 (KHTML, like Gecko) Chrome/97.0.4692.71 Safari/537.36')]\n",
    "        #opener 함수로 이미지 접속\n",
    "        urllib.request.install_opener(opener)\n",
    "        #확장자와 위치를 설정해 해당 이미지를 다운로드\n",
    "        urllib.request.urlretrieve(image_url, '코카콜라' + str(num) + '.jpg')\n",
    "        #이미지 개수 1 증가\n",
    "        num += 1\n",
    "        #이미지 개수 10개 초과 시 반복문 탈출\n",
    "        if num > 10:\n",
    "            break\n",
    "    except:\n",
    "        pass"
   ]
  },
  {
   "cell_type": "code",
   "execution_count": null,
   "metadata": {},
   "outputs": [],
   "source": [
    "#드라이버 종료\n",
    "browser.close()"
   ]
  },
  {
   "cell_type": "code",
   "execution_count": null,
   "metadata": {
    "id": "poMIYvdDHAd8"
   },
   "outputs": [],
   "source": [
    "\n"
   ]
  },
  {
   "cell_type": "markdown",
   "metadata": {
    "id": "wtt0m07GHAd8"
   },
   "source": [
    "<b>google image download 활용</b><br>"
   ]
  },
  {
   "cell_type": "markdown",
   "metadata": {},
   "source": [
    "구글이미지다운로드 라이브러리 자체에 오류가 존재 -> 현재로써는 사용불가"
   ]
  },
  {
   "cell_type": "code",
   "execution_count": null,
   "metadata": {},
   "outputs": [],
   "source": [
    "#구글 사이트에서 이미지 다운로드 함수 불러오기\n",
    "from google_images_download import google_images_download\n",
    "\n",
    "#구글이미지다운로드 함수 호출\n",
    "response = google_images_download.googleimagesdownload()\n",
    "\n",
    "#이미지 다운받을 경로 지정\n",
    "dir = '/음료수이미지'\n",
    "\n",
    "#다운받을 이미지 이름, 개수, 경로 설정\n",
    "arguments = {'keywords' : '코카콜라, 칠성사이다', 'limit' : 20, 'print_urls' : False, 'output_directory' : dir}\n",
    "\n",
    "#이미지 다운로드\n",
    "paths = response.download(arguments)"
   ]
  },
  {
   "cell_type": "markdown",
   "metadata": {},
   "source": [
    "https://github.com/ultralytics/google-images-download<br>\n",
    "대신 glenn-jocher 분이 각색한 라이브러리 활용"
   ]
  },
  {
   "cell_type": "code",
   "execution_count": 33,
   "metadata": {},
   "outputs": [
    {
     "name": "stdout",
     "output_type": "stream",
     "text": [
      "Requirement already satisfied: tqdm in c:\\users\\endea\\anaconda3\\lib\\site-packages (4.62.3)\n",
      "Requirement already satisfied: colorama in c:\\users\\endea\\anaconda3\\lib\\site-packages (from tqdm) (0.4.4)\n"
     ]
    }
   ],
   "source": [
    "!pip install tqdm"
   ]
  },
  {
   "cell_type": "code",
   "execution_count": 5,
   "metadata": {
    "id": "7dhX1vhDHAd8"
   },
   "outputs": [
    {
     "name": "stdout",
     "output_type": "stream",
     "text": [
      "Searching for https://www.bing.com/images/search?q='코카콜라'\n",
      "Downloading images...\n",
      "1/10 http://image.auction.co.kr/itemimage/16/ae/82/16ae829901.jpg \n",
      "2/10 https://t1.daumcdn.net/cfile/tistory/2755F74858F041A31F Invalid or missing image format. Skipping...\n",
      "2/10 https://i.ytimg.com/vi/qT7tv6JpyeM/hqdefault.jpg \n",
      "3/10 https://t1.daumcdn.net/cfile/tistory/99E40F335A057EF428 Invalid or missing image format. Skipping...\n",
      "3/10 https://t1.daumcdn.net/cfile/tistory/2603A24B587BB0E60D Invalid or missing image format. Skipping...\n",
      "3/10 https://cdn.clien.net/web/api/file/F01/7964961/ca45e2d78ac11.jpg \n",
      "4/10 https://t1.daumcdn.net/cfile/tistory/111DE23A4EAFF0172F Invalid or missing image format. Skipping...\n",
      "4/10 https://t1.daumcdn.net/cfile/tistory/2432B34C53D2942808 Invalid or missing image format. Skipping...\n",
      "4/10 http://www.ccbk.co.kr/images/product/detail/product901.jpg \n",
      "Unfortunately all 5 could not be downloaded because some images were not downloadable. 4 is all we got for this search filter!\n",
      "Done with 5 errors in 16.6s. All images saved to C:\\Users\\admin1\\Desktop\\DSL\\22-1 활동\\220111_기초세션_crawling\\images\n",
      "\n"
     ]
    },
    {
     "name": "stderr",
     "output_type": "stream",
     "text": [
      "\n",
      "Downloading HTML...:   0%|          | 0/30 [00:00<?, ?it/s]\n",
      "Downloading HTML... 566668 elements:   3%|3         | 1/30 [00:00<00:07,  3.81it/s]\n",
      "Downloading HTML... 566681 elements:   7%|6         | 2/30 [00:00<00:09,  2.92it/s]\n",
      "Downloading HTML... 566681 elements:  10%|#         | 3/30 [00:00<00:08,  3.07it/s]\n",
      "Downloading HTML... 566796 elements:  13%|#3        | 4/30 [00:01<00:08,  2.93it/s]\n",
      "Downloading HTML... 566796 elements:  17%|#6        | 5/30 [00:01<00:07,  3.16it/s]\n",
      "Downloading HTML... 566796 elements:  20%|##        | 6/30 [00:01<00:07,  3.10it/s]\n",
      "Downloading HTML... 566796 elements:  23%|##3       | 7/30 [00:02<00:07,  3.11it/s]\n",
      "Downloading HTML... 566796 elements:  27%|##6       | 8/30 [00:02<00:06,  3.34it/s]\n",
      "Downloading HTML... 566796 elements:  30%|###       | 9/30 [00:02<00:05,  3.52it/s]\n",
      "Downloading HTML... 566796 elements:  33%|###3      | 10/30 [00:03<00:05,  3.68it/s]\n",
      "Downloading HTML... 566796 elements:  37%|###6      | 11/30 [00:03<00:05,  3.41it/s]\n",
      "Downloading HTML... 566796 elements:  40%|####      | 12/30 [00:03<00:05,  3.11it/s]\n",
      "Downloading HTML... 566796 elements:  43%|####3     | 13/30 [00:04<00:05,  2.91it/s]\n",
      "Downloading HTML... 566796 elements:  47%|####6     | 14/30 [00:04<00:05,  2.94it/s]\n",
      "Downloading HTML... 566796 elements:  50%|#####     | 15/30 [00:04<00:04,  3.21it/s]\n",
      "Downloading HTML... 566796 elements:  53%|#####3    | 16/30 [00:04<00:04,  3.37it/s]\n",
      "Downloading HTML... 566796 elements:  57%|#####6    | 17/30 [00:05<00:04,  3.07it/s]\n",
      "Downloading HTML... 566796 elements:  60%|######    | 18/30 [00:05<00:03,  3.00it/s]\n",
      "Downloading HTML... 566796 elements:  63%|######3   | 19/30 [00:05<00:03,  3.31it/s]\n",
      "Downloading HTML... 566796 elements:  67%|######6   | 20/30 [00:06<00:02,  3.57it/s]\n",
      "Downloading HTML... 566796 elements:  70%|#######   | 21/30 [00:06<00:02,  3.34it/s]\n",
      "Downloading HTML... 566796 elements:  73%|#######3  | 22/30 [00:06<00:02,  3.21it/s]\n",
      "Downloading HTML... 566796 elements:  77%|#######6  | 23/30 [00:07<00:02,  3.34it/s]\n",
      "Downloading HTML... 566796 elements:  80%|########  | 24/30 [00:07<00:01,  3.02it/s]\n",
      "Downloading HTML... 566796 elements:  83%|########3 | 25/30 [00:07<00:01,  2.86it/s]\n",
      "Downloading HTML... 566883 elements:  87%|########6 | 26/30 [00:08<00:01,  2.98it/s]\n",
      "Downloading HTML... 566883 elements:  90%|######### | 27/30 [00:08<00:00,  3.07it/s]\n",
      "Downloading HTML... 566883 elements:  93%|#########3| 28/30 [00:08<00:00,  3.27it/s]\n",
      "Downloading HTML... 566883 elements:  97%|#########6| 29/30 [00:09<00:00,  3.15it/s]\n",
      "Downloading HTML... 566883 elements: 100%|##########| 30/30 [00:09<00:00,  3.02it/s]\n",
      "Downloading HTML... 566883 elements: 100%|##########| 30/30 [00:09<00:00,  3.16it/s]\n"
     ]
    }
   ],
   "source": [
    "!python bing_scraper.py --search '코카콜라' -l 10 --download -cd CHROMEDRIVER"
   ]
  },
  {
   "cell_type": "code",
   "execution_count": null,
   "metadata": {},
   "outputs": [],
   "source": []
  },
  {
   "cell_type": "markdown",
   "metadata": {},
   "source": [
    "## 기초 세션 크롤링을 마치며"
   ]
  },
  {
   "cell_type": "markdown",
   "metadata": {
    "id": "aHZCwfxCHAd9"
   },
   "source": [
    "<ol>\n",
    "    <li>사용하기 편하도록 제작된 라이브러리 활용할 수도 있으나 기본적으로 원리는 파악</li>\n",
    "    <li>beautifulsoup과 selenium의 각 장점을 파악하고 상황 별로 활용</li>\n",
    "    <li>html 문서에서 내가 추출하고자 하는 element의 공통되고 독특한 특징을 잘 파악</li>\n",
    "    <li>내가 찾은 특징이 모든 경우에 맞진 않기에 중간에 끊기지 않도록 try: except: 구문 활용</li>\n",
    "</ol>\n",
    "\n"
   ]
  },
  {
   "cell_type": "code",
   "execution_count": null,
   "metadata": {},
   "outputs": [],
   "source": []
  },
  {
   "cell_type": "markdown",
   "metadata": {},
   "source": [
    "## 과제"
   ]
  },
  {
   "cell_type": "markdown",
   "metadata": {},
   "source": [
    "기본과제(필수) : <a href = 'https://www.saramin.co.kr/zf_user/jobs/list/domestic'>사람인의 채용정보</a> 페이지에서 추천 지역의 아래의 회사명, 제목을 40개 뽑아 데이터프레임으로 생성하세요. (beautifulsoup 활용)<br>\n",
    "심화과제(선택) : <a href = 'https://career.yonsei.ac.kr/'>커리어연세</a>의 취업정보 - 채용공고에 올라오는 회사명, 제목을 40개 뽑아 데이터프레임으로 생성하세요. (selenium 활용)<br>\n",
    "<b>단, 커리어연세 과제 제출 시 코드 실행 후 자신의 아이디, 비밀번호 작성한 notebook cell은 삭제해서 제출해주세요.</b>"
   ]
  },
  {
   "cell_type": "code",
   "execution_count": 34,
   "metadata": {},
   "outputs": [],
   "source": [
    "#정보요청 라이브러리 import\n",
    "import requests\n",
    "\n",
    "#크롤링 라이브러리 import\n",
    "from bs4 import BeautifulSoup "
   ]
  },
  {
   "cell_type": "code",
   "execution_count": 35,
   "metadata": {},
   "outputs": [],
   "source": [
    "#User-Agent 지정\n",
    "headers = {'Mozilla/5.0 (Windows NT 10.0; Win64; x64) AppleWebKit/537.36 (KHTML, like Gecko) Chrome/97.0.4692.71 Safari/537.36'}"
   ]
  },
  {
   "cell_type": "code",
   "execution_count": 42,
   "metadata": {},
   "outputs": [],
   "source": [
    "#크롤링 할 대상 url 지정\n",
    "url = 'https://www.saramin.co.kr/zf_user/jobs/list/domestic'"
   ]
  },
  {
   "cell_type": "code",
   "execution_count": 46,
   "metadata": {},
   "outputs": [],
   "source": [
    "#크롤링 대상 url 기반으로 정보 요청\n",
    "res = requests.get(url)\n",
    "\n",
    "#정상적으로 정보를 받은 경우 지속, 그렇지 않은 경우 중지\n",
    "res.raise_for_status()\n",
    "\n",
    "#html문서를 beautifulsoup의 lxml 형태로 변환\n",
    "soup = BeautifulSoup(res.text, 'lxml') "
   ]
  },
  {
   "cell_type": "code",
   "execution_count": 199,
   "metadata": {},
   "outputs": [
    {
     "data": {
      "text/plain": [
       "[<a class=\"str_tit\" href=\"/zf_user/jobs/relay/view?view_type=list&amp;rec_idx=42071412\" onclick=\"s_trackApply(this, 'area_recruit', 'general');\" target=\"_blank\" title=\"주식회사 크날\"><span>주식회사 크날</span></a>,\n",
       " <a class=\"str_tit\" href=\"/zf_user/jobs/relay/view?view_type=list&amp;rec_idx=42071412\" id=\"rec_link_42071412\" onclick=\"s_trackApply(this, 'area_recruit', 'general');\" onmousedown=\"Saramin.clickAds(42071412, 'ads_category=section_favor_003')\" target=\"_blank\" title=\"[2030 스타트업 크날] 성장하고픈 '시각디자이너' 모십니다\"><span>[2030 스타트업 크날] 성장하고픈 '시각디자이너' 모십니다</span></a>,\n",
       " <a class=\"str_tit\" href=\"/zf_user/jobs/relay/view?view_type=list&amp;rec_idx=42022151\" onclick=\"s_trackApply(this, 'area_recruit', 'general');\" target=\"_blank\" title=\"누베스(주)\"><span>누베스(주)</span></a>,\n",
       " <a class=\"str_tit\" href=\"/zf_user/jobs/relay/view?view_type=list&amp;rec_idx=42022151\" id=\"rec_link_42022151\" onclick=\"s_trackApply(this, 'area_recruit', 'general');\" onmousedown=\"Saramin.clickAds(42022151, 'ads_category=section_favor_003')\" target=\"_blank\" title=\"누베스 각 부문(재단/단순조립) 담당직원 모집\"><span>누베스 각 부문(재단/단순조립) 담당직원 모집</span></a>,\n",
       " <a class=\"str_tit\" href=\"/zf_user/jobs/relay/view?view_type=list&amp;rec_idx=42006178\" onclick=\"s_trackApply(this, 'area_recruit', 'general');\" target=\"_blank\" title=\"(주)헥사이노힐\"><span>(주)헥사이노힐</span></a>,\n",
       " <a class=\"str_tit\" href=\"/zf_user/jobs/relay/view?view_type=list&amp;rec_idx=42006178\" id=\"rec_link_42006178\" onclick=\"s_trackApply(this, 'area_recruit', 'general');\" onmousedown=\"Saramin.clickAds(42006178, 'ads_category=section_favor_003')\" target=\"_blank\" title=\"(주)헥사이노힐 마케팅 담당자 및 사무보조 채용합니다\"><span>(주)헥사이노힐 마케팅 담당자 및 사무보조 채용합니다</span></a>,\n",
       " <a class=\"str_tit\" href=\"/zf_user/jobs/relay/view?view_type=list&amp;rec_idx=41918862\" onclick=\"s_trackApply(this, 'area_recruit', 'general');\" target=\"_blank\" title=\"(주)저스템\"><span>(주)저스템</span></a>,\n",
       " <a class=\"str_tit\" href=\"/zf_user/jobs/relay/view?view_type=list&amp;rec_idx=41918862\" id=\"rec_link_41918862\" onclick=\"s_trackApply(this, 'area_recruit', 'general');\" onmousedown=\"Saramin.clickAds(41918862, 'ads_category=section_favor_003')\" target=\"_blank\" title=\"반도체 장비 CS 엔지니어 신규 정규직 채용\"><span>반도체 장비 CS 엔지니어 신규 정규직 채용</span></a>,\n",
       " <a class=\"str_tit\" href=\"/zf_user/jobs/relay/view?view_type=list&amp;rec_idx=42043283\" onclick=\"s_trackApply(this, 'area_recruit', 'general');\" target=\"_blank\" title=\"티엠로직스(세제몰)\"><span>티엠로직스(세제몰)</span></a>,\n",
       " <a class=\"str_tit\" href=\"/zf_user/jobs/relay/view?view_type=list&amp;rec_idx=42043283\" id=\"rec_link_42043283\" onclick=\"s_trackApply(this, 'area_recruit', 'general');\" onmousedown=\"Saramin.clickAds(42043283, 'ads_category=section_favor_003')\" target=\"_blank\" title=\"[5시 칼퇴근] 생산지원/포장업무 신입사원 모집\"><span>[5시 칼퇴근] 생산지원/포장업무 신입사원 모집</span></a>,\n",
       " <a class=\"str_tit\" href=\"/zf_user/jobs/relay/view?view_type=list&amp;rec_idx=42057406\" onclick=\"s_trackApply(this, 'area_recruit', 'general');\" target=\"_blank\" title=\"(주)에이치투엘테크놀로지\"><span>(주)에이치투엘테크놀로지</span></a>,\n",
       " <a class=\"str_tit\" href=\"/zf_user/jobs/relay/view?view_type=list&amp;rec_idx=42057406\" id=\"rec_link_42057406\" onclick=\"s_trackApply(this, 'area_recruit', 'general');\" onmousedown=\"Saramin.clickAds(42057406, 'ads_category=section_favor_003')\" target=\"_blank\" title=\"경영지원 / 회계 / 인사총무 경력직 모집\"><span>경영지원 / 회계 / 인사총무 경력직 모집</span></a>,\n",
       " <a class=\"str_tit\" href=\"/zf_user/jobs/relay/view?view_type=list&amp;rec_idx=42060603\" onclick=\"s_trackApply(this, 'area_recruit', 'general');\" target=\"_blank\" title=\"미토영어학원\"><span>미토영어학원</span></a>,\n",
       " <a class=\"str_tit\" href=\"/zf_user/jobs/relay/view?view_type=list&amp;rec_idx=42060603\" id=\"rec_link_42060603\" onclick=\"s_trackApply(this, 'area_recruit', 'general');\" onmousedown=\"Saramin.clickAds(42060603, 'ads_category=section_favor_003')\" target=\"_blank\" title=\"중등~고1 전임 강사님 3800이상, 중등부 파트 강사님\"><span>중등~고1 전임 강사님 3800이상, 중등부 파트 강사님</span></a>,\n",
       " <a class=\"str_tit\" href=\"/zf_user/jobs/relay/view?view_type=list&amp;rec_idx=42055456\" onclick=\"s_trackApply(this, 'area_recruit', 'general');\" target=\"_blank\" title=\"(주)젠트로피\"><span>(주)젠트로피</span></a>,\n",
       " <a class=\"str_tit\" href=\"/zf_user/jobs/relay/view?view_type=list&amp;rec_idx=42055456\" id=\"rec_link_42055456\" onclick=\"s_trackApply(this, 'area_recruit', 'general');\" onmousedown=\"Saramin.clickAds(42055456, 'ads_category=section_favor_003')\" target=\"_blank\" title=\"IT직군 대졸 신입 및 경력 모집\"><span>IT직군 대졸 신입 및 경력 모집</span></a>,\n",
       " <a class=\"str_tit\" href=\"/zf_user/jobs/relay/view?view_type=list&amp;rec_idx=42066045\" onclick=\"s_trackApply(this, 'area_recruit', 'general');\" target=\"_blank\" title=\"(주)투와이드컴퍼니\"><span>(주)투와이드컴퍼니</span></a>,\n",
       " <a class=\"str_tit\" href=\"/zf_user/jobs/relay/view?view_type=list&amp;rec_idx=42066045\" id=\"rec_link_42066045\" onclick=\"s_trackApply(this, 'area_recruit', 'general');\" onmousedown=\"Saramin.clickAds(42066045, 'ads_category=section_favor_003')\" target=\"_blank\" title=\"2022년 (주)투와이드컴퍼니 경영전략실 직원 채용 공고\"><span>2022년 (주)투와이드컴퍼니 경영전략실 직원 채용 공고</span></a>,\n",
       " <a class=\"str_tit\" href=\"/zf_user/jobs/relay/view?view_type=list&amp;rec_idx=42062434\" onclick=\"s_trackApply(this, 'area_recruit', 'general');\" target=\"_blank\" title=\"(주)헬로우미스터리\"><span>(주)헬로우미스터리</span></a>,\n",
       " <a class=\"str_tit\" href=\"/zf_user/jobs/relay/view?view_type=list&amp;rec_idx=42062434\" id=\"rec_link_42062434\" onclick=\"s_trackApply(this, 'area_recruit', 'general');\" onmousedown=\"Saramin.clickAds(42062434, 'ads_category=section_favor_003')\" target=\"_blank\" title=\"[셀프미] 재고관리/CS관리/오픈마켓 외 정규직 채용(경력무관)\"><span>[셀프미] 재고관리/CS관리/오픈마켓 외 정규직 채용(경력무관)</span></a>,\n",
       " <a class=\"str_tit\" href=\"/zf_user/jobs/relay/view?view_type=list&amp;rec_idx=42068207\" onclick=\"s_trackApply(this, 'area_recruit', 'general');\" target=\"_blank\" title=\"(주)조은푸드텍\"><span>(주)조은푸드텍</span></a>,\n",
       " <a class=\"str_tit\" href=\"/zf_user/jobs/relay/view?view_type=list&amp;rec_idx=42068207\" id=\"rec_link_42068207\" onclick=\"s_trackApply(this, 'area_recruit', 'general');\" onmousedown=\"Saramin.clickAds(42068207, 'ads_category=section_favor_003')\" target=\"_blank\" title=\"(주)조은푸드텍 2022년 서울 조향연구실 식품조향연구원 모집\"><span>(주)조은푸드텍 2022년 서울 조향연구실 식품조향연구원 모집</span></a>,\n",
       " <a class=\"str_tit\" href=\"/zf_user/jobs/relay/view?view_type=list&amp;rec_idx=42020833\" onclick=\"s_trackApply(this, 'area_recruit', 'general');\" target=\"_blank\" title=\"거한개발(주)\"><span>거한개발(주)</span></a>,\n",
       " <a class=\"str_tit\" href=\"/zf_user/jobs/relay/view?view_type=list&amp;rec_idx=42020833\" id=\"rec_link_42020833\" onclick=\"s_trackApply(this, 'area_recruit', 'general');\" onmousedown=\"Saramin.clickAds(42020833, 'ads_category=section_favor_003')\" target=\"_blank\" title=\"2022년 상반기 경리, 회계, 인사, 더존 경력 모집\"><span>2022년 상반기 경리, 회계, 인사, 더존 경력 모집</span></a>,\n",
       " <a class=\"str_tit\" href=\"/zf_user/jobs/relay/view?view_type=list&amp;rec_idx=42051049\" onclick=\"s_trackApply(this, 'area_recruit', 'general');\" target=\"_blank\" title=\"(주)바로인터랙티브\"><span>(주)바로인터랙티브</span></a>,\n",
       " <a class=\"str_tit\" href=\"/zf_user/jobs/relay/view?view_type=list&amp;rec_idx=42051049\" id=\"rec_link_42051049\" onclick=\"s_trackApply(this, 'area_recruit', 'general');\" onmousedown=\"Saramin.clickAds(42051049, 'ads_category=section_favor_003')\" target=\"_blank\" title=\"[인센 업계최고] 22년 1차 온라인 마케팅 영업부문 공개채용\"><span>[인센 업계최고] 22년 1차 온라인 마케팅 영업부문 공개채용</span></a>,\n",
       " <a class=\"str_tit\" href=\"/zf_user/jobs/relay/view?view_type=list&amp;rec_idx=42054794\" onclick=\"s_trackApply(this, 'area_recruit', 'general');\" target=\"_blank\" title=\"(주) 송도국제에이프릴학원\"><span>(주) 송도국제에이프릴학원</span></a>,\n",
       " <a class=\"str_tit\" href=\"/zf_user/jobs/relay/view?view_type=list&amp;rec_idx=42054794\" id=\"rec_link_42054794\" onclick=\"s_trackApply(this, 'area_recruit', 'general');\" onmousedown=\"Saramin.clickAds(42054794, 'ads_category=section_favor_003')\" target=\"_blank\" title=\"송도 청담 April어학원 영어강사, 상담교사, 교수부장 모집\"><span>송도 청담 April어학원 영어강사, 상담교사, 교수부장 모집</span></a>,\n",
       " <a class=\"str_tit\" href=\"/zf_user/jobs/relay/view?view_type=list&amp;rec_idx=42075758\" onclick=\"s_trackApply(this, 'area_recruit', 'general');\" target=\"_blank\" title=\"진건종합건설(주)\"><span>진건종합건설(주)</span></a>,\n",
       " <a class=\"str_tit\" href=\"/zf_user/jobs/relay/view?view_type=list&amp;rec_idx=42075758\" id=\"rec_link_42075758\" onclick=\"s_trackApply(this, 'area_recruit', 'general');\" onmousedown=\"Saramin.clickAds(42075758, 'ads_category=section_favor_003')\" target=\"_blank\" title=\"건설현장시공 / 본사공무 신입및 경력직 채용공고\"><span>건설현장시공 / 본사공무 신입및 경력직 채용공고</span></a>,\n",
       " <a class=\"str_tit\" href=\"/zf_user/jobs/relay/view?view_type=list&amp;rec_idx=42065296\" onclick=\"s_trackApply(this, 'area_recruit', 'general');\" target=\"_blank\" title=\"(주)주성기술산업\"><span>(주)주성기술산업</span></a>,\n",
       " <a class=\"str_tit\" href=\"/zf_user/jobs/relay/view?view_type=list&amp;rec_idx=42065296\" id=\"rec_link_42065296\" onclick=\"s_trackApply(this, 'area_recruit', 'general');\" onmousedown=\"Saramin.clickAds(42065296, 'ads_category=section_favor_003')\" target=\"_blank\" title=\"[정규직사원모집] 선박 보냉제 생산사원 인재를 모집합니다\"><span>[정규직사원모집] 선박 보냉제 생산사원 인재를 모집합니다</span></a>,\n",
       " <a class=\"str_tit\" href=\"/zf_user/jobs/relay/view?view_type=list&amp;rec_idx=42000388\" onclick=\"s_trackApply(this, 'area_recruit', 'general');\" target=\"_blank\" title=\"(주)부국산업개발\"><span>(주)부국산업개발</span></a>,\n",
       " <a class=\"str_tit\" href=\"/zf_user/jobs/relay/view?view_type=list&amp;rec_idx=42000388\" id=\"rec_link_42000388\" onclick=\"s_trackApply(this, 'area_recruit', 'general');\" onmousedown=\"Saramin.clickAds(42000388, 'ads_category=section_favor_003')\" target=\"_blank\" title=\"[급구]대구/영천-현대기아1차협력/자동차부품 생산직\"><span>[급구]대구/영천-현대기아1차협력/자동차부품 생산직</span></a>,\n",
       " <a class=\"str_tit\" href=\"/zf_user/jobs/relay/view?view_type=list&amp;rec_idx=42030539\" onclick=\"s_trackApply(this, 'area_recruit', 'general');\" target=\"_blank\" title=\"(주)에스엘솔루션\"><span>(주)에스엘솔루션</span></a>,\n",
       " <a class=\"str_tit\" href=\"/zf_user/jobs/relay/view?view_type=list&amp;rec_idx=42030539\" id=\"rec_link_42030539\" onclick=\"s_trackApply(this, 'area_recruit', 'general');\" onmousedown=\"Saramin.clickAds(42030539, 'ads_category=section_favor_003')\" target=\"_blank\" title=\"공주시 광학필름 생산포장검사/납품기사/정규직전환/사외기숙사\"><span>공주시 광학필름 생산포장검사/납품기사/정규직전환/사외기숙사</span></a>,\n",
       " <a class=\"str_tit\" href=\"/zf_user/jobs/relay/view?view_type=list&amp;rec_idx=42078437\" onclick=\"s_trackApply(this, 'area_recruit', 'general');\" target=\"_blank\" title=\"만랩(10000lab)\"><span>만랩(10000lab)</span></a>,\n",
       " <a class=\"str_tit\" href=\"/zf_user/jobs/relay/view?view_type=list&amp;rec_idx=42078437\" id=\"rec_link_42078437\" onclick=\"s_trackApply(this, 'area_recruit', 'general');\" onmousedown=\"Saramin.clickAds(42078437, 'ads_category=section_favor_003')\" target=\"_blank\" title=\"온라인(오픈마켓/온라인마켓등)경리회계 / 마케팅사무보조 채용\"><span>온라인(오픈마켓/온라인마켓등)경리회계 / 마케팅사무보조 채용</span></a>,\n",
       " <a class=\"str_tit\" href=\"/zf_user/jobs/relay/view?view_type=list&amp;rec_idx=42043432\" onclick=\"s_trackApply(this, 'area_recruit', 'general');\" target=\"_blank\" title=\"웨딩세이\"><span>웨딩세이</span></a>,\n",
       " <a class=\"str_tit\" href=\"/zf_user/jobs/relay/view?view_type=list&amp;rec_idx=42043432\" id=\"rec_link_42043432\" onclick=\"s_trackApply(this, 'area_recruit', 'general');\" onmousedown=\"Saramin.clickAds(42043432, 'ads_category=section_favor_003')\" target=\"_blank\" title=\"-2022 웨딩세이 웨딩플래너 정직원모집-\"><span>-2022 웨딩세이 웨딩플래너 정직원모집-</span></a>,\n",
       " <a class=\"str_tit\" href=\"/zf_user/jobs/relay/view?view_type=list&amp;rec_idx=42068201\" onclick=\"s_trackApply(this, 'area_recruit', 'general');\" target=\"_blank\" title=\"남양유업(주)천안신공장\"><span>남양유업(주)천안신공장</span></a>,\n",
       " <a class=\"str_tit\" href=\"/zf_user/jobs/relay/view?view_type=list&amp;rec_idx=42068201\" id=\"rec_link_42068201\" onclick=\"s_trackApply(this, 'area_recruit', 'general');\" onmousedown=\"Saramin.clickAds(42068201, 'ads_category=section_favor_003')\" target=\"_blank\" title=\"남양유업 천안공장 생산/물류직 00명 모집\"><span>남양유업 천안공장 생산/물류직 00명 모집</span></a>,\n",
       " <a class=\"str_tit\" href=\"/zf_user/jobs/relay/view?view_type=list&amp;rec_idx=42058324\" onclick=\"s_trackApply(this, 'area_recruit', 'general');\" target=\"_blank\" title=\"(주)에코비즈넷\"><span>(주)에코비즈넷</span></a>,\n",
       " <a class=\"str_tit\" href=\"/zf_user/jobs/relay/view?view_type=list&amp;rec_idx=42058324\" id=\"rec_link_42058324\" onclick=\"s_trackApply(this, 'area_recruit', 'general');\" onmousedown=\"Saramin.clickAds(42058324, 'ads_category=section_favor_003')\" target=\"_blank\" title=\"국.내외 마케팅팀 채용(경력무관)\"><span>국.내외 마케팅팀 채용(경력무관)</span></a>,\n",
       " <a class=\"str_tit\" href=\"/zf_user/jobs/relay/view?view_type=list&amp;rec_idx=41839399\" onclick=\"s_trackApply(this, 'area_recruit', 'general');\" target=\"_blank\" title=\"(주)종합건축사사무소극동건축\"><span>(주)종합건축사사무소극동건축</span></a>,\n",
       " <a class=\"str_tit\" href=\"/zf_user/jobs/relay/view?view_type=list&amp;rec_idx=41839399\" id=\"rec_link_41839399\" onclick=\"s_trackApply(this, 'area_recruit', 'general');\" onmousedown=\"Saramin.clickAds(41839399, 'ads_category=section_favor_003')\" target=\"_blank\" title=\"건축 실시설계 정규직 채용\"><span>건축 실시설계 정규직 채용</span></a>,\n",
       " <a class=\"str_tit\" href=\"/zf_user/jobs/relay/view?view_type=list&amp;rec_idx=42023208\" onclick=\"s_trackApply(this, 'area_recruit', 'general');\" target=\"_blank\" title=\"이아이이 EiE 고려대어학원 광주오포캠퍼스\"><span>이아이이 EiE 고려대어학원 광주오포캠퍼스</span></a>,\n",
       " <a class=\"str_tit\" href=\"/zf_user/jobs/relay/view?view_type=list&amp;rec_idx=42023208\" id=\"rec_link_42023208\" onclick=\"s_trackApply(this, 'area_recruit', 'general');\" onmousedown=\"Saramin.clickAds(42023208, 'ads_category=section_favor_003')\" target=\"_blank\" title=\"사무 보조 경력무관 (경력직 우대) 모집 공고(정규직/계약직)\"><span>사무 보조 경력무관 (경력직 우대) 모집 공고(정규직/계약직)</span></a>,\n",
       " <a class=\"str_tit\" href=\"/zf_user/jobs/relay/view?view_type=list&amp;rec_idx=42045966\" onclick=\"s_trackApply(this, 'area_recruit', 'general');\" target=\"_blank\" title=\"(주)디엠통상\"><span>(주)디엠통상</span></a>,\n",
       " <a class=\"str_tit\" href=\"/zf_user/jobs/relay/view?view_type=list&amp;rec_idx=42045966\" id=\"rec_link_42045966\" onclick=\"s_trackApply(this, 'area_recruit', 'general');\" onmousedown=\"Saramin.clickAds(42045966, 'ads_category=section_favor_003')\" target=\"_blank\" title=\"판매·매장관리(매장판매&amp;amp;판매관리外 2개 부문) 채용 공고\"><span>판매·매장관리(매장판매&amp;판매관리外 2개 부문) 채용 공고</span></a>,\n",
       " <a class=\"str_tit\" href=\"/zf_user/jobs/relay/view?view_type=list&amp;rec_idx=41830647\" onclick=\"s_trackApply(this, 'area_recruit', 'general');\" target=\"_blank\" title=\"(주)명지메디칼\"><span>(주)명지메디칼</span></a>,\n",
       " <a class=\"str_tit\" href=\"/zf_user/jobs/relay/view?view_type=list&amp;rec_idx=41830647\" id=\"rec_link_41830647\" onclick=\"s_trackApply(this, 'area_recruit', 'general');\" onmousedown=\"Saramin.clickAds(41830647, 'ads_category=section_favor_003')\" target=\"_blank\" title=\"의료기기 영업사원(종합병원) 모집 신입, 경력무관\"><span>의료기기 영업사원(종합병원) 모집 신입, 경력무관</span></a>,\n",
       " <a class=\"str_tit\" href=\"/zf_user/jobs/relay/view?view_type=list&amp;rec_idx=42072933\" onclick=\"s_trackApply(this, 'area_recruit', 'general');\" target=\"_blank\" title=\"주식회사 한빛에프엘\"><span>주식회사 한빛에프엘</span></a>,\n",
       " <a class=\"str_tit\" href=\"/zf_user/jobs/relay/view?view_type=list&amp;rec_idx=42072933\" id=\"rec_link_42072933\" onclick=\"s_trackApply(this, 'area_recruit', 'general');\" onmousedown=\"Saramin.clickAds(42072933, 'ads_category=section_favor_003')\" target=\"_blank\" title=\"Hanvit FL 한빛에프엘-물류팀 모집(창고 업무)\"><span>Hanvit FL 한빛에프엘-물류팀 모집(창고 업무)</span></a>,\n",
       " <a class=\"str_tit\" href=\"/zf_user/jobs/relay/view?view_type=list&amp;rec_idx=42030470\" onclick=\"s_trackApply(this, 'area_recruit', 'general');\" target=\"_blank\" title=\"(주)구름연구소\"><span>(주)구름연구소</span></a>,\n",
       " <a class=\"str_tit\" href=\"/zf_user/jobs/relay/view?view_type=list&amp;rec_idx=42030470\" id=\"rec_link_42030470\" onclick=\"s_trackApply(this, 'area_recruit', 'general');\" onmousedown=\"Saramin.clickAds(42030470, 'ads_category=section_favor_003')\" target=\"_blank\" title=\"구름연구소 컨설턴트 채용(ICT/정책/경영/AI)(신입,경력)\"><span>구름연구소 컨설턴트 채용(ICT/정책/경영/AI)(신입,경력)</span></a>,\n",
       " <a class=\"str_tit\" href=\"/zf_user/jobs/relay/view?view_type=list&amp;rec_idx=42042736\" onclick=\"s_trackApply(this, 'area_recruit', 'general');\" target=\"_blank\" title=\"진앤리 법률사무소\"><span>진앤리 법률사무소</span></a>,\n",
       " <a class=\"str_tit\" href=\"/zf_user/jobs/relay/view?view_type=list&amp;rec_idx=42042736\" id=\"rec_link_42042736\" onclick=\"s_trackApply(this, 'area_recruit', 'general');\" onmousedown=\"Saramin.clickAds(42042736, 'ads_category=section_favor_003')\" target=\"_blank\" title=\"[진·리 법률사무소] 비서&amp;amp;사무직원 단기 아르바이트 채용\"><span>[진·리 법률사무소] 비서&amp;사무직원 단기 아르바이트 채용</span></a>,\n",
       " <a class=\"str_tit\" href=\"/zf_user/jobs/relay/view?view_type=list&amp;rec_idx=41898614\" onclick=\"s_trackApply(this, 'area_recruit', 'general');\" target=\"_blank\" title=\"(주)나비드\"><span>(주)나비드</span></a>,\n",
       " <a class=\"str_tit\" href=\"/zf_user/jobs/relay/view?view_type=list&amp;rec_idx=41898614\" id=\"rec_link_41898614\" onclick=\"s_trackApply(this, 'area_recruit', 'general');\" onmousedown=\"Saramin.clickAds(41898614, 'ads_category=section_favor_003')\" target=\"_blank\" title=\"[나비드라텍스] 온라인팀장/온라인MD 경력 채용(정규직)\"><span>[나비드라텍스] 온라인팀장/온라인MD 경력 채용(정규직)</span></a>,\n",
       " <a class=\"str_tit\" href=\"/zf_user/jobs/relay/view?view_type=list&amp;rec_idx=42002287\" onclick=\"s_trackApply(this, 'area_recruit', 'general');\" target=\"_blank\" title=\"주식회사 위클래식\"><span>주식회사 위클래식</span></a>,\n",
       " <a class=\"str_tit\" href=\"/zf_user/jobs/relay/view?view_type=list&amp;rec_idx=42002287\" id=\"rec_link_42002287\" onclick=\"s_trackApply(this, 'area_recruit', 'general');\" onmousedown=\"Saramin.clickAds(42002287, 'ads_category=section_favor_003')\" target=\"_blank\" title=\"위클래식 마케팅, 디자인, 강의 기획자 신입 및 경력\"><span>위클래식 마케팅, 디자인, 강의 기획자 신입 및 경력</span></a>,\n",
       " <a class=\"str_tit\" href=\"/zf_user/jobs/relay/view?view_type=list&amp;rec_idx=42092172\" onclick=\"s_trackApply(this, 'area_recruit', 'general');\" target=\"_blank\" title=\"(주)바른인사컨설팅\"><span>(주)바른인사컨설팅</span></a>,\n",
       " <a class=\"str_tit\" href=\"/zf_user/jobs/relay/view?view_type=list&amp;rec_idx=42092172\" id=\"rec_link_42092172\" onclick=\"s_trackApply(this, 'area_recruit', 'general');\" onmousedown=\"Saramin.clickAds(42092172, 'ads_category=section_favor_003')\" target=\"_blank\" title=\"(신입/경력) 2022년 상반기 채용공고\"><span>(신입/경력) 2022년 상반기 채용공고</span></a>,\n",
       " <a class=\"str_tit\" href=\"/zf_user/jobs/relay/view?view_type=list&amp;rec_idx=42055131\" onclick=\"s_trackApply(this, 'area_recruit', 'general');\" target=\"_blank\" title=\"(주)두크\"><span>(주)두크</span></a>,\n",
       " <a class=\"str_tit\" href=\"/zf_user/jobs/relay/view?view_type=list&amp;rec_idx=42055131\" id=\"rec_link_42055131\" onclick=\"s_trackApply(this, 'area_recruit', 'general');\" onmousedown=\"Saramin.clickAds(42055131, 'ads_category=section_favor_003')\" target=\"_blank\" title=\"대졸신입사원 공개채용[영업,생산,품질,구매관리 각부문]\"><span>대졸신입사원 공개채용[영업,생산,품질,구매관리 각부문]</span></a>,\n",
       " <a class=\"str_tit\" href=\"/zf_user/jobs/relay/view?view_type=list&amp;rec_idx=41969858\" onclick=\"s_trackApply(this, 'area_recruit', 'general');\" target=\"_blank\" title=\"(주)라온로드\"><span>(주)라온로드</span></a>,\n",
       " <a class=\"str_tit\" href=\"/zf_user/jobs/relay/view?view_type=list&amp;rec_idx=41969858\" id=\"rec_link_41969858\" onclick=\"s_trackApply(this, 'area_recruit', 'general');\" onmousedown=\"Saramin.clickAds(41969858, 'ads_category=section_favor_003')\" target=\"_blank\" title=\"IT개발·데이터 정규직/계약직 채용 - 각 분야별\"><span>IT개발·데이터 정규직/계약직 채용 - 각 분야별</span></a>,\n",
       " <a class=\"str_tit\" href=\"/zf_user/jobs/relay/view?view_type=list&amp;rec_idx=42052679\" onclick=\"s_trackApply(this, 'area_recruit', 'general');\" target=\"_blank\" title=\"건강한사람들\"><span>건강한사람들</span></a>,\n",
       " <a class=\"str_tit\" href=\"/zf_user/jobs/relay/view?view_type=list&amp;rec_idx=42052679\" id=\"rec_link_42052679\" onclick=\"s_trackApply(this, 'area_recruit', 'general');\" onmousedown=\"Saramin.clickAds(42052679, 'ads_category=section_favor_003')\" target=\"_blank\" title=\"[네이센스바이오] 건강식품 온라인 기획팀 신입/경력직 채용\"><span>[네이센스바이오] 건강식품 온라인 기획팀 신입/경력직 채용</span></a>,\n",
       " <a class=\"str_tit\" href=\"/zf_user/jobs/relay/view?view_type=list&amp;rec_idx=41938320\" onclick=\"s_trackApply(this, 'area_recruit', 'general');\" target=\"_blank\" title=\"한샘인테리어부천대리점\"><span>한샘인테리어부천대리점</span></a>,\n",
       " <a class=\"str_tit\" href=\"/zf_user/jobs/relay/view?view_type=list&amp;rec_idx=41938320\" id=\"rec_link_41938320\" onclick=\"s_trackApply(this, 'area_recruit', 'general');\" onmousedown=\"Saramin.clickAds(41938320, 'ads_category=section_favor_003')\" target=\"_blank\" title=\"한샘 고양스타필드점 매니저 채용 영업 고객관리 판매관리\"><span>한샘 고양스타필드점 매니저 채용 영업 고객관리 판매관리</span></a>,\n",
       " <a class=\"str_tit\" href=\"/zf_user/jobs/relay/view?view_type=list&amp;rec_idx=42102552\" onclick=\"s_trackApply(this, 'area_recruit', 'general');\" target=\"_blank\" title=\"(주)스마트큐브\"><span>(주)스마트큐브</span></a>,\n",
       " <a class=\"str_tit\" href=\"/zf_user/jobs/relay/view?view_type=list&amp;rec_idx=42102552\" id=\"rec_link_42102552\" onclick=\"s_trackApply(this, 'area_recruit', 'general');\" onmousedown=\"Saramin.clickAds(42102552, 'ads_category=section_favor_003')\" target=\"_blank\" title=\"기술연구소 정규직 채용\"><span>기술연구소 정규직 채용</span></a>,\n",
       " <a class=\"str_tit\" href=\"/zf_user/jobs/relay/view?view_type=list&amp;rec_idx=42030170\" onclick=\"s_trackApply(this, 'area_recruit', 'general');\" target=\"_blank\" title=\"(주)트라코월드\"><span>(주)트라코월드</span></a>,\n",
       " <a class=\"str_tit\" href=\"/zf_user/jobs/relay/view?view_type=list&amp;rec_idx=42030170\" id=\"rec_link_42030170\" onclick=\"s_trackApply(this, 'area_recruit', 'general');\" onmousedown=\"Saramin.clickAds(42030170, 'ads_category=section_favor_003')\" target=\"_blank\" title=\"기획·전략, 영업·판매·무역부문 팀장 모집\"><span>기획·전략, 영업·판매·무역부문 팀장 모집</span></a>,\n",
       " <a class=\"str_tit\" href=\"/zf_user/jobs/relay/view?view_type=list&amp;rec_idx=42055333\" onclick=\"s_trackApply(this, 'area_recruit', 'general');\" target=\"_blank\" title=\"(주)시너지밸류제2호\"><span>(주)시너지밸류제2호</span></a>,\n",
       " <a class=\"str_tit\" href=\"/zf_user/jobs/relay/view?view_type=list&amp;rec_idx=42055333\" id=\"rec_link_42055333\" onclick=\"s_trackApply(this, 'area_recruit', 'general');\" onmousedown=\"Saramin.clickAds(42055333, 'ads_category=section_favor_003')\" target=\"_blank\" title=\"주말 및 공휴일 수행기사 프리랜서/파트  채용 공고\"><span>주말 및 공휴일 수행기사 프리랜서/파트  채용 공고</span></a>,\n",
       " <a class=\"str_tit\" href=\"/zf_user/jobs/relay/view?view_type=list&amp;rec_idx=42053783\" onclick=\"s_trackApply(this, 'area_recruit', 'general');\" target=\"_blank\" title=\"주식회사 코리아교육그룹\"><span>주식회사 코리아교육그룹</span></a>,\n",
       " <a class=\"str_tit\" href=\"/zf_user/jobs/relay/view?view_type=list&amp;rec_idx=42053783\" id=\"rec_link_42053783\" onclick=\"s_trackApply(this, 'area_recruit', 'general');\" onmousedown=\"Saramin.clickAds(42053783, 'ads_category=section_favor_003')\" target=\"_blank\" title=\"[코리아교육그룹] 본사 마케팅본부(신입~3년차) 채용\"><span>[코리아교육그룹] 본사 마케팅본부(신입~3년차) 채용</span></a>]"
      ]
     },
     "execution_count": 199,
     "metadata": {},
     "output_type": "execute_result"
    }
   ],
   "source": [
    "a2 = soup.find_all('a', attrs = {'class' : 'str_tit','target' : '_blank'},limit = 80)\n",
    "a2"
   ]
  },
  {
   "cell_type": "code",
   "execution_count": 209,
   "metadata": {},
   "outputs": [
    {
     "name": "stdout",
     "output_type": "stream",
     "text": [
      "주식회사 크날\n",
      "[2030 스타트업 크날] 성장하고픈 '시각디자이너' 모십니다\n",
      "누베스(주)\n",
      "누베스 각 부문(재단/단순조립) 담당직원 모집\n",
      "(주)헥사이노힐\n",
      "(주)헥사이노힐 마케팅 담당자 및 사무보조 채용합니다\n",
      "(주)저스템\n",
      "반도체 장비 CS 엔지니어 신규 정규직 채용\n",
      "티엠로직스(세제몰)\n",
      "[5시 칼퇴근] 생산지원/포장업무 신입사원 모집\n",
      "(주)에이치투엘테크놀로지\n",
      "경영지원 / 회계 / 인사총무 경력직 모집\n",
      "미토영어학원\n",
      "중등~고1 전임 강사님 3800이상, 중등부 파트 강사님\n",
      "(주)젠트로피\n",
      "IT직군 대졸 신입 및 경력 모집\n",
      "(주)투와이드컴퍼니\n",
      "2022년 (주)투와이드컴퍼니 경영전략실 직원 채용 공고\n",
      "(주)헬로우미스터리\n",
      "[셀프미] 재고관리/CS관리/오픈마켓 외 정규직 채용(경력무관)\n",
      "(주)조은푸드텍\n",
      "(주)조은푸드텍 2022년 서울 조향연구실 식품조향연구원 모집\n",
      "거한개발(주)\n",
      "2022년 상반기 경리, 회계, 인사, 더존 경력 모집\n",
      "(주)바로인터랙티브\n",
      "[인센 업계최고] 22년 1차 온라인 마케팅 영업부문 공개채용\n",
      "(주) 송도국제에이프릴학원\n",
      "송도 청담 April어학원 영어강사, 상담교사, 교수부장 모집\n",
      "진건종합건설(주)\n",
      "건설현장시공 / 본사공무 신입및 경력직 채용공고\n",
      "(주)주성기술산업\n",
      "[정규직사원모집] 선박 보냉제 생산사원 인재를 모집합니다\n",
      "(주)부국산업개발\n",
      "[급구]대구/영천-현대기아1차협력/자동차부품 생산직\n",
      "(주)에스엘솔루션\n",
      "공주시 광학필름 생산포장검사/납품기사/정규직전환/사외기숙사\n",
      "만랩(10000lab)\n",
      "온라인(오픈마켓/온라인마켓등)경리회계 / 마케팅사무보조 채용\n",
      "웨딩세이\n",
      "-2022 웨딩세이 웨딩플래너 정직원모집-\n",
      "남양유업(주)천안신공장\n",
      "남양유업 천안공장 생산/물류직 00명 모집\n",
      "(주)에코비즈넷\n",
      "국.내외 마케팅팀 채용(경력무관)\n",
      "(주)종합건축사사무소극동건축\n",
      "건축 실시설계 정규직 채용\n",
      "이아이이 EiE 고려대어학원 광주오포캠퍼스\n",
      "사무 보조 경력무관 (경력직 우대) 모집 공고(정규직/계약직)\n",
      "(주)디엠통상\n",
      "판매·매장관리(매장판매&판매관리外 2개 부문) 채용 공고\n",
      "(주)명지메디칼\n",
      "의료기기 영업사원(종합병원) 모집 신입, 경력무관\n",
      "주식회사 한빛에프엘\n",
      "Hanvit FL 한빛에프엘-물류팀 모집(창고 업무)\n",
      "(주)구름연구소\n",
      "구름연구소 컨설턴트 채용(ICT/정책/경영/AI)(신입,경력)\n",
      "진앤리 법률사무소\n",
      "[진·리 법률사무소] 비서&사무직원 단기 아르바이트 채용\n",
      "(주)나비드\n",
      "[나비드라텍스] 온라인팀장/온라인MD 경력 채용(정규직)\n",
      "주식회사 위클래식\n",
      "위클래식 마케팅, 디자인, 강의 기획자 신입 및 경력\n",
      "(주)바른인사컨설팅\n",
      "(신입/경력) 2022년 상반기 채용공고\n",
      "(주)두크\n",
      "대졸신입사원 공개채용[영업,생산,품질,구매관리 각부문]\n",
      "(주)라온로드\n",
      "IT개발·데이터 정규직/계약직 채용 - 각 분야별\n",
      "건강한사람들\n",
      "[네이센스바이오] 건강식품 온라인 기획팀 신입/경력직 채용\n",
      "한샘인테리어부천대리점\n",
      "한샘 고양스타필드점 매니저 채용 영업 고객관리 판매관리\n",
      "(주)스마트큐브\n",
      "기술연구소 정규직 채용\n",
      "(주)트라코월드\n",
      "기획·전략, 영업·판매·무역부문 팀장 모집\n",
      "(주)시너지밸류제2호\n",
      "주말 및 공휴일 수행기사 프리랜서/파트  채용 공고\n",
      "주식회사 코리아교육그룹\n",
      "[코리아교육그룹] 본사 마케팅본부(신입~3년차) 채용\n"
     ]
    }
   ],
   "source": [
    "job = []\n",
    "for a in a2:\n",
    "    title = a.get_text()\n",
    "    print(title)\n",
    "    job.append(a.get_text())"
   ]
  },
  {
   "cell_type": "code",
   "execution_count": 194,
   "metadata": {},
   "outputs": [],
   "source": [
    "import pandas as pd"
   ]
  },
  {
   "cell_type": "code",
   "execution_count": 210,
   "metadata": {},
   "outputs": [],
   "source": [
    "dataframe = pd.DataFrame()\n",
    "dataframe['공고'] = job"
   ]
  },
  {
   "cell_type": "code",
   "execution_count": 211,
   "metadata": {},
   "outputs": [
    {
     "data": {
      "text/html": [
       "<div>\n",
       "<style scoped>\n",
       "    .dataframe tbody tr th:only-of-type {\n",
       "        vertical-align: middle;\n",
       "    }\n",
       "\n",
       "    .dataframe tbody tr th {\n",
       "        vertical-align: top;\n",
       "    }\n",
       "\n",
       "    .dataframe thead th {\n",
       "        text-align: right;\n",
       "    }\n",
       "</style>\n",
       "<table border=\"1\" class=\"dataframe\">\n",
       "  <thead>\n",
       "    <tr style=\"text-align: right;\">\n",
       "      <th></th>\n",
       "      <th>공고</th>\n",
       "    </tr>\n",
       "  </thead>\n",
       "  <tbody>\n",
       "    <tr>\n",
       "      <th>0</th>\n",
       "      <td>주식회사 크날</td>\n",
       "    </tr>\n",
       "    <tr>\n",
       "      <th>1</th>\n",
       "      <td>[2030 스타트업 크날] 성장하고픈 '시각디자이너' 모십니다</td>\n",
       "    </tr>\n",
       "    <tr>\n",
       "      <th>2</th>\n",
       "      <td>누베스(주)</td>\n",
       "    </tr>\n",
       "    <tr>\n",
       "      <th>3</th>\n",
       "      <td>누베스 각 부문(재단/단순조립) 담당직원 모집</td>\n",
       "    </tr>\n",
       "    <tr>\n",
       "      <th>4</th>\n",
       "      <td>(주)헥사이노힐</td>\n",
       "    </tr>\n",
       "    <tr>\n",
       "      <th>...</th>\n",
       "      <td>...</td>\n",
       "    </tr>\n",
       "    <tr>\n",
       "      <th>75</th>\n",
       "      <td>기획·전략, 영업·판매·무역부문 팀장 모집</td>\n",
       "    </tr>\n",
       "    <tr>\n",
       "      <th>76</th>\n",
       "      <td>(주)시너지밸류제2호</td>\n",
       "    </tr>\n",
       "    <tr>\n",
       "      <th>77</th>\n",
       "      <td>주말 및 공휴일 수행기사 프리랜서/파트  채용 공고</td>\n",
       "    </tr>\n",
       "    <tr>\n",
       "      <th>78</th>\n",
       "      <td>주식회사 코리아교육그룹</td>\n",
       "    </tr>\n",
       "    <tr>\n",
       "      <th>79</th>\n",
       "      <td>[코리아교육그룹] 본사 마케팅본부(신입~3년차) 채용</td>\n",
       "    </tr>\n",
       "  </tbody>\n",
       "</table>\n",
       "<p>80 rows × 1 columns</p>\n",
       "</div>"
      ],
      "text/plain": [
       "                                    공고\n",
       "0                              주식회사 크날\n",
       "1   [2030 스타트업 크날] 성장하고픈 '시각디자이너' 모십니다\n",
       "2                               누베스(주)\n",
       "3            누베스 각 부문(재단/단순조립) 담당직원 모집\n",
       "4                             (주)헥사이노힐\n",
       "..                                 ...\n",
       "75             기획·전략, 영업·판매·무역부문 팀장 모집\n",
       "76                         (주)시너지밸류제2호\n",
       "77        주말 및 공휴일 수행기사 프리랜서/파트  채용 공고\n",
       "78                        주식회사 코리아교육그룹\n",
       "79       [코리아교육그룹] 본사 마케팅본부(신입~3년차) 채용\n",
       "\n",
       "[80 rows x 1 columns]"
      ]
     },
     "execution_count": 211,
     "metadata": {},
     "output_type": "execute_result"
    }
   ],
   "source": [
    "dataframe"
   ]
  },
  {
   "cell_type": "code",
   "execution_count": null,
   "metadata": {},
   "outputs": [],
   "source": []
  }
 ],
 "metadata": {
  "colab": {
   "collapsed_sections": [
    "3iHPScB3HAd1",
    "uUY2TGzNHAd2"
   ],
   "name": "[DSL]Basic Session 2_Crawling.ipynb",
   "provenance": []
  },
  "kernelspec": {
   "display_name": "Python 3 (ipykernel)",
   "language": "python",
   "name": "python3"
  },
  "language_info": {
   "codemirror_mode": {
    "name": "ipython",
    "version": 3
   },
   "file_extension": ".py",
   "mimetype": "text/x-python",
   "name": "python",
   "nbconvert_exporter": "python",
   "pygments_lexer": "ipython3",
   "version": "3.9.7"
  }
 },
 "nbformat": 4,
 "nbformat_minor": 1
}
