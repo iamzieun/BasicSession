{
 "cells": [
  {
   "cell_type": "markdown",
   "id": "6c59ff01",
   "metadata": {},
   "source": [
    "기본과제(필수) : 사람인의 채용정보 페이지에서 추천 지역의 아래의 회사명, 제목을 40개 뽑아 데이터프레임으로 생성하세요. (beautifulsoup 활용)"
   ]
  },
  {
   "cell_type": "code",
   "execution_count": 118,
   "id": "3f3bee18",
   "metadata": {},
   "outputs": [],
   "source": [
    "import requests\n",
    "from bs4 import BeautifulSoup\n",
    "import pandas as pd"
   ]
  },
  {
   "cell_type": "code",
   "execution_count": 119,
   "id": "9f825bbf",
   "metadata": {},
   "outputs": [],
   "source": [
    "headers = {'User-Agent' : 'Mozilla/5.0 (Windows NT 10.0; Win64; x64) AppleWebKit/537.36 (KHTML, like Gecko) Chrome/97.0.4692.71 Safari/537.36'}"
   ]
  },
  {
   "cell_type": "code",
   "execution_count": 120,
   "id": "d1f2e89d",
   "metadata": {},
   "outputs": [],
   "source": [
    "url = 'https://www.saramin.co.kr/zf_user/jobs/list/domestic'\n",
    "res = requests.get(url, headers = headers)\n",
    "res.raise_for_status()\n",
    "soup = BeautifulSoup(res.text, 'lxml')\n",
    "\n",
    "corpname = soup.findAll('span', attrs = {'class' : 'corp'})\n",
    "titlename = soup.findAll('strong', attrs = {'class' : 'tit'})"
   ]
  },
  {
   "cell_type": "code",
   "execution_count": 121,
   "id": "d204cd68",
   "metadata": {},
   "outputs": [],
   "source": [
    "title_list = list()\n",
    "corp_list = list()\n",
    "for title in titlename[3:]:\n",
    "    title_list.append(title.text)\n",
    "for corp in corpname:\n",
    "    corp_list.append(corp.text)"
   ]
  },
  {
   "cell_type": "code",
   "execution_count": 122,
   "id": "7cccebff",
   "metadata": {},
   "outputs": [],
   "source": [
    "df_bs4 = pd.DataFrame({'회사명': corp_list, '제목' : title_list})\n",
    "df_bs4.set_index('회사명', inplace = True)"
   ]
  },
  {
   "cell_type": "code",
   "execution_count": 123,
   "id": "8f539fb2",
   "metadata": {},
   "outputs": [
    {
     "data": {
      "text/html": [
       "<div>\n",
       "<style scoped>\n",
       "    .dataframe tbody tr th:only-of-type {\n",
       "        vertical-align: middle;\n",
       "    }\n",
       "\n",
       "    .dataframe tbody tr th {\n",
       "        vertical-align: top;\n",
       "    }\n",
       "\n",
       "    .dataframe thead th {\n",
       "        text-align: right;\n",
       "    }\n",
       "</style>\n",
       "<table border=\"1\" class=\"dataframe\">\n",
       "  <thead>\n",
       "    <tr style=\"text-align: right;\">\n",
       "      <th></th>\n",
       "      <th>제목</th>\n",
       "    </tr>\n",
       "    <tr>\n",
       "      <th>회사명</th>\n",
       "      <th></th>\n",
       "    </tr>\n",
       "  </thead>\n",
       "  <tbody>\n",
       "    <tr>\n",
       "      <th>(주)디아이</th>\n",
       "      <td>디아이 반도체 검사장비 회로 설계 신입/경력 사원 모집</td>\n",
       "    </tr>\n",
       "    <tr>\n",
       "      <th>(주)닥터봄</th>\n",
       "      <td>[취업축하금 지급] 온/오프라인 마케팅 기획자 채용</td>\n",
       "    </tr>\n",
       "    <tr>\n",
       "      <th>(주)싸이버원</th>\n",
       "      <td>클라우드 서비스 영업 경력 채용</td>\n",
       "    </tr>\n",
       "    <tr>\n",
       "      <th>(주)케이엠더블유</th>\n",
       "      <td>연구개발(R&amp;D) 열해석 부문 정규직 채용</td>\n",
       "    </tr>\n",
       "    <tr>\n",
       "      <th>(주)이지다이아텍</th>\n",
       "      <td>[취업축하금] 연구개발 면역/분자/항체 신입 및 경력 연구원 채용</td>\n",
       "    </tr>\n",
       "    <tr>\n",
       "      <th>(주)셀테크</th>\n",
       "      <td>셀테크 압출/포장 생산본부 직원모집</td>\n",
       "    </tr>\n",
       "    <tr>\n",
       "      <th>(주)인투온</th>\n",
       "      <td>[김포] 물류팀 사원 채용공고</td>\n",
       "    </tr>\n",
       "    <tr>\n",
       "      <th>(주)크리에이티브디자인스튜디오</th>\n",
       "      <td>2022 RECRUIT 인테리어 부문별 경력사원 모집</td>\n",
       "    </tr>\n",
       "    <tr>\n",
       "      <th>(주)담다닷컴</th>\n",
       "      <td>운영MD 경력/신입 모집</td>\n",
       "    </tr>\n",
       "    <tr>\n",
       "      <th>유한책임회사케이앤비컴퍼니즈</th>\n",
       "      <td>케이앤비컴퍼니즈 2022년 상반기 신입·경력 채용</td>\n",
       "    </tr>\n",
       "    <tr>\n",
       "      <th>에이치앤에이치파이낸셜대부(주)</th>\n",
       "      <td>[에이치앤에이치파이낸셜대부㈜] 상반기 각 부문 정규직 모집</td>\n",
       "    </tr>\n",
       "    <tr>\n",
       "      <th>(주)피플펀드컴퍼니</th>\n",
       "      <td>법무팀 팀원 (사무직원)</td>\n",
       "    </tr>\n",
       "    <tr>\n",
       "      <th>휘슬러코리아(주)</th>\n",
       "      <td>[휘슬러코리아] 할인점(GMS Sales) 채널 영업 경력직원 채용</td>\n",
       "    </tr>\n",
       "    <tr>\n",
       "      <th>(주)쥬디스코퍼레이션</th>\n",
       "      <td>경영지원 및 영업 부문 정규 채용</td>\n",
       "    </tr>\n",
       "    <tr>\n",
       "      <th>(주)유시티메디칼</th>\n",
       "      <td>영업부 신입 및 경력 채용 공고</td>\n",
       "    </tr>\n",
       "    <tr>\n",
       "      <th>(주)지씨케어</th>\n",
       "      <td>GC케어 UX팀 팀장</td>\n",
       "    </tr>\n",
       "    <tr>\n",
       "      <th>(주)애드봄</th>\n",
       "      <td>온라인/바이럴마케팅 경력직 채용</td>\n",
       "    </tr>\n",
       "    <tr>\n",
       "      <th>(주)사임다비엘코파워코리아</th>\n",
       "      <td>(주)사임다비엘코파워코리아 재고 입출고, 수불관리 채용</td>\n",
       "    </tr>\n",
       "    <tr>\n",
       "      <th>(주)오렌지엔지니어링</th>\n",
       "      <td>2022년 상반기 정기공채</td>\n",
       "    </tr>\n",
       "    <tr>\n",
       "      <th>(주)비지에프푸드</th>\n",
       "      <td>BGF푸드 상품개발,공무직원 채용 (진천,전북센터)</td>\n",
       "    </tr>\n",
       "    <tr>\n",
       "      <th>(주)에이피알</th>\n",
       "      <td>[에이피알] 자금관리 경력 사원 채용</td>\n",
       "    </tr>\n",
       "    <tr>\n",
       "      <th>(주)에이블리코퍼레이션</th>\n",
       "      <td>[1등 쇼핑앱] 에이블리 디지털 가전 MD 채용 (2년 이상)</td>\n",
       "    </tr>\n",
       "    <tr>\n",
       "      <th>환인제약(주)</th>\n",
       "      <td>환인제약 2022년 상반기 신입/경력 채용</td>\n",
       "    </tr>\n",
       "    <tr>\n",
       "      <th>(주)금도건설</th>\n",
       "      <td>㈜금도건설 각 분야 경력직 채용</td>\n",
       "    </tr>\n",
       "    <tr>\n",
       "      <th>(주)올리브헬스케어</th>\n",
       "      <td>[취업축하금] CRA 신입/경력 정규직 채용</td>\n",
       "    </tr>\n",
       "    <tr>\n",
       "      <th>(주)오픈</th>\n",
       "      <td>[주4.5일/외식업계최고연봉] 외식사업부 홀,주방 신입/경력 채용</td>\n",
       "    </tr>\n",
       "    <tr>\n",
       "      <th>더블유시스템</th>\n",
       "      <td>물류 자동화 로봇(OHT) Setup Engineer 모집</td>\n",
       "    </tr>\n",
       "    <tr>\n",
       "      <th>(주)아워홈</th>\n",
       "      <td>아워홈 경력 영양사 조리사 채용(정규직)</td>\n",
       "    </tr>\n",
       "    <tr>\n",
       "      <th>(주)드파운드</th>\n",
       "      <td>[디자이너브랜드 '드파운드'] 의류디자이너 채용</td>\n",
       "    </tr>\n",
       "    <tr>\n",
       "      <th>(주)오피지지</th>\n",
       "      <td>[오피지지] Motion Graphic Designer 채용</td>\n",
       "    </tr>\n",
       "    <tr>\n",
       "      <th>(주)메디에이지</th>\n",
       "      <td>[메디컬사업]검진센터/검진기업 영업 및 신규사업 기획</td>\n",
       "    </tr>\n",
       "    <tr>\n",
       "      <th>도양기업(주)</th>\n",
       "      <td>위본그룹 [위본건설 / 도양기업] 2022년 상반기 공채 신입사원 모집</td>\n",
       "    </tr>\n",
       "    <tr>\n",
       "      <th>(주)이녹스소프트</th>\n",
       "      <td>[취업축하금지급] GxP사업본부 기술사무 보조 신입 정규직 채용</td>\n",
       "    </tr>\n",
       "    <tr>\n",
       "      <th>오씨아이에스이(주)</th>\n",
       "      <td>[OCI 그룹사] 열병합발전 사업부문 경력 사원 채용</td>\n",
       "    </tr>\n",
       "    <tr>\n",
       "      <th>칼백화점</th>\n",
       "      <td>쇼핑몰 웹디자이너 채용 (웹디자인 / 포토샵 / 상세페이지 제작)</td>\n",
       "    </tr>\n",
       "    <tr>\n",
       "      <th>(주)젠바디</th>\n",
       "      <td>각 부문 신입/경력 모집</td>\n",
       "    </tr>\n",
       "    <tr>\n",
       "      <th>한국소프트웨어산업협회</th>\n",
       "      <td>사무국 직원 채용공고</td>\n",
       "    </tr>\n",
       "    <tr>\n",
       "      <th>(주)더그로우</th>\n",
       "      <td>[빔보빔바] 온라인쇼핑몰 마케터 채용</td>\n",
       "    </tr>\n",
       "    <tr>\n",
       "      <th>남양금속(주)</th>\n",
       "      <td>[남양금속] 관리직 사원 모집 (금속/전기/기계/비서)</td>\n",
       "    </tr>\n",
       "    <tr>\n",
       "      <th>제이에스트레이딩</th>\n",
       "      <td>웹디자이너 신입/경력 채용</td>\n",
       "    </tr>\n",
       "  </tbody>\n",
       "</table>\n",
       "</div>"
      ],
      "text/plain": [
       "                                                       제목\n",
       "회사명                                                      \n",
       "(주)디아이                     디아이 반도체 검사장비 회로 설계 신입/경력 사원 모집\n",
       "(주)닥터봄                       [취업축하금 지급] 온/오프라인 마케팅 기획자 채용\n",
       "(주)싸이버원                                 클라우드 서비스 영업 경력 채용\n",
       "(주)케이엠더블유                         연구개발(R&D) 열해석 부문 정규직 채용\n",
       "(주)이지다이아텍            [취업축하금] 연구개발 면역/분자/항체 신입 및 경력 연구원 채용\n",
       "(주)셀테크                                셀테크 압출/포장 생산본부 직원모집\n",
       "(주)인투온                                   [김포] 물류팀 사원 채용공고\n",
       "(주)크리에이티브디자인스튜디오            2022 RECRUIT 인테리어 부문별 경력사원 모집\n",
       "(주)담다닷컴                                     운영MD 경력/신입 모집\n",
       "유한책임회사케이앤비컴퍼니즈                케이앤비컴퍼니즈 2022년 상반기 신입·경력 채용\n",
       "에이치앤에이치파이낸셜대부(주)         [에이치앤에이치파이낸셜대부㈜] 상반기 각 부문 정규직 모집\n",
       "(주)피플펀드컴퍼니                                  법무팀 팀원 (사무직원)\n",
       "휘슬러코리아(주)           [휘슬러코리아] 할인점(GMS Sales) 채널 영업 경력직원 채용\n",
       "(주)쥬디스코퍼레이션                            경영지원 및 영업 부문 정규 채용\n",
       "(주)유시티메디칼                               영업부 신입 및 경력 채용 공고\n",
       "(주)지씨케어                                       GC케어 UX팀 팀장\n",
       "(주)애드봄                                  온라인/바이럴마케팅 경력직 채용\n",
       "(주)사임다비엘코파워코리아             (주)사임다비엘코파워코리아 재고 입출고, 수불관리 채용\n",
       "(주)오렌지엔지니어링                                2022년 상반기 정기공채\n",
       "(주)비지에프푸드                    BGF푸드 상품개발,공무직원 채용 (진천,전북센터)\n",
       "(주)에이피알                              [에이피알] 자금관리 경력 사원 채용\n",
       "(주)에이블리코퍼레이션           [1등 쇼핑앱] 에이블리 디지털 가전 MD 채용 (2년 이상)\n",
       "환인제약(주)                           환인제약 2022년 상반기 신입/경력 채용\n",
       "(주)금도건설                                 ㈜금도건설 각 분야 경력직 채용\n",
       "(주)올리브헬스케어                       [취업축하금] CRA 신입/경력 정규직 채용\n",
       "(주)오픈                [주4.5일/외식업계최고연봉] 외식사업부 홀,주방 신입/경력 채용\n",
       "더블유시스템                   물류 자동화 로봇(OHT) Setup Engineer 모집\n",
       "(주)아워홈                             아워홈 경력 영양사 조리사 채용(정규직)\n",
       "(주)드파운드                        [디자이너브랜드 '드파운드'] 의류디자이너 채용\n",
       "(주)오피지지                 [오피지지] Motion Graphic Designer 채용\n",
       "(주)메디에이지                    [메디컬사업]검진센터/검진기업 영업 및 신규사업 기획\n",
       "도양기업(주)           위본그룹 [위본건설 / 도양기업] 2022년 상반기 공채 신입사원 모집\n",
       "(주)이녹스소프트             [취업축하금지급] GxP사업본부 기술사무 보조 신입 정규직 채용\n",
       "오씨아이에스이(주)                  [OCI 그룹사] 열병합발전 사업부문 경력 사원 채용\n",
       "칼백화점                 쇼핑몰 웹디자이너 채용 (웹디자인 / 포토샵 / 상세페이지 제작)\n",
       "(주)젠바디                                      각 부문 신입/경력 모집\n",
       "한국소프트웨어산업협회                                   사무국 직원 채용공고\n",
       "(주)더그로우                              [빔보빔바] 온라인쇼핑몰 마케터 채용\n",
       "남양금속(주)                    [남양금속] 관리직 사원 모집 (금속/전기/기계/비서)\n",
       "제이에스트레이딩                                   웹디자이너 신입/경력 채용"
      ]
     },
     "execution_count": 123,
     "metadata": {},
     "output_type": "execute_result"
    }
   ],
   "source": [
    "df_bs4.head(40)"
   ]
  },
  {
   "cell_type": "markdown",
   "id": "bf06c4a1",
   "metadata": {},
   "source": [
    "심화과제(선택) : 커리어연세의 취업정보 - 채용공고에 올라오는 회사명, 제목을 40개 뽑아 데이터프레임으로 생성하세요. (selenium 활용)\n",
    "단, 커리어연세 과제 제출 시 코드 실행 후 자신의 아이디, 비밀번호 작성한 notebook cell은 삭제해서 제출해주세요.\n",
    "\n",
    "​"
   ]
  },
  {
   "cell_type": "code",
   "execution_count": 124,
   "id": "54e68cae",
   "metadata": {},
   "outputs": [],
   "source": [
    "from selenium import webdriver\n",
    "from selenium.webdriver.support.ui import WebDriverWait\n",
    "from selenium.webdriver.support import expected_conditions as EC\n",
    "from selenium.webdriver.common.by import By\n",
    "from selenium.webdriver.common.keys import Keys\n",
    "import time"
   ]
  },
  {
   "cell_type": "code",
   "execution_count": 125,
   "id": "7c312dfc",
   "metadata": {},
   "outputs": [
    {
     "name": "stderr",
     "output_type": "stream",
     "text": [
      "C:\\Users\\audgj\\anaconda3\\envs\\Crawling\\lib\\site-packages\\ipykernel_launcher.py:3: DeprecationWarning: executable_path has been deprecated, please pass in a Service object\n",
      "  This is separate from the ipykernel package so we can avoid doing imports until\n"
     ]
    }
   ],
   "source": [
    "path = 'C:\\\\Users\\\\audgj\\\\Downloads\\\\chromedriver_win32\\\\chromedriver'\n",
    "\n",
    "browser = webdriver.Chrome(path)"
   ]
  },
  {
   "cell_type": "code",
   "execution_count": 126,
   "id": "a01c8397",
   "metadata": {},
   "outputs": [],
   "source": [
    "browser.get('https://career.yonsei.ac.kr/')"
   ]
  },
  {
   "cell_type": "code",
   "execution_count": 127,
   "id": "7faeed9d",
   "metadata": {},
   "outputs": [
    {
     "name": "stderr",
     "output_type": "stream",
     "text": [
      "C:\\Users\\audgj\\anaconda3\\envs\\Crawling\\lib\\site-packages\\ipykernel_launcher.py:1: DeprecationWarning: find_element_by_* commands are deprecated. Please use find_element() instead\n",
      "  \"\"\"Entry point for launching an IPython kernel.\n"
     ]
    }
   ],
   "source": [
    "browser.find_element_by_xpath(\"/html/body/div/div/div[2]/div/ul/li[1]/a\").click()"
   ]
  },
  {
   "cell_type": "code",
   "execution_count": 128,
   "id": "58ff92de",
   "metadata": {},
   "outputs": [
    {
     "name": "stderr",
     "output_type": "stream",
     "text": [
      "C:\\Users\\audgj\\anaconda3\\envs\\Crawling\\lib\\site-packages\\ipykernel_launcher.py:1: DeprecationWarning: find_element_by_* commands are deprecated. Please use find_element() instead\n",
      "  \"\"\"Entry point for launching an IPython kernel.\n"
     ]
    }
   ],
   "source": [
    "browser.find_element_by_xpath('//*[@id=\"loginId\"]').send_keys('2018122002')"
   ]
  },
  {
   "cell_type": "code",
   "execution_count": 129,
   "id": "e7b32bb7",
   "metadata": {},
   "outputs": [
    {
     "name": "stderr",
     "output_type": "stream",
     "text": [
      "C:\\Users\\audgj\\anaconda3\\envs\\Crawling\\lib\\site-packages\\ipykernel_launcher.py:1: DeprecationWarning: find_element_by_* commands are deprecated. Please use find_element() instead\n",
      "  \"\"\"Entry point for launching an IPython kernel.\n"
     ]
    }
   ],
   "source": [
    "browser.find_element_by_xpath('//*[@id=\"loginPasswd\"]').send_keys('chlrhwlq78*-')"
   ]
  },
  {
   "cell_type": "code",
   "execution_count": 130,
   "id": "dbeb6226",
   "metadata": {
    "scrolled": true
   },
   "outputs": [
    {
     "name": "stderr",
     "output_type": "stream",
     "text": [
      "C:\\Users\\audgj\\anaconda3\\envs\\Crawling\\lib\\site-packages\\ipykernel_launcher.py:1: DeprecationWarning: find_element_by_* commands are deprecated. Please use find_element() instead\n",
      "  \"\"\"Entry point for launching an IPython kernel.\n"
     ]
    }
   ],
   "source": [
    "browser.find_element_by_xpath('//*[@id=\"loginBtn\"]').click()"
   ]
  },
  {
   "cell_type": "code",
   "execution_count": 131,
   "id": "3c62cc88",
   "metadata": {},
   "outputs": [
    {
     "name": "stderr",
     "output_type": "stream",
     "text": [
      "C:\\Users\\audgj\\anaconda3\\envs\\Crawling\\lib\\site-packages\\ipykernel_launcher.py:1: DeprecationWarning: find_element_by_* commands are deprecated. Please use find_element() instead\n",
      "  \"\"\"Entry point for launching an IPython kernel.\n"
     ]
    }
   ],
   "source": [
    "browser.find_element_by_xpath('//*[@id=\"mainWidgetUseLstWrap\"]/li[5]/div/a').click()"
   ]
  },
  {
   "cell_type": "code",
   "execution_count": 132,
   "id": "1eaf9d05",
   "metadata": {},
   "outputs": [
    {
     "name": "stderr",
     "output_type": "stream",
     "text": [
      "C:\\Users\\audgj\\anaconda3\\envs\\Crawling\\lib\\site-packages\\ipykernel_launcher.py:1: DeprecationWarning: find_element_by_* commands are deprecated. Please use find_element() instead\n",
      "  \"\"\"Entry point for launching an IPython kernel.\n"
     ]
    }
   ],
   "source": [
    "browser.find_element_by_xpath('//*[@id=\"paginationInfo.recordCountPerPage\"]/option[4]').click()"
   ]
  },
  {
   "cell_type": "code",
   "execution_count": 133,
   "id": "229a4d40",
   "metadata": {
    "scrolled": true
   },
   "outputs": [
    {
     "name": "stderr",
     "output_type": "stream",
     "text": [
      "C:\\Users\\audgj\\anaconda3\\envs\\Crawling\\lib\\site-packages\\ipykernel_launcher.py:7: DeprecationWarning: find_element_by_* commands are deprecated. Please use find_element() instead\n",
      "  import sys\n",
      "C:\\Users\\audgj\\anaconda3\\envs\\Crawling\\lib\\site-packages\\ipykernel_launcher.py:8: DeprecationWarning: find_element_by_* commands are deprecated. Please use find_element() instead\n",
      "  \n"
     ]
    }
   ],
   "source": [
    "corp_list = list()\n",
    "title_list = list()\n",
    "for i in range(40):\n",
    "    xpath_corp = '//*[@id=\"ptfolCareerProgramSearch\"]/div[4]/table/tbody/tr[' + str(i+1) + ']/td[1]'\n",
    "    xpath_title = '//*[@id=\"ptfolCareerProgramSearch\"]/div[4]/table/tbody/tr[' + str(i+1) + ']/td[2]/a'\n",
    "\n",
    "    corp_list.append(browser.find_element_by_xpath(xpath_corp).text)\n",
    "    title_list.append(browser.find_element_by_xpath(xpath_title).text)"
   ]
  },
  {
   "cell_type": "code",
   "execution_count": 135,
   "id": "92fba8d6",
   "metadata": {},
   "outputs": [],
   "source": [
    "df_selenium = pd.DataFrame({'회사명' : corp_list, '제목' : title_list})\n",
    "df_selenium.set_index('회사명', inplace = True)"
   ]
  },
  {
   "cell_type": "code",
   "execution_count": 136,
   "id": "6794a074",
   "metadata": {},
   "outputs": [
    {
     "data": {
      "text/html": [
       "<div>\n",
       "<style scoped>\n",
       "    .dataframe tbody tr th:only-of-type {\n",
       "        vertical-align: middle;\n",
       "    }\n",
       "\n",
       "    .dataframe tbody tr th {\n",
       "        vertical-align: top;\n",
       "    }\n",
       "\n",
       "    .dataframe thead th {\n",
       "        text-align: right;\n",
       "    }\n",
       "</style>\n",
       "<table border=\"1\" class=\"dataframe\">\n",
       "  <thead>\n",
       "    <tr style=\"text-align: right;\">\n",
       "      <th></th>\n",
       "      <th>제목</th>\n",
       "    </tr>\n",
       "    <tr>\n",
       "      <th>회사명</th>\n",
       "      <th></th>\n",
       "    </tr>\n",
       "  </thead>\n",
       "  <tbody>\n",
       "    <tr>\n",
       "      <th>다이와증권캐피탈마켓코리아(주)</th>\n",
       "      <td>[다이와증권] IB사업부 정규직 채용 (ASAP)</td>\n",
       "    </tr>\n",
       "    <tr>\n",
       "      <th>네오트랜스(주)</th>\n",
       "      <td>네오트랜스 신분당선(DX LINE) 채용 (정규직/계약직)</td>\n",
       "    </tr>\n",
       "    <tr>\n",
       "      <th>(주)LG생활건강</th>\n",
       "      <td>[LG생활건강] 생산관리자 대졸 신입사원 모집</td>\n",
       "    </tr>\n",
       "    <tr>\n",
       "      <th>(주)스패로우</th>\n",
       "      <td>[스패로우] SW 개발 / SW 기술지원 채용연계형 인턴 모집 (~1/25)</td>\n",
       "    </tr>\n",
       "    <tr>\n",
       "      <th>아모레퍼시픽그룹</th>\n",
       "      <td>AMOREPACIFIC MC전략팀(Marketing Communication) 계약...</td>\n",
       "    </tr>\n",
       "    <tr>\n",
       "      <th>악사손해보험(주)</th>\n",
       "      <td>[AXA손해보험] 자동차보험 Pricing 신입 Associate 채용</td>\n",
       "    </tr>\n",
       "    <tr>\n",
       "      <th>SK플래닛</th>\n",
       "      <td>2022년 SK플래닛 채용연계형 인턴 모집 채용</td>\n",
       "    </tr>\n",
       "    <tr>\n",
       "      <th>현대해상</th>\n",
       "      <td>현대해상 미국 뉴저지 법인 해외 인턴 채용공고</td>\n",
       "    </tr>\n",
       "    <tr>\n",
       "      <th>희성피엠텍(주)</th>\n",
       "      <td>희성피엠텍(주) 기획/생산관리 정규직 수시채용 (신입/경력)</td>\n",
       "    </tr>\n",
       "    <tr>\n",
       "      <th>HSG휴먼솔루션그룹</th>\n",
       "      <td>[HSG휴먼솔루션그룹] 기업교육 솔루션 Lab(R&amp;D) 인턴 채용</td>\n",
       "    </tr>\n",
       "    <tr>\n",
       "      <th>한국에너지기술연구원</th>\n",
       "      <td>2022년 제1차 출연(연) 맞춤형 인력양성사업(YS사업) 박사후연구원 채용 공고</td>\n",
       "    </tr>\n",
       "    <tr>\n",
       "      <th>(주)파수</th>\n",
       "      <td>파수(Fasoo) SW 개발, SW 컨설턴트, 정보보호 컨설턴트, 마케팅 채용연계형...</td>\n",
       "    </tr>\n",
       "    <tr>\n",
       "      <th>인천상공회의소</th>\n",
       "      <td>[인천상공회의소] 2022년 신입직원(채용연계형 인턴) 채용공고</td>\n",
       "    </tr>\n",
       "    <tr>\n",
       "      <th>중앙대의료원 교육협력 현대병원</th>\n",
       "      <td>중앙대의료원 교육협력 현대병원 &lt;기획조정실&gt; 채용공고</td>\n",
       "    </tr>\n",
       "    <tr>\n",
       "      <th>국회예산정책처</th>\n",
       "      <td>국회예산정책처 자료분석지원요원(RA) 계약직 채용공고</td>\n",
       "    </tr>\n",
       "    <tr>\n",
       "      <th>한국쓰리엠(주)</th>\n",
       "      <td>한국쓰리엠(3M Korea) 계약직 채용</td>\n",
       "    </tr>\n",
       "    <tr>\n",
       "      <th>네오위즈</th>\n",
       "      <td>[네오위즈] 모바일게임 글로벌 운영 담당자(인턴)</td>\n",
       "    </tr>\n",
       "    <tr>\n",
       "      <th>리디(주)</th>\n",
       "      <td>리디 주식회사 - 웹소설그룹 웹소설 MD 인턴십 (채용연계형) 채용</td>\n",
       "    </tr>\n",
       "    <tr>\n",
       "      <th>농협자산관리회사</th>\n",
       "      <td>[농협자산관리회사] 신규직원 채용</td>\n",
       "    </tr>\n",
       "    <tr>\n",
       "      <th>CBRE Korea</th>\n",
       "      <td>[CBRE Korea] A&amp;T TM 부서 Transaction Coordinator...</td>\n",
       "    </tr>\n",
       "    <tr>\n",
       "      <th>넥슨네트웍스</th>\n",
       "      <td>[넥슨네트웍스] 판교센터 경영지원 신입 수시 채용</td>\n",
       "    </tr>\n",
       "    <tr>\n",
       "      <th>코오롱생명과학</th>\n",
       "      <td>[코오롱생명과학] Bio R&amp;D / 케미컬영업 신입/경력 채용</td>\n",
       "    </tr>\n",
       "    <tr>\n",
       "      <th>국회예산정책처</th>\n",
       "      <td>[국회예산정책처] 개방형직위 경제정책국장 선발시험</td>\n",
       "    </tr>\n",
       "    <tr>\n",
       "      <th>안진회계법인</th>\n",
       "      <td>[안진회계법인] CEO Office 소속 전략기획 인턴직 수시채용</td>\n",
       "    </tr>\n",
       "    <tr>\n",
       "      <th>에스코어</th>\n",
       "      <td>[에스코어] 마케팅 온라인 비즈니스 전략/디지털 마케팅 분석 프로젝트 RA 모집</td>\n",
       "    </tr>\n",
       "    <tr>\n",
       "      <th>미래교육</th>\n",
       "      <td>[미래교육] 어플리케이션 개발 가능자 모집</td>\n",
       "    </tr>\n",
       "    <tr>\n",
       "      <th>SSG랜더스</th>\n",
       "      <td>[SSG랜더스] 신세계야구단 SSG랜더스 인턴십 채용 공고</td>\n",
       "    </tr>\n",
       "    <tr>\n",
       "      <th>한국기업지배구조원</th>\n",
       "      <td>사업본부 인턴 채용공고</td>\n",
       "    </tr>\n",
       "    <tr>\n",
       "      <th>버킷플레이스</th>\n",
       "      <td>[오늘의집] 집들이 콘텐츠 매니저 (채용연계형 인턴)</td>\n",
       "    </tr>\n",
       "    <tr>\n",
       "      <th>한국화이자제약(주)</th>\n",
       "      <td>한국화이자제약 대외협력부 (Corporate Affairs) 12개월 계약직 채용</td>\n",
       "    </tr>\n",
       "    <tr>\n",
       "      <th>코원에너지서비스</th>\n",
       "      <td>코원에너지서비스 대졸 신입사원 채용</td>\n",
       "    </tr>\n",
       "    <tr>\n",
       "      <th>네오위즈</th>\n",
       "      <td>[네오위즈] 피망 카지노 사업 PM (인턴) 채용공고</td>\n",
       "    </tr>\n",
       "    <tr>\n",
       "      <th>한국미쓰이물산(주)</th>\n",
       "      <td>한국미쓰이물산(주) 2022년 신입사원(사무직) 모집공고</td>\n",
       "    </tr>\n",
       "    <tr>\n",
       "      <th>부천시</th>\n",
       "      <td>2021년 제14회 부천시 임기제공무원 채용시험 계획 재공고</td>\n",
       "    </tr>\n",
       "    <tr>\n",
       "      <th>국립국제교육원</th>\n",
       "      <td>국립국제교육원 기간제근로자(영어능통자) 채용 공고</td>\n",
       "    </tr>\n",
       "    <tr>\n",
       "      <th>한국제지</th>\n",
       "      <td>한국제지 2022년 신입사원 공개 채용</td>\n",
       "    </tr>\n",
       "    <tr>\n",
       "      <th>서대문구청</th>\n",
       "      <td>2022년 서대문구 디지털튜터(Digital Tutor) 채용 공고</td>\n",
       "    </tr>\n",
       "    <tr>\n",
       "      <th>수원시정연구원</th>\n",
       "      <td>수원시정연구원 2022년도 위촉연구원 공개채용 공고</td>\n",
       "    </tr>\n",
       "    <tr>\n",
       "      <th>SK플래닛</th>\n",
       "      <td>SK플래닛 2022년 상반기 채용연계형 인턴 모집</td>\n",
       "    </tr>\n",
       "    <tr>\n",
       "      <th>넥슨네트웍스</th>\n",
       "      <td>[넥슨네트웍스] 판교센터 경영지원 신입 수시 채용(정규직)</td>\n",
       "    </tr>\n",
       "  </tbody>\n",
       "</table>\n",
       "</div>"
      ],
      "text/plain": [
       "                                                                 제목\n",
       "회사명                                                                \n",
       "다이와증권캐피탈마켓코리아(주)                        [다이와증권] IB사업부 정규직 채용 (ASAP)\n",
       "네오트랜스(주)                           네오트랜스 신분당선(DX LINE) 채용 (정규직/계약직)\n",
       "(주)LG생활건강                                 [LG생활건강] 생산관리자 대졸 신입사원 모집\n",
       "(주)스패로우                  [스패로우] SW 개발 / SW 기술지원 채용연계형 인턴 모집 (~1/25)\n",
       "아모레퍼시픽그룹          AMOREPACIFIC MC전략팀(Marketing Communication) 계약...\n",
       "악사손해보험(주)                   [AXA손해보험] 자동차보험 Pricing 신입 Associate 채용\n",
       "SK플래닛                                    2022년 SK플래닛 채용연계형 인턴 모집 채용\n",
       "현대해상                                      현대해상 미국 뉴저지 법인 해외 인턴 채용공고\n",
       "희성피엠텍(주)                          희성피엠텍(주) 기획/생산관리 정규직 수시채용 (신입/경력)\n",
       "HSG휴먼솔루션그룹                     [HSG휴먼솔루션그룹] 기업교육 솔루션 Lab(R&D) 인턴 채용\n",
       "한국에너지기술연구원            2022년 제1차 출연(연) 맞춤형 인력양성사업(YS사업) 박사후연구원 채용 공고\n",
       "(주)파수             파수(Fasoo) SW 개발, SW 컨설턴트, 정보보호 컨설턴트, 마케팅 채용연계형...\n",
       "인천상공회의소                         [인천상공회의소] 2022년 신입직원(채용연계형 인턴) 채용공고\n",
       "중앙대의료원 교육협력 현대병원                      중앙대의료원 교육협력 현대병원 <기획조정실> 채용공고\n",
       "국회예산정책처                               국회예산정책처 자료분석지원요원(RA) 계약직 채용공고\n",
       "한국쓰리엠(주)                                     한국쓰리엠(3M Korea) 계약직 채용\n",
       "네오위즈                                    [네오위즈] 모바일게임 글로벌 운영 담당자(인턴)\n",
       "리디(주)                         리디 주식회사 - 웹소설그룹 웹소설 MD 인턴십 (채용연계형) 채용\n",
       "농협자산관리회사                                         [농협자산관리회사] 신규직원 채용\n",
       "CBRE Korea        [CBRE Korea] A&T TM 부서 Transaction Coordinator...\n",
       "넥슨네트웍스                                  [넥슨네트웍스] 판교센터 경영지원 신입 수시 채용\n",
       "코오롱생명과학                          [코오롱생명과학] Bio R&D / 케미컬영업 신입/경력 채용\n",
       "국회예산정책처                                 [국회예산정책처] 개방형직위 경제정책국장 선발시험\n",
       "안진회계법인                         [안진회계법인] CEO Office 소속 전략기획 인턴직 수시채용\n",
       "에스코어                   [에스코어] 마케팅 온라인 비즈니스 전략/디지털 마케팅 분석 프로젝트 RA 모집\n",
       "미래교육                                        [미래교육] 어플리케이션 개발 가능자 모집\n",
       "SSG랜더스                             [SSG랜더스] 신세계야구단 SSG랜더스 인턴십 채용 공고\n",
       "한국기업지배구조원                                              사업본부 인턴 채용공고\n",
       "버킷플레이스                                [오늘의집] 집들이 콘텐츠 매니저 (채용연계형 인턴)\n",
       "한국화이자제약(주)            한국화이자제약 대외협력부 (Corporate Affairs) 12개월 계약직 채용\n",
       "코원에너지서비스                                        코원에너지서비스 대졸 신입사원 채용\n",
       "네오위즈                                  [네오위즈] 피망 카지노 사업 PM (인턴) 채용공고\n",
       "한국미쓰이물산(주)                          한국미쓰이물산(주) 2022년 신입사원(사무직) 모집공고\n",
       "부천시                               2021년 제14회 부천시 임기제공무원 채용시험 계획 재공고\n",
       "국립국제교육원                                 국립국제교육원 기간제근로자(영어능통자) 채용 공고\n",
       "한국제지                                          한국제지 2022년 신입사원 공개 채용\n",
       "서대문구청                         2022년 서대문구 디지털튜터(Digital Tutor) 채용 공고\n",
       "수원시정연구원                                수원시정연구원 2022년도 위촉연구원 공개채용 공고\n",
       "SK플래닛                                   SK플래닛 2022년 상반기 채용연계형 인턴 모집\n",
       "넥슨네트웍스                             [넥슨네트웍스] 판교센터 경영지원 신입 수시 채용(정규직)"
      ]
     },
     "execution_count": 136,
     "metadata": {},
     "output_type": "execute_result"
    }
   ],
   "source": [
    "df_selenium"
   ]
  },
  {
   "cell_type": "code",
   "execution_count": 137,
   "id": "f86a8b08",
   "metadata": {},
   "outputs": [],
   "source": [
    "browser.quit()"
   ]
  }
 ],
 "metadata": {
  "kernelspec": {
   "display_name": "Python 3 (ipykernel)",
   "language": "python",
   "name": "python3"
  },
  "language_info": {
   "codemirror_mode": {
    "name": "ipython",
    "version": 3
   },
   "file_extension": ".py",
   "mimetype": "text/x-python",
   "name": "python",
   "nbconvert_exporter": "python",
   "pygments_lexer": "ipython3",
   "version": "3.7.11"
  }
 },
 "nbformat": 4,
 "nbformat_minor": 5
}
