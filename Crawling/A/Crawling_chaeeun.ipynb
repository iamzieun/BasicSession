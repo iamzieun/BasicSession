{
 "cells": [
  {
   "cell_type": "code",
   "execution_count": 1,
   "id": "5a4fc800-d428-4ebf-9c7d-f3aa143f88f9",
   "metadata": {},
   "outputs": [
    {
     "name": "stdout",
     "output_type": "stream",
     "text": [
      "Requirement already satisfied: requests in /Users/chaeeunkim/opt/anaconda3/lib/python3.9/site-packages (2.26.0)\n",
      "Requirement already satisfied: charset-normalizer~=2.0.0 in /Users/chaeeunkim/opt/anaconda3/lib/python3.9/site-packages (from requests) (2.0.4)\n",
      "Requirement already satisfied: urllib3<1.27,>=1.21.1 in /Users/chaeeunkim/opt/anaconda3/lib/python3.9/site-packages (from requests) (1.26.7)\n",
      "Requirement already satisfied: certifi>=2017.4.17 in /Users/chaeeunkim/opt/anaconda3/lib/python3.9/site-packages (from requests) (2021.10.8)\n",
      "Requirement already satisfied: idna<4,>=2.5 in /Users/chaeeunkim/opt/anaconda3/lib/python3.9/site-packages (from requests) (3.2)\n",
      "Requirement already satisfied: beautifulsoup4 in /Users/chaeeunkim/opt/anaconda3/lib/python3.9/site-packages (4.10.0)\n",
      "Requirement already satisfied: soupsieve>1.2 in /Users/chaeeunkim/opt/anaconda3/lib/python3.9/site-packages (from beautifulsoup4) (2.2.1)\n",
      "Requirement already satisfied: lxml in /Users/chaeeunkim/opt/anaconda3/lib/python3.9/site-packages (4.6.3)\n",
      "Requirement already satisfied: selenium in /Users/chaeeunkim/opt/anaconda3/lib/python3.9/site-packages (4.1.0)\n",
      "Requirement already satisfied: trio-websocket~=0.9 in /Users/chaeeunkim/opt/anaconda3/lib/python3.9/site-packages (from selenium) (0.9.2)\n",
      "Requirement already satisfied: urllib3[secure]~=1.26 in /Users/chaeeunkim/opt/anaconda3/lib/python3.9/site-packages (from selenium) (1.26.7)\n",
      "Requirement already satisfied: trio~=0.17 in /Users/chaeeunkim/opt/anaconda3/lib/python3.9/site-packages (from selenium) (0.19.0)\n",
      "Requirement already satisfied: outcome in /Users/chaeeunkim/opt/anaconda3/lib/python3.9/site-packages (from trio~=0.17->selenium) (1.1.0)\n",
      "Requirement already satisfied: async-generator>=1.9 in /Users/chaeeunkim/opt/anaconda3/lib/python3.9/site-packages (from trio~=0.17->selenium) (1.10)\n",
      "Requirement already satisfied: idna in /Users/chaeeunkim/opt/anaconda3/lib/python3.9/site-packages (from trio~=0.17->selenium) (3.2)\n",
      "Requirement already satisfied: attrs>=19.2.0 in /Users/chaeeunkim/opt/anaconda3/lib/python3.9/site-packages (from trio~=0.17->selenium) (21.2.0)\n",
      "Requirement already satisfied: sortedcontainers in /Users/chaeeunkim/opt/anaconda3/lib/python3.9/site-packages (from trio~=0.17->selenium) (2.4.0)\n",
      "Requirement already satisfied: sniffio in /Users/chaeeunkim/opt/anaconda3/lib/python3.9/site-packages (from trio~=0.17->selenium) (1.2.0)\n",
      "Requirement already satisfied: wsproto>=0.14 in /Users/chaeeunkim/opt/anaconda3/lib/python3.9/site-packages (from trio-websocket~=0.9->selenium) (1.0.0)\n",
      "Requirement already satisfied: pyOpenSSL>=0.14 in /Users/chaeeunkim/opt/anaconda3/lib/python3.9/site-packages (from urllib3[secure]~=1.26->selenium) (21.0.0)\n",
      "Requirement already satisfied: cryptography>=1.3.4 in /Users/chaeeunkim/opt/anaconda3/lib/python3.9/site-packages (from urllib3[secure]~=1.26->selenium) (3.4.8)\n",
      "Requirement already satisfied: certifi in /Users/chaeeunkim/opt/anaconda3/lib/python3.9/site-packages (from urllib3[secure]~=1.26->selenium) (2021.10.8)\n",
      "Requirement already satisfied: cffi>=1.12 in /Users/chaeeunkim/opt/anaconda3/lib/python3.9/site-packages (from cryptography>=1.3.4->urllib3[secure]~=1.26->selenium) (1.14.6)\n",
      "Requirement already satisfied: pycparser in /Users/chaeeunkim/opt/anaconda3/lib/python3.9/site-packages (from cffi>=1.12->cryptography>=1.3.4->urllib3[secure]~=1.26->selenium) (2.20)\n",
      "Requirement already satisfied: six>=1.5.2 in /Users/chaeeunkim/opt/anaconda3/lib/python3.9/site-packages (from pyOpenSSL>=0.14->urllib3[secure]~=1.26->selenium) (1.16.0)\n",
      "Requirement already satisfied: h11<1,>=0.9.0 in /Users/chaeeunkim/opt/anaconda3/lib/python3.9/site-packages (from wsproto>=0.14->trio-websocket~=0.9->selenium) (0.12.0)\n"
     ]
    }
   ],
   "source": [
    "#정보 요청 라이브러리\n",
    "!pip install requests\n",
    "\n",
    "#크롤링의 대부 라이브러리\n",
    "!pip install beautifulsoup4\n",
    "\n",
    "#구문 분석 라이브러리\n",
    "!pip install lxml\n",
    "\n",
    "#동적 컨트롤도 가능한 크롤링 라이브러리\n",
    "!pip install selenium"
   ]
  },
  {
   "cell_type": "code",
   "execution_count": 3,
   "id": "537d09e8-f4e4-4feb-bfd5-0b361595cdb1",
   "metadata": {},
   "outputs": [],
   "source": [
    "#정보요청 라이브러리 import\n",
    "import requests"
   ]
  },
  {
   "cell_type": "code",
   "execution_count": 4,
   "id": "ca923642-7201-4293-9647-5c3e314d4966",
   "metadata": {},
   "outputs": [],
   "source": [
    "#네이버로 정보요청\n",
    "res1 = requests.get(\"https://www.saramin.co.kr/zf_user/jobs/list/domestic\")"
   ]
  },
  {
   "cell_type": "code",
   "execution_count": 5,
   "id": "c4a2a331-4d04-45e7-8589-258597a74468",
   "metadata": {},
   "outputs": [
    {
     "name": "stdout",
     "output_type": "stream",
     "text": [
      "응답코드 : 200\n"
     ]
    }
   ],
   "source": [
    "#네이버로부터 받은 응답코드 출력\n",
    "print(\"응답코드 :\", res1.status_code)"
   ]
  },
  {
   "cell_type": "code",
   "execution_count": 6,
   "id": "96f564ac-4535-4620-b254-bf7f0158e311",
   "metadata": {},
   "outputs": [
    {
     "name": "stdout",
     "output_type": "stream",
     "text": [
      "웹 크롤링을 진행합니다.\n"
     ]
    }
   ],
   "source": [
    "#정상적으로 정보를 받은 경우 지속, 그렇지 않은 경우 중지\n",
    "res1.raise_for_status()\n",
    "print(\"웹 크롤링을 진행합니다.\")"
   ]
  },
  {
   "cell_type": "code",
   "execution_count": 7,
   "id": "9acda075-292a-4392-b51d-209f9fefe1e3",
   "metadata": {},
   "outputs": [],
   "source": [
    "#네이버로부터 받은 html 문서 정보 전체 출력\n",
    "#res1.text"
   ]
  },
  {
   "cell_type": "code",
   "execution_count": 8,
   "id": "c42316df-87a6-4f71-ad69-6d7fcc0ebd45",
   "metadata": {},
   "outputs": [],
   "source": [
    "# 네이버 html 문서를 naver html 파일로 저장 \n",
    "with open('saramin.html', 'w', encoding = 'utf8') as f:\n",
    "    f.write(res1.text)"
   ]
  },
  {
   "cell_type": "code",
   "execution_count": 9,
   "id": "090d595f-a3ca-4e6b-bfdb-30cdd0aec637",
   "metadata": {},
   "outputs": [],
   "source": [
    "#정보요청 라이브러리 import\n",
    "import requests\n",
    "\n",
    "#크롤링 라이브러리 import\n",
    "from bs4 import BeautifulSoup "
   ]
  },
  {
   "cell_type": "code",
   "execution_count": 10,
   "id": "7ac7de86-5c84-4bda-8fc2-42ec34199f93",
   "metadata": {},
   "outputs": [],
   "source": [
    "#User-Agent 지정\n",
    "headers = {'User-Agent' : 'Mozilla/5.0 (Windows NT 10.0; Win64; x64) AppleWebKit/537.36 (KHTML, like Gecko) Chrome/97.0.4692.71 Safari/537.36'}"
   ]
  },
  {
   "cell_type": "code",
   "execution_count": 11,
   "id": "34aef624-e72d-4dfe-bd88-6ff6160c660d",
   "metadata": {},
   "outputs": [],
   "source": [
    "#크롤링 할 대상 url 지정\n",
    "url = 'https://www.saramin.co.kr/zf_user/jobs/list/domestic'\n",
    "\n",
    "#크롤링 대상 url과 headers를 기반으로 정보 요청\n",
    "res = requests.get(url, headers = headers)\n",
    "\n",
    "#정상적으로 정보를 받은 경우 지속, 그렇지 않은 경우 중지\n",
    "res.raise_for_status()\n",
    "\n",
    "#html문서를 beautifulsoup의 lxml 형태로 변환\n",
    "soup = BeautifulSoup(res.text, 'lxml') "
   ]
  },
  {
   "cell_type": "code",
   "execution_count": 12,
   "id": "215eaadb-1757-4553-85d9-e8132edb6664",
   "metadata": {},
   "outputs": [
    {
     "data": {
      "text/plain": [
       "<div class=\"list_item\" id=\"rec-41908162\">\n",
       "<div class=\"col company_nm\">\n",
       "<a class=\"str_tit\" href=\"/zf_user/jobs/relay/view?view_type=list&amp;rec_idx=41908162\" onclick=\"s_trackApply(this, 'area_recruit', 'general');\" target=\"_blank\" title=\"(주)씨에스원파트너\"><span>(주)씨에스원파트너</span></a> <div class=\"toolTipWrap wrap_interested_corp\"><button class=\"interested_corp\" csn=\"anJrSC9VelAyVDk2VStBVjFuNXZVUT09\" del_fl=\"n\" first_nudge=\"off\" onclick=\"try{Saramin.btnJob('favor', this, '', 'list');}catch(e){}\" onmouseout=\"Saramin.favorTooltip(this, 'off');\" onmouseover=\"Saramin.favorTooltip(this, 'on');\" title=\"관심기업 등록\" type=\"button\"><span>관심기업 등록</span></button><div class=\"toolTip\"><span class=\"tail tail_bottom_center\"></span><div class=\"toolTipCont txtCenter\">관심기업 등록</div></div></div> <span class=\"main_corp\" title=\"LG그룹\">LG그룹</span>\n",
       "<div class=\"icon\">\n",
       "<span class=\"icon_flag\" title=\"파견·아웃소싱·채용대행 기업\"><img alt=\"파견·도급·대행\" src=\"//www.saraminimage.co.kr/ui/icon/icon_dispatch.png\"/></span> </div>\n",
       "</div>\n",
       "<div class=\"col notification_info\">\n",
       "<div class=\"job_tit\">\n",
       "<a class=\"str_tit\" href=\"/zf_user/jobs/relay/view?view_type=list&amp;rec_idx=41908162\" id=\"rec_link_41908162\" onclick=\"s_trackApply(this, 'area_recruit', 'general');\" onmousedown=\"Saramin.clickAds(41908162, 'ads_category=section_favor_003')\" target=\"_blank\" title=\"부산 지하철1호선 중앙역 신입사원 채용중\"><span>부산 지하철1호선 중앙역 신입사원 채용중</span></a> <div class=\"toolTipWrap wrap_scrap\">\n",
       "<button bbs_fl=\"n\" class=\"spr_scrap btn_scrap scrap-41908162 off\" imgtype=\"button\" onclick=\"Saramin.btnJob('scrap',this,'','list');\" onmouseout=\"Saramin.favorTooltip(this, 'off');\" onmouseover=\"Saramin.favorTooltip(this, 'on');\" rec_idx=\"41908162\" scraped=\"n\" type=\"button\"><span class=\"blind\">스크랩</span></button><div class=\"toolTip\">\n",
       "<span class=\"tail tail_bottom_center\"></span>\n",
       "<div class=\"toolTipCont txtCenter\">스크랩</div>\n",
       "</div> </div>\n",
       "</div>\n",
       "<div class=\"job_meta\">\n",
       "<span class=\"job_sector\">\n",
       "<span>캐셔</span><span>판매직</span><span>핸드폰판매</span><span>매장관리</span><span>매표/검표</span> 외            </span>\n",
       "</div>\n",
       "<a class=\"new_window new_insatong icon_flag\" href=\"/zf_user/jobs/relay/view?view_type=list&amp;rec_idx=41908162#insaTop\" onclick=\"try{s_trackApply(this, 'area_recruit', 'general');}catch(e){};\" onfocus=\"this.blur();\" onmousedown=\"try{n_trackEvent('recruit_list', 'insatong', '');}catch(e){};\" target=\"_blank\" title=\"인사담당자 속마음\"><span><img alt=\"인사통보기\" src=\"//www.saraminimage.co.kr/ui/recruit/icon/icon_insatong_list.png\"/>인사통</span></a>\n",
       "</div>\n",
       "<div class=\"col recruit_condition\">\n",
       "<p class=\"career\">경력무관</p>\n",
       "<p class=\"education\">고졸↑</p>\n",
       "</div>\n",
       "<div class=\"col company_info\">\n",
       "<p class=\"employment_type\">정규직</p>\n",
       "<p class=\"work_place\">부산 중구</p>\n",
       "<p class=\"salary\">2,500만원 이상 (면접 후 협의)</p>\n",
       "</div>\n",
       "<div class=\"col support_info\">\n",
       "<p class=\"support_type\"><button class=\"sri_btn_xs\" onclick=\"try{quickApplyForm('41908162','','t_category=area_recruit&amp;t_content=general', ''); return false;} catch (e) {}; return false;\" onmousedown=\"try{n_trackEvent('apply','list','quick_apply');}catch(e){}\" title=\"클릭하면 입사지원할 수 있는 창이 뜹니다.\"><span class=\"sri_btn_immediately\">입사지원</span></button></p> <p class=\"deadlines\">~ 01/29(토)<span class=\"reg_date\">(25일 전 등록)</span></p>\n",
       "</div>\n",
       "<div class=\"similar_recruit\"></div>\n",
       "</div>"
      ]
     },
     "execution_count": 12,
     "metadata": {},
     "output_type": "execute_result"
    }
   ],
   "source": [
    "#html문서에서 col company_nm이라는 이름의 class를 지닌 div element를 선택\n",
    "div1 = soup.find('div', attrs = {'class' : 'list_item'})\n",
    "\n",
    "#선택한 element 내용 출력\n",
    "div1"
   ]
  },
  {
   "cell_type": "code",
   "execution_count": 13,
   "id": "b4b527f9-a707-4fdc-96ba-1cf766a6574d",
   "metadata": {},
   "outputs": [
    {
     "data": {
      "text/plain": [
       "<a class=\"str_tit\" href=\"/zf_user/jobs/relay/view?view_type=list&amp;rec_idx=41908162\" onclick=\"s_trackApply(this, 'area_recruit', 'general');\" target=\"_blank\" title=\"(주)씨에스원파트너\"><span>(주)씨에스원파트너</span></a>"
      ]
     },
     "execution_count": 13,
     "metadata": {},
     "output_type": "execute_result"
    }
   ],
   "source": [
    "#div1 element에서 첫번째로 발견되는 a element를 반환\n",
    "div1.a"
   ]
  },
  {
   "cell_type": "code",
   "execution_count": 14,
   "id": "faeb2a0b-21e8-43ad-a89d-7b4a9a8fbcdb",
   "metadata": {},
   "outputs": [
    {
     "data": {
      "text/plain": [
       "{'class': ['str_tit'],\n",
       " 'onclick': \"s_trackApply(this, 'area_recruit', 'general');\",\n",
       " 'title': '(주)씨에스원파트너',\n",
       " 'href': '/zf_user/jobs/relay/view?view_type=list&rec_idx=41908162',\n",
       " 'target': '_blank'}"
      ]
     },
     "execution_count": 14,
     "metadata": {},
     "output_type": "execute_result"
    }
   ],
   "source": [
    "#div1 element에서 첫번째로 발견되는 a element의 attribute 추출\n",
    "div1.a.attrs"
   ]
  },
  {
   "cell_type": "code",
   "execution_count": 15,
   "id": "5cafe047-c87a-4844-b8a9-710baf6cf57c",
   "metadata": {},
   "outputs": [
    {
     "data": {
      "text/plain": [
       "'(주)씨에스원파트너'"
      ]
     },
     "execution_count": 15,
     "metadata": {},
     "output_type": "execute_result"
    }
   ],
   "source": [
    "#div1 element에서 첫번째로 발견되는 a element의 class attribute 정보 추출\n",
    "div1.a['title']"
   ]
  },
  {
   "cell_type": "code",
   "execution_count": 16,
   "id": "8f0cc05f-4586-4b0b-8e67-b40dc411fbf9",
   "metadata": {},
   "outputs": [
    {
     "data": {
      "text/plain": [
       "'(주)씨에스원파트너'"
      ]
     },
     "execution_count": 16,
     "metadata": {},
     "output_type": "execute_result"
    }
   ],
   "source": [
    "#div1 element에서 첫번째로 발견되는 a element의 글자 추출\n",
    "div1.a.get_text()"
   ]
  },
  {
   "cell_type": "code",
   "execution_count": null,
   "id": "552b8792-587e-4b87-8feb-af0feaa0f588",
   "metadata": {},
   "outputs": [],
   "source": []
  },
  {
   "cell_type": "code",
   "execution_count": 17,
   "id": "06e8aaed-278c-457e-bdb1-1f2531a77435",
   "metadata": {},
   "outputs": [
    {
     "data": {
      "text/plain": [
       "<div class=\"job_tit\">\n",
       "<a class=\"str_tit\" href=\"/zf_user/jobs/relay/view?view_type=list&amp;rec_idx=41908162\" id=\"rec_link_41908162\" onclick=\"s_trackApply(this, 'area_recruit', 'general');\" onmousedown=\"Saramin.clickAds(41908162, 'ads_category=section_favor_003')\" target=\"_blank\" title=\"부산 지하철1호선 중앙역 신입사원 채용중\"><span>부산 지하철1호선 중앙역 신입사원 채용중</span></a> <div class=\"toolTipWrap wrap_scrap\">\n",
       "<button bbs_fl=\"n\" class=\"spr_scrap btn_scrap scrap-41908162 off\" imgtype=\"button\" onclick=\"Saramin.btnJob('scrap',this,'','list');\" onmouseout=\"Saramin.favorTooltip(this, 'off');\" onmouseover=\"Saramin.favorTooltip(this, 'on');\" rec_idx=\"41908162\" scraped=\"n\" type=\"button\"><span class=\"blind\">스크랩</span></button><div class=\"toolTip\">\n",
       "<span class=\"tail tail_bottom_center\"></span>\n",
       "<div class=\"toolTipCont txtCenter\">스크랩</div>\n",
       "</div> </div>\n",
       "</div>"
      ]
     },
     "execution_count": 17,
     "metadata": {},
     "output_type": "execute_result"
    }
   ],
   "source": [
    "#html문서에서 col company_nm이라는 이름의 class를 지닌 div element를 선택\n",
    "div2 = soup.find('div', attrs = {'class' : 'job_tit'})\n",
    "\n",
    "#선택한 element 내용 출력\n",
    "div2"
   ]
  },
  {
   "cell_type": "code",
   "execution_count": 18,
   "id": "95575247-9653-4948-9cbb-978f48539af8",
   "metadata": {},
   "outputs": [
    {
     "data": {
      "text/plain": [
       "<a class=\"str_tit\" href=\"/zf_user/jobs/relay/view?view_type=list&amp;rec_idx=41908162\" id=\"rec_link_41908162\" onclick=\"s_trackApply(this, 'area_recruit', 'general');\" onmousedown=\"Saramin.clickAds(41908162, 'ads_category=section_favor_003')\" target=\"_blank\" title=\"부산 지하철1호선 중앙역 신입사원 채용중\"><span>부산 지하철1호선 중앙역 신입사원 채용중</span></a>"
      ]
     },
     "execution_count": 18,
     "metadata": {},
     "output_type": "execute_result"
    }
   ],
   "source": [
    "#div1 element에서 첫번째로 발견되는 a element를 반환\n",
    "div2.a"
   ]
  },
  {
   "cell_type": "code",
   "execution_count": 19,
   "id": "0a4c9400-6f7a-4760-b974-4c2a3d0d614b",
   "metadata": {},
   "outputs": [
    {
     "data": {
      "text/plain": [
       "{'class': ['str_tit'],\n",
       " 'id': 'rec_link_41908162',\n",
       " 'onclick': \"s_trackApply(this, 'area_recruit', 'general');\",\n",
       " 'title': '부산 지하철1호선 중앙역 신입사원 채용중',\n",
       " 'href': '/zf_user/jobs/relay/view?view_type=list&rec_idx=41908162',\n",
       " 'target': '_blank',\n",
       " 'onmousedown': \"Saramin.clickAds(41908162, 'ads_category=section_favor_003')\"}"
      ]
     },
     "execution_count": 19,
     "metadata": {},
     "output_type": "execute_result"
    }
   ],
   "source": [
    "#div1 element에서 첫번째로 발견되는 a element의 attribute 추출\n",
    "div2.a.attrs"
   ]
  },
  {
   "cell_type": "code",
   "execution_count": 20,
   "id": "bed83cba-510f-4fee-bb1d-c2f7b5a7df8b",
   "metadata": {},
   "outputs": [
    {
     "data": {
      "text/plain": [
       "'부산 지하철1호선 중앙역 신입사원 채용중'"
      ]
     },
     "execution_count": 20,
     "metadata": {},
     "output_type": "execute_result"
    }
   ],
   "source": [
    "#div1 element에서 첫번째로 발견되는 a element의 class attribute 정보 추출\n",
    "div2.a['title']"
   ]
  },
  {
   "cell_type": "code",
   "execution_count": 21,
   "id": "05b7f28f-85ab-425d-97c1-c001f0c81943",
   "metadata": {},
   "outputs": [
    {
     "data": {
      "text/plain": [
       "'부산 지하철1호선 중앙역 신입사원 채용중'"
      ]
     },
     "execution_count": 21,
     "metadata": {},
     "output_type": "execute_result"
    }
   ],
   "source": [
    "#div1 element에서 첫번째로 발견되는 a element의 글자 추출\n",
    "div2.a.get_text()"
   ]
  },
  {
   "cell_type": "code",
   "execution_count": null,
   "id": "2f085f4f-bb4f-43ff-a1d6-0185acdbba27",
   "metadata": {},
   "outputs": [],
   "source": []
  },
  {
   "cell_type": "code",
   "execution_count": 22,
   "id": "b0e17190-29f0-40f0-8bd6-4fbe553d45a8",
   "metadata": {},
   "outputs": [],
   "source": [
    "#크롤링 할 대상 url 지정\n",
    "#url = 'https://news.naver.com/main/main.naver?mode=LSD&mid=shm&sid1=100'\n",
    "\n",
    "#크롤링 대상 url과 headers를 기반으로 정보 요청\n",
    "#res = requests.get(url, headers = headers)\n",
    "\n",
    "#정상적으로 정보를 받은 경우 지속, 그렇지 않은 경우 중지\n",
    "#res.raise_for_status()\n",
    "\n",
    "#html문서를 beautifulsoup의 lxml 형태로 변환\n",
    "#soup = BeautifulSoup(res.text, 'lxml') "
   ]
  },
  {
   "cell_type": "code",
   "execution_count": 23,
   "id": "f5322a10-3ed2-4f0b-9a35-bdda9cf17edf",
   "metadata": {},
   "outputs": [
    {
     "data": {
      "text/plain": [
       "[<a class=\"str_tit\" href=\"/zf_user/jobs/relay/view?view_type=list&amp;rec_idx=41908162\" onclick=\"s_trackApply(this, 'area_recruit', 'general');\" target=\"_blank\" title=\"(주)씨에스원파트너\"><span>(주)씨에스원파트너</span></a>,\n",
       " <a class=\"str_tit\" href=\"/zf_user/jobs/relay/view?view_type=list&amp;rec_idx=41908162\" id=\"rec_link_41908162\" onclick=\"s_trackApply(this, 'area_recruit', 'general');\" onmousedown=\"Saramin.clickAds(41908162, 'ads_category=section_favor_003')\" target=\"_blank\" title=\"부산 지하철1호선 중앙역 신입사원 채용중\"><span>부산 지하철1호선 중앙역 신입사원 채용중</span></a>,\n",
       " <a class=\"str_tit\" href=\"/zf_user/jobs/relay/view?view_type=list&amp;rec_idx=42052911\" onclick=\"s_trackApply(this, 'area_recruit', 'general');\" target=\"_blank\" title=\"베스트테크(Best Tech)\"><span>베스트테크(Best Tech)</span></a>,\n",
       " <a class=\"str_tit\" href=\"/zf_user/jobs/relay/view?view_type=list&amp;rec_idx=42052911\" id=\"rec_link_42052911\" onclick=\"s_trackApply(this, 'area_recruit', 'general');\" onmousedown=\"Saramin.clickAds(42052911, 'ads_category=section_favor_003')\" target=\"_blank\" title=\"기술영업직 / 기술서비스직 정규직 채용\"><span>기술영업직 / 기술서비스직 정규직 채용</span></a>,\n",
       " <a class=\"str_tit\" href=\"/zf_user/jobs/relay/view?view_type=list&amp;rec_idx=42053125\" onclick=\"s_trackApply(this, 'area_recruit', 'general');\" target=\"_blank\" title=\"(주)화인맨파워\"><span>(주)화인맨파워</span></a>,\n",
       " <a class=\"str_tit\" href=\"/zf_user/jobs/relay/view?view_type=list&amp;rec_idx=42053125\" id=\"rec_link_42053125\" onclick=\"s_trackApply(this, 'area_recruit', 'general');\" onmousedown=\"Saramin.clickAds(42053125, 'ads_category=section_favor_003')\" target=\"_blank\" title=\"[불광점] 상담.사무 직원 모집\"><span>[불광점] 상담.사무 직원 모집</span></a>,\n",
       " <a class=\"str_tit\" href=\"/zf_user/jobs/relay/view?view_type=list&amp;rec_idx=42003169\" onclick=\"s_trackApply(this, 'area_recruit', 'general');\" target=\"_blank\" title=\"건웅토건(주)\"><span>건웅토건(주)</span></a>,\n",
       " <a class=\"str_tit\" href=\"/zf_user/jobs/relay/view?view_type=list&amp;rec_idx=42003169\" id=\"rec_link_42003169\" onclick=\"s_trackApply(this, 'area_recruit', 'general');\" onmousedown=\"Saramin.clickAds(42003169, 'ads_category=section_favor_003')\" target=\"_blank\" title=\"2022년도 상반기 신입/경력사원 정규모집\"><span>2022년도 상반기 신입/경력사원 정규모집</span></a>,\n",
       " <a class=\"str_tit\" href=\"/zf_user/jobs/relay/view?view_type=list&amp;rec_idx=42103713\" onclick=\"s_trackApply(this, 'area_recruit', 'general');\" target=\"_blank\" title=\"범어로제피부과의원\"><span>범어로제피부과의원</span></a>,\n",
       " <a class=\"str_tit\" href=\"/zf_user/jobs/relay/view?view_type=list&amp;rec_idx=42103713\" id=\"rec_link_42103713\" onclick=\"s_trackApply(this, 'area_recruit', 'general');\" onmousedown=\"Saramin.clickAds(42103713, 'ads_category=section_favor_003')\" target=\"_blank\" title=\"[당신의 자부심] 2022년 범어로제피부과  모든 직무 정규직 모집\"><span>[당신의 자부심] 2022년 범어로제피부과  모든 직무 정규직 모집</span></a>,\n",
       " <a class=\"str_tit\" href=\"/zf_user/jobs/relay/view?view_type=list&amp;rec_idx=42028415\" onclick=\"s_trackApply(this, 'area_recruit', 'general');\" target=\"_blank\" title=\"(주)제이브로컴퍼니\"><span>(주)제이브로컴퍼니</span></a>,\n",
       " <a class=\"str_tit\" href=\"/zf_user/jobs/relay/view?view_type=list&amp;rec_idx=42028415\" id=\"rec_link_42028415\" onclick=\"s_trackApply(this, 'area_recruit', 'general');\" onmousedown=\"Saramin.clickAds(42028415, 'ads_category=section_favor_003')\" target=\"_blank\" title=\"[2022 개발 부분] JBRO 컴퍼니 개발자 모집\"><span>[2022 개발 부분] JBRO 컴퍼니 개발자 모집</span></a>,\n",
       " <a class=\"str_tit\" href=\"/zf_user/jobs/relay/view?view_type=list&amp;rec_idx=41961371\" onclick=\"s_trackApply(this, 'area_recruit', 'general');\" target=\"_blank\" title=\"넥스콘건설(주)\"><span>넥스콘건설(주)</span></a>,\n",
       " <a class=\"str_tit\" href=\"/zf_user/jobs/relay/view?view_type=list&amp;rec_idx=41961371\" id=\"rec_link_41961371\" onclick=\"s_trackApply(this, 'area_recruit', 'general');\" onmousedown=\"Saramin.clickAds(41961371, 'ads_category=section_favor_003')\" target=\"_blank\" title=\"건설회사 회계/경리 업무 모집(경력)\"><span>건설회사 회계/경리 업무 모집(경력)</span></a>,\n",
       " <a class=\"str_tit\" href=\"/zf_user/jobs/relay/view?view_type=list&amp;rec_idx=42022151\" onclick=\"s_trackApply(this, 'area_recruit', 'general');\" target=\"_blank\" title=\"누베스(주)\"><span>누베스(주)</span></a>,\n",
       " <a class=\"str_tit\" href=\"/zf_user/jobs/relay/view?view_type=list&amp;rec_idx=42022151\" id=\"rec_link_42022151\" onclick=\"s_trackApply(this, 'area_recruit', 'general');\" onmousedown=\"Saramin.clickAds(42022151, 'ads_category=section_favor_003')\" target=\"_blank\" title=\"누베스 각 부문(재단/단순조립) 담당직원 모집\"><span>누베스 각 부문(재단/단순조립) 담당직원 모집</span></a>,\n",
       " <a class=\"str_tit\" href=\"/zf_user/jobs/relay/view?view_type=list&amp;rec_idx=42082634\" onclick=\"s_trackApply(this, 'area_recruit', 'general');\" target=\"_blank\" title=\"케이디컴퍼니\"><span>케이디컴퍼니</span></a>,\n",
       " <a class=\"str_tit\" href=\"/zf_user/jobs/relay/view?view_type=list&amp;rec_idx=42082634\" id=\"rec_link_42082634\" onclick=\"s_trackApply(this, 'area_recruit', 'general');\" onmousedown=\"Saramin.clickAds(42082634, 'ads_category=section_favor_003')\" target=\"_blank\" title=\"광고회사 쇼핑몰 광고주 응대 및 cs 마케팅\"><span>광고회사 쇼핑몰 광고주 응대 및 cs 마케팅</span></a>,\n",
       " <a class=\"str_tit\" href=\"/zf_user/jobs/relay/view?view_type=list&amp;rec_idx=41861079\" onclick=\"s_trackApply(this, 'area_recruit', 'general');\" target=\"_blank\" title=\"플랜비\"><span>플랜비</span></a>,\n",
       " <a class=\"str_tit\" href=\"/zf_user/jobs/relay/view?view_type=list&amp;rec_idx=41861079\" id=\"rec_link_41861079\" onclick=\"s_trackApply(this, 'area_recruit', 'general');\" onmousedown=\"Saramin.clickAds(41861079, 'ads_category=section_favor_003')\" target=\"_blank\" title=\"[정규직] 제작PD &amp;amp; 영상편집 신입/경력 채용\"><span>[정규직] 제작PD &amp; 영상편집 신입/경력 채용</span></a>,\n",
       " <a class=\"str_tit\" href=\"/zf_user/jobs/relay/view?view_type=list&amp;rec_idx=41890080\" onclick=\"s_trackApply(this, 'area_recruit', 'general');\" target=\"_blank\" title=\"마르코코리아시스템어날리시스앤디밸럽먼트(주)\"><span>마르코코리아시스템어날리시스앤디밸럽먼..</span></a>,\n",
       " <a class=\"str_tit\" href=\"/zf_user/jobs/relay/view?view_type=list&amp;rec_idx=41890080\" id=\"rec_link_41890080\" onclick=\"s_trackApply(this, 'area_recruit', 'general');\" onmousedown=\"Saramin.clickAds(41890080, 'ads_category=section_favor_003')\" target=\"_blank\" title=\"[marco Gmbh] 한국법인 품질분석/품질관리 경력자 모집\"><span>[marco Gmbh] 한국법인 품질분석/품질관리 경력자 모집</span></a>,\n",
       " <a class=\"str_tit\" href=\"/zf_user/jobs/relay/view?view_type=list&amp;rec_idx=41990688\" onclick=\"s_trackApply(this, 'area_recruit', 'general');\" target=\"_blank\" title=\"(주)라온어스\"><span>(주)라온어스</span></a>,\n",
       " <a class=\"str_tit\" href=\"/zf_user/jobs/relay/view?view_type=list&amp;rec_idx=41990688\" id=\"rec_link_41990688\" onclick=\"s_trackApply(this, 'area_recruit', 'general');\" onmousedown=\"Saramin.clickAds(41990688, 'ads_category=section_favor_003')\" target=\"_blank\" title=\"[정규직] 웹디자이너/온라인마케터  경력자 채용\"><span>[정규직] 웹디자이너/온라인마케터  경력자 채용</span></a>,\n",
       " <a class=\"str_tit\" href=\"/zf_user/jobs/relay/view?view_type=list&amp;rec_idx=42048470\" onclick=\"s_trackApply(this, 'area_recruit', 'general');\" target=\"_blank\" title=\"(주)더필링컴퍼니\"><span>(주)더필링컴퍼니</span></a>,\n",
       " <a class=\"str_tit\" href=\"/zf_user/jobs/relay/view?view_type=list&amp;rec_idx=42048470\" id=\"rec_link_42048470\" onclick=\"s_trackApply(this, 'area_recruit', 'general');\" onmousedown=\"Saramin.clickAds(42048470, 'ads_category=section_favor_003')\" target=\"_blank\" title=\"광고, 홍보, 웹드라마 영상 편집 감독 모집 (포트폴리오 제출필)\"><span>광고, 홍보, 웹드라마 영상 편집 감독 모집 (포트폴리오 제출필)</span></a>,\n",
       " <a class=\"str_tit\" href=\"/zf_user/jobs/relay/view?view_type=list&amp;rec_idx=41924426\" onclick=\"s_trackApply(this, 'area_recruit', 'general');\" target=\"_blank\" title=\"(주)세영씨앤씨그래픽스\"><span>(주)세영씨앤씨그래픽스</span></a>,\n",
       " <a class=\"str_tit\" href=\"/zf_user/jobs/relay/view?view_type=list&amp;rec_idx=41924426\" id=\"rec_link_41924426\" onclick=\"s_trackApply(this, 'area_recruit', 'general');\" onmousedown=\"Saramin.clickAds(41924426, 'ads_category=section_favor_003')\" target=\"_blank\" title=\"배송 채용 - 정규직-서울-경기서남권지역(10건내외)\"><span>배송 채용 - 정규직-서울-경기서남권지역(10건내외)</span></a>,\n",
       " <a class=\"str_tit\" href=\"/zf_user/jobs/relay/view?view_type=list&amp;rec_idx=41836594\" onclick=\"s_trackApply(this, 'area_recruit', 'general');\" target=\"_blank\" title=\"주식회사 천명\"><span>주식회사 천명</span></a>,\n",
       " <a class=\"str_tit\" href=\"/zf_user/jobs/relay/view?view_type=list&amp;rec_idx=41836594\" id=\"rec_link_41836594\" onclick=\"s_trackApply(this, 'area_recruit', 'general');\" onmousedown=\"Saramin.clickAds(41836594, 'ads_category=section_favor_003')\" target=\"_blank\" title=\"단순생산직(정규직) /조립/생산AS 직원 모집\"><span>단순생산직(정규직) /조립/생산AS 직원 모집</span></a>,\n",
       " <a class=\"str_tit\" href=\"/zf_user/jobs/relay/view?view_type=list&amp;rec_idx=42061052\" onclick=\"s_trackApply(this, 'area_recruit', 'general');\" target=\"_blank\" title=\"베리준오디자인센터(주)\"><span>베리준오디자인센터(주)</span></a>,\n",
       " <a class=\"str_tit\" href=\"/zf_user/jobs/relay/view?view_type=list&amp;rec_idx=42061052\" id=\"rec_link_42061052\" onclick=\"s_trackApply(this, 'area_recruit', 'general');\" onmousedown=\"Saramin.clickAds(42061052, 'ads_category=section_favor_003')\" target=\"_blank\" title=\"베리준오디자인센터 그래픽 디자이너 신입 · 경력 채용\"><span>베리준오디자인센터 그래픽 디자이너 신입 · 경력 채용</span></a>,\n",
       " <a class=\"str_tit\" href=\"/zf_user/jobs/relay/view?view_type=list&amp;rec_idx=41985070\" onclick=\"s_trackApply(this, 'area_recruit', 'general');\" target=\"_blank\" title=\"티제이커뮤니케이션(주)\"><span>티제이커뮤니케이션(주)</span></a>,\n",
       " <a class=\"str_tit\" href=\"/zf_user/jobs/relay/view?view_type=list&amp;rec_idx=41985070\" id=\"rec_link_41985070\" onclick=\"s_trackApply(this, 'area_recruit', 'general');\" onmousedown=\"Saramin.clickAds(41985070, 'ads_category=section_favor_003')\" target=\"_blank\" title=\"국내노래방 1위 TJ 서비스 기획/운영자 및 개발자 정규직 모집\"><span>국내노래방 1위 TJ 서비스 기획/운영자 및 개발자 정규직 모집</span></a>,\n",
       " <a class=\"str_tit\" href=\"/zf_user/jobs/relay/view?view_type=list&amp;rec_idx=41869811\" onclick=\"s_trackApply(this, 'area_recruit', 'general');\" target=\"_blank\" title=\"미니쉬치과병원\"><span>미니쉬치과병원</span></a>,\n",
       " <a class=\"str_tit\" href=\"/zf_user/jobs/relay/view?view_type=list&amp;rec_idx=41869811\" id=\"rec_link_41869811\" onclick=\"s_trackApply(this, 'area_recruit', 'general');\" onmousedown=\"Saramin.clickAds(41869811, 'ads_category=section_favor_003')\" target=\"_blank\" title=\"(정규직) 경영지원팀 회계파트 사원모집\"><span>(정규직) 경영지원팀 회계파트 사원모집</span></a>,\n",
       " <a class=\"str_tit\" href=\"/zf_user/jobs/relay/view?view_type=list&amp;rec_idx=42037244\" onclick=\"s_trackApply(this, 'area_recruit', 'general');\" target=\"_blank\" title=\"㈜쟈뎅\"><span>㈜쟈뎅</span></a>,\n",
       " <a class=\"str_tit\" href=\"/zf_user/jobs/relay/view?view_type=list&amp;rec_idx=42037244\" id=\"rec_link_42037244\" onclick=\"s_trackApply(this, 'area_recruit', 'general');\" onmousedown=\"Saramin.clickAds(42037244, 'ads_category=section_favor_003')\" target=\"_blank\" title=\"쟈뎅 기획조정실 모집 공고(정규직)\"><span>쟈뎅 기획조정실 모집 공고(정규직)</span></a>,\n",
       " <a class=\"str_tit\" href=\"/zf_user/jobs/relay/view?view_type=list&amp;rec_idx=42070993\" onclick=\"s_trackApply(this, 'area_recruit', 'general');\" target=\"_blank\" title=\"㈜켐리치\"><span>㈜켐리치</span></a>,\n",
       " <a class=\"str_tit\" href=\"/zf_user/jobs/relay/view?view_type=list&amp;rec_idx=42070993\" id=\"rec_link_42070993\" onclick=\"s_trackApply(this, 'area_recruit', 'general');\" onmousedown=\"Saramin.clickAds(42070993, 'ads_category=section_favor_003')\" target=\"_blank\" title=\"켐리치 2022 상반기 사원 모집\"><span>켐리치 2022 상반기 사원 모집</span></a>,\n",
       " <a class=\"str_tit\" href=\"/zf_user/jobs/relay/view?view_type=list&amp;rec_idx=42070986\" onclick=\"s_trackApply(this, 'area_recruit', 'general');\" target=\"_blank\" title=\"(주)로우클래식\"><span>(주)로우클래식</span></a>,\n",
       " <a class=\"str_tit\" href=\"/zf_user/jobs/relay/view?view_type=list&amp;rec_idx=42070986\" id=\"rec_link_42070986\" onclick=\"s_trackApply(this, 'area_recruit', 'general');\" onmousedown=\"Saramin.clickAds(42070986, 'ads_category=section_favor_003')\" target=\"_blank\" title=\"(로우클래식) 경영지원팀 회계/재무/인사 경력직 모집\"><span>(로우클래식) 경영지원팀 회계/재무/인사 경력직 모집</span></a>,\n",
       " <a class=\"str_tit\" href=\"/zf_user/jobs/relay/view?view_type=list&amp;rec_idx=42051015\" onclick=\"s_trackApply(this, 'area_recruit', 'general');\" target=\"_blank\" title=\"삼송의료재단  김포효병원\"><span>삼송의료재단 김포효병원</span></a>,\n",
       " <a class=\"str_tit\" href=\"/zf_user/jobs/relay/view?view_type=list&amp;rec_idx=42051015\" id=\"rec_link_42051015\" onclick=\"s_trackApply(this, 'area_recruit', 'general');\" onmousedown=\"Saramin.clickAds(42051015, 'ads_category=section_favor_003')\" target=\"_blank\" title=\"의료법인 사무 및 행정, 시설 관리 모집\"><span>의료법인 사무 및 행정, 시설 관리 모집</span></a>,\n",
       " <a class=\"str_tit\" href=\"/zf_user/jobs/relay/view?view_type=list&amp;rec_idx=42045173\" onclick=\"s_trackApply(this, 'area_recruit', 'general');\" target=\"_blank\" title=\"(주)블리비네트워크\"><span>(주)블리비네트워크</span></a>,\n",
       " <a class=\"str_tit\" href=\"/zf_user/jobs/relay/view?view_type=list&amp;rec_idx=42045173\" id=\"rec_link_42045173\" onclick=\"s_trackApply(this, 'area_recruit', 'general');\" onmousedown=\"Saramin.clickAds(42045173, 'ads_category=section_favor_003')\" target=\"_blank\" title=\"[창원] 블리비클리닉 상담실장 추가 모집 #최고대우\"><span>[창원] 블리비클리닉 상담실장 추가 모집 #최고대우</span></a>,\n",
       " <a class=\"str_tit\" href=\"/zf_user/jobs/relay/view?view_type=list&amp;rec_idx=42027293\" onclick=\"s_trackApply(this, 'area_recruit', 'general');\" target=\"_blank\" title=\"(주)씨앤에스자산관리\"><span>(주)씨앤에스자산관리</span></a>,\n",
       " <a class=\"str_tit\" href=\"/zf_user/jobs/relay/view?view_type=list&amp;rec_idx=42027293\" id=\"rec_link_42027293\" onclick=\"s_trackApply(this, 'area_recruit', 'general');\" onmousedown=\"Saramin.clickAds(42027293, 'ads_category=section_favor_003')\" target=\"_blank\" title=\"(주)씨앤에스자산관리 본사 보건관리자 채용(신입/경력)\"><span>(주)씨앤에스자산관리 본사 보건관리자 채용(신입/경력)</span></a>,\n",
       " <a class=\"str_tit\" href=\"/zf_user/jobs/relay/view?view_type=list&amp;rec_idx=41986770\" onclick=\"s_trackApply(this, 'area_recruit', 'general');\" target=\"_blank\" title=\"태원과학㈜\"><span>태원과학㈜</span></a>,\n",
       " <a class=\"str_tit\" href=\"/zf_user/jobs/relay/view?view_type=list&amp;rec_idx=41986770\" id=\"rec_link_41986770\" onclick=\"s_trackApply(this, 'area_recruit', 'general');\" onmousedown=\"Saramin.clickAds(41986770, 'ads_category=section_favor_003')\" target=\"_blank\" title=\"[2022년] 기술영업 · 경영지원 · 영업지원 신입사원 채용\"><span>[2022년] 기술영업 · 경영지원 · 영업지원 신입사원 채용</span></a>,\n",
       " <a class=\"str_tit\" href=\"/zf_user/jobs/relay/view?view_type=list&amp;rec_idx=41645401\" onclick=\"s_trackApply(this, 'area_recruit', 'general');\" target=\"_blank\" title=\"(주)씨앤에스자산관리\"><span>(주)씨앤에스자산관리</span></a>,\n",
       " <a class=\"str_tit\" href=\"/zf_user/jobs/relay/view?view_type=list&amp;rec_idx=41645401\" id=\"rec_link_41645401\" onclick=\"s_trackApply(this, 'area_recruit', 'general');\" onmousedown=\"Saramin.clickAds(41645401, 'ads_category=section_favor_003')\" target=\"_blank\" title=\"일산 킨텍스 바이 케이트리 호텔 시설관리 3교대 근무자 모집\"><span>일산 킨텍스 바이 케이트리 호텔 시설관리 3교대 근무자 모집</span></a>,\n",
       " <a class=\"str_tit\" href=\"/zf_user/jobs/relay/view?view_type=list&amp;rec_idx=42101774\" onclick=\"s_trackApply(this, 'area_recruit', 'general');\" target=\"_blank\" title=\"㈜동훈\"><span>㈜동훈</span></a>,\n",
       " <a class=\"str_tit\" href=\"/zf_user/jobs/relay/view?view_type=list&amp;rec_idx=42101774\" id=\"rec_link_42101774\" onclick=\"s_trackApply(this, 'area_recruit', 'general');\" onmousedown=\"Saramin.clickAds(42101774, 'ads_category=section_favor_003')\" target=\"_blank\" title=\"경기 포천 신설골프장 신규/경력 경기보조원(캐디) 모집\"><span>경기 포천 신설골프장 신규/경력 경기보조원(캐디) 모집</span></a>,\n",
       " <a class=\"str_tit\" href=\"/zf_user/jobs/relay/view?view_type=list&amp;rec_idx=42100620\" onclick=\"s_trackApply(this, 'area_recruit', 'general');\" target=\"_blank\" title=\"대한결핵협회결핵연구원\"><span>대한결핵협회결핵연구원</span></a>,\n",
       " <a class=\"str_tit\" href=\"/zf_user/jobs/relay/view?view_type=list&amp;rec_idx=42100620\" id=\"rec_link_42100620\" onclick=\"s_trackApply(this, 'area_recruit', 'general');\" onmousedown=\"Saramin.clickAds(42100620, 'ads_category=section_favor_003')\" target=\"_blank\" title=\"[청주] 결핵연구원 임상병리사 채용\"><span>[청주] 결핵연구원 임상병리사 채용</span></a>,\n",
       " <a class=\"str_tit\" href=\"/zf_user/jobs/relay/view?view_type=list&amp;rec_idx=42056096\" onclick=\"s_trackApply(this, 'area_recruit', 'general');\" target=\"_blank\" title=\"디케이팩토리\"><span>디케이팩토리</span></a>,\n",
       " <a class=\"str_tit\" href=\"/zf_user/jobs/relay/view?view_type=list&amp;rec_idx=42056096\" id=\"rec_link_42056096\" onclick=\"s_trackApply(this, 'area_recruit', 'general');\" onmousedown=\"Saramin.clickAds(42056096, 'ads_category=section_favor_003')\" target=\"_blank\" title=\"[부산] 영업직 경력무관 모집 공고\"><span>[부산] 영업직 경력무관 모집 공고</span></a>,\n",
       " <a class=\"str_tit\" href=\"/zf_user/jobs/relay/view?view_type=list&amp;rec_idx=42098592\" onclick=\"s_trackApply(this, 'area_recruit', 'general');\" target=\"_blank\" title=\"(주)공간창조\"><span>(주)공간창조</span></a>,\n",
       " <a class=\"str_tit\" href=\"/zf_user/jobs/relay/view?view_type=list&amp;rec_idx=42098592\" id=\"rec_link_42098592\" onclick=\"s_trackApply(this, 'area_recruit', 'general');\" onmousedown=\"Saramin.clickAds(42098592, 'ads_category=section_favor_003')\" target=\"_blank\" title=\"총무·법무·사무, 기획·전략 담당자 채용 공고\"><span>총무·법무·사무, 기획·전략 담당자 채용 공고</span></a>,\n",
       " <a class=\"str_tit\" href=\"/zf_user/jobs/relay/view?view_type=list&amp;rec_idx=41674768\" onclick=\"s_trackApply(this, 'area_recruit', 'general');\" target=\"_blank\" title=\"(주)비티씨커뮤니케이션즈\"><span>(주)비티씨커뮤니케이션즈</span></a>,\n",
       " <a class=\"str_tit\" href=\"/zf_user/jobs/relay/view?view_type=list&amp;rec_idx=41674768\" id=\"rec_link_41674768\" onclick=\"s_trackApply(this, 'area_recruit', 'general');\" onmousedown=\"Saramin.clickAds(41674768, 'ads_category=section_favor_003')\" target=\"_blank\" title=\"BTL 프로모션 / MICE / 문화마케팅 기획 및 연출 경력자 모집\"><span>BTL 프로모션 / MICE / 문화마케팅 기획 및 연출 경력자 모집</span></a>,\n",
       " <a class=\"str_tit\" href=\"/zf_user/jobs/relay/view?view_type=list&amp;rec_idx=42021244\" onclick=\"s_trackApply(this, 'area_recruit', 'general');\" target=\"_blank\" title=\"(주)글로벌타임즈\"><span>(주)글로벌타임즈</span></a>,\n",
       " <a class=\"str_tit\" href=\"/zf_user/jobs/relay/view?view_type=list&amp;rec_idx=42021244\" id=\"rec_link_42021244\" onclick=\"s_trackApply(this, 'area_recruit', 'general');\" onmousedown=\"Saramin.clickAds(42021244, 'ads_category=section_favor_003')\" target=\"_blank\" title=\"[강북/코인언론사] 아웃바운드 코인TM / 최고의 인센과 복지\"><span>[강북/코인언론사] 아웃바운드 코인TM / 최고의 인센과 복지</span></a>,\n",
       " <a class=\"str_tit\" href=\"/zf_user/jobs/relay/view?view_type=list&amp;rec_idx=42065656\" onclick=\"s_trackApply(this, 'area_recruit', 'general');\" target=\"_blank\" title=\"(주)아이디\"><span>(주)아이디</span></a>,\n",
       " <a class=\"str_tit\" href=\"/zf_user/jobs/relay/view?view_type=list&amp;rec_idx=42065656\" id=\"rec_link_42065656\" onclick=\"s_trackApply(this, 'area_recruit', 'general');\" onmousedown=\"Saramin.clickAds(42065656, 'ads_category=section_favor_003')\" target=\"_blank\" title=\"전동지게차(리치/입식) 및 물류업무 직원 모집\"><span>전동지게차(리치/입식) 및 물류업무 직원 모집</span></a>,\n",
       " <a class=\"str_tit\" href=\"/zf_user/jobs/relay/view?view_type=list&amp;rec_idx=41996396\" onclick=\"s_trackApply(this, 'area_recruit', 'general');\" target=\"_blank\" title=\"파이런텍\"><span>파이런텍</span></a>,\n",
       " <a class=\"str_tit\" href=\"/zf_user/jobs/relay/view?view_type=list&amp;rec_idx=41996396\" id=\"rec_link_41996396\" onclick=\"s_trackApply(this, 'area_recruit', 'general');\" onmousedown=\"Saramin.clickAds(41996396, 'ads_category=section_favor_003')\" target=\"_blank\" title=\"[신입 및 경력사원] 크린룸설계 및  유틸리티 시공관리\"><span>[신입 및 경력사원] 크린룸설계 및  유틸리티 시공관리</span></a>,\n",
       " <a class=\"str_tit\" href=\"/zf_user/jobs/relay/view?view_type=list&amp;rec_idx=42058487\" onclick=\"s_trackApply(this, 'area_recruit', 'general');\" target=\"_blank\" title=\"(주)듀만\"><span>(주)듀만</span></a>,\n",
       " <a class=\"str_tit\" href=\"/zf_user/jobs/relay/view?view_type=list&amp;rec_idx=42058487\" id=\"rec_link_42058487\" onclick=\"s_trackApply(this, 'area_recruit', 'general');\" onmousedown=\"Saramin.clickAds(42058487, 'ads_category=section_favor_003')\" target=\"_blank\" title=\"해외영업·무역영업(영어&amp;amp;해외영업) 모집 공고\"><span>해외영업·무역영업(영어&amp;해외영업) 모집 공고</span></a>,\n",
       " <a class=\"str_tit\" href=\"/zf_user/jobs/relay/view?view_type=list&amp;rec_idx=42028770\" onclick=\"s_trackApply(this, 'area_recruit', 'general');\" target=\"_blank\" title=\"(주)머큐리원\"><span>(주)머큐리원</span></a>,\n",
       " <a class=\"str_tit\" href=\"/zf_user/jobs/relay/view?view_type=list&amp;rec_idx=42028770\" id=\"rec_link_42028770\" onclick=\"s_trackApply(this, 'area_recruit', 'general');\" onmousedown=\"Saramin.clickAds(42028770, 'ads_category=section_favor_003')\" target=\"_blank\" title=\"경영지원 경력 모집 - 정규직\"><span>경영지원 경력 모집 - 정규직</span></a>,\n",
       " <a class=\"str_tit\" href=\"/zf_user/jobs/relay/view?view_type=list&amp;rec_idx=42005502\" onclick=\"s_trackApply(this, 'area_recruit', 'general');\" target=\"_blank\" title=\"커피사피엔스 평촌점\"><span>커피사피엔스 평촌점</span></a>,\n",
       " <a class=\"str_tit\" href=\"/zf_user/jobs/relay/view?view_type=list&amp;rec_idx=42005502\" id=\"rec_link_42005502\" onclick=\"s_trackApply(this, 'area_recruit', 'general');\" onmousedown=\"Saramin.clickAds(42005502, 'ads_category=section_favor_003')\" target=\"_blank\" title=\"(주) 사피엔스 커피 베이커리 제과 제빵 추가 채용\"><span>(주) 사피엔스 커피 베이커리 제과 제빵 추가 채용</span></a>,\n",
       " <a class=\"str_tit\" href=\"/zf_user/jobs/relay/view?view_type=list&amp;rec_idx=42045146\" onclick=\"s_trackApply(this, 'area_recruit', 'general');\" target=\"_blank\" title=\"스킨앤유 일산\"><span>스킨앤유 일산</span></a>,\n",
       " <a class=\"str_tit\" href=\"/zf_user/jobs/relay/view?view_type=list&amp;rec_idx=42045146\" id=\"rec_link_42045146\" onclick=\"s_trackApply(this, 'area_recruit', 'general');\" onmousedown=\"Saramin.clickAds(42045146, 'ads_category=section_favor_003')\" target=\"_blank\" title=\"[스킨앤유일산/2월오픈] 피부관리사 경력직 연봉3500세전/주5일\"><span>[스킨앤유일산/2월오픈] 피부관리사 경력직 연봉3500세전/주5일</span></a>,\n",
       " <a class=\"str_tit\" href=\"/zf_user/jobs/relay/view?view_type=list&amp;rec_idx=42078437\" onclick=\"s_trackApply(this, 'area_recruit', 'general');\" target=\"_blank\" title=\"만랩(10000lab)\"><span>만랩(10000lab)</span></a>,\n",
       " <a class=\"str_tit\" href=\"/zf_user/jobs/relay/view?view_type=list&amp;rec_idx=42078437\" id=\"rec_link_42078437\" onclick=\"s_trackApply(this, 'area_recruit', 'general');\" onmousedown=\"Saramin.clickAds(42078437, 'ads_category=section_favor_003')\" target=\"_blank\" title=\"온라인(오픈마켓/온라인마켓등)경리회계 / 마케팅사무보조 채용\"><span>온라인(오픈마켓/온라인마켓등)경리회계 / 마케팅사무보조 채용</span></a>,\n",
       " <a class=\"str_tit\" href=\"/zf_user/jobs/relay/view?view_type=list&amp;rec_idx=41985344\" onclick=\"s_trackApply(this, 'area_recruit', 'general');\" target=\"_blank\" title=\"(주)와이지원충주공장\"><span>(주)와이지원충주공장</span></a>,\n",
       " <a class=\"str_tit\" href=\"/zf_user/jobs/relay/view?view_type=list&amp;rec_idx=41985344\" id=\"rec_link_41985344\" onclick=\"s_trackApply(this, 'area_recruit', 'general');\" onmousedown=\"Saramin.clickAds(41985344, 'ads_category=section_favor_003')\" target=\"_blank\" title=\"(주)와이지-원 충주공장/연구소 생산직 모집(정규직,초보가능)\"><span>(주)와이지-원 충주공장/연구소 생산직 모집(정규직,초보가능)</span></a>,\n",
       " <a class=\"str_tit\" href=\"/zf_user/jobs/relay/view?view_type=list&amp;rec_idx=42059780\" onclick=\"s_trackApply(this, 'area_recruit', 'general');\" target=\"_blank\" title=\"(주)아토코리아\"><span>(주)아토코리아</span></a>,\n",
       " <a class=\"str_tit\" href=\"/zf_user/jobs/relay/view?view_type=list&amp;rec_idx=42059780\" id=\"rec_link_42059780\" onclick=\"s_trackApply(this, 'area_recruit', 'general');\" onmousedown=\"Saramin.clickAds(42059780, 'ads_category=section_favor_003')\" target=\"_blank\" title=\"[정규직] 영업지원(사무직) 경력무관 채용\"><span>[정규직] 영업지원(사무직) 경력무관 채용</span></a>,\n",
       " <a class=\"str_tit\" href=\"/zf_user/jobs/relay/view?view_type=list&amp;rec_idx=42040695\" onclick=\"s_trackApply(this, 'area_recruit', 'general');\" target=\"_blank\" title=\"(주)나우씨앤디\"><span>(주)나우씨앤디</span></a>,\n",
       " <a class=\"str_tit\" href=\"/zf_user/jobs/relay/view?view_type=list&amp;rec_idx=42040695\" id=\"rec_link_42040695\" onclick=\"s_trackApply(this, 'area_recruit', 'general');\" onmousedown=\"Saramin.clickAds(42040695, 'ads_category=section_favor_003')\" target=\"_blank\" title=\"사업개발부 정규직 채용 (경력)\"><span>사업개발부 정규직 채용 (경력)</span></a>,\n",
       " <a class=\"str_tit\" href=\"/zf_user/jobs/relay/view?view_type=list&amp;rec_idx=42084513\" onclick=\"s_trackApply(this, 'area_recruit', 'general');\" target=\"_blank\" title=\"세무회계청\"><span>세무회계청</span></a>,\n",
       " <a class=\"str_tit\" href=\"/zf_user/jobs/relay/view?view_type=list&amp;rec_idx=42084513\" id=\"rec_link_42084513\" onclick=\"s_trackApply(this, 'area_recruit', 'general');\" onmousedown=\"Saramin.clickAds(42084513, 'ads_category=section_favor_003')\" target=\"_blank\" title=\"금천세무서 앞 세무회계 청과 함께할 직원 모집합니다.\"><span>금천세무서 앞 세무회계 청과 함께할 직원 모집합니다.</span></a>,\n",
       " <a class=\"str_tit\" href=\"/zf_user/jobs/relay/view?view_type=list&amp;rec_idx=41990220\" onclick=\"s_trackApply(this, 'area_recruit', 'general');\" target=\"_blank\" title=\"세무법인명품\"><span>세무법인명품</span></a>,\n",
       " <a class=\"str_tit\" href=\"/zf_user/jobs/relay/view?view_type=list&amp;rec_idx=41990220\" id=\"rec_link_41990220\" onclick=\"s_trackApply(this, 'area_recruit', 'general');\" onmousedown=\"Saramin.clickAds(41990220, 'ads_category=section_favor_003')\" target=\"_blank\" title=\"[세무법인 명품] 정규사원(신입 및 경력)및 파트타임 채용공고\"><span>[세무법인 명품] 정규사원(신입 및 경력)및 파트타임 채용공고</span></a>,\n",
       " <a class=\"str_tit\" href=\"/zf_user/jobs/relay/view?view_type=list&amp;rec_idx=42065590\" onclick=\"s_trackApply(this, 'area_recruit', 'general');\" target=\"_blank\" title=\"(주)체리부로\"><span>(주)체리부로</span></a>,\n",
       " <a class=\"str_tit\" href=\"/zf_user/jobs/relay/view?view_type=list&amp;rec_idx=42065590\" id=\"rec_link_42065590\" onclick=\"s_trackApply(this, 'area_recruit', 'general');\" onmousedown=\"Saramin.clickAds(42065590, 'ads_category=section_favor_003')\" target=\"_blank\" title=\"(주) 체리부로 금계사업본부 신입 경력직 모집\"><span>(주) 체리부로 금계사업본부 신입 경력직 모집</span></a>,\n",
       " <a class=\"str_tit\" href=\"/zf_user/jobs/relay/view?view_type=list&amp;rec_idx=42066045\" onclick=\"s_trackApply(this, 'area_recruit', 'general');\" target=\"_blank\" title=\"(주)투와이드컴퍼니\"><span>(주)투와이드컴퍼니</span></a>,\n",
       " <a class=\"str_tit\" href=\"/zf_user/jobs/relay/view?view_type=list&amp;rec_idx=42066045\" id=\"rec_link_42066045\" onclick=\"s_trackApply(this, 'area_recruit', 'general');\" onmousedown=\"Saramin.clickAds(42066045, 'ads_category=section_favor_003')\" target=\"_blank\" title=\"2022년 (주)투와이드컴퍼니 경영전략실 직원 채용 공고\"><span>2022년 (주)투와이드컴퍼니 경영전략실 직원 채용 공고</span></a>,\n",
       " <a class=\"str_tit\" href=\"/zf_user/jobs/relay/view?view_type=list&amp;rec_idx=41959222\" onclick=\"s_trackApply(this, 'area_recruit', 'general');\" target=\"_blank\" title=\"(주) 더 샵\"><span>(주) 더 샵</span></a>,\n",
       " <a class=\"str_tit\" href=\"/zf_user/jobs/relay/view?view_type=list&amp;rec_idx=41959222\" id=\"rec_link_41959222\" onclick=\"s_trackApply(this, 'area_recruit', 'general');\" onmousedown=\"Saramin.clickAds(41959222, 'ads_category=section_favor_003')\" target=\"_blank\" title=\"[경력자 수당지급/통근버스] CNC ,MCT, 검사 사원 모집합니다.\"><span>[경력자 수당지급/통근버스] CNC ,MCT, 검사 사원 모집합니다.</span></a>,\n",
       " <a class=\"str_tit\" href=\"/zf_user/jobs/relay/view?view_type=list&amp;rec_idx=41927234\" onclick=\"s_trackApply(this, 'area_recruit', 'general');\" target=\"_blank\" title=\"(주)맨파워그룹코리아\"><span>(주)맨파워그룹코리아</span></a>,\n",
       " <a class=\"str_tit\" href=\"/zf_user/jobs/relay/view?view_type=list&amp;rec_idx=41927234\" id=\"rec_link_41927234\" onclick=\"s_trackApply(this, 'area_recruit', 'general');\" onmousedown=\"Saramin.clickAds(41927234, 'ads_category=section_favor_003')\" target=\"_blank\" title=\"[당산역/연4회성과급/신입가능] 항공 운송사 배송기사 채용\"><span>[당산역/연4회성과급/신입가능] 항공 운송사 배송기사 채용</span></a>,\n",
       " <a class=\"str_tit\" href=\"/zf_user/jobs/relay/view?view_type=list&amp;rec_idx=41958316\" onclick=\"s_trackApply(this, 'area_recruit', 'general');\" target=\"_blank\" title=\"(주)스칸디에듀\"><span>(주)스칸디에듀</span></a>,\n",
       " <a class=\"str_tit\" href=\"/zf_user/jobs/relay/view?view_type=list&amp;rec_idx=41958316\" id=\"rec_link_41958316\" onclick=\"s_trackApply(this, 'area_recruit', 'general');\" onmousedown=\"Saramin.clickAds(41958316, 'ads_category=section_favor_003')\" target=\"_blank\" title=\"스칸디에듀 2021 하반기 각부문별 채용\"><span>스칸디에듀 2021 하반기 각부문별 채용</span></a>,\n",
       " <a class=\"str_tit\" href=\"/zf_user/jobs/relay/view?view_type=list&amp;rec_idx=41946986\" onclick=\"s_trackApply(this, 'area_recruit', 'general');\" target=\"_blank\" title=\"랭귀지큐브\"><span>랭귀지큐브</span></a>,\n",
       " <a class=\"str_tit\" href=\"/zf_user/jobs/relay/view?view_type=list&amp;rec_idx=41946986\" id=\"rec_link_41946986\" onclick=\"s_trackApply(this, 'area_recruit', 'general');\" onmousedown=\"Saramin.clickAds(41946986, 'ads_category=section_favor_003')\" target=\"_blank\" title=\"[종로] 1:1 프리미엄 영어회화 학원 정규직 컨설턴트 채용\"><span>[종로] 1:1 프리미엄 영어회화 학원 정규직 컨설턴트 채용</span></a>,\n",
       " <a class=\"str_tit\" href=\"/zf_user/jobs/relay/view?view_type=list&amp;rec_idx=41761393\" onclick=\"s_trackApply(this, 'area_recruit', 'general');\" target=\"_blank\" title=\"유어네임히얼\"><span>유어네임히얼</span></a>,\n",
       " <a class=\"str_tit\" href=\"/zf_user/jobs/relay/view?view_type=list&amp;rec_idx=41761393\" id=\"rec_link_41761393\" onclick=\"s_trackApply(this, 'area_recruit', 'general');\" onmousedown=\"Saramin.clickAds(41761393, 'ads_category=section_favor_003')\" target=\"_blank\" title=\"[유어네임히얼] 패션 여성의류 브랜드 경력직 채용(패션 MD)\"><span>[유어네임히얼] 패션 여성의류 브랜드 경력직 채용(패션 MD)</span></a>,\n",
       " <a class=\"str_tit\" href=\"/zf_user/jobs/relay/view?view_type=list&amp;rec_idx=42060413\" onclick=\"s_trackApply(this, 'area_recruit', 'general');\" target=\"_blank\" title=\"스탭스 (주)\"><span>스탭스 (주)</span></a>,\n",
       " <a class=\"str_tit\" href=\"/zf_user/jobs/relay/view?view_type=list&amp;rec_idx=42060413\" id=\"rec_link_42060413\" onclick=\"s_trackApply(this, 'area_recruit', 'general');\" onmousedown=\"Saramin.clickAds(42060413, 'ads_category=section_favor_003')\" target=\"_blank\" title=\"[삼성전자 화성] 영어 통번역 사원모집\"><span>[삼성전자 화성] 영어 통번역 사원모집</span></a>,\n",
       " <a class=\"str_tit\" href=\"/zf_user/jobs/relay/view?view_type=list&amp;rec_idx=41988920\" onclick=\"s_trackApply(this, 'area_recruit', 'general');\" target=\"_blank\" title=\"메이퓨어의원 천호점\"><span>메이퓨어의원 천호점</span></a>,\n",
       " <a class=\"str_tit\" href=\"/zf_user/jobs/relay/view?view_type=list&amp;rec_idx=41988920\" id=\"rec_link_41988920\" onclick=\"s_trackApply(this, 'area_recruit', 'general');\" onmousedown=\"Saramin.clickAds(41988920, 'ads_category=section_favor_003')\" target=\"_blank\" title=\"[서울/경기/전지역]메이퓨어/7시간근무/높은급여/빠른승진\"><span>[서울/경기/전지역]메이퓨어/7시간근무/높은급여/빠른승진</span></a>,\n",
       " <a class=\"str_tit\" href=\"/zf_user/jobs/relay/view?view_type=list&amp;rec_idx=42016361\" onclick=\"s_trackApply(this, 'area_recruit', 'general');\" target=\"_blank\" title=\"주식회사 노보\"><span>주식회사 노보</span></a>,\n",
       " <a class=\"str_tit\" href=\"/zf_user/jobs/relay/view?view_type=list&amp;rec_idx=42016361\" id=\"rec_link_42016361\" onclick=\"s_trackApply(this, 'area_recruit', 'general');\" onmousedown=\"Saramin.clickAds(42016361, 'ads_category=section_favor_003')\" target=\"_blank\" title=\"향료(식품첨가물) 개발,  품질관리 담당자 모집\"><span>향료(식품첨가물) 개발,  품질관리 담당자 모집</span></a>,\n",
       " <a class=\"str_tit\" href=\"/zf_user/jobs/relay/view?view_type=list&amp;rec_idx=42043432\" onclick=\"s_trackApply(this, 'area_recruit', 'general');\" target=\"_blank\" title=\"웨딩세이\"><span>웨딩세이</span></a>,\n",
       " <a class=\"str_tit\" href=\"/zf_user/jobs/relay/view?view_type=list&amp;rec_idx=42043432\" id=\"rec_link_42043432\" onclick=\"s_trackApply(this, 'area_recruit', 'general');\" onmousedown=\"Saramin.clickAds(42043432, 'ads_category=section_favor_003')\" target=\"_blank\" title=\"-2022 웨딩세이 웨딩플래너 정직원모집-\"><span>-2022 웨딩세이 웨딩플래너 정직원모집-</span></a>,\n",
       " <a class=\"str_tit\" href=\"/zf_user/jobs/relay/view?view_type=list&amp;rec_idx=42069447\" onclick=\"s_trackApply(this, 'area_recruit', 'general');\" target=\"_blank\" title=\"(주)모바일무브먼트\"><span>(주)모바일무브먼트</span></a>,\n",
       " <a class=\"str_tit\" href=\"/zf_user/jobs/relay/view?view_type=list&amp;rec_idx=42069447\" id=\"rec_link_42069447\" onclick=\"s_trackApply(this, 'area_recruit', 'general');\" onmousedown=\"Saramin.clickAds(42069447, 'ads_category=section_favor_003')\" target=\"_blank\" title=\"개발1팀 게임개발 정규직 모집\"><span>개발1팀 게임개발 정규직 모집</span></a>,\n",
       " <a class=\"str_tit\" href=\"/zf_user/jobs/relay/view?view_type=list&amp;rec_idx=42071528\" onclick=\"s_trackApply(this, 'area_recruit', 'general');\" target=\"_blank\" title=\"참내과의원\"><span>참내과의원</span></a>,\n",
       " <a class=\"str_tit\" href=\"/zf_user/jobs/relay/view?view_type=list&amp;rec_idx=42071528\" id=\"rec_link_42071528\" onclick=\"s_trackApply(this, 'area_recruit', 'general');\" onmousedown=\"Saramin.clickAds(42071528, 'ads_category=section_favor_003')\" target=\"_blank\" title=\"간호조무사1명 모집합니다.\"><span>간호조무사1명 모집합니다.</span></a>,\n",
       " <a class=\"str_tit\" href=\"/zf_user/jobs/relay/view?view_type=list&amp;rec_idx=42026877\" onclick=\"s_trackApply(this, 'area_recruit', 'general');\" target=\"_blank\" title=\"(주)위드씨엠에스\"><span>(주)위드씨엠에스</span></a>,\n",
       " <a class=\"str_tit\" href=\"/zf_user/jobs/relay/view?view_type=list&amp;rec_idx=42026877\" id=\"rec_link_42026877\" onclick=\"s_trackApply(this, 'area_recruit', 'general');\" onmousedown=\"Saramin.clickAds(42026877, 'ads_category=section_favor_003')\" target=\"_blank\" title=\"[(주) 위드씨엠에스 청주/오송] 2022년 상반기 조리사 채용\"><span>[(주) 위드씨엠에스 청주/오송] 2022년 상반기 조리사 채용</span></a>,\n",
       " <a class=\"str_tit\" href=\"/zf_user/jobs/relay/view?view_type=list&amp;rec_idx=42050252\" onclick=\"s_trackApply(this, 'area_recruit', 'general');\" target=\"_blank\" title=\"(주)나노엔텍\"><span>(주)나노엔텍</span></a>,\n",
       " <a class=\"str_tit\" href=\"/zf_user/jobs/relay/view?view_type=list&amp;rec_idx=42050252\" id=\"rec_link_42050252\" onclick=\"s_trackApply(this, 'area_recruit', 'general');\" onmousedown=\"Saramin.clickAds(42050252, 'ads_category=section_favor_003')\" target=\"_blank\" title=\"의료기기 해외영업/재무회계/하드웨어(전장)/기기생산/키트생산\"><span>의료기기 해외영업/재무회계/하드웨어(전장)/기기생산/키트생산</span></a>,\n",
       " <a class=\"str_tit\" href=\"/zf_user/jobs/relay/view?view_type=list&amp;rec_idx=42062310\" onclick=\"s_trackApply(this, 'area_recruit', 'general');\" target=\"_blank\" title=\"이명희VIVA ENGLISH\"><span>이명희VIVA ENGLISH</span></a>,\n",
       " <a class=\"str_tit\" href=\"/zf_user/jobs/relay/view?view_type=list&amp;rec_idx=42062310\" id=\"rec_link_42062310\" onclick=\"s_trackApply(this, 'area_recruit', 'general');\" onmousedown=\"Saramin.clickAds(42062310, 'ads_category=section_favor_003')\" target=\"_blank\" title=\"초/중/고등부 영어강사 모집\"><span>초/중/고등부 영어강사 모집</span></a>,\n",
       " <a class=\"str_tit\" href=\"/zf_user/jobs/relay/view?view_type=list&amp;rec_idx=41993839\" onclick=\"s_trackApply(this, 'area_recruit', 'general');\" target=\"_blank\" title=\"(주)오픈유어아이즈컴퍼니\"><span>(주)오픈유어아이즈컴퍼니</span></a>,\n",
       " <a class=\"str_tit\" href=\"/zf_user/jobs/relay/view?view_type=list&amp;rec_idx=41993839\" id=\"rec_link_41993839\" onclick=\"s_trackApply(this, 'area_recruit', 'general');\" onmousedown=\"Saramin.clickAds(41993839, 'ads_category=section_favor_003')\" target=\"_blank\" title=\"(주)오픈유어아이즈 2022년 상반기 경력직 디자이너 채용\"><span>(주)오픈유어아이즈 2022년 상반기 경력직 디자이너 채용</span></a>,\n",
       " <a class=\"str_tit\" href=\"/zf_user/jobs/relay/view?view_type=list&amp;rec_idx=42009670\" onclick=\"s_trackApply(this, 'area_recruit', 'general');\" target=\"_blank\" title=\"디와이캘텍(주)\"><span>디와이캘텍(주)</span></a>,\n",
       " <a class=\"str_tit\" href=\"/zf_user/jobs/relay/view?view_type=list&amp;rec_idx=42009670\" id=\"rec_link_42009670\" onclick=\"s_trackApply(this, 'area_recruit', 'general');\" onmousedown=\"Saramin.clickAds(42009670, 'ads_category=section_favor_003')\" target=\"_blank\" title=\"시험 및  계측기기 교정인력 모십니다\"><span>시험 및  계측기기 교정인력 모십니다</span></a>,\n",
       " <a class=\"str_tit\" href=\"/zf_user/jobs/relay/view?view_type=list&amp;rec_idx=42033788\" onclick=\"s_trackApply(this, 'area_recruit', 'general');\" target=\"_blank\" title=\"하우투잉글리쉬어학원\"><span>하우투잉글리쉬어학원</span></a>,\n",
       " <a class=\"str_tit\" href=\"/zf_user/jobs/relay/view?view_type=list&amp;rec_idx=42033788\" id=\"rec_link_42033788\" onclick=\"s_trackApply(this, 'area_recruit', 'general');\" onmousedown=\"Saramin.clickAds(42033788, 'ads_category=section_favor_003')\" target=\"_blank\" title=\"분당 2월 시작 초중등 영어 전임강사 하우투잉글리쉬어학원\"><span>분당 2월 시작 초중등 영어 전임강사 하우투잉글리쉬어학원</span></a>,\n",
       " <a class=\"str_tit\" href=\"/zf_user/jobs/relay/view?view_type=list&amp;rec_idx=42074999\" onclick=\"s_trackApply(this, 'area_recruit', 'general');\" target=\"_blank\" title=\"철은인터내셔날(주)\"><span>철은인터내셔날(주)</span></a>,\n",
       " <a class=\"str_tit\" href=\"/zf_user/jobs/relay/view?view_type=list&amp;rec_idx=42074999\" id=\"rec_link_42074999\" onclick=\"s_trackApply(this, 'area_recruit', 'general');\" onmousedown=\"Saramin.clickAds(42074999, 'ads_category=section_favor_003')\" target=\"_blank\" title=\"생산부[과자류(마카롱, 구움과자),빵류(페스트리류),초콜렛생산]\"><span>생산부[과자류(마카롱, 구움과자),빵류(페스트리류),초콜렛생산]</span></a>,\n",
       " <a class=\"str_tit\" href=\"/zf_user/jobs/relay/view?view_type=list&amp;rec_idx=42076275\" onclick=\"s_trackApply(this, 'area_recruit', 'general');\" target=\"_blank\" title=\"(주)휴먼하이텍\"><span>(주)휴먼하이텍</span></a>,\n",
       " <a class=\"str_tit\" href=\"/zf_user/jobs/relay/view?view_type=list&amp;rec_idx=42076275\" id=\"rec_link_42076275\" onclick=\"s_trackApply(this, 'area_recruit', 'general');\" onmousedown=\"Saramin.clickAds(42076275, 'ads_category=section_favor_003')\" target=\"_blank\" title=\"구매 자재/생산 관리/영업납품 관리/생산 및 조립\"><span>구매 자재/생산 관리/영업납품 관리/생산 및 조립</span></a>,\n",
       " <a class=\"str_tit\" href=\"/zf_user/jobs/relay/view?view_type=list&amp;rec_idx=41955076\" onclick=\"s_trackApply(this, 'area_recruit', 'general');\" target=\"_blank\" title=\"케이스스터디\"><span>케이스스터디</span></a>,\n",
       " <a class=\"str_tit\" href=\"/zf_user/jobs/relay/view?view_type=list&amp;rec_idx=41955076\" id=\"rec_link_41955076\" onclick=\"s_trackApply(this, 'area_recruit', 'general');\" onmousedown=\"Saramin.clickAds(41955076, 'ads_category=section_favor_003')\" target=\"_blank\" title=\"출판 기획 및 편집자 채용 공고\"><span>출판 기획 및 편집자 채용 공고</span></a>,\n",
       " <a class=\"str_tit\" href=\"/zf_user/jobs/relay/view?view_type=list&amp;rec_idx=41942920\" onclick=\"s_trackApply(this, 'area_recruit', 'general');\" target=\"_blank\" title=\"(주)와이지케미칼\"><span>(주)와이지케미칼</span></a>,\n",
       " <a class=\"str_tit\" href=\"/zf_user/jobs/relay/view?view_type=list&amp;rec_idx=41942920\" id=\"rec_link_41942920\" onclick=\"s_trackApply(this, 'area_recruit', 'general');\" onmousedown=\"Saramin.clickAds(41942920, 'ads_category=section_favor_003')\" target=\"_blank\" title=\"상품경영기획사무 정규직 채용(경력무관)\"><span>상품경영기획사무 정규직 채용(경력무관)</span></a>,\n",
       " <a class=\"str_tit\" href=\"/zf_user/jobs/relay/view?view_type=list&amp;rec_idx=41967376\" onclick=\"s_trackApply(this, 'area_recruit', 'general');\" target=\"_blank\" title=\"(주)타스코\"><span>(주)타스코</span></a>,\n",
       " <a class=\"str_tit\" href=\"/zf_user/jobs/relay/view?view_type=list&amp;rec_idx=41967376\" id=\"rec_link_41967376\" onclick=\"s_trackApply(this, 'area_recruit', 'general');\" onmousedown=\"Saramin.clickAds(41967376, 'ads_category=section_favor_003')\" target=\"_blank\" title=\"문서 작성 및 적격성평가 제약 사무 신입, 경력 채용\"><span>문서 작성 및 적격성평가 제약 사무 신입, 경력 채용</span></a>,\n",
       " <a class=\"str_tit\" href=\"/zf_user/jobs/relay/view?view_type=list&amp;rec_idx=42089062\" onclick=\"s_trackApply(this, 'area_recruit', 'general');\" target=\"_blank\" title=\"㈜다인맨파워\"><span>㈜다인맨파워</span></a>,\n",
       " <a class=\"str_tit\" href=\"/zf_user/jobs/relay/view?view_type=list&amp;rec_idx=42089062\" id=\"rec_link_42089062\" onclick=\"s_trackApply(this, 'area_recruit', 'general');\" onmousedown=\"Saramin.clickAds(42089062, 'ads_category=section_favor_003')\" target=\"_blank\" title=\"[다인맨파워]GS건설 경기광주 오포자이 안전감시단, 안전순찰\"><span>[다인맨파워]GS건설 경기광주 오포자이 안전감시단, 안전순찰</span></a>,\n",
       " <a class=\"str_tit\" href=\"/zf_user/jobs/relay/view?view_type=list&amp;rec_idx=41927325\" onclick=\"s_trackApply(this, 'area_recruit', 'general');\" target=\"_blank\" title=\"(주)맨파워그룹코리아\"><span>(주)맨파워그룹코리아</span></a>,\n",
       " <a class=\"str_tit\" href=\"/zf_user/jobs/relay/view?view_type=list&amp;rec_idx=41927325\" id=\"rec_link_41927325\" onclick=\"s_trackApply(this, 'area_recruit', 'general');\" onmousedown=\"Saramin.clickAds(41927325, 'ads_category=section_favor_003')\" target=\"_blank\" title=\"[여의도/CS/정규직전환] 외국계 운송 기업 사원 채용\"><span>[여의도/CS/정규직전환] 외국계 운송 기업 사원 채용</span></a>,\n",
       " <a class=\"str_tit\" href=\"/zf_user/jobs/relay/view?view_type=list&amp;rec_idx=42069339\" onclick=\"s_trackApply(this, 'area_recruit', 'general');\" target=\"_blank\" title=\"CJ대한통운 사하대리점\"><span>CJ대한통운 사하대리점</span></a>,\n",
       " <a class=\"str_tit\" href=\"/zf_user/jobs/relay/view?view_type=list&amp;rec_idx=42069339\" id=\"rec_link_42069339\" onclick=\"s_trackApply(this, 'area_recruit', 'general');\" onmousedown=\"Saramin.clickAds(42069339, 'ads_category=section_favor_003')\" target=\"_blank\" title=\"회계·세무·재무(경리&amp;amp;전산회계外 1개 부문) 채용\"><span>회계·세무·재무(경리&amp;전산회계外 1개 부문) 채용</span></a>,\n",
       " <a class=\"str_tit\" href=\"/zf_user/jobs/relay/view?view_type=list&amp;rec_idx=41999169\" onclick=\"s_trackApply(this, 'area_recruit', 'general');\" target=\"_blank\" title=\"(주)넥스트아이\"><span>(주)넥스트아이</span></a>,\n",
       " <a class=\"str_tit\" href=\"/zf_user/jobs/relay/view?view_type=list&amp;rec_idx=41999169\" id=\"rec_link_41999169\" onclick=\"s_trackApply(this, 'area_recruit', 'general');\" onmousedown=\"Saramin.clickAds(41999169, 'ads_category=section_favor_003')\" target=\"_blank\" title=\"[넥스트아이] 연구개발부 / 비전사업부 정규직 채용\"><span>[넥스트아이] 연구개발부 / 비전사업부 정규직 채용</span></a>,\n",
       " <a class=\"str_tit\" href=\"/zf_user/jobs/relay/view?view_type=list&amp;rec_idx=41951635\" onclick=\"s_trackApply(this, 'area_recruit', 'general');\" target=\"_blank\" title=\"주식회사케익드라마\"><span>주식회사케익드라마</span></a>,\n",
       " <a class=\"str_tit\" href=\"/zf_user/jobs/relay/view?view_type=list&amp;rec_idx=41951635\" id=\"rec_link_41951635\" onclick=\"s_trackApply(this, 'area_recruit', 'general');\" onmousedown=\"Saramin.clickAds(41951635, 'ads_category=section_favor_003')\" target=\"_blank\" title=\"(주)케익드라마 부서별 채용\"><span>(주)케익드라마 부서별 채용</span></a>,\n",
       " <a class=\"str_tit\" href=\"/zf_user/jobs/relay/view?view_type=list&amp;rec_idx=42030115\" onclick=\"s_trackApply(this, 'area_recruit', 'general');\" target=\"_blank\" title=\"신통외국어학원\"><span>신통외국어학원</span></a>,\n",
       " <a class=\"str_tit\" href=\"/zf_user/jobs/relay/view?view_type=list&amp;rec_idx=42030115\" id=\"rec_link_42030115\" onclick=\"s_trackApply(this, 'area_recruit', 'general');\" onmousedown=\"Saramin.clickAds(42030115, 'ads_category=section_favor_003')\" target=\"_blank\" title=\"[신통영어] 영어강사 모집 (주4일, 주5일, 주6일)\"><span>[신통영어] 영어강사 모집 (주4일, 주5일, 주6일)</span></a>,\n",
       " <a class=\"str_tit\" href=\"/zf_user/jobs/relay/view?view_type=list&amp;rec_idx=42070033\" onclick=\"s_trackApply(this, 'area_recruit', 'general');\" target=\"_blank\" title=\"(주)에프앤리퍼블릭\"><span>(주)에프앤리퍼블릭</span></a>,\n",
       " <a class=\"str_tit\" href=\"/zf_user/jobs/relay/view?view_type=list&amp;rec_idx=42070033\" id=\"rec_link_42070033\" onclick=\"s_trackApply(this, 'area_recruit', 'general');\" onmousedown=\"Saramin.clickAds(42070033, 'ads_category=section_favor_003')\" target=\"_blank\" title=\"(주)에프앤리퍼블릭 재무팀 경력직 채용\"><span>(주)에프앤리퍼블릭 재무팀 경력직 채용</span></a>,\n",
       " <a class=\"str_tit\" href=\"/zf_user/jobs/relay/view?view_type=list&amp;rec_idx=41984094\" onclick=\"s_trackApply(this, 'area_recruit', 'general');\" target=\"_blank\" title=\"(주)아이비김영\"><span>(주)아이비김영</span></a>,\n",
       " <a class=\"str_tit\" href=\"/zf_user/jobs/relay/view?view_type=list&amp;rec_idx=41984094\" id=\"rec_link_41984094\" onclick=\"s_trackApply(this, 'area_recruit', 'general');\" onmousedown=\"Saramin.clickAds(41984094, 'ads_category=section_favor_003')\" target=\"_blank\" title=\"[메가스터디교육그룹] 김영평생교육원 교육상담직 채용\"><span>[메가스터디교육그룹] 김영평생교육원 교육상담직 채용</span></a>,\n",
       " <a class=\"str_tit\" href=\"/zf_user/jobs/relay/view?view_type=list&amp;rec_idx=42056900\" onclick=\"s_trackApply(this, 'area_recruit', 'general');\" target=\"_blank\" title=\"(주)명진푸드시스템\"><span>(주)명진푸드시스템</span></a>,\n",
       " <a class=\"str_tit\" href=\"/zf_user/jobs/relay/view?view_type=list&amp;rec_idx=42056900\" id=\"rec_link_42056900\" onclick=\"s_trackApply(this, 'area_recruit', 'general');\" onmousedown=\"Saramin.clickAds(42056900, 'ads_category=section_favor_003')\" target=\"_blank\" title=\"식품 단순생산 사원모집\"><span>식품 단순생산 사원모집</span></a>,\n",
       " <a class=\"str_tit\" href=\"/zf_user/jobs/relay/view?view_type=list&amp;rec_idx=42019532\" onclick=\"s_trackApply(this, 'area_recruit', 'general');\" target=\"_blank\" title=\"(주)드림아트\"><span>(주)드림아트</span></a>,\n",
       " <a class=\"str_tit\" href=\"/zf_user/jobs/relay/view?view_type=list&amp;rec_idx=42019532\" id=\"rec_link_42019532\" onclick=\"s_trackApply(this, 'area_recruit', 'general');\" onmousedown=\"Saramin.clickAds(42019532, 'ads_category=section_favor_003')\" target=\"_blank\" title=\"강남고도미술학원(본원) 사무실장 모집\"><span>강남고도미술학원(본원) 사무실장 모집</span></a>,\n",
       " <a class=\"str_tit\" href=\"/zf_user/jobs/relay/view?view_type=list&amp;rec_idx=41932832\" onclick=\"s_trackApply(this, 'area_recruit', 'general');\" target=\"_blank\" title=\"태성부직포\"><span>태성부직포</span></a>,\n",
       " <a class=\"str_tit\" href=\"/zf_user/jobs/relay/view?view_type=list&amp;rec_idx=41932832\" id=\"rec_link_41932832\" onclick=\"s_trackApply(this, 'area_recruit', 'general');\" onmousedown=\"Saramin.clickAds(41932832, 'ads_category=section_favor_003')\" target=\"_blank\" title=\"태성부직포 부직포생산 오퍼레이터 신입사원 모집\"><span>태성부직포 부직포생산 오퍼레이터 신입사원 모집</span></a>,\n",
       " <a class=\"str_tit\" href=\"/zf_user/jobs/relay/view?view_type=list&amp;rec_idx=42057196\" onclick=\"s_trackApply(this, 'area_recruit', 'general');\" target=\"_blank\" title=\"G1230삼계학원\"><span>G1230삼계학원</span></a>,\n",
       " <a class=\"str_tit\" href=\"/zf_user/jobs/relay/view?view_type=list&amp;rec_idx=42057196\" id=\"rec_link_42057196\" onclick=\"s_trackApply(this, 'area_recruit', 'general');\" onmousedown=\"Saramin.clickAds(42057196, 'ads_category=section_favor_003')\" target=\"_blank\" title=\"영어강사초빙\"><span>영어강사초빙</span></a>,\n",
       " <a class=\"str_tit\" href=\"/zf_user/jobs/relay/view?view_type=list&amp;rec_idx=41999673\" onclick=\"s_trackApply(this, 'area_recruit', 'general');\" target=\"_blank\" title=\"(주)인중엔지니어링\"><span>(주)인중엔지니어링</span></a>,\n",
       " <a class=\"str_tit\" href=\"/zf_user/jobs/relay/view?view_type=list&amp;rec_idx=41999673\" id=\"rec_link_41999673\" onclick=\"s_trackApply(this, 'area_recruit', 'general');\" onmousedown=\"Saramin.clickAds(41999673, 'ads_category=section_favor_003')\" target=\"_blank\" title=\"[인천/영등포/동탄/천안]현장 토목계측 사원모집(경력무관)\"><span>[인천/영등포/동탄/천안]현장 토목계측 사원모집(경력무관)</span></a>,\n",
       " <a class=\"str_tit\" href=\"/zf_user/jobs/relay/view?view_type=list&amp;rec_idx=41969026\" onclick=\"s_trackApply(this, 'area_recruit', 'general');\" target=\"_blank\" title=\"주식회사 우리의이야기\"><span>주식회사 우리의이야기</span></a>,\n",
       " <a class=\"str_tit\" href=\"/zf_user/jobs/relay/view?view_type=list&amp;rec_idx=41969026\" id=\"rec_link_41969026\" onclick=\"s_trackApply(this, 'area_recruit', 'general');\" onmousedown=\"Saramin.clickAds(41969026, 'ads_category=section_favor_003')\" target=\"_blank\" title=\"바이럴 마케팅 및 SNS 마케팅 팀원 모집합니다. (각 부문 채용)\"><span>바이럴 마케팅 및 SNS 마케팅 팀원 모집합니다. (각 부문 채용)</span></a>,\n",
       " <a class=\"str_tit\" href=\"/zf_user/jobs/relay/view?view_type=list&amp;rec_idx=42098480\" onclick=\"s_trackApply(this, 'area_recruit', 'general');\" target=\"_blank\" title=\"대림바토스(주)\"><span>대림바토스(주)</span></a>,\n",
       " <a class=\"str_tit\" href=\"/zf_user/jobs/relay/view?view_type=list&amp;rec_idx=42098480\" id=\"rec_link_42098480\" onclick=\"s_trackApply(this, 'area_recruit', 'general');\" onmousedown=\"Saramin.clickAds(42098480, 'ads_category=section_favor_003')\" target=\"_blank\" title=\"대림바토스 2022년 공사관리팀/수주지원&amp;amp;공무 경력사원 모집\"><span>대림바토스 2022년 공사관리팀/수주지원&amp;공무 경력사원 모집</span></a>,\n",
       " <a class=\"str_tit\" href=\"/zf_user/jobs/relay/view?view_type=list&amp;rec_idx=42041835\" onclick=\"s_trackApply(this, 'area_recruit', 'general');\" target=\"_blank\" title=\"에듀플렉스\"><span>에듀플렉스</span></a>,\n",
       " <a class=\"str_tit\" href=\"/zf_user/jobs/relay/view?view_type=list&amp;rec_idx=42041835\" id=\"rec_link_42041835\" onclick=\"s_trackApply(this, 'area_recruit', 'general');\" onmousedown=\"Saramin.clickAds(42041835, 'ads_category=section_favor_003')\" target=\"_blank\" title=\"[포항] 에듀플렉스 162기 학습컨설턴트 채용 (대이동)\"><span>[포항] 에듀플렉스 162기 학습컨설턴트 채용 (대이동)</span></a>,\n",
       " <a class=\"str_tit\" href=\"/zf_user/jobs/relay/view?view_type=list&amp;rec_idx=42041374\" onclick=\"s_trackApply(this, 'area_recruit', 'general');\" target=\"_blank\" title=\"(주)에스디시\"><span>(주)에스디시</span></a>,\n",
       " <a class=\"str_tit\" href=\"/zf_user/jobs/relay/view?view_type=list&amp;rec_idx=42041374\" id=\"rec_link_42041374\" onclick=\"s_trackApply(this, 'area_recruit', 'general');\" onmousedown=\"Saramin.clickAds(42041374, 'ads_category=section_favor_003')\" target=\"_blank\" title=\"총무, 사무보조(관리팀 업무) 모집-경력자\"><span>총무, 사무보조(관리팀 업무) 모집-경력자</span></a>,\n",
       " <a class=\"str_tit\" href=\"/zf_user/jobs/relay/view?view_type=list&amp;rec_idx=41708034\" onclick=\"s_trackApply(this, 'area_recruit', 'general');\" target=\"_blank\" title=\"지에이코리아(주)\"><span>지에이코리아(주)</span></a>,\n",
       " <a class=\"str_tit\" href=\"/zf_user/jobs/relay/view?view_type=list&amp;rec_idx=41708034\" id=\"rec_link_41708034\" onclick=\"s_trackApply(this, 'area_recruit', 'general');\" onmousedown=\"Saramin.clickAds(41708034, 'ads_category=section_favor_003')\" target=\"_blank\" title=\"지에이코리아 수원 21년 하반기 채용 합니다.\"><span>지에이코리아 수원 21년 하반기 채용 합니다.</span></a>,\n",
       " <a class=\"str_tit\" href=\"/zf_user/jobs/relay/view?view_type=list&amp;rec_idx=42029279\" onclick=\"s_trackApply(this, 'area_recruit', 'general');\" target=\"_blank\" title=\"(주)아이엔디\"><span>(주)아이엔디</span></a>,\n",
       " <a class=\"str_tit\" href=\"/zf_user/jobs/relay/view?view_type=list&amp;rec_idx=42029279\" id=\"rec_link_42029279\" onclick=\"s_trackApply(this, 'area_recruit', 'general');\" onmousedown=\"Saramin.clickAds(42029279, 'ads_category=section_favor_003')\" target=\"_blank\" title=\"CAD 설계 및 공무지원팀 , 관리팀 정규직 직원 모집 (총2명)\"><span>CAD 설계 및 공무지원팀 , 관리팀 정규직 직원 모집 (총2명)</span></a>,\n",
       " <a class=\"str_tit\" href=\"/zf_user/jobs/relay/view?view_type=list&amp;rec_idx=42070447\" onclick=\"s_trackApply(this, 'area_recruit', 'general');\" target=\"_blank\" title=\"스탭스 (주)\"><span>스탭스 (주)</span></a>,\n",
       " <a class=\"str_tit\" href=\"/zf_user/jobs/relay/view?view_type=list&amp;rec_idx=42070447\" id=\"rec_link_42070447\" onclick=\"s_trackApply(this, 'area_recruit', 'general');\" onmousedown=\"Saramin.clickAds(42070447, 'ads_category=section_favor_003')\" target=\"_blank\" title=\"[신입가능/협회] 한국정보통신진흥협회 시장협력팀 행정지원\"><span>[신입가능/협회] 한국정보통신진흥협회 시장협력팀 행정지원</span></a>,\n",
       " <a class=\"str_tit\" href=\"/zf_user/jobs/relay/view?view_type=list&amp;rec_idx=41839399\" onclick=\"s_trackApply(this, 'area_recruit', 'general');\" target=\"_blank\" title=\"(주)종합건축사사무소극동건축\"><span>(주)종합건축사사무소극동건축</span></a>,\n",
       " <a class=\"str_tit\" href=\"/zf_user/jobs/relay/view?view_type=list&amp;rec_idx=41839399\" id=\"rec_link_41839399\" onclick=\"s_trackApply(this, 'area_recruit', 'general');\" onmousedown=\"Saramin.clickAds(41839399, 'ads_category=section_favor_003')\" target=\"_blank\" title=\"건축 실시설계 정규직 채용\"><span>건축 실시설계 정규직 채용</span></a>,\n",
       " <a class=\"str_tit\" href=\"/zf_user/jobs/relay/view?view_type=list&amp;rec_idx=42019251\" onclick=\"s_trackApply(this, 'area_recruit', 'general');\" target=\"_blank\" title=\"(주)이엑스스포테인먼트\"><span>(주)이엑스스포테인먼트</span></a>,\n",
       " <a class=\"str_tit\" href=\"/zf_user/jobs/relay/view?view_type=list&amp;rec_idx=42019251\" id=\"rec_link_42019251\" onclick=\"s_trackApply(this, 'area_recruit', 'general');\" onmousedown=\"Saramin.clickAds(42019251, 'ads_category=section_favor_003')\" target=\"_blank\" title=\"[박람회] 더골프쇼 영업 및 마케팅 신입및 경력직 모집\"><span>[박람회] 더골프쇼 영업 및 마케팅 신입및 경력직 모집</span></a>,\n",
       " <a class=\"str_tit\" href=\"/zf_user/jobs/relay/view?view_type=list&amp;rec_idx=41873990\" onclick=\"s_trackApply(this, 'area_recruit', 'general');\" target=\"_blank\" title=\"이튼연세치과\"><span>이튼연세치과</span></a>,\n",
       " <a class=\"str_tit\" href=\"/zf_user/jobs/relay/view?view_type=list&amp;rec_idx=41873990\" id=\"rec_link_41873990\" onclick=\"s_trackApply(this, 'area_recruit', 'general');\" onmousedown=\"Saramin.clickAds(41873990, 'ads_category=section_favor_003')\" target=\"_blank\" title=\"치과위생사 정규직 채용(경력무관) - 주5일제, 내일배움채움\"><span>치과위생사 정규직 채용(경력무관) - 주5일제, 내일배움채움</span></a>,\n",
       " <a class=\"str_tit\" href=\"/zf_user/jobs/relay/view?view_type=list&amp;rec_idx=41998723\" onclick=\"s_trackApply(this, 'area_recruit', 'general');\" target=\"_blank\" title=\"(주)다모넷\"><span>(주)다모넷</span></a>,\n",
       " <a class=\"str_tit\" href=\"/zf_user/jobs/relay/view?view_type=list&amp;rec_idx=41998723\" id=\"rec_link_41998723\" onclick=\"s_trackApply(this, 'area_recruit', 'general');\" onmousedown=\"Saramin.clickAds(41998723, 'ads_category=section_favor_003')\" target=\"_blank\" title=\"JAVA개발자(웹솔루션) 모집 - 경력1년이상\"><span>JAVA개발자(웹솔루션) 모집 - 경력1년이상</span></a>,\n",
       " <a class=\"str_tit\" href=\"/zf_user/jobs/relay/view?view_type=list&amp;rec_idx=42038694\" onclick=\"s_trackApply(this, 'area_recruit', 'general');\" target=\"_blank\" title=\"둔산해운항공(주)\"><span>둔산해운항공(주)</span></a>,\n",
       " <a class=\"str_tit\" href=\"/zf_user/jobs/relay/view?view_type=list&amp;rec_idx=42038694\" id=\"rec_link_42038694\" onclick=\"s_trackApply(this, 'area_recruit', 'general');\" onmousedown=\"Saramin.clickAds(42038694, 'ads_category=section_favor_003')\" target=\"_blank\" title=\"포워더 정규직 채용(경력사원)\"><span>포워더 정규직 채용(경력사원)</span></a>,\n",
       " <a class=\"str_tit\" href=\"/zf_user/jobs/relay/view?view_type=list&amp;rec_idx=42055464\" onclick=\"s_trackApply(this, 'area_recruit', 'general');\" target=\"_blank\" title=\"7773 cafe &amp;amp; bakery\"><span>7773 cafe &amp; bakery</span></a>,\n",
       " <a class=\"str_tit\" href=\"/zf_user/jobs/relay/view?view_type=list&amp;rec_idx=42055464\" id=\"rec_link_42055464\" onclick=\"s_trackApply(this, 'area_recruit', 'general');\" onmousedown=\"Saramin.clickAds(42055464, 'ads_category=section_favor_003')\" target=\"_blank\" title=\"서비스(카페매니저, 매장매니저外 2개 부문) 채용\"><span>서비스(카페매니저, 매장매니저外 2개 부문) 채용</span></a>,\n",
       " <a class=\"str_tit\" href=\"/zf_user/jobs/relay/view?view_type=list&amp;rec_idx=42010404\" onclick=\"s_trackApply(this, 'area_recruit', 'general');\" target=\"_blank\" title=\"㈜다인맨파워\"><span>㈜다인맨파워</span></a>,\n",
       " <a class=\"str_tit\" href=\"/zf_user/jobs/relay/view?view_type=list&amp;rec_idx=42010404\" id=\"rec_link_42010404\" onclick=\"s_trackApply(this, 'area_recruit', 'general');\" onmousedown=\"Saramin.clickAds(42010404, 'ads_category=section_favor_003')\" target=\"_blank\" title=\"[강원] GS건설 동해자이 현장 안전순찰(CCTV 모니터 요원) 모집\"><span>[강원] GS건설 동해자이 현장 안전순찰(CCTV 모니터 요원) 모집</span></a>,\n",
       " <a class=\"str_tit\" href=\"/zf_user/jobs/relay/view?view_type=list&amp;rec_idx=41986304\" onclick=\"s_trackApply(this, 'area_recruit', 'general');\" target=\"_blank\" title=\"리온한의원\"><span>리온한의원</span></a>,\n",
       " <a class=\"str_tit\" href=\"/zf_user/jobs/relay/view?view_type=list&amp;rec_idx=41986304\" id=\"rec_link_41986304\" onclick=\"s_trackApply(this, 'area_recruit', 'general');\" onmousedown=\"Saramin.clickAds(41986304, 'ads_category=section_favor_003')\" target=\"_blank\" title=\"[ 주5일 ] 가로수길 피부한의원 피부관리사님 모십니다.\"><span>[ 주5일 ] 가로수길 피부한의원 피부관리사님 모십니다.</span></a>,\n",
       " <a class=\"str_tit\" href=\"/zf_user/jobs/relay/view?view_type=list&amp;rec_idx=42028877\" onclick=\"s_trackApply(this, 'area_recruit', 'general');\" target=\"_blank\" title=\"(주)스태비\"><span>(주)스태비</span></a>,\n",
       " <a class=\"str_tit\" href=\"/zf_user/jobs/relay/view?view_type=list&amp;rec_idx=42028877\" id=\"rec_link_42028877\" onclick=\"s_trackApply(this, 'area_recruit', 'general');\" onmousedown=\"Saramin.clickAds(42028877, 'ads_category=section_favor_003')\" target=\"_blank\" title=\"[스태비] 서비스 기획 주니어 채용\"><span>[스태비] 서비스 기획 주니어 채용</span></a>,\n",
       " <a class=\"str_tit\" href=\"/zf_user/jobs/relay/view?view_type=list&amp;rec_idx=41998037\" onclick=\"s_trackApply(this, 'area_recruit', 'general');\" target=\"_blank\" title=\"아현교육\"><span>아현교육</span></a>,\n",
       " <a class=\"str_tit\" href=\"/zf_user/jobs/relay/view?view_type=list&amp;rec_idx=41998037\" id=\"rec_link_41998037\" onclick=\"s_trackApply(this, 'area_recruit', 'general');\" onmousedown=\"Saramin.clickAds(41998037, 'ads_category=section_favor_003')\" target=\"_blank\" title=\"학원,학교,서점 영업관리자 모집(일산/파주)스틱차\"><span>학원,학교,서점 영업관리자 모집(일산/파주)스틱차</span></a>,\n",
       " <a class=\"str_tit\" href=\"/zf_user/jobs/relay/view?view_type=list&amp;rec_idx=42091038\" onclick=\"s_trackApply(this, 'area_recruit', 'general');\" target=\"_blank\" title=\"(주)페니\"><span>(주)페니</span></a>,\n",
       " <a class=\"str_tit\" href=\"/zf_user/jobs/relay/view?view_type=list&amp;rec_idx=42091038\" id=\"rec_link_42091038\" onclick=\"s_trackApply(this, 'area_recruit', 'general');\" onmousedown=\"Saramin.clickAds(42091038, 'ads_category=section_favor_003')\" target=\"_blank\" title=\"Digital 마케팅 경력사원 채용(정규직, 계약직)\"><span>Digital 마케팅 경력사원 채용(정규직, 계약직)</span></a>,\n",
       " <a class=\"str_tit\" href=\"/zf_user/jobs/relay/view?view_type=list&amp;rec_idx=42082101\" onclick=\"s_trackApply(this, 'area_recruit', 'general');\" target=\"_blank\" title=\"(주)아덴\"><span>(주)아덴</span></a>,\n",
       " <a class=\"str_tit\" href=\"/zf_user/jobs/relay/view?view_type=list&amp;rec_idx=42082101\" id=\"rec_link_42082101\" onclick=\"s_trackApply(this, 'area_recruit', 'general');\" onmousedown=\"Saramin.clickAds(42082101, 'ads_category=section_favor_003')\" target=\"_blank\" title=\"[아덴] 경제 정보 관리자 채용\"><span>[아덴] 경제 정보 관리자 채용</span></a>]"
      ]
     },
     "execution_count": 23,
     "metadata": {},
     "output_type": "execute_result"
    }
   ],
   "source": [
    "#html문서에서 cluster_text_headline nclicks(cls_pol.clsart)라는 이름의 class를 지닌 a 태그의 element들 모두 선택\n",
    "a1 = soup.findAll('a', attrs = {'class' : 'str_tit'})\n",
    "\n",
    "#선택한 element들 내용 출력\n",
    "a1"
   ]
  },
  {
   "cell_type": "code",
   "execution_count": 24,
   "id": "c2bc83e1-6136-43bb-bf60-5e2db8aa8988",
   "metadata": {},
   "outputs": [
    {
     "name": "stdout",
     "output_type": "stream",
     "text": [
      "기업명 : (주)씨에스원파트너\n",
      "제목 : 부산 지하철1호선 중앙역 신입사원 채용중\n",
      "기업명 : 베스트테크(Best Tech)\n",
      "제목 : 기술영업직 / 기술서비스직 정규직 채용\n",
      "기업명 : (주)화인맨파워\n",
      "제목 : [불광점] 상담.사무 직원 모집\n",
      "기업명 : 건웅토건(주)\n",
      "제목 : 2022년도 상반기 신입/경력사원 정규모집\n",
      "기업명 : 범어로제피부과의원\n",
      "제목 : [당신의 자부심] 2022년 범어로제피부과  모든 직무 정규직 모집\n",
      "기업명 : (주)제이브로컴퍼니\n",
      "제목 : [2022 개발 부분] JBRO 컴퍼니 개발자 모집\n",
      "기업명 : 넥스콘건설(주)\n",
      "제목 : 건설회사 회계/경리 업무 모집(경력)\n",
      "기업명 : 누베스(주)\n",
      "제목 : 누베스 각 부문(재단/단순조립) 담당직원 모집\n",
      "기업명 : 케이디컴퍼니\n",
      "제목 : 광고회사 쇼핑몰 광고주 응대 및 cs 마케팅\n",
      "기업명 : 플랜비\n",
      "제목 : [정규직] 제작PD & 영상편집 신입/경력 채용\n",
      "기업명 : 마르코코리아시스템어날리시스앤디밸럽먼..\n",
      "제목 : [marco Gmbh] 한국법인 품질분석/품질관리 경력자 모집\n",
      "기업명 : (주)라온어스\n",
      "제목 : [정규직] 웹디자이너/온라인마케터  경력자 채용\n",
      "기업명 : (주)더필링컴퍼니\n",
      "제목 : 광고, 홍보, 웹드라마 영상 편집 감독 모집 (포트폴리오 제출필)\n",
      "기업명 : (주)세영씨앤씨그래픽스\n",
      "제목 : 배송 채용 - 정규직-서울-경기서남권지역(10건내외)\n",
      "기업명 : 주식회사 천명\n",
      "제목 : 단순생산직(정규직) /조립/생산AS 직원 모집\n",
      "기업명 : 베리준오디자인센터(주)\n",
      "제목 : 베리준오디자인센터 그래픽 디자이너 신입 · 경력 채용\n",
      "기업명 : 티제이커뮤니케이션(주)\n",
      "제목 : 국내노래방 1위 TJ 서비스 기획/운영자 및 개발자 정규직 모집\n",
      "기업명 : 미니쉬치과병원\n",
      "제목 : (정규직) 경영지원팀 회계파트 사원모집\n",
      "기업명 : ㈜쟈뎅\n",
      "제목 : 쟈뎅 기획조정실 모집 공고(정규직)\n",
      "기업명 : ㈜켐리치\n",
      "제목 : 켐리치 2022 상반기 사원 모집\n",
      "기업명 : (주)로우클래식\n",
      "제목 : (로우클래식) 경영지원팀 회계/재무/인사 경력직 모집\n",
      "기업명 : 삼송의료재단 김포효병원\n",
      "제목 : 의료법인 사무 및 행정, 시설 관리 모집\n",
      "기업명 : (주)블리비네트워크\n",
      "제목 : [창원] 블리비클리닉 상담실장 추가 모집 #최고대우\n",
      "기업명 : (주)씨앤에스자산관리\n",
      "제목 : (주)씨앤에스자산관리 본사 보건관리자 채용(신입/경력)\n",
      "기업명 : 태원과학㈜\n",
      "제목 : [2022년] 기술영업 · 경영지원 · 영업지원 신입사원 채용\n",
      "기업명 : (주)씨앤에스자산관리\n",
      "제목 : 일산 킨텍스 바이 케이트리 호텔 시설관리 3교대 근무자 모집\n",
      "기업명 : ㈜동훈\n",
      "제목 : 경기 포천 신설골프장 신규/경력 경기보조원(캐디) 모집\n",
      "기업명 : 대한결핵협회결핵연구원\n",
      "제목 : [청주] 결핵연구원 임상병리사 채용\n",
      "기업명 : 디케이팩토리\n",
      "제목 : [부산] 영업직 경력무관 모집 공고\n",
      "기업명 : (주)공간창조\n",
      "제목 : 총무·법무·사무, 기획·전략 담당자 채용 공고\n",
      "기업명 : (주)비티씨커뮤니케이션즈\n",
      "제목 : BTL 프로모션 / MICE / 문화마케팅 기획 및 연출 경력자 모집\n",
      "기업명 : (주)글로벌타임즈\n",
      "제목 : [강북/코인언론사] 아웃바운드 코인TM / 최고의 인센과 복지\n",
      "기업명 : (주)아이디\n",
      "제목 : 전동지게차(리치/입식) 및 물류업무 직원 모집\n",
      "기업명 : 파이런텍\n",
      "제목 : [신입 및 경력사원] 크린룸설계 및  유틸리티 시공관리\n",
      "기업명 : (주)듀만\n",
      "제목 : 해외영업·무역영업(영어&해외영업) 모집 공고\n",
      "기업명 : (주)머큐리원\n",
      "제목 : 경영지원 경력 모집 - 정규직\n",
      "기업명 : 커피사피엔스 평촌점\n",
      "제목 : (주) 사피엔스 커피 베이커리 제과 제빵 추가 채용\n",
      "기업명 : 스킨앤유 일산\n",
      "제목 : [스킨앤유일산/2월오픈] 피부관리사 경력직 연봉3500세전/주5일\n",
      "기업명 : 만랩(10000lab)\n",
      "제목 : 온라인(오픈마켓/온라인마켓등)경리회계 / 마케팅사무보조 채용\n",
      "기업명 : (주)와이지원충주공장\n",
      "제목 : (주)와이지-원 충주공장/연구소 생산직 모집(정규직,초보가능)\n"
     ]
    }
   ],
   "source": [
    "#각 뉴스 제목과 링크를 추출할 반복문 생성\n",
    "i = 0\n",
    "company = []\n",
    "text = []\n",
    "for a in a1:\n",
    "    if i % 2 == 0:\n",
    "        name = a.get_text()\n",
    "        print(f'기업명 : {name}')\n",
    "        company.append(name)\n",
    "    #a 태그의 element의 text 선택 및 공백 제거\n",
    "    #title = a.get_text()\n",
    "    else:\n",
    "        title = a.get_text()\n",
    "        print(f'제목 : {title}')\n",
    "        text.append(title)\n",
    "    i += 1\n",
    "    if i == 80:\n",
    "        break\n",
    "    \n",
    "    #a 태그의 element 내에서 href class attribute 정보 추출 및 링크 생성\n",
    "    #link = a['href']\n",
    "    \n",
    "    #기사 제목과 해당 링크 출력\n",
    "    #print(f'기사 제목 : {title}') \n",
    "    #print(f'(링크 : {link})')"
   ]
  },
  {
   "cell_type": "code",
   "execution_count": 25,
   "id": "3f84d2d7-b21b-4a64-897c-9bed895df8bb",
   "metadata": {},
   "outputs": [],
   "source": [
    "import pandas as pd\n",
    "\n",
    "df = pd.DataFrame(list(zip(company,text)), columns = ['회사명','제목'])"
   ]
  },
  {
   "cell_type": "code",
   "execution_count": 27,
   "id": "0b81ceb4-ea3e-40c7-995f-d0fb3f9543aa",
   "metadata": {},
   "outputs": [
    {
     "name": "stdout",
     "output_type": "stream",
     "text": [
      "                      회사명                                      제목\n",
      "0              (주)씨에스원파트너                  부산 지하철1호선 중앙역 신입사원 채용중\n",
      "1        베스트테크(Best Tech)                   기술영업직 / 기술서비스직 정규직 채용\n",
      "2                (주)화인맨파워                       [불광점] 상담.사무 직원 모집\n",
      "3                 건웅토건(주)                 2022년도 상반기 신입/경력사원 정규모집\n",
      "4               범어로제피부과의원   [당신의 자부심] 2022년 범어로제피부과  모든 직무 정규직 모집\n",
      "5              (주)제이브로컴퍼니            [2022 개발 부분] JBRO 컴퍼니 개발자 모집\n",
      "6                넥스콘건설(주)                    건설회사 회계/경리 업무 모집(경력)\n",
      "7                  누베스(주)               누베스 각 부문(재단/단순조립) 담당직원 모집\n",
      "8                  케이디컴퍼니                광고회사 쇼핑몰 광고주 응대 및 cs 마케팅\n",
      "9                     플랜비              [정규직] 제작PD & 영상편집 신입/경력 채용\n",
      "10  마르코코리아시스템어날리시스앤디밸럽먼..      [marco Gmbh] 한국법인 품질분석/품질관리 경력자 모집\n",
      "11                (주)라온어스              [정규직] 웹디자이너/온라인마케터  경력자 채용\n",
      "12              (주)더필링컴퍼니    광고, 홍보, 웹드라마 영상 편집 감독 모집 (포트폴리오 제출필)\n",
      "13           (주)세영씨앤씨그래픽스           배송 채용 - 정규직-서울-경기서남권지역(10건내외)\n",
      "14                주식회사 천명               단순생산직(정규직) /조립/생산AS 직원 모집\n",
      "15           베리준오디자인센터(주)           베리준오디자인센터 그래픽 디자이너 신입 · 경력 채용\n",
      "16           티제이커뮤니케이션(주)     국내노래방 1위 TJ 서비스 기획/운영자 및 개발자 정규직 모집\n",
      "17                미니쉬치과병원                   (정규직) 경영지원팀 회계파트 사원모집\n",
      "18                    ㈜쟈뎅                     쟈뎅 기획조정실 모집 공고(정규직)\n",
      "19                   ㈜켐리치                      켐리치 2022 상반기 사원 모집\n",
      "20               (주)로우클래식           (로우클래식) 경영지원팀 회계/재무/인사 경력직 모집\n",
      "21           삼송의료재단 김포효병원                  의료법인 사무 및 행정, 시설 관리 모집\n",
      "22             (주)블리비네트워크            [창원] 블리비클리닉 상담실장 추가 모집 #최고대우\n",
      "23            (주)씨앤에스자산관리          (주)씨앤에스자산관리 본사 보건관리자 채용(신입/경력)\n",
      "24                  태원과학㈜      [2022년] 기술영업 · 경영지원 · 영업지원 신입사원 채용\n",
      "25            (주)씨앤에스자산관리       일산 킨텍스 바이 케이트리 호텔 시설관리 3교대 근무자 모집\n",
      "26                    ㈜동훈          경기 포천 신설골프장 신규/경력 경기보조원(캐디) 모집\n",
      "27            대한결핵협회결핵연구원                     [청주] 결핵연구원 임상병리사 채용\n",
      "28                 디케이팩토리                     [부산] 영업직 경력무관 모집 공고\n",
      "29                (주)공간창조               총무·법무·사무, 기획·전략 담당자 채용 공고\n",
      "30          (주)비티씨커뮤니케이션즈  BTL 프로모션 / MICE / 문화마케팅 기획 및 연출 경력자 모집\n",
      "31              (주)글로벌타임즈      [강북/코인언론사] 아웃바운드 코인TM / 최고의 인센과 복지\n",
      "32                 (주)아이디               전동지게차(리치/입식) 및 물류업무 직원 모집\n",
      "33                   파이런텍          [신입 및 경력사원] 크린룸설계 및  유틸리티 시공관리\n",
      "34                  (주)듀만                해외영업·무역영업(영어&해외영업) 모집 공고\n",
      "35                (주)머큐리원                        경영지원 경력 모집 - 정규직\n",
      "36             커피사피엔스 평촌점            (주) 사피엔스 커피 베이커리 제과 제빵 추가 채용\n",
      "37                스킨앤유 일산    [스킨앤유일산/2월오픈] 피부관리사 경력직 연봉3500세전/주5일\n",
      "38           만랩(10000lab)       온라인(오픈마켓/온라인마켓등)경리회계 / 마케팅사무보조 채용\n",
      "39            (주)와이지원충주공장      (주)와이지-원 충주공장/연구소 생산직 모집(정규직,초보가능)\n"
     ]
    }
   ],
   "source": [
    "print(df)"
   ]
  },
  {
   "cell_type": "code",
   "execution_count": null,
   "id": "6ce9d93a-37aa-40de-b559-bdcccb372f61",
   "metadata": {},
   "outputs": [],
   "source": []
  }
 ],
 "metadata": {
  "kernelspec": {
   "display_name": "Python 3 (ipykernel)",
   "language": "python",
   "name": "python3"
  },
  "language_info": {
   "codemirror_mode": {
    "name": "ipython",
    "version": 3
   },
   "file_extension": ".py",
   "mimetype": "text/x-python",
   "name": "python",
   "nbconvert_exporter": "python",
   "pygments_lexer": "ipython3",
   "version": "3.9.7"
  }
 },
 "nbformat": 4,
 "nbformat_minor": 5
}
