{
 "cells": [
  {
   "cell_type": "markdown",
   "metadata": {
    "id": "aWXKjHASqBHr"
   },
   "source": [
    "# WordCloud"
   ]
  },
  {
   "cell_type": "code",
   "execution_count": 1,
   "metadata": {
    "colab": {
     "base_uri": "https://localhost:8080/"
    },
    "id": "ybiDNeGcQJn_",
    "outputId": "f730186e-6453-4229-f076-1e679ecda37f"
   },
   "outputs": [],
   "source": [
    "#!pip install konlpy\n",
    "import re\n",
    "import konlpy\n",
    "import pandas as pd"
   ]
  },
  {
   "cell_type": "code",
   "execution_count": 4,
   "metadata": {
    "id": "OiHzvpu8VzcW"
   },
   "outputs": [],
   "source": [
    "#'과제_뉴스 기사' 텍스트 불러오고 string으로 읽기\n",
    "with open('과제_뉴스 기사.txt', encoding='utf-8') as f:  #본인 디렉토리에 맞게 설정해주세요!\n",
    "    text = f.readlines()\n",
    "    "
   ]
  },
  {
   "cell_type": "code",
   "execution_count": 5,
   "metadata": {
    "colab": {
     "base_uri": "https://localhost:8080/"
    },
    "id": "NOICXPfPV5rr",
    "outputId": "65c43f7c-be13-464d-9188-04ea1cdc2992"
   },
   "outputs": [
    {
     "data": {
      "text/plain": [
       "Counter({'대출금': 1,\n",
       "         '리도': 1,\n",
       "         '사상': 4,\n",
       "         '최저': 5,\n",
       "         '은행': 7,\n",
       "         '예금': 4,\n",
       "         '금리': 17,\n",
       "         '시대': 2,\n",
       "         '연간': 1,\n",
       "         '만원': 1,\n",
       "         '얘기': 2,\n",
       "         '적금': 1,\n",
       "         '수단': 1,\n",
       "         '안전': 1,\n",
       "         '보관': 1,\n",
       "         '금고': 1,\n",
       "         '대출': 15,\n",
       "         '역대': 5,\n",
       "         '기록': 2,\n",
       "         '주식': 3,\n",
       "         '부동산': 2,\n",
       "         '한국은행': 1,\n",
       "         '발표': 1,\n",
       "         '6월': 3,\n",
       "         '금융': 1,\n",
       "         '기관': 1,\n",
       "         '가중': 1,\n",
       "         '평균': 4,\n",
       "         '지난달': 1,\n",
       "         '전월': 3,\n",
       "         '대비': 3,\n",
       "         '포인트': 2,\n",
       "         '처음': 2,\n",
       "         '정기예금': 1,\n",
       "         '상품': 1,\n",
       "         '수준': 2,\n",
       "         '코로나': 1,\n",
       "         '사태': 1,\n",
       "         '이후': 1,\n",
       "         '한은': 2,\n",
       "         '기준': 2,\n",
       "         '집계': 1,\n",
       "         '가계': 4,\n",
       "         '신용': 7,\n",
       "         '주택': 3,\n",
       "         '담보': 1,\n",
       "         '대로': 1,\n",
       "         '이번': 1,\n",
       "         '정부': 1,\n",
       "         '규제': 1,\n",
       "         '강화': 1,\n",
       "         '사람': 2,\n",
       "         '때문': 2,\n",
       "         '관계자': 1,\n",
       "         '대책': 1,\n",
       "         '전후': 1,\n",
       "         '매매': 1,\n",
       "         '전세': 1,\n",
       "         '거래': 2,\n",
       "         '증가': 4,\n",
       "         '관련': 1,\n",
       "         '우량': 2,\n",
       "         '차주': 2,\n",
       "         '비율': 2,\n",
       "         '신용등급': 1,\n",
       "         '전체': 1,\n",
       "         '현상': 1,\n",
       "         '설명': 1,\n",
       "         '시장': 1,\n",
       "         '속도': 1,\n",
       "         '최대': 1,\n",
       "         '늦기 전에': 1,\n",
       "         '사자': 1,\n",
       "         '패닉': 1,\n",
       "         '수요': 1,\n",
       "         '주범': 1,\n",
       "         '해석': 1,\n",
       "         '투자': 2,\n",
       "         '신용거래': 1,\n",
       "         '융자': 1,\n",
       "         '잔액': 1,\n",
       "         '최고': 1,\n",
       "         '경신': 1,\n",
       "         '지난해': 1,\n",
       "         '규모': 1,\n",
       "         '증시': 1,\n",
       "         '대기': 1,\n",
       "         '자금': 1,\n",
       "         '투자자': 1,\n",
       "         '예탁금': 2,\n",
       "         '기후': 1,\n",
       "         '기자': 1,\n",
       "         '조선일보': 1,\n",
       "         '무단': 1,\n",
       "         '전재': 1,\n",
       "         '배포': 1,\n",
       "         '금지': 1})"
      ]
     },
     "execution_count": 5,
     "metadata": {},
     "output_type": "execute_result"
    }
   ],
   "source": [
    "text_strip = [i.strip() for i in text if i != '\\n']\n",
    "text_join = ' '.join(text_strip)\n",
    "#빈 줄과 양 끝단의 공백 제거\n",
    "p = re.compile(r'\\bclass\\b')\n",
    "filtered_content = re.sub(r'[^\\d\\s\\w]', ' ', text_join)\n",
    "#원하는 형태소 분석기로 pos 태깅, morphs, 그리고 명사만 모아놓은 변수 만들어보기\n",
    "okt = konlpy.tag.Okt()\n",
    "okt_pos = okt.pos(filtered_content)\n",
    "\n",
    "komoran = konlpy.tag.Komoran()\n",
    "komoran.morphs(filtered_content)\n",
    "\n",
    "komoran_nouns = komoran.nouns(filtered_content)\n",
    "\n",
    "#이메일, 날짜 등 불용어 제거\n",
    "from nltk.corpus import stopwords\n",
    "stop_words = ['이오', '에다', '하오', '마오'] #한국어로 할 때는 직접 설정.\n",
    "unique_Noun_words = set(komoran_nouns)\n",
    "for word in unique_Noun_words:\n",
    "    if word in stop_words or len(word) == 1:  #한 글자짜리 단어는 알아보기 어려워서 제거.\n",
    "        while word in komoran_nouns:\n",
    "            komoran_nouns.remove(word)\n",
    "\n",
    "#Counter 모듈로 빈도 분석\n",
    "from collections import Counter\n",
    "c = Counter(komoran_nouns)\n",
    "c"
   ]
  },
  {
   "cell_type": "code",
   "execution_count": 6,
   "metadata": {
    "id": "r-XleRvyWTQ_"
   },
   "outputs": [],
   "source": [
    "from wordcloud import WordCloud\n",
    "import matplotlib.pyplot as plt\n",
    "from os import path"
   ]
  },
  {
   "cell_type": "markdown",
   "metadata": {
    "id": "6TCZVreJy1p9"
   },
   "source": [
    "## 한글폰트 다운로드\n",
    "나눔 폰트를 다운 받고 font_path를 저장해주세요. 이후 plt.rc를 활용해 폰트를 지정해주세요."
   ]
  },
  {
   "cell_type": "code",
   "execution_count": null,
   "metadata": {
    "id": "X851mQHd15Y1"
   },
   "outputs": [],
   "source": [
    "#나눔 폰트 업로드\n",
    "!apt-get update -qq\n",
    "!apt-get install fonts-nanum* -qq"
   ]
  },
  {
   "cell_type": "code",
   "execution_count": null,
   "metadata": {},
   "outputs": [],
   "source": []
  },
  {
   "cell_type": "code",
   "execution_count": 3,
   "metadata": {},
   "outputs": [
    {
     "name": "stdout",
     "output_type": "stream",
     "text": [
      "NanumBarunGothic\n"
     ]
    }
   ],
   "source": [
    "import matplotlib.font_manager as fm\n",
    "import matplotlib.pyplot as plt\n",
    "\n",
    "path = 'C:\\\\Users\\\\lsj32\\\\AppData\\\\Local\\\\Microsoft\\\\Windows\\\\Fonts\\\\NanumBarunGothic.ttf'  # 설치된 나눔글꼴중 원하는 녀석의 전체 경로를 가져오자\n",
    "font_name = fm.FontProperties(fname=path, size=10).get_name()\n",
    "print(font_name)\n",
    "plt.rc('font', family=font_name)"
   ]
  },
  {
   "cell_type": "markdown",
   "metadata": {
    "id": "Cer8hC6Hy-9u"
   },
   "source": [
    "## 워드클라우드 시각화\n",
    "단어별 빈도분석이 저장된 c 라는 객체를 WordCloud 시각화해주세요.\n",
    "\n",
    "Hint: \n",
    "<br>wordcloud = WordCloud(~~~)\n",
    "<br>wordcloud.generate_from_frequencies(c)\n",
    "<br>wordcloud.to_image()\n",
    "<br>잘 모르시겠으면 Notion에 업로드된 텍스트 마이닝의 워드클라우드 강의를 참고해주세요."
   ]
  },
  {
   "cell_type": "code",
   "execution_count": 8,
   "metadata": {
    "id": "DfRZfQe316fb"
   },
   "outputs": [
    {
     "data": {
      "image/png": "[encoded data removed]",
      "text/plain": [
       "<PIL.Image.Image image mode=RGB size=400x200 at 0x1B3FF141CA0>"
      ]
     },
     "execution_count": 8,
     "metadata": {},
     "output_type": "execute_result"
    }
   ],
   "source": [
    "wordcloud = WordCloud(\n",
    "    relative_scaling='auto', \n",
    "    font_path=path, \n",
    "    background_color='white')\n",
    "wordcloud.generate_from_frequencies(c)\n",
    "wordcloud.to_image()"
   ]
  },
  {
   "cell_type": "markdown",
   "metadata": {
    "id": "66LE4SDLqJU6"
   },
   "source": [
    "# Bike Sharing Demand"
   ]
  },
  {
   "cell_type": "markdown",
   "metadata": {
    "id": "wiW_e6po0e6c"
   },
   "source": [
    "출처: https://www.kaggle.com/c/bike-sharing-demand/data?select=train.csv"
   ]
  },
  {
   "cell_type": "markdown",
   "metadata": {
    "id": "IMMLgqRtppzW"
   },
   "source": [
    "## Load Dataset\n",
    "\n",
    "첨부된 train 데이터를 불러와주세요."
   ]
  },
  {
   "cell_type": "code",
   "execution_count": 4,
   "metadata": {
    "id": "-CrIW7Oh17FN"
   },
   "outputs": [
    {
     "data": {
      "text/html": [
       "<div>\n",
       "<style scoped>\n",
       "    .dataframe tbody tr th:only-of-type {\n",
       "        vertical-align: middle;\n",
       "    }\n",
       "\n",
       "    .dataframe tbody tr th {\n",
       "        vertical-align: top;\n",
       "    }\n",
       "\n",
       "    .dataframe thead th {\n",
       "        text-align: right;\n",
       "    }\n",
       "</style>\n",
       "<table border=\"1\" class=\"dataframe\">\n",
       "  <thead>\n",
       "    <tr style=\"text-align: right;\">\n",
       "      <th></th>\n",
       "      <th>datetime</th>\n",
       "      <th>season</th>\n",
       "      <th>holiday</th>\n",
       "      <th>workingday</th>\n",
       "      <th>weather</th>\n",
       "      <th>temp</th>\n",
       "      <th>atemp</th>\n",
       "      <th>humidity</th>\n",
       "      <th>windspeed</th>\n",
       "      <th>casual</th>\n",
       "      <th>registered</th>\n",
       "      <th>count</th>\n",
       "    </tr>\n",
       "  </thead>\n",
       "  <tbody>\n",
       "    <tr>\n",
       "      <th>0</th>\n",
       "      <td>2011-01-01 00:00:00</td>\n",
       "      <td>1</td>\n",
       "      <td>0</td>\n",
       "      <td>0</td>\n",
       "      <td>1</td>\n",
       "      <td>9.84</td>\n",
       "      <td>14.395</td>\n",
       "      <td>81</td>\n",
       "      <td>0.0000</td>\n",
       "      <td>3</td>\n",
       "      <td>13</td>\n",
       "      <td>16</td>\n",
       "    </tr>\n",
       "    <tr>\n",
       "      <th>1</th>\n",
       "      <td>2011-01-01 01:00:00</td>\n",
       "      <td>1</td>\n",
       "      <td>0</td>\n",
       "      <td>0</td>\n",
       "      <td>1</td>\n",
       "      <td>9.02</td>\n",
       "      <td>13.635</td>\n",
       "      <td>80</td>\n",
       "      <td>0.0000</td>\n",
       "      <td>8</td>\n",
       "      <td>32</td>\n",
       "      <td>40</td>\n",
       "    </tr>\n",
       "    <tr>\n",
       "      <th>2</th>\n",
       "      <td>2011-01-01 02:00:00</td>\n",
       "      <td>1</td>\n",
       "      <td>0</td>\n",
       "      <td>0</td>\n",
       "      <td>1</td>\n",
       "      <td>9.02</td>\n",
       "      <td>13.635</td>\n",
       "      <td>80</td>\n",
       "      <td>0.0000</td>\n",
       "      <td>5</td>\n",
       "      <td>27</td>\n",
       "      <td>32</td>\n",
       "    </tr>\n",
       "    <tr>\n",
       "      <th>3</th>\n",
       "      <td>2011-01-01 03:00:00</td>\n",
       "      <td>1</td>\n",
       "      <td>0</td>\n",
       "      <td>0</td>\n",
       "      <td>1</td>\n",
       "      <td>9.84</td>\n",
       "      <td>14.395</td>\n",
       "      <td>75</td>\n",
       "      <td>0.0000</td>\n",
       "      <td>3</td>\n",
       "      <td>10</td>\n",
       "      <td>13</td>\n",
       "    </tr>\n",
       "    <tr>\n",
       "      <th>4</th>\n",
       "      <td>2011-01-01 04:00:00</td>\n",
       "      <td>1</td>\n",
       "      <td>0</td>\n",
       "      <td>0</td>\n",
       "      <td>1</td>\n",
       "      <td>9.84</td>\n",
       "      <td>14.395</td>\n",
       "      <td>75</td>\n",
       "      <td>0.0000</td>\n",
       "      <td>0</td>\n",
       "      <td>1</td>\n",
       "      <td>1</td>\n",
       "    </tr>\n",
       "    <tr>\n",
       "      <th>...</th>\n",
       "      <td>...</td>\n",
       "      <td>...</td>\n",
       "      <td>...</td>\n",
       "      <td>...</td>\n",
       "      <td>...</td>\n",
       "      <td>...</td>\n",
       "      <td>...</td>\n",
       "      <td>...</td>\n",
       "      <td>...</td>\n",
       "      <td>...</td>\n",
       "      <td>...</td>\n",
       "      <td>...</td>\n",
       "    </tr>\n",
       "    <tr>\n",
       "      <th>10881</th>\n",
       "      <td>2012-12-19 19:00:00</td>\n",
       "      <td>4</td>\n",
       "      <td>0</td>\n",
       "      <td>1</td>\n",
       "      <td>1</td>\n",
       "      <td>15.58</td>\n",
       "      <td>19.695</td>\n",
       "      <td>50</td>\n",
       "      <td>26.0027</td>\n",
       "      <td>7</td>\n",
       "      <td>329</td>\n",
       "      <td>336</td>\n",
       "    </tr>\n",
       "    <tr>\n",
       "      <th>10882</th>\n",
       "      <td>2012-12-19 20:00:00</td>\n",
       "      <td>4</td>\n",
       "      <td>0</td>\n",
       "      <td>1</td>\n",
       "      <td>1</td>\n",
       "      <td>14.76</td>\n",
       "      <td>17.425</td>\n",
       "      <td>57</td>\n",
       "      <td>15.0013</td>\n",
       "      <td>10</td>\n",
       "      <td>231</td>\n",
       "      <td>241</td>\n",
       "    </tr>\n",
       "    <tr>\n",
       "      <th>10883</th>\n",
       "      <td>2012-12-19 21:00:00</td>\n",
       "      <td>4</td>\n",
       "      <td>0</td>\n",
       "      <td>1</td>\n",
       "      <td>1</td>\n",
       "      <td>13.94</td>\n",
       "      <td>15.910</td>\n",
       "      <td>61</td>\n",
       "      <td>15.0013</td>\n",
       "      <td>4</td>\n",
       "      <td>164</td>\n",
       "      <td>168</td>\n",
       "    </tr>\n",
       "    <tr>\n",
       "      <th>10884</th>\n",
       "      <td>2012-12-19 22:00:00</td>\n",
       "      <td>4</td>\n",
       "      <td>0</td>\n",
       "      <td>1</td>\n",
       "      <td>1</td>\n",
       "      <td>13.94</td>\n",
       "      <td>17.425</td>\n",
       "      <td>61</td>\n",
       "      <td>6.0032</td>\n",
       "      <td>12</td>\n",
       "      <td>117</td>\n",
       "      <td>129</td>\n",
       "    </tr>\n",
       "    <tr>\n",
       "      <th>10885</th>\n",
       "      <td>2012-12-19 23:00:00</td>\n",
       "      <td>4</td>\n",
       "      <td>0</td>\n",
       "      <td>1</td>\n",
       "      <td>1</td>\n",
       "      <td>13.12</td>\n",
       "      <td>16.665</td>\n",
       "      <td>66</td>\n",
       "      <td>8.9981</td>\n",
       "      <td>4</td>\n",
       "      <td>84</td>\n",
       "      <td>88</td>\n",
       "    </tr>\n",
       "  </tbody>\n",
       "</table>\n",
       "<p>10886 rows × 12 columns</p>\n",
       "</div>"
      ],
      "text/plain": [
       "                  datetime  season  holiday  workingday  weather   temp  \\\n",
       "0      2011-01-01 00:00:00       1        0           0        1   9.84   \n",
       "1      2011-01-01 01:00:00       1        0           0        1   9.02   \n",
       "2      2011-01-01 02:00:00       1        0           0        1   9.02   \n",
       "3      2011-01-01 03:00:00       1        0           0        1   9.84   \n",
       "4      2011-01-01 04:00:00       1        0           0        1   9.84   \n",
       "...                    ...     ...      ...         ...      ...    ...   \n",
       "10881  2012-12-19 19:00:00       4        0           1        1  15.58   \n",
       "10882  2012-12-19 20:00:00       4        0           1        1  14.76   \n",
       "10883  2012-12-19 21:00:00       4        0           1        1  13.94   \n",
       "10884  2012-12-19 22:00:00       4        0           1        1  13.94   \n",
       "10885  2012-12-19 23:00:00       4        0           1        1  13.12   \n",
       "\n",
       "        atemp  humidity  windspeed  casual  registered  count  \n",
       "0      14.395        81     0.0000       3          13     16  \n",
       "1      13.635        80     0.0000       8          32     40  \n",
       "2      13.635        80     0.0000       5          27     32  \n",
       "3      14.395        75     0.0000       3          10     13  \n",
       "4      14.395        75     0.0000       0           1      1  \n",
       "...       ...       ...        ...     ...         ...    ...  \n",
       "10881  19.695        50    26.0027       7         329    336  \n",
       "10882  17.425        57    15.0013      10         231    241  \n",
       "10883  15.910        61    15.0013       4         164    168  \n",
       "10884  17.425        61     6.0032      12         117    129  \n",
       "10885  16.665        66     8.9981       4          84     88  \n",
       "\n",
       "[10886 rows x 12 columns]"
      ]
     },
     "execution_count": 4,
     "metadata": {},
     "output_type": "execute_result"
    }
   ],
   "source": [
    "df = pd.read_csv('train.csv')\n",
    "df"
   ]
  },
  {
   "cell_type": "markdown",
   "metadata": {
    "id": "ZCsMnXcap4_t"
   },
   "source": [
    "## 전처리\n",
    "datetime의 data를 연/월/일/시간/분/초/요일로 쪼개서 새로운 컬럼에 담아주세요.\n",
    "전처리 하고 나면 연 컬럼, 월 컬럼부터 초 컬럼, 요일 컬럼까지 총 7개의 컬럼이 추가 되어야합니다.\n",
    "<br>Hint:파이썬에 내장된 .dt 함수를 활용해주세요."
   ]
  },
  {
   "cell_type": "code",
   "execution_count": 5,
   "metadata": {},
   "outputs": [],
   "source": [
    "df['datetime'] = pd.to_datetime(df['datetime'], format='%Y-%m-%d %H:%M:%S')"
   ]
  },
  {
   "cell_type": "code",
   "execution_count": 6,
   "metadata": {},
   "outputs": [
    {
     "data": {
      "text/plain": [
       "0        2011\n",
       "1        2011\n",
       "2        2011\n",
       "3        2011\n",
       "4        2011\n",
       "         ... \n",
       "10881    2012\n",
       "10882    2012\n",
       "10883    2012\n",
       "10884    2012\n",
       "10885    2012\n",
       "Name: datetime, Length: 10886, dtype: int64"
      ]
     },
     "execution_count": 6,
     "metadata": {},
     "output_type": "execute_result"
    }
   ],
   "source": [
    "df['datetime'].dt.year         # 연(4자리숫자)"
   ]
  },
  {
   "cell_type": "code",
   "execution_count": 7,
   "metadata": {
    "id": "oiz_NsrN18LR"
   },
   "outputs": [],
   "source": [
    "df['연'] = df['datetime'].dt.year         # 연(4자리숫자)\n",
    "df['월'] = df['datetime'].dt.month        # 월(숫자)\n",
    "df['일'] = df['datetime'].dt.day          # 일(숫자)\n",
    "df['시간'] = df['datetime'].dt.hour         # 시(숫자)\n",
    "df['분'] = df['datetime'].dt.minute       # 분(숫자)\n",
    "df['초'] = df['datetime'].dt.second       # 초(숫자)\n",
    "df['요일'] = df['datetime'].dt.weekday       # 요일숫자(0-월, 1-화) (=dayofweek)"
   ]
  },
  {
   "cell_type": "markdown",
   "metadata": {
    "id": "5rJ5pi2grUwg"
   },
   "source": [
    "datetime의 요일 컬럼을 사람이 알아보기 쉽게 Monday~Sunday로 바꿔주세요.\n",
    "dt 함수를 사용하셨다면 다음과 같이 바꾸시면 됩니다.\n",
    "<br> 0 = Monday\n",
    "<br> 1 = Tuesday\n",
    "<br> 2 = Wednesday\n",
    "<br> 3 = Thursday\n",
    "<br> 4 = Friday\n",
    "<br> 5 = Saturday\n",
    "<br> 6 = Sunday"
   ]
  },
  {
   "cell_type": "code",
   "execution_count": 8,
   "metadata": {
    "id": "DHibUkDc19P4"
   },
   "outputs": [
    {
     "name": "stderr",
     "output_type": "stream",
     "text": [
      "<ipython-input-8-7556ea94b25d>:13: SettingWithCopyWarning: \n",
      "A value is trying to be set on a copy of a slice from a DataFrame\n",
      "\n",
      "See the caveats in the documentation: https://pandas.pydata.org/pandas-docs/stable/user_guide/indexing.html#returning-a-view-versus-a-copy\n",
      "  df['요일'][i] = 'Saturday'\n",
      "C:\\Users\\lsj32\\anaconda3\\lib\\site-packages\\pandas\\core\\indexing.py:671: SettingWithCopyWarning: \n",
      "A value is trying to be set on a copy of a slice from a DataFrame\n",
      "\n",
      "See the caveats in the documentation: https://pandas.pydata.org/pandas-docs/stable/user_guide/indexing.html#returning-a-view-versus-a-copy\n",
      "  self._setitem_with_indexer(indexer, value)\n",
      "<ipython-input-8-7556ea94b25d>:15: SettingWithCopyWarning: \n",
      "A value is trying to be set on a copy of a slice from a DataFrame\n",
      "\n",
      "See the caveats in the documentation: https://pandas.pydata.org/pandas-docs/stable/user_guide/indexing.html#returning-a-view-versus-a-copy\n",
      "  df['요일'][i] = 'Sunday'\n",
      "<ipython-input-8-7556ea94b25d>:3: SettingWithCopyWarning: \n",
      "A value is trying to be set on a copy of a slice from a DataFrame\n",
      "\n",
      "See the caveats in the documentation: https://pandas.pydata.org/pandas-docs/stable/user_guide/indexing.html#returning-a-view-versus-a-copy\n",
      "  df['요일'][i] = 'Monday'\n",
      "<ipython-input-8-7556ea94b25d>:5: SettingWithCopyWarning: \n",
      "A value is trying to be set on a copy of a slice from a DataFrame\n",
      "\n",
      "See the caveats in the documentation: https://pandas.pydata.org/pandas-docs/stable/user_guide/indexing.html#returning-a-view-versus-a-copy\n",
      "  df['요일'][i] = 'Tuseday'\n",
      "<ipython-input-8-7556ea94b25d>:7: SettingWithCopyWarning: \n",
      "A value is trying to be set on a copy of a slice from a DataFrame\n",
      "\n",
      "See the caveats in the documentation: https://pandas.pydata.org/pandas-docs/stable/user_guide/indexing.html#returning-a-view-versus-a-copy\n",
      "  df['요일'][i] = 'Wednesday'\n",
      "<ipython-input-8-7556ea94b25d>:9: SettingWithCopyWarning: \n",
      "A value is trying to be set on a copy of a slice from a DataFrame\n",
      "\n",
      "See the caveats in the documentation: https://pandas.pydata.org/pandas-docs/stable/user_guide/indexing.html#returning-a-view-versus-a-copy\n",
      "  df['요일'][i] = 'Thursday'\n",
      "<ipython-input-8-7556ea94b25d>:11: SettingWithCopyWarning: \n",
      "A value is trying to be set on a copy of a slice from a DataFrame\n",
      "\n",
      "See the caveats in the documentation: https://pandas.pydata.org/pandas-docs/stable/user_guide/indexing.html#returning-a-view-versus-a-copy\n",
      "  df['요일'][i] = 'Friday'\n"
     ]
    }
   ],
   "source": [
    "for i in range(len(df)):\n",
    "    if df['요일'][i]==0:\n",
    "        df['요일'][i] = 'Monday'\n",
    "    elif df['요일'][i]==1:\n",
    "        df['요일'][i] = 'Tuseday'\n",
    "    elif df['요일'][i]==2:\n",
    "        df['요일'][i] = 'Wednesday'\n",
    "    elif df['요일'][i]==3:\n",
    "        df['요일'][i] = 'Thursday'\n",
    "    elif df['요일'][i]==4:\n",
    "        df['요일'][i] = 'Friday'\n",
    "    elif df['요일'][i]==5:\n",
    "        df['요일'][i] = 'Saturday'\n",
    "    elif df['요일'][i]==6:\n",
    "        df['요일'][i] = 'Sunday'\n",
    "    else:pass"
   ]
  },
  {
   "cell_type": "code",
   "execution_count": 9,
   "metadata": {},
   "outputs": [
    {
     "data": {
      "text/plain": [
       "0         Saturday\n",
       "1         Saturday\n",
       "2         Saturday\n",
       "3         Saturday\n",
       "4         Saturday\n",
       "           ...    \n",
       "10881    Wednesday\n",
       "10882    Wednesday\n",
       "10883    Wednesday\n",
       "10884    Wednesday\n",
       "10885    Wednesday\n",
       "Name: 요일, Length: 10886, dtype: object"
      ]
     },
     "execution_count": 9,
     "metadata": {},
     "output_type": "execute_result"
    }
   ],
   "source": [
    "df['요일']"
   ]
  },
  {
   "cell_type": "markdown",
   "metadata": {
    "id": "NNsnZb2ir3sh"
   },
   "source": [
    "## 시각화\n",
    "\n"
   ]
  },
  {
   "cell_type": "markdown",
   "metadata": {
    "id": "0YTsu05R2FF0"
   },
   "source": [
    "### 1)\n",
    "연도별 자전거 대여량과 월별 자전거 대여량을 시각화 해주세요.\n",
    "\n",
    "이후 각 시각화한 plot에서 각자 인사이트를 도출해주세요.\n",
    "\n",
    "<br> 힌트: barchart, 계절"
   ]
  },
  {
   "cell_type": "code",
   "execution_count": 10,
   "metadata": {},
   "outputs": [],
   "source": [
    "import numpy as np\n",
    "import seaborn as sns\n",
    "import matplotlib as mpl"
   ]
  },
  {
   "cell_type": "code",
   "execution_count": 30,
   "metadata": {
    "id": "ZfDO0jxV1-Aa"
   },
   "outputs": [
    {
     "data": {
      "image/png": "[encoded data removed]",
      "text/plain": [
       "<Figure size 432x288 with 1 Axes>"
      ]
     },
     "metadata": {
      "needs_background": "light"
     },
     "output_type": "display_data"
    }
   ],
   "source": [
    "sns.barplot(data = df, x = '연', y = 'count')\n",
    "plt.show()"
   ]
  },
  {
   "cell_type": "markdown",
   "metadata": {},
   "source": [
    "2011년보다 2012년의 자전거 대여량이 평균적으로 더 많다."
   ]
  },
  {
   "cell_type": "code",
   "execution_count": 33,
   "metadata": {
    "scrolled": true
   },
   "outputs": [
    {
     "data": {
      "image/png": "[encoded data removed]",
      "text/plain": [
       "<Figure size 432x288 with 1 Axes>"
      ]
     },
     "metadata": {
      "needs_background": "light"
     },
     "output_type": "display_data"
    }
   ],
   "source": [
    "sns.barplot(data = df, x = '월', y = 'count')\n",
    "plt.show()"
   ]
  },
  {
   "cell_type": "markdown",
   "metadata": {},
   "source": [
    "1월에서 6월로 갈수록 자전거 대여량이 올라갔다가, 7월부터 1월까지는 다시 자전거 대여량이 하락함을 알 수 있다."
   ]
  },
  {
   "cell_type": "code",
   "execution_count": 29,
   "metadata": {
    "scrolled": true
   },
   "outputs": [
    {
     "data": {
      "text/plain": [
       "<AxesSubplot:xlabel='season', ylabel='count'>"
      ]
     },
     "execution_count": 29,
     "metadata": {},
     "output_type": "execute_result"
    },
    {
     "data": {
      "image/png": "[encoded data removed]",
      "text/plain": [
       "<Figure size 432x288 with 1 Axes>"
      ]
     },
     "metadata": {
      "needs_background": "light"
     },
     "output_type": "display_data"
    }
   ],
   "source": [
    "sns.barplot(data = df, x = 'season', y = 'count')"
   ]
  },
  {
   "cell_type": "markdown",
   "metadata": {},
   "source": [
    "계절로 나누어 보았을 때, 겨울, 가을, 봄, 여름 순으로 자전거 대여량이 적다."
   ]
  },
  {
   "cell_type": "markdown",
   "metadata": {
    "id": "A_U4aGuA2WaN"
   },
   "source": []
  },
  {
   "cell_type": "markdown",
   "metadata": {
    "id": "-9G2RV30t-8L"
   },
   "source": [
    "###2)\n",
    "연컬럼과 월컬럼을 합쳐주세요. 이후 2011년 1월부터 2012년 12월까지 월별 자전거 대여량을 시각화 해주세요. \n",
    "\n",
    "이전에 시각화한 월별 자전거 대여량 시각화 차트에서, 어째서 1월과 12월의 자전거 대여량의 차이가 크게 났는지 설명해주세요."
   ]
  },
  {
   "cell_type": "code",
   "execution_count": 42,
   "metadata": {},
   "outputs": [],
   "source": [
    "df['연월'] = df[['연', '월']].astype('str').apply('-'.join, axis=1)"
   ]
  },
  {
   "cell_type": "code",
   "execution_count": 43,
   "metadata": {},
   "outputs": [
    {
     "data": {
      "text/plain": [
       "0         2011-1\n",
       "1         2011-1\n",
       "2         2011-1\n",
       "3         2011-1\n",
       "4         2011-1\n",
       "          ...   \n",
       "10881    2012-12\n",
       "10882    2012-12\n",
       "10883    2012-12\n",
       "10884    2012-12\n",
       "10885    2012-12\n",
       "Name: 연월, Length: 10886, dtype: object"
      ]
     },
     "execution_count": 43,
     "metadata": {},
     "output_type": "execute_result"
    }
   ],
   "source": [
    "df['연월']"
   ]
  },
  {
   "cell_type": "code",
   "execution_count": 45,
   "metadata": {
    "scrolled": true
   },
   "outputs": [
    {
     "data": {
      "image/png": "[encoded data removed]",
      "text/plain": [
       "<Figure size 432x288 with 1 Axes>"
      ]
     },
     "metadata": {
      "needs_background": "light"
     },
     "output_type": "display_data"
    }
   ],
   "source": [
    "sns.barplot(data = df, x = '연월', y = 'count')\n",
    "plt.xticks(rotation=45)\n",
    "plt.show()"
   ]
  },
  {
   "cell_type": "markdown",
   "metadata": {},
   "source": [
    "2011년에 비해 2012년이 전체적으로 자전거 대여량이 증가하고 있음을 확인할 수 있다.\n",
    "1월은 2011년 초, 12월은 2011년 말이다. 즉, 1월과 12월이 같은 겨울이고 가까워도 지금 가지고 있는 2개년도에서는,  \n",
    "1월은 비교적 낮은 값, 12월은 비교적 높은 값을 가진다. (전체적으로 자전거 대여량이 증가하고 있기 때문이다.)"
   ]
  },
  {
   "cell_type": "markdown",
   "metadata": {
    "id": "AI6IH3uQ2W7W"
   },
   "source": []
  },
  {
   "cell_type": "markdown",
   "metadata": {
    "id": "13PNfioCuohJ"
   },
   "source": [
    "###3)\n",
    "아래의 정보가 나타나게 시각화 해주세요.\n",
    "<br>1) 시간별 자전거 대여량\n",
    "<br>2) 근무일/휴일에 따른 시간별 자전거 대여량\n",
    "<br>3) 요일에 따른 시간별 자전거 대여량\n",
    "\n",
    "이 플랏에서 인사이트를 도출해주세요.\n",
    "\n",
    "Hint: pointplot, hue"
   ]
  },
  {
   "cell_type": "code",
   "execution_count": 46,
   "metadata": {
    "id": "_FCchDFp2XRy"
   },
   "outputs": [
    {
     "data": {
      "text/plain": [
       "Index(['datetime', 'season', 'holiday', 'workingday', 'weather', 'temp',\n",
       "       'atemp', 'humidity', 'windspeed', 'casual', 'registered', 'count', '연',\n",
       "       '월', '일', '시간', '분', '초', '요일', '연월'],\n",
       "      dtype='object')"
      ]
     },
     "execution_count": 46,
     "metadata": {},
     "output_type": "execute_result"
    }
   ],
   "source": [
    "df.columns"
   ]
  },
  {
   "cell_type": "code",
   "execution_count": 47,
   "metadata": {},
   "outputs": [
    {
     "data": {
      "image/png": "[encoded data removed]",
      "text/plain": [
       "<Figure size 432x288 with 1 Axes>"
      ]
     },
     "metadata": {
      "needs_background": "light"
     },
     "output_type": "display_data"
    }
   ],
   "source": [
    "\n",
    "sns.barplot(data = df, x = '시간', y = 'count')\n",
    "plt.show()"
   ]
  },
  {
   "cell_type": "markdown",
   "metadata": {},
   "source": [
    "새벽 시간대는 대여량이 적은 편이며, 아침 8시, 그리고 오후 5시-6시가 대여량이 많다.\n",
    "출/퇴근 시간에 자전거 대여를 많이 한다는 것을 알 수 있다."
   ]
  },
  {
   "cell_type": "code",
   "execution_count": 48,
   "metadata": {},
   "outputs": [
    {
     "data": {
      "image/png": "[encoded data removed]",
      "text/plain": [
       "<Figure size 432x288 with 1 Axes>"
      ]
     },
     "metadata": {
      "needs_background": "light"
     },
     "output_type": "display_data"
    }
   ],
   "source": [
    "sns.barplot(data = df, x = '시간', y = 'count',hue = 'holiday')\n",
    "plt.show()"
   ]
  },
  {
   "cell_type": "markdown",
   "metadata": {},
   "source": [
    "출퇴근 시간의 자전거 대여가 많은 것은, 휴일이 아닌 때의 그 시간대의 자전거 대여가 많기 때문임이 보인다.\n",
    "다른 시간대들은 휴일일 때에 자전거 대여량이 더 많다."
   ]
  },
  {
   "cell_type": "code",
   "execution_count": 49,
   "metadata": {},
   "outputs": [
    {
     "data": {
      "image/png": "[encoded data removed]",
      "text/plain": [
       "<Figure size 432x288 with 1 Axes>"
      ]
     },
     "metadata": {
      "needs_background": "light"
     },
     "output_type": "display_data"
    }
   ],
   "source": [
    "sns.barplot(data = df, x = '시간', y = 'count',hue = 'workingday')\n",
    "plt.show()"
   ]
  },
  {
   "cell_type": "markdown",
   "metadata": {},
   "source": [
    "위의 결과와 유사하게,\n",
    "출퇴근 시간의 자전거 대여가 많은 것은, 근무일일 때의 그 시간대의 자전거 대여가 많기 때문임이 보인다.\n",
    "다른 시간대들은 근무일이 아닐 때에 자전거 대여량이 더 많다."
   ]
  },
  {
   "cell_type": "code",
   "execution_count": 11,
   "metadata": {},
   "outputs": [
    {
     "data": {
      "image/png": "[encoded data removed]",
      "text/plain": [
       "<Figure size 432x288 with 1 Axes>"
      ]
     },
     "metadata": {
      "needs_background": "light"
     },
     "output_type": "display_data"
    }
   ],
   "source": [
    "sns.barplot(data = df, x = '시간', y = 'count', hue = '요일')\n",
    "plt.show()"
   ]
  },
  {
   "cell_type": "markdown",
   "metadata": {},
   "source": [
    "토요일, 일요일은 낮시간대와 심야시간대에 자전거 대여량이 많고, 평일은 출근시간대에 자전거 대여량이 많다는 것을 볼 수 있다."
   ]
  },
  {
   "cell_type": "markdown",
   "metadata": {
    "id": "f-02AuD42XwQ"
   },
   "source": []
  },
  {
   "cell_type": "markdown",
   "metadata": {
    "id": "wfhiBEULyD5k"
   },
   "source": [
    "# mpg"
   ]
  },
  {
   "cell_type": "markdown",
   "metadata": {
    "id": "sR039-scyMna"
   },
   "source": [
    "\n",
    "## Load Dataset\n",
    "seaborn을 이용해 'mpg'데이터셋을 불러와주세요."
   ]
  },
  {
   "cell_type": "code",
   "execution_count": 12,
   "metadata": {
    "id": "-c1uxIgj2Qhs"
   },
   "outputs": [
    {
     "data": {
      "text/html": [
       "<div>\n",
       "<style scoped>\n",
       "    .dataframe tbody tr th:only-of-type {\n",
       "        vertical-align: middle;\n",
       "    }\n",
       "\n",
       "    .dataframe tbody tr th {\n",
       "        vertical-align: top;\n",
       "    }\n",
       "\n",
       "    .dataframe thead th {\n",
       "        text-align: right;\n",
       "    }\n",
       "</style>\n",
       "<table border=\"1\" class=\"dataframe\">\n",
       "  <thead>\n",
       "    <tr style=\"text-align: right;\">\n",
       "      <th></th>\n",
       "      <th>mpg</th>\n",
       "      <th>cylinders</th>\n",
       "      <th>displacement</th>\n",
       "      <th>horsepower</th>\n",
       "      <th>weight</th>\n",
       "      <th>acceleration</th>\n",
       "      <th>model_year</th>\n",
       "      <th>origin</th>\n",
       "      <th>name</th>\n",
       "    </tr>\n",
       "  </thead>\n",
       "  <tbody>\n",
       "    <tr>\n",
       "      <th>0</th>\n",
       "      <td>18.0</td>\n",
       "      <td>8</td>\n",
       "      <td>307.0</td>\n",
       "      <td>130.0</td>\n",
       "      <td>3504</td>\n",
       "      <td>12.0</td>\n",
       "      <td>70</td>\n",
       "      <td>usa</td>\n",
       "      <td>chevrolet chevelle malibu</td>\n",
       "    </tr>\n",
       "    <tr>\n",
       "      <th>1</th>\n",
       "      <td>15.0</td>\n",
       "      <td>8</td>\n",
       "      <td>350.0</td>\n",
       "      <td>165.0</td>\n",
       "      <td>3693</td>\n",
       "      <td>11.5</td>\n",
       "      <td>70</td>\n",
       "      <td>usa</td>\n",
       "      <td>buick skylark 320</td>\n",
       "    </tr>\n",
       "    <tr>\n",
       "      <th>2</th>\n",
       "      <td>18.0</td>\n",
       "      <td>8</td>\n",
       "      <td>318.0</td>\n",
       "      <td>150.0</td>\n",
       "      <td>3436</td>\n",
       "      <td>11.0</td>\n",
       "      <td>70</td>\n",
       "      <td>usa</td>\n",
       "      <td>plymouth satellite</td>\n",
       "    </tr>\n",
       "    <tr>\n",
       "      <th>3</th>\n",
       "      <td>16.0</td>\n",
       "      <td>8</td>\n",
       "      <td>304.0</td>\n",
       "      <td>150.0</td>\n",
       "      <td>3433</td>\n",
       "      <td>12.0</td>\n",
       "      <td>70</td>\n",
       "      <td>usa</td>\n",
       "      <td>amc rebel sst</td>\n",
       "    </tr>\n",
       "    <tr>\n",
       "      <th>4</th>\n",
       "      <td>17.0</td>\n",
       "      <td>8</td>\n",
       "      <td>302.0</td>\n",
       "      <td>140.0</td>\n",
       "      <td>3449</td>\n",
       "      <td>10.5</td>\n",
       "      <td>70</td>\n",
       "      <td>usa</td>\n",
       "      <td>ford torino</td>\n",
       "    </tr>\n",
       "  </tbody>\n",
       "</table>\n",
       "</div>"
      ],
      "text/plain": [
       "    mpg  cylinders  displacement  horsepower  weight  acceleration  \\\n",
       "0  18.0          8         307.0       130.0    3504          12.0   \n",
       "1  15.0          8         350.0       165.0    3693          11.5   \n",
       "2  18.0          8         318.0       150.0    3436          11.0   \n",
       "3  16.0          8         304.0       150.0    3433          12.0   \n",
       "4  17.0          8         302.0       140.0    3449          10.5   \n",
       "\n",
       "   model_year origin                       name  \n",
       "0          70    usa  chevrolet chevelle malibu  \n",
       "1          70    usa          buick skylark 320  \n",
       "2          70    usa         plymouth satellite  \n",
       "3          70    usa              amc rebel sst  \n",
       "4          70    usa                ford torino  "
      ]
     },
     "execution_count": 12,
     "metadata": {},
     "output_type": "execute_result"
    }
   ],
   "source": [
    "mpg = sns.load_dataset('mpg')\n",
    "mpg.head()"
   ]
  },
  {
   "cell_type": "markdown",
   "metadata": {
    "id": "gU3R-jA1yUF5"
   },
   "source": [
    "## 시각화\n",
    "\n",
    "model_year과 mpg 데이터 값을 산점도로 보여주고, 그 간의 선형관계를 선으로 보여주세요.\n",
    "<br> Hint: regplot"
   ]
  },
  {
   "cell_type": "code",
   "execution_count": 15,
   "metadata": {
    "id": "V1YYpDLx2RnJ"
   },
   "outputs": [
    {
     "data": {
      "image/png": "[encoded data removed]",
      "text/plain": [
       "<Figure size 432x288 with 1 Axes>"
      ]
     },
     "metadata": {
      "needs_background": "light"
     },
     "output_type": "display_data"
    }
   ],
   "source": [
    "sns.regplot(data = mpg, x = 'model_year', y = 'mpg')\n",
    "plt.show()"
   ]
  },
  {
   "cell_type": "markdown",
   "metadata": {
    "id": "Fta0mY6W03Hg"
   },
   "source": [
    "너무너무 고생 많으셨습니다!! 시각화 세션 화이팅하세요ㅎㅎㅎ\n"
   ]
  }
 ],
 "metadata": {
  "colab": {
   "collapsed_sections": [],
   "name": "Visualization 과제.ipynb",
   "provenance": [],
   "toc_visible": true
  },
  "kernelspec": {
   "display_name": "Python 3",
   "language": "python",
   "name": "python3"
  },
  "language_info": {
   "codemirror_mode": {
    "name": "ipython",
    "version": 3
   },
   "file_extension": ".py",
   "mimetype": "text/x-python",
   "name": "python",
   "nbconvert_exporter": "python",
   "pygments_lexer": "ipython3",
   "version": "3.8.3"
  }
 },
 "nbformat": 4,
 "nbformat_minor": 1
}
